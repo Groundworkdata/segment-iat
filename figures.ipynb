{
 "cells": [
  {
   "cell_type": "code",
   "execution_count": 89,
   "metadata": {},
   "outputs": [],
   "source": [
    "import pandas as pd\n",
    "import numpy as np\n",
    "import plotly.express as px\n",
    "import os"
   ]
  },
  {
   "cell_type": "markdown",
   "metadata": {},
   "source": [
    "### Read in csv files"
   ]
  },
  {
   "cell_type": "code",
   "execution_count": 90,
   "metadata": {},
   "outputs": [],
   "source": [
    "folder_path = \"./outputs_combined/scenarios/combined/\"\n",
    "\n",
    "figure_outputs = './report_figures/'\n",
    "if not os.path.exists(figure_outputs):\n",
    "    os.makedirs(figure_outputs)\n",
    "\n",
    "output_files = [\n",
    "    \"book_val\",\n",
    "    \"consumption_costs\",\n",
    "    \"consumption_emissions\",\n",
    "    \"energy_consumption\",\n",
    "    \"fuel_type\",\n",
    "    \"is_retrofit_vec_table\",\n",
    "    \"methane_leaks\",\n",
    "    \"operating_costs\",\n",
    "    \"peak_consump\",\n",
    "    \"retrofit_cost\",\n",
    "    \"retrofit_year\",\n",
    "    \"stranded_val\"\n",
    "]\n",
    "df_dic = {}\n",
    "\n",
    "for f in output_files:\n",
    "    filepath = os.path.join(folder_path, f\"{f}.csv\")\n",
    "    df = pd.read_csv(filepath)\n",
    "    df_dic[f] = df"
   ]
  },
  {
   "cell_type": "code",
   "execution_count": 91,
   "metadata": {},
   "outputs": [
    {
     "data": {
      "text/html": [
       "<div>\n",
       "<style scoped>\n",
       "    .dataframe tbody tr th:only-of-type {\n",
       "        vertical-align: middle;\n",
       "    }\n",
       "\n",
       "    .dataframe tbody tr th {\n",
       "        vertical-align: top;\n",
       "    }\n",
       "\n",
       "    .dataframe thead th {\n",
       "        text-align: right;\n",
       "    }\n",
       "</style>\n",
       "<table border=\"1\" class=\"dataframe\">\n",
       "  <thead>\n",
       "    <tr style=\"text-align: right;\">\n",
       "      <th></th>\n",
       "      <th>year</th>\n",
       "      <th>book_val</th>\n",
       "      <th>asset_id</th>\n",
       "      <th>existing_or_retrofit</th>\n",
       "      <th>asset_domain</th>\n",
       "      <th>asset_type</th>\n",
       "      <th>scenario</th>\n",
       "    </tr>\n",
       "  </thead>\n",
       "  <tbody>\n",
       "    <tr>\n",
       "      <th>0</th>\n",
       "      <td>2020</td>\n",
       "      <td>0.00000</td>\n",
       "      <td>F_714592_2938902</td>\n",
       "      <td>retrofit</td>\n",
       "      <td>building</td>\n",
       "      <td>building_aggregate</td>\n",
       "      <td>accelerated_elec</td>\n",
       "    </tr>\n",
       "    <tr>\n",
       "      <th>1</th>\n",
       "      <td>2021</td>\n",
       "      <td>0.00000</td>\n",
       "      <td>F_714592_2938902</td>\n",
       "      <td>retrofit</td>\n",
       "      <td>building</td>\n",
       "      <td>building_aggregate</td>\n",
       "      <td>accelerated_elec</td>\n",
       "    </tr>\n",
       "    <tr>\n",
       "      <th>2</th>\n",
       "      <td>2022</td>\n",
       "      <td>0.00000</td>\n",
       "      <td>F_714592_2938902</td>\n",
       "      <td>retrofit</td>\n",
       "      <td>building</td>\n",
       "      <td>building_aggregate</td>\n",
       "      <td>accelerated_elec</td>\n",
       "    </tr>\n",
       "    <tr>\n",
       "      <th>3</th>\n",
       "      <td>2023</td>\n",
       "      <td>0.00000</td>\n",
       "      <td>F_714592_2938902</td>\n",
       "      <td>retrofit</td>\n",
       "      <td>building</td>\n",
       "      <td>building_aggregate</td>\n",
       "      <td>accelerated_elec</td>\n",
       "    </tr>\n",
       "    <tr>\n",
       "      <th>4</th>\n",
       "      <td>2024</td>\n",
       "      <td>0.00000</td>\n",
       "      <td>F_714592_2938902</td>\n",
       "      <td>retrofit</td>\n",
       "      <td>building</td>\n",
       "      <td>building_aggregate</td>\n",
       "      <td>accelerated_elec</td>\n",
       "    </tr>\n",
       "    <tr>\n",
       "      <th>...</th>\n",
       "      <td>...</td>\n",
       "      <td>...</td>\n",
       "      <td>...</td>\n",
       "      <td>...</td>\n",
       "      <td>...</td>\n",
       "      <td>...</td>\n",
       "      <td>...</td>\n",
       "    </tr>\n",
       "    <tr>\n",
       "      <th>15451</th>\n",
       "      <td>2061</td>\n",
       "      <td>48238.71500</td>\n",
       "      <td>GP001</td>\n",
       "      <td>retrofit</td>\n",
       "      <td>gas_network</td>\n",
       "      <td>gas_main</td>\n",
       "      <td>hybrid_gas_immediate</td>\n",
       "    </tr>\n",
       "    <tr>\n",
       "      <th>15452</th>\n",
       "      <td>2062</td>\n",
       "      <td>36179.03625</td>\n",
       "      <td>GP001</td>\n",
       "      <td>retrofit</td>\n",
       "      <td>gas_network</td>\n",
       "      <td>gas_main</td>\n",
       "      <td>hybrid_gas_immediate</td>\n",
       "    </tr>\n",
       "    <tr>\n",
       "      <th>15453</th>\n",
       "      <td>2063</td>\n",
       "      <td>24119.35750</td>\n",
       "      <td>GP001</td>\n",
       "      <td>retrofit</td>\n",
       "      <td>gas_network</td>\n",
       "      <td>gas_main</td>\n",
       "      <td>hybrid_gas_immediate</td>\n",
       "    </tr>\n",
       "    <tr>\n",
       "      <th>15454</th>\n",
       "      <td>2064</td>\n",
       "      <td>12059.67875</td>\n",
       "      <td>GP001</td>\n",
       "      <td>retrofit</td>\n",
       "      <td>gas_network</td>\n",
       "      <td>gas_main</td>\n",
       "      <td>hybrid_gas_immediate</td>\n",
       "    </tr>\n",
       "    <tr>\n",
       "      <th>15455</th>\n",
       "      <td>2065</td>\n",
       "      <td>0.00000</td>\n",
       "      <td>GP001</td>\n",
       "      <td>retrofit</td>\n",
       "      <td>gas_network</td>\n",
       "      <td>gas_main</td>\n",
       "      <td>hybrid_gas_immediate</td>\n",
       "    </tr>\n",
       "  </tbody>\n",
       "</table>\n",
       "<p>15456 rows × 7 columns</p>\n",
       "</div>"
      ],
      "text/plain": [
       "       year     book_val          asset_id existing_or_retrofit asset_domain  \\\n",
       "0      2020      0.00000  F_714592_2938902             retrofit     building   \n",
       "1      2021      0.00000  F_714592_2938902             retrofit     building   \n",
       "2      2022      0.00000  F_714592_2938902             retrofit     building   \n",
       "3      2023      0.00000  F_714592_2938902             retrofit     building   \n",
       "4      2024      0.00000  F_714592_2938902             retrofit     building   \n",
       "...     ...          ...               ...                  ...          ...   \n",
       "15451  2061  48238.71500             GP001             retrofit  gas_network   \n",
       "15452  2062  36179.03625             GP001             retrofit  gas_network   \n",
       "15453  2063  24119.35750             GP001             retrofit  gas_network   \n",
       "15454  2064  12059.67875             GP001             retrofit  gas_network   \n",
       "15455  2065      0.00000             GP001             retrofit  gas_network   \n",
       "\n",
       "               asset_type              scenario  \n",
       "0      building_aggregate      accelerated_elec  \n",
       "1      building_aggregate      accelerated_elec  \n",
       "2      building_aggregate      accelerated_elec  \n",
       "3      building_aggregate      accelerated_elec  \n",
       "4      building_aggregate      accelerated_elec  \n",
       "...                   ...                   ...  \n",
       "15451            gas_main  hybrid_gas_immediate  \n",
       "15452            gas_main  hybrid_gas_immediate  \n",
       "15453            gas_main  hybrid_gas_immediate  \n",
       "15454            gas_main  hybrid_gas_immediate  \n",
       "15455            gas_main  hybrid_gas_immediate  \n",
       "\n",
       "[15456 rows x 7 columns]"
      ]
     },
     "execution_count": 91,
     "metadata": {},
     "output_type": "execute_result"
    }
   ],
   "source": [
    "df_dic['book_val']"
   ]
  },
  {
   "cell_type": "code",
   "execution_count": 92,
   "metadata": {},
   "outputs": [],
   "source": [
    "def change_scenario_names(df):\n",
    "    # udpate scenario names for report\n",
    "    scenario_name_map = {\"continued_gas\": 'Continued Gas',\n",
    "                        \"hybrid_gas\" : 'Dual Fuel - Pipeline (EOL)',\n",
    "                        \"hybrid_gas_immediate\" : 'Dual Fuel - Pipeline (Accelerated)',\n",
    "                        \"natural_elec\" : 'Unmanaged Electrification',\n",
    "                        \"hybrid_npa\" : 'Dual Fuel (Tank)',\n",
    "                        \"accelerated_elec\" : 'Accelerated Electrification',}\n",
    "\n",
    "    return df.replace({'scenario': scenario_name_map},inplace=True)\n",
    "\n",
    "def filter_data(df, column, scenarios): # filter dataframe for specific scenarios\n",
    "    return df[df[column].isin(scenarios)]\n",
    "\n",
    "def filter_years(df, year_range): # filter dataframe for specific years, inclusive\n",
    "    return df[df.year.between(year_range[0],year_range[1])]"
   ]
  },
  {
   "cell_type": "code",
   "execution_count": 93,
   "metadata": {},
   "outputs": [],
   "source": [
    "# update scenario names for each dataframe\n",
    "for key in df_dic:\n",
    "    change_scenario_names(df_dic[key])"
   ]
  },
  {
   "cell_type": "markdown",
   "metadata": {},
   "source": [
    "### Energy Consumption"
   ]
  },
  {
   "cell_type": "code",
   "execution_count": 94,
   "metadata": {},
   "outputs": [],
   "source": [
    "plot_data = 'energy_consumption'\n",
    "\n",
    "groupby_columns = ['year','energy_type','scenario'] # sum rows to get yearly consumption by scenario and energy type\n",
    "scenarios = ['Continued Gas',\n",
    "            'Dual Fuel - Pipeline (EOL)', \n",
    "            'Dual Fuel - Pipeline (Accelerated)',\n",
    "            'Unmanaged Electrification',\n",
    "            'Dual Fuel (Tank)',\n",
    "            'Accelerated Electrification',] \n",
    "year_range = [2020, 2065]\n",
    "\n",
    "# group, filter data based on what will be shown in report\n",
    "energy_consump = df_dic[plot_data].groupby(by=groupby_columns).sum().reset_index()\n",
    "energy_consump = filter_data(energy_consump, 'scenario', scenarios)\n",
    "if 'year' in groupby_columns:\n",
    "    energy_consump = filter_years(energy_consump, year_range)\n",
    "\n",
    "# convert consumption to MkWh\n",
    "energy_consump['consumption'] = energy_consump['consumption']/1000\n",
    "\n",
    "# table = pd.pivot_table(energy_consump, 'consumption', index=['scenario'], columns='energy_type', aggfunc=np.sum)"
   ]
  },
  {
   "cell_type": "code",
   "execution_count": 95,
   "metadata": {},
   "outputs": [
    {
     "data": {
      "application/vnd.plotly.v1+json": {
       "config": {
        "plotlyServerURL": "https://plot.ly"
       },
       "data": [
        {
         "alignmentgroup": "True",
         "hovertemplate": "energy_type=electricity<br>scenario=Continued Gas<br>=%{x}<br>consumption=%{y}<extra></extra>",
         "legendgroup": "electricity",
         "marker": {
          "color": "cornflowerblue",
          "line": {
           "width": 0
          },
          "pattern": {
           "shape": ""
          }
         },
         "name": "Electricity",
         "offsetgroup": "electricity",
         "orientation": "v",
         "showlegend": true,
         "textposition": "auto",
         "type": "bar",
         "x": [
          2020,
          2021,
          2022,
          2023,
          2024,
          2025,
          2026,
          2027,
          2028,
          2029,
          2030,
          2031,
          2032,
          2033,
          2034,
          2035,
          2036,
          2037,
          2038,
          2039,
          2040,
          2041,
          2042,
          2043,
          2044,
          2045,
          2046,
          2047,
          2048,
          2049,
          2050,
          2051,
          2052,
          2053,
          2054,
          2055,
          2056,
          2057,
          2058,
          2059,
          2060,
          2061,
          2062,
          2063,
          2064,
          2065
         ],
         "xaxis": "x",
         "y": [
          460.760654127209,
          460.760654127209,
          460.760654127209,
          460.760654127209,
          460.760654127209,
          460.760654127209,
          460.760654127209,
          460.760654127209,
          460.760654127209,
          460.760654127209,
          460.760654127209,
          460.760654127209,
          460.760654127209,
          460.760654127209,
          460.760654127209,
          460.760654127209,
          460.760654127209,
          460.760654127209,
          460.760654127209,
          460.760654127209,
          460.760654127209,
          460.760654127209,
          460.760654127209,
          460.760654127209,
          460.760654127209,
          460.760654127209,
          460.760654127209,
          460.760654127209,
          460.760654127209,
          460.760654127209,
          460.760654127209,
          460.760654127209,
          460.760654127209,
          460.760654127209,
          460.760654127209,
          460.760654127209,
          460.760654127209,
          460.760654127209,
          460.760654127209,
          460.760654127209,
          460.760654127209,
          460.760654127209,
          460.760654127209,
          460.760654127209,
          460.760654127209,
          460.760654127209
         ],
         "yaxis": "y"
        },
        {
         "alignmentgroup": "True",
         "hovertemplate": "energy_type=electricity<br>scenario=Dual Fuel - Pipeline (EOL)<br>=%{x}<br>consumption=%{y}<extra></extra>",
         "legendgroup": "electricity",
         "marker": {
          "color": "cornflowerblue",
          "line": {
           "width": 0
          },
          "pattern": {
           "shape": ""
          }
         },
         "name": "Electricity",
         "offsetgroup": "electricity",
         "orientation": "v",
         "showlegend": false,
         "textposition": "auto",
         "type": "bar",
         "x": [
          2020,
          2021,
          2022,
          2023,
          2024,
          2025,
          2026,
          2027,
          2028,
          2029,
          2030,
          2031,
          2032,
          2033,
          2034,
          2035,
          2036,
          2037,
          2038,
          2039,
          2040,
          2041,
          2042,
          2043,
          2044,
          2045,
          2046,
          2047,
          2048,
          2049,
          2050,
          2051,
          2052,
          2053,
          2054,
          2055,
          2056,
          2057,
          2058,
          2059,
          2060,
          2061,
          2062,
          2063,
          2064,
          2065
         ],
         "xaxis": "x2",
         "y": [
          460.760654127209,
          460.760654127209,
          460.760654127209,
          460.760654127209,
          460.760654127209,
          469.0797153067196,
          469.0797153067196,
          476.7480410339662,
          484.3054459454861,
          484.3054459454861,
          484.3054459454861,
          493.10516399314616,
          500.743910836199,
          500.743910836199,
          500.743910836199,
          508.271736863525,
          517.5373223372377,
          543.4410301699716,
          543.4410301699716,
          543.4410301699716,
          551.9153804914997,
          558.2526564300247,
          566.6678489831651,
          585.5909401461585,
          585.5909401461585,
          595.9139707298001,
          595.9139707298001,
          595.9139707298001,
          613.9127217617367,
          613.9127217617367,
          613.9127217617367,
          613.9127217617367,
          613.9127217617367,
          613.9127217617367,
          613.9127217617367,
          613.9127217617367,
          613.9127217617367,
          613.9127217617367,
          613.9127217617367,
          613.9127217617367,
          613.9127217617367,
          613.9127217617367,
          613.9127217617367,
          613.9127217617367,
          613.9127217617367,
          613.9127217617367
         ],
         "yaxis": "y2"
        },
        {
         "alignmentgroup": "True",
         "hovertemplate": "energy_type=electricity<br>scenario=Dual Fuel - Pipeline (Accelerated)<br>=%{x}<br>consumption=%{y}<extra></extra>",
         "legendgroup": "electricity",
         "marker": {
          "color": "cornflowerblue",
          "line": {
           "width": 0
          },
          "pattern": {
           "shape": ""
          }
         },
         "name": "Electricity",
         "offsetgroup": "electricity",
         "orientation": "v",
         "showlegend": false,
         "textposition": "auto",
         "type": "bar",
         "x": [
          2020,
          2021,
          2022,
          2023,
          2024,
          2025,
          2026,
          2027,
          2028,
          2029,
          2030,
          2031,
          2032,
          2033,
          2034,
          2035,
          2036,
          2037,
          2038,
          2039,
          2040,
          2041,
          2042,
          2043,
          2044,
          2045,
          2046,
          2047,
          2048,
          2049,
          2050,
          2051,
          2052,
          2053,
          2054,
          2055,
          2056,
          2057,
          2058,
          2059,
          2060,
          2061,
          2062,
          2063,
          2064,
          2065
         ],
         "xaxis": "x3",
         "y": [
          460.760654127209,
          460.760654127209,
          460.760654127209,
          460.760654127209,
          460.760654127209,
          599.1010955016836,
          599.1010955016836,
          599.1010955016836,
          599.1010955016836,
          599.1010955016836,
          599.1010955016836,
          599.1010955016836,
          599.1010955016836,
          599.1010955016836,
          599.1010955016836,
          599.1010955016836,
          599.1010955016836,
          599.1010955016836,
          599.1010955016836,
          599.1010955016836,
          607.5754458232118,
          613.9127217617367,
          613.9127217617367,
          613.9127217617367,
          613.9127217617367,
          613.9127217617367,
          613.9127217617367,
          613.9127217617367,
          613.9127217617367,
          613.9127217617367,
          613.9127217617367,
          613.9127217617367,
          613.9127217617367,
          613.9127217617367,
          613.9127217617367,
          613.9127217617367,
          613.9127217617367,
          613.9127217617367,
          613.9127217617367,
          613.9127217617367,
          613.9127217617367,
          613.9127217617367,
          613.9127217617367,
          613.9127217617367,
          613.9127217617367,
          613.9127217617367
         ],
         "yaxis": "y3"
        },
        {
         "alignmentgroup": "True",
         "hovertemplate": "energy_type=electricity<br>scenario=Unmanaged Electrification<br>=%{x}<br>consumption=%{y}<extra></extra>",
         "legendgroup": "electricity",
         "marker": {
          "color": "cornflowerblue",
          "line": {
           "width": 0
          },
          "pattern": {
           "shape": ""
          }
         },
         "name": "Electricity",
         "offsetgroup": "electricity",
         "orientation": "v",
         "showlegend": false,
         "textposition": "auto",
         "type": "bar",
         "x": [
          2020,
          2021,
          2022,
          2023,
          2024,
          2025,
          2026,
          2027,
          2028,
          2029,
          2030,
          2031,
          2032,
          2033,
          2034,
          2035,
          2036,
          2037,
          2038,
          2039,
          2040,
          2041,
          2042,
          2043,
          2044,
          2045,
          2046,
          2047,
          2048,
          2049,
          2050,
          2051,
          2052,
          2053,
          2054,
          2055,
          2056,
          2057,
          2058,
          2059,
          2060,
          2061,
          2062,
          2063,
          2064,
          2065
         ],
         "xaxis": "x4",
         "y": [
          460.760654127209,
          460.760654127209,
          460.760654127209,
          460.760654127209,
          460.760654127209,
          479.7905982486691,
          479.7905982486691,
          497.33197785218374,
          514.6196248674123,
          514.6196248674123,
          514.6196248674123,
          534.7490768714456,
          552.2227944514173,
          552.2227944514173,
          552.2227944514173,
          569.4427794431028,
          590.6379083179379,
          649.892925435693,
          649.892925435693,
          649.892925435693,
          667.4567818652566,
          680.5913586193021,
          699.8412043172768,
          743.1279838788912,
          743.1279838788912,
          766.7420300953873,
          766.7420300953873,
          766.7420300953873,
          807.9143714212839,
          807.9143714212839,
          807.9143714212839,
          807.9143714212839,
          807.9143714212839,
          807.9143714212839,
          807.9143714212839,
          807.9143714212839,
          807.9143714212839,
          807.9143714212839,
          807.9143714212839,
          807.9143714212839,
          807.9143714212839,
          807.9143714212839,
          807.9143714212839,
          807.9143714212839,
          807.9143714212839,
          807.9143714212839
         ],
         "yaxis": "y4"
        },
        {
         "alignmentgroup": "True",
         "hovertemplate": "energy_type=electricity<br>scenario=Dual Fuel (Tank)<br>=%{x}<br>consumption=%{y}<extra></extra>",
         "legendgroup": "electricity",
         "marker": {
          "color": "cornflowerblue",
          "line": {
           "width": 0
          },
          "pattern": {
           "shape": ""
          }
         },
         "name": "Electricity",
         "offsetgroup": "electricity",
         "orientation": "v",
         "showlegend": false,
         "textposition": "auto",
         "type": "bar",
         "x": [
          2020,
          2021,
          2022,
          2023,
          2024,
          2025,
          2026,
          2027,
          2028,
          2029,
          2030,
          2031,
          2032,
          2033,
          2034,
          2035,
          2036,
          2037,
          2038,
          2039,
          2040,
          2041,
          2042,
          2043,
          2044,
          2045,
          2046,
          2047,
          2048,
          2049,
          2050,
          2051,
          2052,
          2053,
          2054,
          2055,
          2056,
          2057,
          2058,
          2059,
          2060,
          2061,
          2062,
          2063,
          2064,
          2065
         ],
         "xaxis": "x5",
         "y": [
          460.760654127209,
          460.760654127209,
          460.760654127209,
          460.760654127209,
          460.760654127209,
          603.6047185444946,
          603.6047185444946,
          603.6047185444946,
          603.6047185444946,
          603.6047185444946,
          603.6047185444946,
          603.6047185444946,
          603.6047185444946,
          603.6047185444946,
          603.6047185444946,
          603.6047185444946,
          603.6047185444946,
          603.6047185444946,
          603.6047185444946,
          603.6047185444946,
          612.0790688660227,
          618.4163448045476,
          618.4163448045476,
          618.4163448045476,
          618.4163448045476,
          618.4163448045476,
          618.4163448045476,
          618.4163448045476,
          618.4163448045476,
          618.4163448045476,
          618.4163448045476,
          618.4163448045476,
          618.4163448045476,
          618.4163448045476,
          618.4163448045476,
          618.4163448045476,
          618.4163448045476,
          618.4163448045476,
          618.4163448045476,
          618.4163448045476,
          618.4163448045476,
          618.4163448045476,
          618.4163448045476,
          618.4163448045476,
          618.4163448045476,
          618.4163448045476
         ],
         "yaxis": "y5"
        },
        {
         "alignmentgroup": "True",
         "hovertemplate": "energy_type=electricity<br>scenario=Accelerated Electrification<br>=%{x}<br>consumption=%{y}<extra></extra>",
         "legendgroup": "electricity",
         "marker": {
          "color": "cornflowerblue",
          "line": {
           "width": 0
          },
          "pattern": {
           "shape": ""
          }
         },
         "name": "Electricity",
         "offsetgroup": "electricity",
         "orientation": "v",
         "showlegend": false,
         "textposition": "auto",
         "type": "bar",
         "x": [
          2020,
          2021,
          2022,
          2023,
          2024,
          2025,
          2026,
          2027,
          2028,
          2029,
          2030,
          2031,
          2032,
          2033,
          2034,
          2035,
          2036,
          2037,
          2038,
          2039,
          2040,
          2041,
          2042,
          2043,
          2044,
          2045,
          2046,
          2047,
          2048,
          2049,
          2050,
          2051,
          2052,
          2053,
          2054,
          2055,
          2056,
          2057,
          2058,
          2059,
          2060,
          2061,
          2062,
          2063,
          2064,
          2065
         ],
         "xaxis": "x6",
         "y": [
          460.760654127209,
          460.760654127209,
          460.760654127209,
          460.760654127209,
          460.760654127209,
          777.2159382376748,
          777.2159382376748,
          777.2159382376748,
          777.2159382376748,
          777.2159382376748,
          777.2159382376748,
          777.2159382376748,
          777.2159382376748,
          777.2159382376748,
          777.2159382376748,
          777.2159382376748,
          777.2159382376748,
          777.2159382376748,
          777.2159382376748,
          777.2159382376748,
          794.7797946672384,
          807.9143714212839,
          807.9143714212839,
          807.9143714212839,
          807.9143714212839,
          807.9143714212839,
          807.9143714212839,
          807.9143714212839,
          807.9143714212839,
          807.9143714212839,
          807.9143714212839,
          807.9143714212839,
          807.9143714212839,
          807.9143714212839,
          807.9143714212839,
          807.9143714212839,
          807.9143714212839,
          807.9143714212839,
          807.9143714212839,
          807.9143714212839,
          807.9143714212839,
          807.9143714212839,
          807.9143714212839,
          807.9143714212839,
          807.9143714212839,
          807.9143714212839
         ],
         "yaxis": "y6"
        },
        {
         "alignmentgroup": "True",
         "hovertemplate": "energy_type=natural_gas<br>scenario=Continued Gas<br>=%{x}<br>consumption=%{y}<extra></extra>",
         "legendgroup": "natural_gas",
         "marker": {
          "color": "palevioletred",
          "line": {
           "width": 0
          },
          "pattern": {
           "shape": ""
          }
         },
         "name": "Pipeline Gas",
         "offsetgroup": "natural_gas",
         "orientation": "v",
         "showlegend": true,
         "textposition": "auto",
         "type": "bar",
         "x": [
          2020,
          2021,
          2022,
          2023,
          2024,
          2025,
          2026,
          2027,
          2028,
          2029,
          2030,
          2031,
          2032,
          2033,
          2034,
          2035,
          2036,
          2037,
          2038,
          2039,
          2040,
          2041,
          2042,
          2043,
          2044,
          2045,
          2046,
          2047,
          2048,
          2049,
          2050,
          2051,
          2052,
          2053,
          2054,
          2055,
          2056,
          2057,
          2058,
          2059,
          2060,
          2061,
          2062,
          2063,
          2064,
          2065
         ],
         "xaxis": "x",
         "y": [
          730.6239757157015,
          730.6239757157015,
          730.6239757157015,
          730.6239757157015,
          730.6239757157015,
          730.6239757157015,
          730.6239757157015,
          730.6239757157015,
          730.6239757157015,
          730.6239757157015,
          730.6239757157015,
          730.6239757157015,
          730.6239757157015,
          730.6239757157015,
          730.6239757157015,
          730.6239757157015,
          730.6239757157015,
          730.6239757157015,
          730.6239757157015,
          730.6239757157015,
          730.6239757157015,
          730.6239757157015,
          730.6239757157015,
          730.6239757157015,
          730.6239757157015,
          730.6239757157015,
          730.6239757157015,
          730.6239757157015,
          730.6239757157015,
          730.6239757157015,
          730.6239757157015,
          730.6239757157015,
          730.6239757157015,
          730.6239757157015,
          730.6239757157015,
          730.6239757157015,
          730.6239757157015,
          730.6239757157015,
          730.6239757157015,
          730.6239757157015,
          730.6239757157015,
          730.6239757157015,
          730.6239757157015,
          730.6239757157015,
          730.6239757157015,
          730.6239757157015
         ],
         "yaxis": "y"
        },
        {
         "alignmentgroup": "True",
         "hovertemplate": "energy_type=natural_gas<br>scenario=Dual Fuel - Pipeline (EOL)<br>=%{x}<br>consumption=%{y}<extra></extra>",
         "legendgroup": "natural_gas",
         "marker": {
          "color": "palevioletred",
          "line": {
           "width": 0
          },
          "pattern": {
           "shape": ""
          }
         },
         "name": "Pipeline Gas",
         "offsetgroup": "natural_gas",
         "orientation": "v",
         "showlegend": false,
         "textposition": "auto",
         "type": "bar",
         "x": [
          2020,
          2021,
          2022,
          2023,
          2024,
          2025,
          2026,
          2027,
          2028,
          2029,
          2030,
          2031,
          2032,
          2033,
          2034,
          2035,
          2036,
          2037,
          2038,
          2039,
          2040,
          2041,
          2042,
          2043,
          2044,
          2045,
          2046,
          2047,
          2048,
          2049,
          2050,
          2051,
          2052,
          2053,
          2054,
          2055,
          2056,
          2057,
          2058,
          2059,
          2060,
          2061,
          2062,
          2063,
          2064,
          2065
         ],
         "xaxis": "x2",
         "y": [
          730.6239757157015,
          730.6239757157015,
          730.6239757157015,
          730.6239757157015,
          730.6239757157015,
          713.638708371748,
          713.638708371748,
          697.9820663844771,
          682.5518946284587,
          682.5518946284587,
          682.5518946284587,
          664.5852562824102,
          648.9890063568067,
          648.9890063568067,
          648.9890063568067,
          633.619226662456,
          614.7014133451459,
          551.5917089027232,
          551.5917089027232,
          551.5917089027232,
          551.5917089027232,
          551.5917089027232,
          534.4101673583506,
          495.77434590663773,
          495.77434590663773,
          467.2390967687959,
          467.2390967687959,
          467.2390967687959,
          430.4905272441889,
          430.4905272441889,
          430.4905272441889,
          430.4905272441889,
          430.4905272441889,
          430.4905272441889,
          430.4905272441889,
          430.4905272441889,
          430.4905272441889,
          430.4905272441889,
          430.4905272441889,
          430.4905272441889,
          430.4905272441889,
          430.4905272441889,
          430.4905272441889,
          430.4905272441889,
          430.4905272441889,
          430.4905272441889
         ],
         "yaxis": "y2"
        },
        {
         "alignmentgroup": "True",
         "hovertemplate": "energy_type=natural_gas<br>scenario=Dual Fuel - Pipeline (Accelerated)<br>=%{x}<br>consumption=%{y}<extra></extra>",
         "legendgroup": "natural_gas",
         "marker": {
          "color": "palevioletred",
          "line": {
           "width": 0
          },
          "pattern": {
           "shape": ""
          }
         },
         "name": "Pipeline Gas",
         "offsetgroup": "natural_gas",
         "orientation": "v",
         "showlegend": false,
         "textposition": "auto",
         "type": "bar",
         "x": [
          2020,
          2021,
          2022,
          2023,
          2024,
          2025,
          2026,
          2027,
          2028,
          2029,
          2030,
          2031,
          2032,
          2033,
          2034,
          2035,
          2036,
          2037,
          2038,
          2039,
          2040,
          2041,
          2042,
          2043,
          2044,
          2045,
          2046,
          2047,
          2048,
          2049,
          2050,
          2051,
          2052,
          2053,
          2054,
          2055,
          2056,
          2057,
          2058,
          2059,
          2060,
          2061,
          2062,
          2063,
          2064,
          2065
         ],
         "xaxis": "x3",
         "y": [
          730.6239757157015,
          730.6239757157015,
          730.6239757157015,
          730.6239757157015,
          730.6239757157015,
          430.4905272441889,
          430.4905272441889,
          430.4905272441889,
          430.4905272441889,
          430.4905272441889,
          430.4905272441889,
          430.4905272441889,
          430.4905272441889,
          430.4905272441889,
          430.4905272441889,
          430.4905272441889,
          430.4905272441889,
          430.4905272441889,
          430.4905272441889,
          430.4905272441889,
          430.4905272441889,
          430.4905272441889,
          430.4905272441889,
          430.4905272441889,
          430.4905272441889,
          430.4905272441889,
          430.4905272441889,
          430.4905272441889,
          430.4905272441889,
          430.4905272441889,
          430.4905272441889,
          430.4905272441889,
          430.4905272441889,
          430.4905272441889,
          430.4905272441889,
          430.4905272441889,
          430.4905272441889,
          430.4905272441889,
          430.4905272441889,
          430.4905272441889,
          430.4905272441889,
          430.4905272441889,
          430.4905272441889,
          430.4905272441889,
          430.4905272441889,
          430.4905272441889
         ],
         "yaxis": "y3"
        },
        {
         "alignmentgroup": "True",
         "hovertemplate": "energy_type=natural_gas<br>scenario=Unmanaged Electrification<br>=%{x}<br>consumption=%{y}<extra></extra>",
         "legendgroup": "natural_gas",
         "marker": {
          "color": "palevioletred",
          "line": {
           "width": 0
          },
          "pattern": {
           "shape": ""
          }
         },
         "name": "Pipeline Gas",
         "offsetgroup": "natural_gas",
         "orientation": "v",
         "showlegend": false,
         "textposition": "auto",
         "type": "bar",
         "x": [
          2020,
          2021,
          2022,
          2023,
          2024,
          2025,
          2026,
          2027,
          2028,
          2029,
          2030,
          2031,
          2032,
          2033,
          2034,
          2035,
          2036,
          2037,
          2038,
          2039,
          2040,
          2041,
          2042,
          2043,
          2044,
          2045,
          2046,
          2047,
          2048,
          2049,
          2050,
          2051,
          2052,
          2053,
          2054,
          2055,
          2056,
          2057,
          2058,
          2059,
          2060,
          2061,
          2062,
          2063,
          2064,
          2065
         ],
         "xaxis": "x4",
         "y": [
          730.6239757157015,
          730.6239757157015,
          730.6239757157015,
          730.6239757157015,
          730.6239757157015,
          689.2762231788453,
          689.2762231788453,
          651.1627837293164,
          613.6006476469457,
          613.6006476469457,
          613.6006476469457,
          569.8639138524046,
          531.897488634118,
          531.897488634118,
          531.897488634118,
          494.48236678298946,
          448.43015884638424,
          294.80028719833194,
          294.80028719833194,
          294.80028719833194,
          294.80028719833194,
          294.80028719833194,
          252.97473840993877,
          158.9223839727699,
          158.9223839727699,
          89.4581597108515,
          89.4581597108515,
          89.4581597108515,
          0,
          0,
          0,
          0,
          0,
          0,
          0,
          0,
          0,
          0,
          0,
          0,
          0,
          0,
          0,
          0,
          0,
          0
         ],
         "yaxis": "y4"
        },
        {
         "alignmentgroup": "True",
         "hovertemplate": "energy_type=natural_gas<br>scenario=Dual Fuel (Tank)<br>=%{x}<br>consumption=%{y}<extra></extra>",
         "legendgroup": "natural_gas",
         "marker": {
          "color": "palevioletred",
          "line": {
           "width": 0
          },
          "pattern": {
           "shape": ""
          }
         },
         "name": "Pipeline Gas",
         "offsetgroup": "natural_gas",
         "orientation": "v",
         "showlegend": false,
         "textposition": "auto",
         "type": "bar",
         "x": [
          2020,
          2021,
          2022,
          2023,
          2024,
          2025,
          2026,
          2027,
          2028,
          2029,
          2030,
          2031,
          2032,
          2033,
          2034,
          2035,
          2036,
          2037,
          2038,
          2039,
          2040,
          2041,
          2042,
          2043,
          2044,
          2045,
          2046,
          2047,
          2048,
          2049,
          2050,
          2051,
          2052,
          2053,
          2054,
          2055,
          2056,
          2057,
          2058,
          2059,
          2060,
          2061,
          2062,
          2063,
          2064,
          2065
         ],
         "xaxis": "x5",
         "y": [
          730.6239757157015,
          730.6239757157015,
          730.6239757157015,
          730.6239757157015,
          730.6239757157015,
          0,
          0,
          0,
          0,
          0,
          0,
          0,
          0,
          0,
          0,
          0,
          0,
          0,
          0,
          0,
          0,
          0,
          0,
          0,
          0,
          0,
          0,
          0,
          0,
          0,
          0,
          0,
          0,
          0,
          0,
          0,
          0,
          0,
          0,
          0,
          0,
          0,
          0,
          0,
          0,
          0
         ],
         "yaxis": "y5"
        },
        {
         "alignmentgroup": "True",
         "hovertemplate": "energy_type=natural_gas<br>scenario=Accelerated Electrification<br>=%{x}<br>consumption=%{y}<extra></extra>",
         "legendgroup": "natural_gas",
         "marker": {
          "color": "palevioletred",
          "line": {
           "width": 0
          },
          "pattern": {
           "shape": ""
          }
         },
         "name": "Pipeline Gas",
         "offsetgroup": "natural_gas",
         "orientation": "v",
         "showlegend": false,
         "textposition": "auto",
         "type": "bar",
         "x": [
          2020,
          2021,
          2022,
          2023,
          2024,
          2025,
          2026,
          2027,
          2028,
          2029,
          2030,
          2031,
          2032,
          2033,
          2034,
          2035,
          2036,
          2037,
          2038,
          2039,
          2040,
          2041,
          2042,
          2043,
          2044,
          2045,
          2046,
          2047,
          2048,
          2049,
          2050,
          2051,
          2052,
          2053,
          2054,
          2055,
          2056,
          2057,
          2058,
          2059,
          2060,
          2061,
          2062,
          2063,
          2064,
          2065
         ],
         "xaxis": "x6",
         "y": [
          730.6239757157015,
          730.6239757157015,
          730.6239757157015,
          730.6239757157015,
          730.6239757157015,
          0,
          0,
          0,
          0,
          0,
          0,
          0,
          0,
          0,
          0,
          0,
          0,
          0,
          0,
          0,
          0,
          0,
          0,
          0,
          0,
          0,
          0,
          0,
          0,
          0,
          0,
          0,
          0,
          0,
          0,
          0,
          0,
          0,
          0,
          0,
          0,
          0,
          0,
          0,
          0,
          0
         ],
         "yaxis": "y6"
        },
        {
         "alignmentgroup": "True",
         "hovertemplate": "energy_type=propane<br>scenario=Continued Gas<br>=%{x}<br>consumption=%{y}<extra></extra>",
         "legendgroup": "propane",
         "marker": {
          "color": "lightseagreen",
          "line": {
           "width": 0
          },
          "pattern": {
           "shape": ""
          }
         },
         "name": "LPG",
         "offsetgroup": "propane",
         "orientation": "v",
         "showlegend": true,
         "textposition": "auto",
         "type": "bar",
         "x": [
          2020,
          2021,
          2022,
          2023,
          2024,
          2025,
          2026,
          2027,
          2028,
          2029,
          2030,
          2031,
          2032,
          2033,
          2034,
          2035,
          2036,
          2037,
          2038,
          2039,
          2040,
          2041,
          2042,
          2043,
          2044,
          2045,
          2046,
          2047,
          2048,
          2049,
          2050,
          2051,
          2052,
          2053,
          2054,
          2055,
          2056,
          2057,
          2058,
          2059,
          2060,
          2061,
          2062,
          2063,
          2064,
          2065
         ],
         "xaxis": "x",
         "y": [
          0,
          0,
          0,
          0,
          0,
          0,
          0,
          0,
          0,
          0,
          0,
          0,
          0,
          0,
          0,
          0,
          0,
          0,
          0,
          0,
          0,
          0,
          0,
          0,
          0,
          0,
          0,
          0,
          0,
          0,
          0,
          0,
          0,
          0,
          0,
          0,
          0,
          0,
          0,
          0,
          0,
          0,
          0,
          0,
          0,
          0
         ],
         "yaxis": "y"
        },
        {
         "alignmentgroup": "True",
         "hovertemplate": "energy_type=propane<br>scenario=Dual Fuel - Pipeline (EOL)<br>=%{x}<br>consumption=%{y}<extra></extra>",
         "legendgroup": "propane",
         "marker": {
          "color": "lightseagreen",
          "line": {
           "width": 0
          },
          "pattern": {
           "shape": ""
          }
         },
         "name": "LPG",
         "offsetgroup": "propane",
         "orientation": "v",
         "showlegend": false,
         "textposition": "auto",
         "type": "bar",
         "x": [
          2020,
          2021,
          2022,
          2023,
          2024,
          2025,
          2026,
          2027,
          2028,
          2029,
          2030,
          2031,
          2032,
          2033,
          2034,
          2035,
          2036,
          2037,
          2038,
          2039,
          2040,
          2041,
          2042,
          2043,
          2044,
          2045,
          2046,
          2047,
          2048,
          2049,
          2050,
          2051,
          2052,
          2053,
          2054,
          2055,
          2056,
          2057,
          2058,
          2059,
          2060,
          2061,
          2062,
          2063,
          2064,
          2065
         ],
         "xaxis": "x2",
         "y": [
          0,
          0,
          0,
          0,
          0,
          0,
          0,
          0,
          0,
          0,
          0,
          0,
          0,
          0,
          0,
          0,
          0,
          0,
          0,
          0,
          0,
          0,
          0,
          0,
          0,
          0,
          0,
          0,
          0,
          0,
          0,
          0,
          0,
          0,
          0,
          0,
          0,
          0,
          0,
          0,
          0,
          0,
          0,
          0,
          0,
          0
         ],
         "yaxis": "y2"
        },
        {
         "alignmentgroup": "True",
         "hovertemplate": "energy_type=propane<br>scenario=Dual Fuel - Pipeline (Accelerated)<br>=%{x}<br>consumption=%{y}<extra></extra>",
         "legendgroup": "propane",
         "marker": {
          "color": "lightseagreen",
          "line": {
           "width": 0
          },
          "pattern": {
           "shape": ""
          }
         },
         "name": "LPG",
         "offsetgroup": "propane",
         "orientation": "v",
         "showlegend": false,
         "textposition": "auto",
         "type": "bar",
         "x": [
          2020,
          2021,
          2022,
          2023,
          2024,
          2025,
          2026,
          2027,
          2028,
          2029,
          2030,
          2031,
          2032,
          2033,
          2034,
          2035,
          2036,
          2037,
          2038,
          2039,
          2040,
          2041,
          2042,
          2043,
          2044,
          2045,
          2046,
          2047,
          2048,
          2049,
          2050,
          2051,
          2052,
          2053,
          2054,
          2055,
          2056,
          2057,
          2058,
          2059,
          2060,
          2061,
          2062,
          2063,
          2064,
          2065
         ],
         "xaxis": "x3",
         "y": [
          0,
          0,
          0,
          0,
          0,
          0,
          0,
          0,
          0,
          0,
          0,
          0,
          0,
          0,
          0,
          0,
          0,
          0,
          0,
          0,
          0,
          0,
          0,
          0,
          0,
          0,
          0,
          0,
          0,
          0,
          0,
          0,
          0,
          0,
          0,
          0,
          0,
          0,
          0,
          0,
          0,
          0,
          0,
          0,
          0,
          0
         ],
         "yaxis": "y3"
        },
        {
         "alignmentgroup": "True",
         "hovertemplate": "energy_type=propane<br>scenario=Unmanaged Electrification<br>=%{x}<br>consumption=%{y}<extra></extra>",
         "legendgroup": "propane",
         "marker": {
          "color": "lightseagreen",
          "line": {
           "width": 0
          },
          "pattern": {
           "shape": ""
          }
         },
         "name": "LPG",
         "offsetgroup": "propane",
         "orientation": "v",
         "showlegend": false,
         "textposition": "auto",
         "type": "bar",
         "x": [
          2020,
          2021,
          2022,
          2023,
          2024,
          2025,
          2026,
          2027,
          2028,
          2029,
          2030,
          2031,
          2032,
          2033,
          2034,
          2035,
          2036,
          2037,
          2038,
          2039,
          2040,
          2041,
          2042,
          2043,
          2044,
          2045,
          2046,
          2047,
          2048,
          2049,
          2050,
          2051,
          2052,
          2053,
          2054,
          2055,
          2056,
          2057,
          2058,
          2059,
          2060,
          2061,
          2062,
          2063,
          2064,
          2065
         ],
         "xaxis": "x4",
         "y": [
          0,
          0,
          0,
          0,
          0,
          0,
          0,
          0,
          0,
          0,
          0,
          0,
          0,
          0,
          0,
          0,
          0,
          0,
          0,
          0,
          0,
          0,
          0,
          0,
          0,
          0,
          0,
          0,
          0,
          0,
          0,
          0,
          0,
          0,
          0,
          0,
          0,
          0,
          0,
          0,
          0,
          0,
          0,
          0,
          0,
          0
         ],
         "yaxis": "y4"
        },
        {
         "alignmentgroup": "True",
         "hovertemplate": "energy_type=propane<br>scenario=Dual Fuel (Tank)<br>=%{x}<br>consumption=%{y}<extra></extra>",
         "legendgroup": "propane",
         "marker": {
          "color": "lightseagreen",
          "line": {
           "width": 0
          },
          "pattern": {
           "shape": ""
          }
         },
         "name": "LPG",
         "offsetgroup": "propane",
         "orientation": "v",
         "showlegend": false,
         "textposition": "auto",
         "type": "bar",
         "x": [
          2020,
          2021,
          2022,
          2023,
          2024,
          2025,
          2026,
          2027,
          2028,
          2029,
          2030,
          2031,
          2032,
          2033,
          2034,
          2035,
          2036,
          2037,
          2038,
          2039,
          2040,
          2041,
          2042,
          2043,
          2044,
          2045,
          2046,
          2047,
          2048,
          2049,
          2050,
          2051,
          2052,
          2053,
          2054,
          2055,
          2056,
          2057,
          2058,
          2059,
          2060,
          2061,
          2062,
          2063,
          2064,
          2065
         ],
         "xaxis": "x5",
         "y": [
          0,
          0,
          0,
          0,
          0,
          430.4905272441889,
          430.4905272441889,
          430.4905272441889,
          430.4905272441889,
          430.4905272441889,
          430.4905272441889,
          430.4905272441889,
          430.4905272441889,
          430.4905272441889,
          430.4905272441889,
          430.4905272441889,
          430.4905272441889,
          430.4905272441889,
          430.4905272441889,
          430.4905272441889,
          430.4905272441889,
          430.4905272441889,
          430.4905272441889,
          430.4905272441889,
          430.4905272441889,
          430.4905272441889,
          430.4905272441889,
          430.4905272441889,
          430.4905272441889,
          430.4905272441889,
          430.4905272441889,
          430.4905272441889,
          430.4905272441889,
          430.4905272441889,
          430.4905272441889,
          430.4905272441889,
          430.4905272441889,
          430.4905272441889,
          430.4905272441889,
          430.4905272441889,
          430.4905272441889,
          430.4905272441889,
          430.4905272441889,
          430.4905272441889,
          430.4905272441889,
          430.4905272441889
         ],
         "yaxis": "y5"
        },
        {
         "alignmentgroup": "True",
         "hovertemplate": "energy_type=propane<br>scenario=Accelerated Electrification<br>=%{x}<br>consumption=%{y}<extra></extra>",
         "legendgroup": "propane",
         "marker": {
          "color": "lightseagreen",
          "line": {
           "width": 0
          },
          "pattern": {
           "shape": ""
          }
         },
         "name": "LPG",
         "offsetgroup": "propane",
         "orientation": "v",
         "showlegend": false,
         "textposition": "auto",
         "type": "bar",
         "x": [
          2020,
          2021,
          2022,
          2023,
          2024,
          2025,
          2026,
          2027,
          2028,
          2029,
          2030,
          2031,
          2032,
          2033,
          2034,
          2035,
          2036,
          2037,
          2038,
          2039,
          2040,
          2041,
          2042,
          2043,
          2044,
          2045,
          2046,
          2047,
          2048,
          2049,
          2050,
          2051,
          2052,
          2053,
          2054,
          2055,
          2056,
          2057,
          2058,
          2059,
          2060,
          2061,
          2062,
          2063,
          2064,
          2065
         ],
         "xaxis": "x6",
         "y": [
          0,
          0,
          0,
          0,
          0,
          0,
          0,
          0,
          0,
          0,
          0,
          0,
          0,
          0,
          0,
          0,
          0,
          0,
          0,
          0,
          0,
          0,
          0,
          0,
          0,
          0,
          0,
          0,
          0,
          0,
          0,
          0,
          0,
          0,
          0,
          0,
          0,
          0,
          0,
          0,
          0,
          0,
          0,
          0,
          0,
          0
         ],
         "yaxis": "y6"
        },
        {
         "alignmentgroup": "True",
         "hovertemplate": "energy_type=fuel_oil<br>scenario=Continued Gas<br>=%{x}<br>consumption=%{y}<extra></extra>",
         "legendgroup": "fuel_oil",
         "marker": {
          "color": "goldenrod",
          "line": {
           "width": 0
          },
          "pattern": {
           "shape": ""
          }
         },
         "name": "Fuel Oil",
         "offsetgroup": "fuel_oil",
         "orientation": "v",
         "showlegend": true,
         "textposition": "auto",
         "type": "bar",
         "x": [
          2020,
          2021,
          2022,
          2023,
          2024,
          2025,
          2026,
          2027,
          2028,
          2029,
          2030,
          2031,
          2032,
          2033,
          2034,
          2035,
          2036,
          2037,
          2038,
          2039,
          2040,
          2041,
          2042,
          2043,
          2044,
          2045,
          2046,
          2047,
          2048,
          2049,
          2050,
          2051,
          2052,
          2053,
          2054,
          2055,
          2056,
          2057,
          2058,
          2059,
          2060,
          2061,
          2062,
          2063,
          2064,
          2065
         ],
         "xaxis": "x",
         "y": [
          71.48198641416445,
          71.48198641416445,
          71.48198641416445,
          71.48198641416445,
          71.48198641416445,
          71.48198641416445,
          71.48198641416445,
          71.48198641416445,
          71.48198641416445,
          71.48198641416445,
          71.48198641416445,
          71.48198641416445,
          71.48198641416445,
          71.48198641416445,
          71.48198641416445,
          71.48198641416445,
          71.48198641416445,
          71.48198641416445,
          71.48198641416445,
          71.48198641416445,
          71.48198641416445,
          71.48198641416445,
          71.48198641416445,
          71.48198641416445,
          71.48198641416445,
          71.48198641416445,
          71.48198641416445,
          71.48198641416445,
          71.48198641416445,
          71.48198641416445,
          71.48198641416445,
          71.48198641416445,
          71.48198641416445,
          71.48198641416445,
          71.48198641416445,
          71.48198641416445,
          71.48198641416445,
          71.48198641416445,
          71.48198641416445,
          71.48198641416445,
          71.48198641416445,
          71.48198641416445,
          71.48198641416445,
          71.48198641416445,
          71.48198641416445,
          71.48198641416445
         ],
         "yaxis": "y"
        },
        {
         "alignmentgroup": "True",
         "hovertemplate": "energy_type=fuel_oil<br>scenario=Dual Fuel - Pipeline (EOL)<br>=%{x}<br>consumption=%{y}<extra></extra>",
         "legendgroup": "fuel_oil",
         "marker": {
          "color": "goldenrod",
          "line": {
           "width": 0
          },
          "pattern": {
           "shape": ""
          }
         },
         "name": "Fuel Oil",
         "offsetgroup": "fuel_oil",
         "orientation": "v",
         "showlegend": false,
         "textposition": "auto",
         "type": "bar",
         "x": [
          2020,
          2021,
          2022,
          2023,
          2024,
          2025,
          2026,
          2027,
          2028,
          2029,
          2030,
          2031,
          2032,
          2033,
          2034,
          2035,
          2036,
          2037,
          2038,
          2039,
          2040,
          2041,
          2042,
          2043,
          2044,
          2045,
          2046,
          2047,
          2048,
          2049,
          2050,
          2051,
          2052,
          2053,
          2054,
          2055,
          2056,
          2057,
          2058,
          2059,
          2060,
          2061,
          2062,
          2063,
          2064,
          2065
         ],
         "xaxis": "x2",
         "y": [
          71.48198641416445,
          71.48198641416445,
          71.48198641416445,
          71.48198641416445,
          71.48198641416445,
          71.48198641416445,
          71.48198641416445,
          71.48198641416445,
          71.48198641416445,
          71.48198641416445,
          71.48198641416445,
          71.48198641416445,
          71.48198641416445,
          71.48198641416445,
          71.48198641416445,
          71.48198641416445,
          71.48198641416445,
          71.48198641416445,
          71.48198641416445,
          71.48198641416445,
          54.17966074645715,
          41.2406615342188,
          41.2406615342188,
          41.2406615342188,
          41.2406615342188,
          41.2406615342188,
          41.2406615342188,
          41.2406615342188,
          41.2406615342188,
          41.2406615342188,
          41.2406615342188,
          41.2406615342188,
          41.2406615342188,
          41.2406615342188,
          41.2406615342188,
          41.2406615342188,
          41.2406615342188,
          41.2406615342188,
          41.2406615342188,
          41.2406615342188,
          41.2406615342188,
          41.2406615342188,
          41.2406615342188,
          41.2406615342188,
          41.2406615342188,
          41.2406615342188
         ],
         "yaxis": "y2"
        },
        {
         "alignmentgroup": "True",
         "hovertemplate": "energy_type=fuel_oil<br>scenario=Dual Fuel - Pipeline (Accelerated)<br>=%{x}<br>consumption=%{y}<extra></extra>",
         "legendgroup": "fuel_oil",
         "marker": {
          "color": "goldenrod",
          "line": {
           "width": 0
          },
          "pattern": {
           "shape": ""
          }
         },
         "name": "Fuel Oil",
         "offsetgroup": "fuel_oil",
         "orientation": "v",
         "showlegend": false,
         "textposition": "auto",
         "type": "bar",
         "x": [
          2020,
          2021,
          2022,
          2023,
          2024,
          2025,
          2026,
          2027,
          2028,
          2029,
          2030,
          2031,
          2032,
          2033,
          2034,
          2035,
          2036,
          2037,
          2038,
          2039,
          2040,
          2041,
          2042,
          2043,
          2044,
          2045,
          2046,
          2047,
          2048,
          2049,
          2050,
          2051,
          2052,
          2053,
          2054,
          2055,
          2056,
          2057,
          2058,
          2059,
          2060,
          2061,
          2062,
          2063,
          2064,
          2065
         ],
         "xaxis": "x3",
         "y": [
          71.48198641416445,
          71.48198641416445,
          71.48198641416445,
          71.48198641416445,
          71.48198641416445,
          71.48198641416445,
          71.48198641416445,
          71.48198641416445,
          71.48198641416445,
          71.48198641416445,
          71.48198641416445,
          71.48198641416445,
          71.48198641416445,
          71.48198641416445,
          71.48198641416445,
          71.48198641416445,
          71.48198641416445,
          71.48198641416445,
          71.48198641416445,
          71.48198641416445,
          54.17966074645715,
          41.2406615342188,
          41.2406615342188,
          41.2406615342188,
          41.2406615342188,
          41.2406615342188,
          41.2406615342188,
          41.2406615342188,
          41.2406615342188,
          41.2406615342188,
          41.2406615342188,
          41.2406615342188,
          41.2406615342188,
          41.2406615342188,
          41.2406615342188,
          41.2406615342188,
          41.2406615342188,
          41.2406615342188,
          41.2406615342188,
          41.2406615342188,
          41.2406615342188,
          41.2406615342188,
          41.2406615342188,
          41.2406615342188,
          41.2406615342188,
          41.2406615342188
         ],
         "yaxis": "y3"
        },
        {
         "alignmentgroup": "True",
         "hovertemplate": "energy_type=fuel_oil<br>scenario=Unmanaged Electrification<br>=%{x}<br>consumption=%{y}<extra></extra>",
         "legendgroup": "fuel_oil",
         "marker": {
          "color": "goldenrod",
          "line": {
           "width": 0
          },
          "pattern": {
           "shape": ""
          }
         },
         "name": "Fuel Oil",
         "offsetgroup": "fuel_oil",
         "orientation": "v",
         "showlegend": false,
         "textposition": "auto",
         "type": "bar",
         "x": [
          2020,
          2021,
          2022,
          2023,
          2024,
          2025,
          2026,
          2027,
          2028,
          2029,
          2030,
          2031,
          2032,
          2033,
          2034,
          2035,
          2036,
          2037,
          2038,
          2039,
          2040,
          2041,
          2042,
          2043,
          2044,
          2045,
          2046,
          2047,
          2048,
          2049,
          2050,
          2051,
          2052,
          2053,
          2054,
          2055,
          2056,
          2057,
          2058,
          2059,
          2060,
          2061,
          2062,
          2063,
          2064,
          2065
         ],
         "xaxis": "x4",
         "y": [
          71.48198641416445,
          71.48198641416445,
          71.48198641416445,
          71.48198641416445,
          71.48198641416445,
          71.48198641416445,
          71.48198641416445,
          71.48198641416445,
          71.48198641416445,
          71.48198641416445,
          71.48198641416445,
          71.48198641416445,
          71.48198641416445,
          71.48198641416445,
          71.48198641416445,
          71.48198641416445,
          71.48198641416445,
          71.48198641416445,
          71.48198641416445,
          71.48198641416445,
          30.58415494605039,
          0,
          0,
          0,
          0,
          0,
          0,
          0,
          0,
          0,
          0,
          0,
          0,
          0,
          0,
          0,
          0,
          0,
          0,
          0,
          0,
          0,
          0,
          0,
          0,
          0
         ],
         "yaxis": "y4"
        },
        {
         "alignmentgroup": "True",
         "hovertemplate": "energy_type=fuel_oil<br>scenario=Dual Fuel (Tank)<br>=%{x}<br>consumption=%{y}<extra></extra>",
         "legendgroup": "fuel_oil",
         "marker": {
          "color": "goldenrod",
          "line": {
           "width": 0
          },
          "pattern": {
           "shape": ""
          }
         },
         "name": "Fuel Oil",
         "offsetgroup": "fuel_oil",
         "orientation": "v",
         "showlegend": false,
         "textposition": "auto",
         "type": "bar",
         "x": [
          2020,
          2021,
          2022,
          2023,
          2024,
          2025,
          2026,
          2027,
          2028,
          2029,
          2030,
          2031,
          2032,
          2033,
          2034,
          2035,
          2036,
          2037,
          2038,
          2039,
          2040,
          2041,
          2042,
          2043,
          2044,
          2045,
          2046,
          2047,
          2048,
          2049,
          2050,
          2051,
          2052,
          2053,
          2054,
          2055,
          2056,
          2057,
          2058,
          2059,
          2060,
          2061,
          2062,
          2063,
          2064,
          2065
         ],
         "xaxis": "x5",
         "y": [
          71.48198641416445,
          71.48198641416445,
          71.48198641416445,
          71.48198641416445,
          71.48198641416445,
          71.48198641416445,
          71.48198641416445,
          71.48198641416445,
          71.48198641416445,
          71.48198641416445,
          71.48198641416445,
          71.48198641416445,
          71.48198641416445,
          71.48198641416445,
          71.48198641416445,
          71.48198641416445,
          71.48198641416445,
          71.48198641416445,
          71.48198641416445,
          71.48198641416445,
          54.17966074645715,
          41.2406615342188,
          41.2406615342188,
          41.2406615342188,
          41.2406615342188,
          41.2406615342188,
          41.2406615342188,
          41.2406615342188,
          41.2406615342188,
          41.2406615342188,
          41.2406615342188,
          41.2406615342188,
          41.2406615342188,
          41.2406615342188,
          41.2406615342188,
          41.2406615342188,
          41.2406615342188,
          41.2406615342188,
          41.2406615342188,
          41.2406615342188,
          41.2406615342188,
          41.2406615342188,
          41.2406615342188,
          41.2406615342188,
          41.2406615342188,
          41.2406615342188
         ],
         "yaxis": "y5"
        },
        {
         "alignmentgroup": "True",
         "hovertemplate": "energy_type=fuel_oil<br>scenario=Accelerated Electrification<br>=%{x}<br>consumption=%{y}<extra></extra>",
         "legendgroup": "fuel_oil",
         "marker": {
          "color": "goldenrod",
          "line": {
           "width": 0
          },
          "pattern": {
           "shape": ""
          }
         },
         "name": "Fuel Oil",
         "offsetgroup": "fuel_oil",
         "orientation": "v",
         "showlegend": false,
         "textposition": "auto",
         "type": "bar",
         "x": [
          2020,
          2021,
          2022,
          2023,
          2024,
          2025,
          2026,
          2027,
          2028,
          2029,
          2030,
          2031,
          2032,
          2033,
          2034,
          2035,
          2036,
          2037,
          2038,
          2039,
          2040,
          2041,
          2042,
          2043,
          2044,
          2045,
          2046,
          2047,
          2048,
          2049,
          2050,
          2051,
          2052,
          2053,
          2054,
          2055,
          2056,
          2057,
          2058,
          2059,
          2060,
          2061,
          2062,
          2063,
          2064,
          2065
         ],
         "xaxis": "x6",
         "y": [
          71.48198641416445,
          71.48198641416445,
          71.48198641416445,
          71.48198641416445,
          71.48198641416445,
          71.48198641416445,
          71.48198641416445,
          71.48198641416445,
          71.48198641416445,
          71.48198641416445,
          71.48198641416445,
          71.48198641416445,
          71.48198641416445,
          71.48198641416445,
          71.48198641416445,
          71.48198641416445,
          71.48198641416445,
          71.48198641416445,
          71.48198641416445,
          71.48198641416445,
          30.58415494605039,
          0,
          0,
          0,
          0,
          0,
          0,
          0,
          0,
          0,
          0,
          0,
          0,
          0,
          0,
          0,
          0,
          0,
          0,
          0,
          0,
          0,
          0,
          0,
          0,
          0
         ],
         "yaxis": "y6"
        }
       ],
       "layout": {
        "annotations": [
         {
          "font": {},
          "showarrow": false,
          "text": "Continued Gas",
          "x": 0.07916666666666666,
          "xanchor": "center",
          "xref": "paper",
          "y": 1,
          "yanchor": "bottom",
          "yref": "paper"
         },
         {
          "font": {},
          "showarrow": false,
          "text": "Dual Fuel - Pipeline (EOL)",
          "x": 0.2475,
          "xanchor": "center",
          "xref": "paper",
          "y": 1,
          "yanchor": "bottom",
          "yref": "paper"
         },
         {
          "font": {},
          "showarrow": false,
          "text": "Dual Fuel - Pipeline (Accelerated)",
          "x": 0.41583333333333333,
          "xanchor": "center",
          "xref": "paper",
          "y": 1,
          "yanchor": "bottom",
          "yref": "paper"
         },
         {
          "font": {},
          "showarrow": false,
          "text": "Unmanaged Electrification",
          "x": 0.5841666666666667,
          "xanchor": "center",
          "xref": "paper",
          "y": 1,
          "yanchor": "bottom",
          "yref": "paper"
         },
         {
          "font": {},
          "showarrow": false,
          "text": "Dual Fuel (Tank)",
          "x": 0.7525,
          "xanchor": "center",
          "xref": "paper",
          "y": 1,
          "yanchor": "bottom",
          "yref": "paper"
         },
         {
          "font": {},
          "showarrow": false,
          "text": "Accelerated Electrification",
          "x": 0.9208333333333334,
          "xanchor": "center",
          "xref": "paper",
          "y": 1,
          "yanchor": "bottom",
          "yref": "paper"
         }
        ],
        "bargap": 0,
        "barmode": "stack",
        "legend": {
         "title": {
          "text": ""
         },
         "tracegroupgap": 0,
         "x": 0.92,
         "y": 0.98
        },
        "margin": {
         "t": 60
        },
        "plot_bgcolor": "#f5f5f5",
        "template": {
         "data": {
          "bar": [
           {
            "error_x": {
             "color": "#2a3f5f"
            },
            "error_y": {
             "color": "#2a3f5f"
            },
            "marker": {
             "line": {
              "color": "#E5ECF6",
              "width": 0.5
             },
             "pattern": {
              "fillmode": "overlay",
              "size": 10,
              "solidity": 0.2
             }
            },
            "type": "bar"
           }
          ],
          "barpolar": [
           {
            "marker": {
             "line": {
              "color": "#E5ECF6",
              "width": 0.5
             },
             "pattern": {
              "fillmode": "overlay",
              "size": 10,
              "solidity": 0.2
             }
            },
            "type": "barpolar"
           }
          ],
          "carpet": [
           {
            "aaxis": {
             "endlinecolor": "#2a3f5f",
             "gridcolor": "white",
             "linecolor": "white",
             "minorgridcolor": "white",
             "startlinecolor": "#2a3f5f"
            },
            "baxis": {
             "endlinecolor": "#2a3f5f",
             "gridcolor": "white",
             "linecolor": "white",
             "minorgridcolor": "white",
             "startlinecolor": "#2a3f5f"
            },
            "type": "carpet"
           }
          ],
          "choropleth": [
           {
            "colorbar": {
             "outlinewidth": 0,
             "ticks": ""
            },
            "type": "choropleth"
           }
          ],
          "contour": [
           {
            "colorbar": {
             "outlinewidth": 0,
             "ticks": ""
            },
            "colorscale": [
             [
              0,
              "#0d0887"
             ],
             [
              0.1111111111111111,
              "#46039f"
             ],
             [
              0.2222222222222222,
              "#7201a8"
             ],
             [
              0.3333333333333333,
              "#9c179e"
             ],
             [
              0.4444444444444444,
              "#bd3786"
             ],
             [
              0.5555555555555556,
              "#d8576b"
             ],
             [
              0.6666666666666666,
              "#ed7953"
             ],
             [
              0.7777777777777778,
              "#fb9f3a"
             ],
             [
              0.8888888888888888,
              "#fdca26"
             ],
             [
              1,
              "#f0f921"
             ]
            ],
            "type": "contour"
           }
          ],
          "contourcarpet": [
           {
            "colorbar": {
             "outlinewidth": 0,
             "ticks": ""
            },
            "type": "contourcarpet"
           }
          ],
          "heatmap": [
           {
            "colorbar": {
             "outlinewidth": 0,
             "ticks": ""
            },
            "colorscale": [
             [
              0,
              "#0d0887"
             ],
             [
              0.1111111111111111,
              "#46039f"
             ],
             [
              0.2222222222222222,
              "#7201a8"
             ],
             [
              0.3333333333333333,
              "#9c179e"
             ],
             [
              0.4444444444444444,
              "#bd3786"
             ],
             [
              0.5555555555555556,
              "#d8576b"
             ],
             [
              0.6666666666666666,
              "#ed7953"
             ],
             [
              0.7777777777777778,
              "#fb9f3a"
             ],
             [
              0.8888888888888888,
              "#fdca26"
             ],
             [
              1,
              "#f0f921"
             ]
            ],
            "type": "heatmap"
           }
          ],
          "heatmapgl": [
           {
            "colorbar": {
             "outlinewidth": 0,
             "ticks": ""
            },
            "colorscale": [
             [
              0,
              "#0d0887"
             ],
             [
              0.1111111111111111,
              "#46039f"
             ],
             [
              0.2222222222222222,
              "#7201a8"
             ],
             [
              0.3333333333333333,
              "#9c179e"
             ],
             [
              0.4444444444444444,
              "#bd3786"
             ],
             [
              0.5555555555555556,
              "#d8576b"
             ],
             [
              0.6666666666666666,
              "#ed7953"
             ],
             [
              0.7777777777777778,
              "#fb9f3a"
             ],
             [
              0.8888888888888888,
              "#fdca26"
             ],
             [
              1,
              "#f0f921"
             ]
            ],
            "type": "heatmapgl"
           }
          ],
          "histogram": [
           {
            "marker": {
             "pattern": {
              "fillmode": "overlay",
              "size": 10,
              "solidity": 0.2
             }
            },
            "type": "histogram"
           }
          ],
          "histogram2d": [
           {
            "colorbar": {
             "outlinewidth": 0,
             "ticks": ""
            },
            "colorscale": [
             [
              0,
              "#0d0887"
             ],
             [
              0.1111111111111111,
              "#46039f"
             ],
             [
              0.2222222222222222,
              "#7201a8"
             ],
             [
              0.3333333333333333,
              "#9c179e"
             ],
             [
              0.4444444444444444,
              "#bd3786"
             ],
             [
              0.5555555555555556,
              "#d8576b"
             ],
             [
              0.6666666666666666,
              "#ed7953"
             ],
             [
              0.7777777777777778,
              "#fb9f3a"
             ],
             [
              0.8888888888888888,
              "#fdca26"
             ],
             [
              1,
              "#f0f921"
             ]
            ],
            "type": "histogram2d"
           }
          ],
          "histogram2dcontour": [
           {
            "colorbar": {
             "outlinewidth": 0,
             "ticks": ""
            },
            "colorscale": [
             [
              0,
              "#0d0887"
             ],
             [
              0.1111111111111111,
              "#46039f"
             ],
             [
              0.2222222222222222,
              "#7201a8"
             ],
             [
              0.3333333333333333,
              "#9c179e"
             ],
             [
              0.4444444444444444,
              "#bd3786"
             ],
             [
              0.5555555555555556,
              "#d8576b"
             ],
             [
              0.6666666666666666,
              "#ed7953"
             ],
             [
              0.7777777777777778,
              "#fb9f3a"
             ],
             [
              0.8888888888888888,
              "#fdca26"
             ],
             [
              1,
              "#f0f921"
             ]
            ],
            "type": "histogram2dcontour"
           }
          ],
          "mesh3d": [
           {
            "colorbar": {
             "outlinewidth": 0,
             "ticks": ""
            },
            "type": "mesh3d"
           }
          ],
          "parcoords": [
           {
            "line": {
             "colorbar": {
              "outlinewidth": 0,
              "ticks": ""
             }
            },
            "type": "parcoords"
           }
          ],
          "pie": [
           {
            "automargin": true,
            "type": "pie"
           }
          ],
          "scatter": [
           {
            "fillpattern": {
             "fillmode": "overlay",
             "size": 10,
             "solidity": 0.2
            },
            "type": "scatter"
           }
          ],
          "scatter3d": [
           {
            "line": {
             "colorbar": {
              "outlinewidth": 0,
              "ticks": ""
             }
            },
            "marker": {
             "colorbar": {
              "outlinewidth": 0,
              "ticks": ""
             }
            },
            "type": "scatter3d"
           }
          ],
          "scattercarpet": [
           {
            "marker": {
             "colorbar": {
              "outlinewidth": 0,
              "ticks": ""
             }
            },
            "type": "scattercarpet"
           }
          ],
          "scattergeo": [
           {
            "marker": {
             "colorbar": {
              "outlinewidth": 0,
              "ticks": ""
             }
            },
            "type": "scattergeo"
           }
          ],
          "scattergl": [
           {
            "marker": {
             "colorbar": {
              "outlinewidth": 0,
              "ticks": ""
             }
            },
            "type": "scattergl"
           }
          ],
          "scattermapbox": [
           {
            "marker": {
             "colorbar": {
              "outlinewidth": 0,
              "ticks": ""
             }
            },
            "type": "scattermapbox"
           }
          ],
          "scatterpolar": [
           {
            "marker": {
             "colorbar": {
              "outlinewidth": 0,
              "ticks": ""
             }
            },
            "type": "scatterpolar"
           }
          ],
          "scatterpolargl": [
           {
            "marker": {
             "colorbar": {
              "outlinewidth": 0,
              "ticks": ""
             }
            },
            "type": "scatterpolargl"
           }
          ],
          "scatterternary": [
           {
            "marker": {
             "colorbar": {
              "outlinewidth": 0,
              "ticks": ""
             }
            },
            "type": "scatterternary"
           }
          ],
          "surface": [
           {
            "colorbar": {
             "outlinewidth": 0,
             "ticks": ""
            },
            "colorscale": [
             [
              0,
              "#0d0887"
             ],
             [
              0.1111111111111111,
              "#46039f"
             ],
             [
              0.2222222222222222,
              "#7201a8"
             ],
             [
              0.3333333333333333,
              "#9c179e"
             ],
             [
              0.4444444444444444,
              "#bd3786"
             ],
             [
              0.5555555555555556,
              "#d8576b"
             ],
             [
              0.6666666666666666,
              "#ed7953"
             ],
             [
              0.7777777777777778,
              "#fb9f3a"
             ],
             [
              0.8888888888888888,
              "#fdca26"
             ],
             [
              1,
              "#f0f921"
             ]
            ],
            "type": "surface"
           }
          ],
          "table": [
           {
            "cells": {
             "fill": {
              "color": "#EBF0F8"
             },
             "line": {
              "color": "white"
             }
            },
            "header": {
             "fill": {
              "color": "#C8D4E3"
             },
             "line": {
              "color": "white"
             }
            },
            "type": "table"
           }
          ]
         },
         "layout": {
          "annotationdefaults": {
           "arrowcolor": "#2a3f5f",
           "arrowhead": 0,
           "arrowwidth": 1
          },
          "autotypenumbers": "strict",
          "coloraxis": {
           "colorbar": {
            "outlinewidth": 0,
            "ticks": ""
           }
          },
          "colorscale": {
           "diverging": [
            [
             0,
             "#8e0152"
            ],
            [
             0.1,
             "#c51b7d"
            ],
            [
             0.2,
             "#de77ae"
            ],
            [
             0.3,
             "#f1b6da"
            ],
            [
             0.4,
             "#fde0ef"
            ],
            [
             0.5,
             "#f7f7f7"
            ],
            [
             0.6,
             "#e6f5d0"
            ],
            [
             0.7,
             "#b8e186"
            ],
            [
             0.8,
             "#7fbc41"
            ],
            [
             0.9,
             "#4d9221"
            ],
            [
             1,
             "#276419"
            ]
           ],
           "sequential": [
            [
             0,
             "#0d0887"
            ],
            [
             0.1111111111111111,
             "#46039f"
            ],
            [
             0.2222222222222222,
             "#7201a8"
            ],
            [
             0.3333333333333333,
             "#9c179e"
            ],
            [
             0.4444444444444444,
             "#bd3786"
            ],
            [
             0.5555555555555556,
             "#d8576b"
            ],
            [
             0.6666666666666666,
             "#ed7953"
            ],
            [
             0.7777777777777778,
             "#fb9f3a"
            ],
            [
             0.8888888888888888,
             "#fdca26"
            ],
            [
             1,
             "#f0f921"
            ]
           ],
           "sequentialminus": [
            [
             0,
             "#0d0887"
            ],
            [
             0.1111111111111111,
             "#46039f"
            ],
            [
             0.2222222222222222,
             "#7201a8"
            ],
            [
             0.3333333333333333,
             "#9c179e"
            ],
            [
             0.4444444444444444,
             "#bd3786"
            ],
            [
             0.5555555555555556,
             "#d8576b"
            ],
            [
             0.6666666666666666,
             "#ed7953"
            ],
            [
             0.7777777777777778,
             "#fb9f3a"
            ],
            [
             0.8888888888888888,
             "#fdca26"
            ],
            [
             1,
             "#f0f921"
            ]
           ]
          },
          "colorway": [
           "#636efa",
           "#EF553B",
           "#00cc96",
           "#ab63fa",
           "#FFA15A",
           "#19d3f3",
           "#FF6692",
           "#B6E880",
           "#FF97FF",
           "#FECB52"
          ],
          "font": {
           "color": "#2a3f5f"
          },
          "geo": {
           "bgcolor": "white",
           "lakecolor": "white",
           "landcolor": "#E5ECF6",
           "showlakes": true,
           "showland": true,
           "subunitcolor": "white"
          },
          "hoverlabel": {
           "align": "left"
          },
          "hovermode": "closest",
          "mapbox": {
           "style": "light"
          },
          "paper_bgcolor": "white",
          "plot_bgcolor": "#E5ECF6",
          "polar": {
           "angularaxis": {
            "gridcolor": "white",
            "linecolor": "white",
            "ticks": ""
           },
           "bgcolor": "#E5ECF6",
           "radialaxis": {
            "gridcolor": "white",
            "linecolor": "white",
            "ticks": ""
           }
          },
          "scene": {
           "xaxis": {
            "backgroundcolor": "#E5ECF6",
            "gridcolor": "white",
            "gridwidth": 2,
            "linecolor": "white",
            "showbackground": true,
            "ticks": "",
            "zerolinecolor": "white"
           },
           "yaxis": {
            "backgroundcolor": "#E5ECF6",
            "gridcolor": "white",
            "gridwidth": 2,
            "linecolor": "white",
            "showbackground": true,
            "ticks": "",
            "zerolinecolor": "white"
           },
           "zaxis": {
            "backgroundcolor": "#E5ECF6",
            "gridcolor": "white",
            "gridwidth": 2,
            "linecolor": "white",
            "showbackground": true,
            "ticks": "",
            "zerolinecolor": "white"
           }
          },
          "shapedefaults": {
           "line": {
            "color": "#2a3f5f"
           }
          },
          "ternary": {
           "aaxis": {
            "gridcolor": "white",
            "linecolor": "white",
            "ticks": ""
           },
           "baxis": {
            "gridcolor": "white",
            "linecolor": "white",
            "ticks": ""
           },
           "bgcolor": "#E5ECF6",
           "caxis": {
            "gridcolor": "white",
            "linecolor": "white",
            "ticks": ""
           }
          },
          "title": {
           "x": 0.05
          },
          "xaxis": {
           "automargin": true,
           "gridcolor": "white",
           "linecolor": "white",
           "ticks": "",
           "title": {
            "standoff": 15
           },
           "zerolinecolor": "white",
           "zerolinewidth": 2
          },
          "yaxis": {
           "automargin": true,
           "gridcolor": "white",
           "linecolor": "white",
           "ticks": "",
           "title": {
            "standoff": 15
           },
           "zerolinecolor": "white",
           "zerolinewidth": 2
          }
         }
        },
        "width": 1300,
        "xaxis": {
         "anchor": "y",
         "domain": [
          0,
          0.15833333333333333
         ],
         "tickangle": -90,
         "title": {
          "text": ""
         }
        },
        "xaxis2": {
         "anchor": "y2",
         "domain": [
          0.16833333333333333,
          0.32666666666666666
         ],
         "matches": "x",
         "tickangle": -90,
         "title": {
          "text": ""
         }
        },
        "xaxis3": {
         "anchor": "y3",
         "domain": [
          0.33666666666666667,
          0.495
         ],
         "matches": "x",
         "tickangle": -90,
         "title": {
          "text": ""
         }
        },
        "xaxis4": {
         "anchor": "y4",
         "domain": [
          0.505,
          0.6633333333333333
         ],
         "matches": "x",
         "tickangle": -90,
         "title": {
          "text": ""
         }
        },
        "xaxis5": {
         "anchor": "y5",
         "domain": [
          0.6733333333333333,
          0.8316666666666667
         ],
         "matches": "x",
         "tickangle": -90,
         "title": {
          "text": ""
         }
        },
        "xaxis6": {
         "anchor": "y6",
         "domain": [
          0.8416666666666667,
          1
         ],
         "matches": "x",
         "tickangle": -90,
         "title": {
          "text": ""
         }
        },
        "yaxis": {
         "anchor": "x",
         "domain": [
          0,
          1
         ],
         "title": {
          "text": "Energy Consumption (MWh)"
         }
        },
        "yaxis2": {
         "anchor": "x2",
         "domain": [
          0,
          1
         ],
         "matches": "y",
         "showticklabels": false
        },
        "yaxis3": {
         "anchor": "x3",
         "domain": [
          0,
          1
         ],
         "matches": "y",
         "showticklabels": false
        },
        "yaxis4": {
         "anchor": "x4",
         "domain": [
          0,
          1
         ],
         "matches": "y",
         "showticklabels": false
        },
        "yaxis5": {
         "anchor": "x5",
         "domain": [
          0,
          1
         ],
         "matches": "y",
         "showticklabels": false
        },
        "yaxis6": {
         "anchor": "x6",
         "domain": [
          0,
          1
         ],
         "matches": "y",
         "showticklabels": false
        }
       }
      }
     },
     "metadata": {},
     "output_type": "display_data"
    }
   ],
   "source": [
    "# plot\n",
    "fig = px.bar(energy_consump, x=\"year\", y=\"consumption\", color=\"energy_type\",\n",
    "             facet_col=\"scenario\", facet_col_spacing=0.01, \n",
    "             barmode=\"stack\",\n",
    "             width = 1300,\n",
    "             category_orders={\"scenario\": scenarios,\n",
    "                            'energy_type':['electricity',\n",
    "                                           'natural_gas', \n",
    "                                           'propane',\n",
    "                                           'fuel_oil', ],\n",
    "                            },\n",
    "              color_discrete_map={'electricity' : 'cornflowerblue',\n",
    "                                'natural_gas' : 'palevioletred', \n",
    "                                'propane' : 'lightseagreen',\n",
    "                                'fuel_oil' : 'goldenrod'},\n",
    "              labels={'year':'', # remove 'year' from xaxis on each subplot\n",
    "                    } \n",
    "            )\n",
    "\n",
    "# update names for plotting\n",
    "fig.for_each_annotation(lambda a: a.update(text = a.text.split(\"=\")[-1]))\n",
    "trace_dic = {'electricity' : 'Electricity',\n",
    "        'natural_gas' : 'Pipeline Gas', \n",
    "        'propane' : 'LPG',\n",
    "        'fuel_oil' : 'Fuel Oil',}\n",
    "fig.for_each_trace(lambda t: t.update(name = trace_dic[t.name]))\n",
    "\n",
    "# general formatting\n",
    "fig.update_layout(bargap=0,\n",
    "                  legend=dict(title_text='', x=0.92, y=0.98), # set legend location, properties\n",
    "                  yaxis_title='Energy Consumption (MWh)',\n",
    "                  plot_bgcolor='#f5f5f5',\n",
    "                  )\n",
    "fig.update_traces(marker_line_width=0)\n",
    "fig.update_xaxes(tickangle= -90)\n",
    "# fig.update_yaxes(showgrid=False)\n",
    "\n",
    "fig.show()\n",
    "fig.write_html(figure_outputs+'energy_consump.html')"
   ]
  },
  {
   "cell_type": "markdown",
   "metadata": {},
   "source": [
    "### Peak Consumption"
   ]
  },
  {
   "cell_type": "code",
   "execution_count": 96,
   "metadata": {},
   "outputs": [
    {
     "data": {
      "text/html": [
       "<div>\n",
       "<style scoped>\n",
       "    .dataframe tbody tr th:only-of-type {\n",
       "        vertical-align: middle;\n",
       "    }\n",
       "\n",
       "    .dataframe tbody tr th {\n",
       "        vertical-align: top;\n",
       "    }\n",
       "\n",
       "    .dataframe thead th {\n",
       "        text-align: right;\n",
       "    }\n",
       "</style>\n",
       "<table border=\"1\" class=\"dataframe\">\n",
       "  <thead>\n",
       "    <tr style=\"text-align: right;\">\n",
       "      <th></th>\n",
       "      <th>year</th>\n",
       "      <th>energy_type</th>\n",
       "      <th>scenario</th>\n",
       "      <th>asset_id</th>\n",
       "      <th>peak_consump</th>\n",
       "      <th>over_capacity</th>\n",
       "    </tr>\n",
       "  </thead>\n",
       "  <tbody>\n",
       "    <tr>\n",
       "      <th>0</th>\n",
       "      <td>2020</td>\n",
       "      <td>electricity</td>\n",
       "      <td>Accelerated Electrification</td>\n",
       "      <td>TB001</td>\n",
       "      <td>23.675806</td>\n",
       "      <td>False</td>\n",
       "    </tr>\n",
       "    <tr>\n",
       "      <th>1</th>\n",
       "      <td>2020</td>\n",
       "      <td>electricity</td>\n",
       "      <td>Accelerated Electrification</td>\n",
       "      <td>TB002</td>\n",
       "      <td>22.052421</td>\n",
       "      <td>False</td>\n",
       "    </tr>\n",
       "    <tr>\n",
       "      <th>2</th>\n",
       "      <td>2020</td>\n",
       "      <td>electricity</td>\n",
       "      <td>Accelerated Electrification</td>\n",
       "      <td>TB003</td>\n",
       "      <td>18.963890</td>\n",
       "      <td>False</td>\n",
       "    </tr>\n",
       "    <tr>\n",
       "      <th>3</th>\n",
       "      <td>2020</td>\n",
       "      <td>electricity</td>\n",
       "      <td>Accelerated Electrification</td>\n",
       "      <td>TB004</td>\n",
       "      <td>21.247716</td>\n",
       "      <td>False</td>\n",
       "    </tr>\n",
       "    <tr>\n",
       "      <th>4</th>\n",
       "      <td>2020</td>\n",
       "      <td>electricity</td>\n",
       "      <td>Continued Gas</td>\n",
       "      <td>TB001</td>\n",
       "      <td>23.675806</td>\n",
       "      <td>False</td>\n",
       "    </tr>\n",
       "    <tr>\n",
       "      <th>...</th>\n",
       "      <td>...</td>\n",
       "      <td>...</td>\n",
       "      <td>...</td>\n",
       "      <td>...</td>\n",
       "      <td>...</td>\n",
       "      <td>...</td>\n",
       "    </tr>\n",
       "    <tr>\n",
       "      <th>1099</th>\n",
       "      <td>2065</td>\n",
       "      <td>electricity</td>\n",
       "      <td>Dual Fuel - Pipeline (EOL)</td>\n",
       "      <td>TB004</td>\n",
       "      <td>26.229684</td>\n",
       "      <td>False</td>\n",
       "    </tr>\n",
       "    <tr>\n",
       "      <th>1100</th>\n",
       "      <td>2065</td>\n",
       "      <td>electricity</td>\n",
       "      <td>Unmanaged Electrification</td>\n",
       "      <td>TB001</td>\n",
       "      <td>79.829321</td>\n",
       "      <td>True</td>\n",
       "    </tr>\n",
       "    <tr>\n",
       "      <th>1101</th>\n",
       "      <td>2065</td>\n",
       "      <td>electricity</td>\n",
       "      <td>Unmanaged Electrification</td>\n",
       "      <td>TB002</td>\n",
       "      <td>74.385738</td>\n",
       "      <td>False</td>\n",
       "    </tr>\n",
       "    <tr>\n",
       "      <th>1102</th>\n",
       "      <td>2065</td>\n",
       "      <td>electricity</td>\n",
       "      <td>Unmanaged Electrification</td>\n",
       "      <td>TB003</td>\n",
       "      <td>63.943553</td>\n",
       "      <td>False</td>\n",
       "    </tr>\n",
       "    <tr>\n",
       "      <th>1103</th>\n",
       "      <td>2065</td>\n",
       "      <td>electricity</td>\n",
       "      <td>Unmanaged Electrification</td>\n",
       "      <td>TB004</td>\n",
       "      <td>71.671363</td>\n",
       "      <td>False</td>\n",
       "    </tr>\n",
       "  </tbody>\n",
       "</table>\n",
       "<p>1104 rows × 6 columns</p>\n",
       "</div>"
      ],
      "text/plain": [
       "      year  energy_type                     scenario asset_id  peak_consump  \\\n",
       "0     2020  electricity  Accelerated Electrification    TB001     23.675806   \n",
       "1     2020  electricity  Accelerated Electrification    TB002     22.052421   \n",
       "2     2020  electricity  Accelerated Electrification    TB003     18.963890   \n",
       "3     2020  electricity  Accelerated Electrification    TB004     21.247716   \n",
       "4     2020  electricity                Continued Gas    TB001     23.675806   \n",
       "...    ...          ...                          ...      ...           ...   \n",
       "1099  2065  electricity   Dual Fuel - Pipeline (EOL)    TB004     26.229684   \n",
       "1100  2065  electricity    Unmanaged Electrification    TB001     79.829321   \n",
       "1101  2065  electricity    Unmanaged Electrification    TB002     74.385738   \n",
       "1102  2065  electricity    Unmanaged Electrification    TB003     63.943553   \n",
       "1103  2065  electricity    Unmanaged Electrification    TB004     71.671363   \n",
       "\n",
       "      over_capacity  \n",
       "0             False  \n",
       "1             False  \n",
       "2             False  \n",
       "3             False  \n",
       "4             False  \n",
       "...             ...  \n",
       "1099          False  \n",
       "1100           True  \n",
       "1101          False  \n",
       "1102          False  \n",
       "1103          False  \n",
       "\n",
       "[1104 rows x 6 columns]"
      ]
     },
     "execution_count": 96,
     "metadata": {},
     "output_type": "execute_result"
    }
   ],
   "source": [
    "plot_data = 'peak_consump'\n",
    "\n",
    "groupby_columns = ['year','energy_type','scenario', 'asset_id'] # sum rows to get yearly peak consumption by scenario, energy type, and asset id\n",
    "scenarios = ['Continued Gas',\n",
    "            'Dual Fuel - Pipeline (EOL)', \n",
    "            'Dual Fuel - Pipeline (Accelerated)',\n",
    "            'Unmanaged Electrification',\n",
    "            'Dual Fuel (Tank)',\n",
    "            'Accelerated Electrification',] \n",
    "year_range = [2020, 2065]\n",
    "\n",
    "# group, filter data based on what will be shown in report\n",
    "peak_consump = df_dic[plot_data].groupby(by=groupby_columns).sum().reset_index()\n",
    "peak_consump = filter_data(peak_consump, 'scenario', scenarios)\n",
    "if 'year' in groupby_columns:\n",
    "    peak_consump = filter_years(peak_consump,year_range)\n",
    "\n",
    "xfmr_capacity = 75 # temp placeholder - to be updated\n",
    "peak_consump['over_capacity'] = [True if i > xfmr_capacity else False for i in peak_consump['peak_consump']]\n",
    "\n",
    "peak_consump"
   ]
  },
  {
   "cell_type": "code",
   "execution_count": 97,
   "metadata": {},
   "outputs": [
    {
     "data": {
      "application/vnd.plotly.v1+json": {
       "config": {
        "plotlyServerURL": "https://plot.ly"
       },
       "data": [
        {
         "alignmentgroup": "True",
         "hovertemplate": "over_capacity=False<br>asset_id=TB001<br>scenario=Continued Gas<br>=%{x}<br>peak_consump=%{y}<extra></extra>",
         "legendgroup": "False",
         "marker": {
          "color": "green",
          "pattern": {
           "shape": ""
          }
         },
         "name": "Sufficient Capacity",
         "offsetgroup": "False",
         "orientation": "v",
         "showlegend": true,
         "textposition": "auto",
         "type": "bar",
         "x": [
          2020,
          2021,
          2022,
          2023,
          2024,
          2025,
          2026,
          2027,
          2028,
          2029,
          2030,
          2031,
          2032,
          2033,
          2034,
          2035,
          2036,
          2037,
          2038,
          2039,
          2040,
          2041,
          2042,
          2043,
          2044,
          2045,
          2046,
          2047,
          2048,
          2049,
          2050,
          2051,
          2052,
          2053,
          2054,
          2055,
          2056,
          2057,
          2058,
          2059,
          2060,
          2061,
          2062,
          2063,
          2064,
          2065
         ],
         "xaxis": "x19",
         "y": [
          23.675805862979995,
          23.675805862979995,
          23.675805862979995,
          23.675805862979995,
          23.675805862979995,
          23.675805862979995,
          23.675805862979995,
          23.675805862979995,
          23.675805862979995,
          23.675805862979995,
          23.675805862979995,
          23.675805862979995,
          23.675805862979995,
          23.675805862979995,
          23.675805862979995,
          23.675805862979995,
          23.675805862979995,
          23.675805862979995,
          23.675805862979995,
          23.675805862979995,
          23.675805862979995,
          23.675805862979995,
          23.675805862979995,
          23.675805862979995,
          23.675805862979995,
          23.675805862979995,
          23.675805862979995,
          23.675805862979995,
          23.675805862979995,
          23.675805862979995,
          23.675805862979995,
          23.675805862979995,
          23.675805862979995,
          23.675805862979995,
          23.675805862979995,
          23.675805862979995,
          23.675805862979995,
          23.675805862979995,
          23.675805862979995,
          23.675805862979995,
          23.675805862979995,
          23.675805862979995,
          23.675805862979995,
          23.675805862979995,
          23.675805862979995,
          23.675805862979995
         ],
         "yaxis": "y19"
        },
        {
         "alignmentgroup": "True",
         "hovertemplate": "over_capacity=False<br>asset_id=TB001<br>scenario=Dual Fuel - Pipeline (EOL)<br>=%{x}<br>peak_consump=%{y}<extra></extra>",
         "legendgroup": "False",
         "marker": {
          "color": "green",
          "pattern": {
           "shape": ""
          }
         },
         "name": "Sufficient Capacity",
         "offsetgroup": "False",
         "orientation": "v",
         "showlegend": false,
         "textposition": "auto",
         "type": "bar",
         "x": [
          2020,
          2021,
          2022,
          2023,
          2024,
          2025,
          2026,
          2027,
          2028,
          2029,
          2030,
          2031,
          2032,
          2033,
          2034,
          2035,
          2036,
          2037,
          2038,
          2039,
          2040,
          2041,
          2042,
          2043,
          2044,
          2045,
          2046,
          2047,
          2048,
          2049,
          2050,
          2051,
          2052,
          2053,
          2054,
          2055,
          2056,
          2057,
          2058,
          2059,
          2060,
          2061,
          2062,
          2063,
          2064,
          2065
         ],
         "xaxis": "x20",
         "y": [
          23.675805862979995,
          23.675805862979995,
          23.675805862979995,
          23.675805862979995,
          23.675805862979995,
          23.9473320407925,
          23.9473320407925,
          23.9473320407925,
          23.9473320407925,
          23.9473320407925,
          23.9473320407925,
          24.391807649503,
          24.391807649503,
          24.391807649503,
          24.391807649503,
          24.391807649503,
          24.391807649503,
          24.391807649503,
          24.391807649503,
          24.391807649503,
          26.205857724937,
          26.205857724937,
          26.205857724937,
          26.205857724937,
          26.205857724937,
          27.633670262495,
          27.633670262495,
          27.633670262495,
          29.246686865346,
          29.246686865346,
          29.246686865346,
          29.246686865346,
          29.246686865346,
          29.246686865346,
          29.246686865346,
          29.246686865346,
          29.246686865346,
          29.246686865346,
          29.246686865346,
          29.246686865346,
          29.246686865346,
          29.246686865346,
          29.246686865346,
          29.246686865346,
          29.246686865346,
          29.246686865346
         ],
         "yaxis": "y20"
        },
        {
         "alignmentgroup": "True",
         "hovertemplate": "over_capacity=False<br>asset_id=TB001<br>scenario=Dual Fuel - Pipeline (Accelerated)<br>=%{x}<br>peak_consump=%{y}<extra></extra>",
         "legendgroup": "False",
         "marker": {
          "color": "green",
          "pattern": {
           "shape": ""
          }
         },
         "name": "Sufficient Capacity",
         "offsetgroup": "False",
         "orientation": "v",
         "showlegend": false,
         "textposition": "auto",
         "type": "bar",
         "x": [
          2020,
          2021,
          2022,
          2023,
          2024,
          2025,
          2026,
          2027,
          2028,
          2029,
          2030,
          2031,
          2032,
          2033,
          2034,
          2035,
          2036,
          2037,
          2038,
          2039,
          2040,
          2041,
          2042,
          2043,
          2044,
          2045,
          2046,
          2047,
          2048,
          2049,
          2050,
          2051,
          2052,
          2053,
          2054,
          2055,
          2056,
          2057,
          2058,
          2059,
          2060,
          2061,
          2062,
          2063,
          2064,
          2065
         ],
         "xaxis": "x21",
         "y": [
          23.675805862979995,
          23.675805862979995,
          23.675805862979995,
          23.675805862979995,
          23.675805862979995,
          27.432636789912,
          27.432636789912,
          27.432636789912,
          27.432636789912,
          27.432636789912,
          27.432636789912,
          27.432636789912,
          27.432636789912,
          27.432636789912,
          27.432636789912,
          27.432636789912,
          27.432636789912,
          27.432636789912,
          27.432636789912,
          27.432636789912,
          29.246686865346,
          29.246686865346,
          29.246686865346,
          29.246686865346,
          29.246686865346,
          29.246686865346,
          29.246686865346,
          29.246686865346,
          29.246686865346,
          29.246686865346,
          29.246686865346,
          29.246686865346,
          29.246686865346,
          29.246686865346,
          29.246686865346,
          29.246686865346,
          29.246686865346,
          29.246686865346,
          29.246686865346,
          29.246686865346,
          29.246686865346,
          29.246686865346,
          29.246686865346,
          29.246686865346,
          29.246686865346,
          29.246686865346
         ],
         "yaxis": "y21"
        },
        {
         "alignmentgroup": "True",
         "hovertemplate": "over_capacity=False<br>asset_id=TB001<br>scenario=Unmanaged Electrification<br>=%{x}<br>peak_consump=%{y}<extra></extra>",
         "legendgroup": "False",
         "marker": {
          "color": "green",
          "pattern": {
           "shape": ""
          }
         },
         "name": "Sufficient Capacity",
         "offsetgroup": "False",
         "orientation": "v",
         "showlegend": false,
         "textposition": "auto",
         "type": "bar",
         "x": [
          2020,
          2021,
          2022,
          2023,
          2024,
          2025,
          2026,
          2027,
          2028,
          2029,
          2030,
          2031,
          2032,
          2033,
          2034,
          2035,
          2036,
          2037,
          2038,
          2039,
          2040,
          2041,
          2042,
          2043,
          2044,
          2045,
          2046,
          2047
         ],
         "xaxis": "x22",
         "y": [
          23.675805862979995,
          23.675805862979995,
          23.675805862979995,
          23.675805862979995,
          23.675805862979995,
          31.481710097826,
          31.481710097826,
          31.481710097826,
          31.481710097826,
          31.481710097826,
          31.481710097826,
          44.033177204326,
          44.033177204326,
          44.033177204326,
          44.033177204326,
          44.033177204326,
          44.033177204326,
          44.033177204326,
          44.033177204326,
          44.033177204326,
          56.084481165604,
          56.084481165604,
          56.084481165604,
          56.084481165604,
          56.084481165604,
          65.788699152212,
          65.788699152212,
          65.788699152212
         ],
         "yaxis": "y22"
        },
        {
         "alignmentgroup": "True",
         "hovertemplate": "over_capacity=False<br>asset_id=TB001<br>scenario=Dual Fuel (Tank)<br>=%{x}<br>peak_consump=%{y}<extra></extra>",
         "legendgroup": "False",
         "marker": {
          "color": "green",
          "pattern": {
           "shape": ""
          }
         },
         "name": "Sufficient Capacity",
         "offsetgroup": "False",
         "orientation": "v",
         "showlegend": false,
         "textposition": "auto",
         "type": "bar",
         "x": [
          2020,
          2021,
          2022,
          2023,
          2024,
          2025,
          2026,
          2027,
          2028,
          2029,
          2030,
          2031,
          2032,
          2033,
          2034,
          2035,
          2036,
          2037,
          2038,
          2039,
          2040,
          2041,
          2042,
          2043,
          2044,
          2045,
          2046,
          2047,
          2048,
          2049,
          2050,
          2051,
          2052,
          2053,
          2054,
          2055,
          2056,
          2057,
          2058,
          2059,
          2060,
          2061,
          2062,
          2063,
          2064,
          2065
         ],
         "xaxis": "x23",
         "y": [
          23.675805862979995,
          23.675805862979995,
          23.675805862979995,
          23.675805862979995,
          23.675805862979995,
          27.438371842536,
          27.438371842536,
          27.438371842536,
          27.438371842536,
          27.438371842536,
          27.438371842536,
          27.438371842536,
          27.438371842536,
          27.438371842536,
          27.438371842536,
          27.438371842536,
          27.438371842536,
          27.438371842536,
          27.438371842536,
          27.438371842536,
          29.25242191797,
          29.25242191797,
          29.25242191797,
          29.25242191797,
          29.25242191797,
          29.25242191797,
          29.25242191797,
          29.25242191797,
          29.25242191797,
          29.25242191797,
          29.25242191797,
          29.25242191797,
          29.25242191797,
          29.25242191797,
          29.25242191797,
          29.25242191797,
          29.25242191797,
          29.25242191797,
          29.25242191797,
          29.25242191797,
          29.25242191797,
          29.25242191797,
          29.25242191797,
          29.25242191797,
          29.25242191797,
          29.25242191797
         ],
         "yaxis": "y23"
        },
        {
         "alignmentgroup": "True",
         "hovertemplate": "over_capacity=False<br>asset_id=TB001<br>scenario=Accelerated Electrification<br>=%{x}<br>peak_consump=%{y}<extra></extra>",
         "legendgroup": "False",
         "marker": {
          "color": "green",
          "pattern": {
           "shape": ""
          }
         },
         "name": "Sufficient Capacity",
         "offsetgroup": "False",
         "orientation": "v",
         "showlegend": false,
         "textposition": "auto",
         "type": "bar",
         "x": [
          2020,
          2021,
          2022,
          2023,
          2024,
          2025,
          2026,
          2027,
          2028,
          2029,
          2030,
          2031,
          2032,
          2033,
          2034,
          2035,
          2036,
          2037,
          2038,
          2039
         ],
         "xaxis": "x24",
         "y": [
          23.675805862979995,
          23.675805862979995,
          23.675805862979995,
          23.675805862979995,
          23.675805862979995,
          64.29483124767599,
          64.29483124767599,
          64.29483124767599,
          64.29483124767599,
          64.29483124767599,
          64.29483124767599,
          64.29483124767599,
          64.29483124767599,
          64.29483124767599,
          64.29483124767599,
          64.29483124767599,
          64.29483124767599,
          64.29483124767599,
          64.29483124767599,
          64.29483124767599
         ],
         "yaxis": "y24"
        },
        {
         "alignmentgroup": "True",
         "hovertemplate": "over_capacity=False<br>asset_id=TB002<br>scenario=Continued Gas<br>=%{x}<br>peak_consump=%{y}<extra></extra>",
         "legendgroup": "False",
         "marker": {
          "color": "green",
          "pattern": {
           "shape": ""
          }
         },
         "name": "Sufficient Capacity",
         "offsetgroup": "False",
         "orientation": "v",
         "showlegend": false,
         "textposition": "auto",
         "type": "bar",
         "x": [
          2020,
          2021,
          2022,
          2023,
          2024,
          2025,
          2026,
          2027,
          2028,
          2029,
          2030,
          2031,
          2032,
          2033,
          2034,
          2035,
          2036,
          2037,
          2038,
          2039,
          2040,
          2041,
          2042,
          2043,
          2044,
          2045,
          2046,
          2047,
          2048,
          2049,
          2050,
          2051,
          2052,
          2053,
          2054,
          2055,
          2056,
          2057,
          2058,
          2059,
          2060,
          2061,
          2062,
          2063,
          2064,
          2065
         ],
         "xaxis": "x13",
         "y": [
          22.052420904559995,
          22.052420904559995,
          22.052420904559995,
          22.052420904559995,
          22.052420904559995,
          22.052420904559995,
          22.052420904559995,
          22.052420904559995,
          22.052420904559995,
          22.052420904559995,
          22.052420904559995,
          22.052420904559995,
          22.052420904559995,
          22.052420904559995,
          22.052420904559995,
          22.052420904559995,
          22.052420904559995,
          22.052420904559995,
          22.052420904559995,
          22.052420904559995,
          22.052420904559995,
          22.052420904559995,
          22.052420904559995,
          22.052420904559995,
          22.052420904559995,
          22.052420904559995,
          22.052420904559995,
          22.052420904559995,
          22.052420904559995,
          22.052420904559995,
          22.052420904559995,
          22.052420904559995,
          22.052420904559995,
          22.052420904559995,
          22.052420904559995,
          22.052420904559995,
          22.052420904559995,
          22.052420904559995,
          22.052420904559995,
          22.052420904559995,
          22.052420904559995,
          22.052420904559995,
          22.052420904559995,
          22.052420904559995,
          22.052420904559995,
          22.052420904559995
         ],
         "yaxis": "y13"
        },
        {
         "alignmentgroup": "True",
         "hovertemplate": "over_capacity=False<br>asset_id=TB002<br>scenario=Dual Fuel - Pipeline (EOL)<br>=%{x}<br>peak_consump=%{y}<extra></extra>",
         "legendgroup": "False",
         "marker": {
          "color": "green",
          "pattern": {
           "shape": ""
          }
         },
         "name": "Sufficient Capacity",
         "offsetgroup": "False",
         "orientation": "v",
         "showlegend": false,
         "textposition": "auto",
         "type": "bar",
         "x": [
          2020,
          2021,
          2022,
          2023,
          2024,
          2025,
          2026,
          2027,
          2028,
          2029,
          2030,
          2031,
          2032,
          2033,
          2034,
          2035,
          2036,
          2037,
          2038,
          2039,
          2040,
          2041,
          2042,
          2043,
          2044,
          2045,
          2046,
          2047,
          2048,
          2049,
          2050,
          2051,
          2052,
          2053,
          2054,
          2055,
          2056,
          2057,
          2058,
          2059,
          2060,
          2061,
          2062,
          2063,
          2064,
          2065
         ],
         "xaxis": "x14",
         "y": [
          22.052420904559995,
          22.052420904559995,
          22.052420904559995,
          22.052420904559995,
          22.052420904559995,
          22.052420904559995,
          22.052420904559995,
          22.302707701352496,
          22.302707701352496,
          22.302707701352496,
          22.302707701352496,
          22.302707701352496,
          22.302707701352496,
          22.302707701352496,
          22.302707701352496,
          22.302707701352496,
          22.90955460797,
          24.98320696296,
          24.98320696296,
          24.98320696296,
          24.98320696296,
          24.98320696296,
          24.98320696296,
          24.98320696296,
          24.98320696296,
          24.98320696296,
          24.98320696296,
          24.98320696296,
          27.223068094495,
          27.223068094495,
          27.223068094495,
          27.223068094495,
          27.223068094495,
          27.223068094495,
          27.223068094495,
          27.223068094495,
          27.223068094495,
          27.223068094495,
          27.223068094495,
          27.223068094495,
          27.223068094495,
          27.223068094495,
          27.223068094495,
          27.223068094495,
          27.223068094495,
          27.223068094495
         ],
         "yaxis": "y14"
        },
        {
         "alignmentgroup": "True",
         "hovertemplate": "over_capacity=False<br>asset_id=TB002<br>scenario=Dual Fuel - Pipeline (Accelerated)<br>=%{x}<br>peak_consump=%{y}<extra></extra>",
         "legendgroup": "False",
         "marker": {
          "color": "green",
          "pattern": {
           "shape": ""
          }
         },
         "name": "Sufficient Capacity",
         "offsetgroup": "False",
         "orientation": "v",
         "showlegend": false,
         "textposition": "auto",
         "type": "bar",
         "x": [
          2020,
          2021,
          2022,
          2023,
          2024,
          2025,
          2026,
          2027,
          2028,
          2029,
          2030,
          2031,
          2032,
          2033,
          2034,
          2035,
          2036,
          2037,
          2038,
          2039,
          2040,
          2041,
          2042,
          2043,
          2044,
          2045,
          2046,
          2047,
          2048,
          2049,
          2050,
          2051,
          2052,
          2053,
          2054,
          2055,
          2056,
          2057,
          2058,
          2059,
          2060,
          2061,
          2062,
          2063,
          2064,
          2065
         ],
         "xaxis": "x15",
         "y": [
          22.052420904559995,
          22.052420904559995,
          22.052420904559995,
          22.052420904559995,
          22.052420904559995,
          27.223068094495,
          27.223068094495,
          27.223068094495,
          27.223068094495,
          27.223068094495,
          27.223068094495,
          27.223068094495,
          27.223068094495,
          27.223068094495,
          27.223068094495,
          27.223068094495,
          27.223068094495,
          27.223068094495,
          27.223068094495,
          27.223068094495,
          27.223068094495,
          27.223068094495,
          27.223068094495,
          27.223068094495,
          27.223068094495,
          27.223068094495,
          27.223068094495,
          27.223068094495,
          27.223068094495,
          27.223068094495,
          27.223068094495,
          27.223068094495,
          27.223068094495,
          27.223068094495,
          27.223068094495,
          27.223068094495,
          27.223068094495,
          27.223068094495,
          27.223068094495,
          27.223068094495,
          27.223068094495,
          27.223068094495,
          27.223068094495,
          27.223068094495,
          27.223068094495,
          27.223068094495
         ],
         "yaxis": "y15"
        },
        {
         "alignmentgroup": "True",
         "hovertemplate": "over_capacity=False<br>asset_id=TB002<br>scenario=Unmanaged Electrification<br>=%{x}<br>peak_consump=%{y}<extra></extra>",
         "legendgroup": "False",
         "marker": {
          "color": "green",
          "pattern": {
           "shape": ""
          }
         },
         "name": "Sufficient Capacity",
         "offsetgroup": "False",
         "orientation": "v",
         "showlegend": false,
         "textposition": "auto",
         "type": "bar",
         "x": [
          2020,
          2021,
          2022,
          2023,
          2024,
          2025,
          2026,
          2027,
          2028,
          2029,
          2030,
          2031,
          2032,
          2033,
          2034,
          2035,
          2036,
          2037,
          2038,
          2039,
          2040,
          2041,
          2042,
          2043,
          2044,
          2045,
          2046,
          2047,
          2048,
          2049,
          2050,
          2051,
          2052,
          2053,
          2054,
          2055,
          2056,
          2057,
          2058,
          2059,
          2060,
          2061,
          2062,
          2063,
          2064,
          2065
         ],
         "xaxis": "x16",
         "y": [
          22.052420904559995,
          22.052420904559995,
          22.052420904559995,
          22.052420904559995,
          22.052420904559995,
          22.052420904559995,
          22.052420904559995,
          29.182310635405,
          29.182310635405,
          29.182310635405,
          29.182310635405,
          29.182310635405,
          29.182310635405,
          29.182310635405,
          29.182310635405,
          29.182310635405,
          42.398267176955,
          56.215428445455,
          56.215428445455,
          56.215428445455,
          56.215428445455,
          56.215428445455,
          56.215428445455,
          56.215428445455,
          56.215428445455,
          56.215428445455,
          56.215428445455,
          56.215428445455,
          74.385738130155,
          74.385738130155,
          74.385738130155,
          74.385738130155,
          74.385738130155,
          74.385738130155,
          74.385738130155,
          74.385738130155,
          74.385738130155,
          74.385738130155,
          74.385738130155,
          74.385738130155,
          74.385738130155,
          74.385738130155,
          74.385738130155,
          74.385738130155,
          74.385738130155,
          74.385738130155
         ],
         "yaxis": "y16"
        },
        {
         "alignmentgroup": "True",
         "hovertemplate": "over_capacity=False<br>asset_id=TB002<br>scenario=Dual Fuel (Tank)<br>=%{x}<br>peak_consump=%{y}<extra></extra>",
         "legendgroup": "False",
         "marker": {
          "color": "green",
          "pattern": {
           "shape": ""
          }
         },
         "name": "Sufficient Capacity",
         "offsetgroup": "False",
         "orientation": "v",
         "showlegend": false,
         "textposition": "auto",
         "type": "bar",
         "x": [
          2020,
          2021,
          2022,
          2023,
          2024,
          2025,
          2026,
          2027,
          2028,
          2029,
          2030,
          2031,
          2032,
          2033,
          2034,
          2035,
          2036,
          2037,
          2038,
          2039,
          2040,
          2041,
          2042,
          2043,
          2044,
          2045,
          2046,
          2047,
          2048,
          2049,
          2050,
          2051,
          2052,
          2053,
          2054,
          2055,
          2056,
          2057,
          2058,
          2059,
          2060,
          2061,
          2062,
          2063,
          2064,
          2065
         ],
         "xaxis": "x17",
         "y": [
          22.052420904559995,
          22.052420904559995,
          22.052420904559995,
          22.052420904559995,
          22.052420904559995,
          27.229857822755,
          27.229857822755,
          27.229857822755,
          27.229857822755,
          27.229857822755,
          27.229857822755,
          27.229857822755,
          27.229857822755,
          27.229857822755,
          27.229857822755,
          27.229857822755,
          27.229857822755,
          27.229857822755,
          27.229857822755,
          27.229857822755,
          27.229857822755,
          27.229857822755,
          27.229857822755,
          27.229857822755,
          27.229857822755,
          27.229857822755,
          27.229857822755,
          27.229857822755,
          27.229857822755,
          27.229857822755,
          27.229857822755,
          27.229857822755,
          27.229857822755,
          27.229857822755,
          27.229857822755,
          27.229857822755,
          27.229857822755,
          27.229857822755,
          27.229857822755,
          27.229857822755,
          27.229857822755,
          27.229857822755,
          27.229857822755,
          27.229857822755,
          27.229857822755,
          27.229857822755
         ],
         "yaxis": "y17"
        },
        {
         "alignmentgroup": "True",
         "hovertemplate": "over_capacity=False<br>asset_id=TB002<br>scenario=Accelerated Electrification<br>=%{x}<br>peak_consump=%{y}<extra></extra>",
         "legendgroup": "False",
         "marker": {
          "color": "green",
          "pattern": {
           "shape": ""
          }
         },
         "name": "Sufficient Capacity",
         "offsetgroup": "False",
         "orientation": "v",
         "showlegend": false,
         "textposition": "auto",
         "type": "bar",
         "x": [
          2020,
          2021,
          2022,
          2023,
          2024,
          2025,
          2026,
          2027,
          2028,
          2029,
          2030,
          2031,
          2032,
          2033,
          2034,
          2035,
          2036,
          2037,
          2038,
          2039,
          2040,
          2041,
          2042,
          2043,
          2044,
          2045,
          2046,
          2047,
          2048,
          2049,
          2050,
          2051,
          2052,
          2053,
          2054,
          2055,
          2056,
          2057,
          2058,
          2059,
          2060,
          2061,
          2062,
          2063,
          2064,
          2065
         ],
         "xaxis": "x18",
         "y": [
          22.052420904559995,
          22.052420904559995,
          22.052420904559995,
          22.052420904559995,
          22.052420904559995,
          74.385738130155,
          74.385738130155,
          74.385738130155,
          74.385738130155,
          74.385738130155,
          74.385738130155,
          74.385738130155,
          74.385738130155,
          74.385738130155,
          74.385738130155,
          74.385738130155,
          74.385738130155,
          74.385738130155,
          74.385738130155,
          74.385738130155,
          74.385738130155,
          74.385738130155,
          74.385738130155,
          74.385738130155,
          74.385738130155,
          74.385738130155,
          74.385738130155,
          74.385738130155,
          74.385738130155,
          74.385738130155,
          74.385738130155,
          74.385738130155,
          74.385738130155,
          74.385738130155,
          74.385738130155,
          74.385738130155,
          74.385738130155,
          74.385738130155,
          74.385738130155,
          74.385738130155,
          74.385738130155,
          74.385738130155,
          74.385738130155,
          74.385738130155,
          74.385738130155,
          74.385738130155
         ],
         "yaxis": "y18"
        },
        {
         "alignmentgroup": "True",
         "hovertemplate": "over_capacity=False<br>asset_id=TB003<br>scenario=Continued Gas<br>=%{x}<br>peak_consump=%{y}<extra></extra>",
         "legendgroup": "False",
         "marker": {
          "color": "green",
          "pattern": {
           "shape": ""
          }
         },
         "name": "Sufficient Capacity",
         "offsetgroup": "False",
         "orientation": "v",
         "showlegend": false,
         "textposition": "auto",
         "type": "bar",
         "x": [
          2020,
          2021,
          2022,
          2023,
          2024,
          2025,
          2026,
          2027,
          2028,
          2029,
          2030,
          2031,
          2032,
          2033,
          2034,
          2035,
          2036,
          2037,
          2038,
          2039,
          2040,
          2041,
          2042,
          2043,
          2044,
          2045,
          2046,
          2047,
          2048,
          2049,
          2050,
          2051,
          2052,
          2053,
          2054,
          2055,
          2056,
          2057,
          2058,
          2059,
          2060,
          2061,
          2062,
          2063,
          2064,
          2065
         ],
         "xaxis": "x7",
         "y": [
          18.963890238778,
          18.963890238778,
          18.963890238778,
          18.963890238778,
          18.963890238778,
          18.963890238778,
          18.963890238778,
          18.963890238778,
          18.963890238778,
          18.963890238778,
          18.963890238778,
          18.963890238778,
          18.963890238778,
          18.963890238778,
          18.963890238778,
          18.963890238778,
          18.963890238778,
          18.963890238778,
          18.963890238778,
          18.963890238778,
          18.963890238778,
          18.963890238778,
          18.963890238778,
          18.963890238778,
          18.963890238778,
          18.963890238778,
          18.963890238778,
          18.963890238778,
          18.963890238778,
          18.963890238778,
          18.963890238778,
          18.963890238778,
          18.963890238778,
          18.963890238778,
          18.963890238778,
          18.963890238778,
          18.963890238778,
          18.963890238778,
          18.963890238778,
          18.963890238778,
          18.963890238778,
          18.963890238778,
          18.963890238778,
          18.963890238778,
          18.963890238778,
          18.963890238778
         ],
         "yaxis": "y7"
        },
        {
         "alignmentgroup": "True",
         "hovertemplate": "over_capacity=False<br>asset_id=TB003<br>scenario=Dual Fuel - Pipeline (EOL)<br>=%{x}<br>peak_consump=%{y}<extra></extra>",
         "legendgroup": "False",
         "marker": {
          "color": "green",
          "pattern": {
           "shape": ""
          }
         },
         "name": "Sufficient Capacity",
         "offsetgroup": "False",
         "orientation": "v",
         "showlegend": false,
         "textposition": "auto",
         "type": "bar",
         "x": [
          2020,
          2021,
          2022,
          2023,
          2024,
          2025,
          2026,
          2027,
          2028,
          2029,
          2030,
          2031,
          2032,
          2033,
          2034,
          2035,
          2036,
          2037,
          2038,
          2039,
          2040,
          2041,
          2042,
          2043,
          2044,
          2045,
          2046,
          2047,
          2048,
          2049,
          2050,
          2051,
          2052,
          2053,
          2054,
          2055,
          2056,
          2057,
          2058,
          2059,
          2060,
          2061,
          2062,
          2063,
          2064,
          2065
         ],
         "xaxis": "x8",
         "y": [
          18.963890238778,
          18.963890238778,
          18.963890238778,
          18.963890238778,
          18.963890238778,
          18.963890238778,
          18.963890238778,
          18.963890238778,
          19.210556686533,
          19.210556686533,
          19.210556686533,
          19.210556686533,
          19.210556686533,
          19.210556686533,
          19.210556686533,
          19.830164415734,
          19.830164415734,
          19.830164415734,
          19.830164415734,
          19.830164415734,
          19.830164415734,
          21.186744620487,
          21.186744620487,
          23.425022811293,
          23.425022811293,
          23.425022811293,
          23.425022811293,
          23.425022811293,
          23.425022811293,
          23.425022811293,
          23.425022811293,
          23.425022811293,
          23.425022811293,
          23.425022811293,
          23.425022811293,
          23.425022811293,
          23.425022811293,
          23.425022811293,
          23.425022811293,
          23.425022811293,
          23.425022811293,
          23.425022811293,
          23.425022811293,
          23.425022811293,
          23.425022811293,
          23.425022811293
         ],
         "yaxis": "y8"
        },
        {
         "alignmentgroup": "True",
         "hovertemplate": "over_capacity=False<br>asset_id=TB003<br>scenario=Dual Fuel - Pipeline (Accelerated)<br>=%{x}<br>peak_consump=%{y}<extra></extra>",
         "legendgroup": "False",
         "marker": {
          "color": "green",
          "pattern": {
           "shape": ""
          }
         },
         "name": "Sufficient Capacity",
         "offsetgroup": "False",
         "orientation": "v",
         "showlegend": false,
         "textposition": "auto",
         "type": "bar",
         "x": [
          2020,
          2021,
          2022,
          2023,
          2024,
          2025,
          2026,
          2027,
          2028,
          2029,
          2030,
          2031,
          2032,
          2033,
          2034,
          2035,
          2036,
          2037,
          2038,
          2039,
          2040,
          2041,
          2042,
          2043,
          2044,
          2045,
          2046,
          2047,
          2048,
          2049,
          2050,
          2051,
          2052,
          2053,
          2054,
          2055,
          2056,
          2057,
          2058,
          2059,
          2060,
          2061,
          2062,
          2063,
          2064,
          2065
         ],
         "xaxis": "x9",
         "y": [
          18.963890238778,
          18.963890238778,
          18.963890238778,
          18.963890238778,
          18.963890238778,
          22.06844260654,
          22.06844260654,
          22.06844260654,
          22.06844260654,
          22.06844260654,
          22.06844260654,
          22.06844260654,
          22.06844260654,
          22.06844260654,
          22.06844260654,
          22.06844260654,
          22.06844260654,
          22.06844260654,
          22.06844260654,
          22.06844260654,
          22.06844260654,
          23.425022811293,
          23.425022811293,
          23.425022811293,
          23.425022811293,
          23.425022811293,
          23.425022811293,
          23.425022811293,
          23.425022811293,
          23.425022811293,
          23.425022811293,
          23.425022811293,
          23.425022811293,
          23.425022811293,
          23.425022811293,
          23.425022811293,
          23.425022811293,
          23.425022811293,
          23.425022811293,
          23.425022811293,
          23.425022811293,
          23.425022811293,
          23.425022811293,
          23.425022811293,
          23.425022811293,
          23.425022811293
         ],
         "yaxis": "y9"
        },
        {
         "alignmentgroup": "True",
         "hovertemplate": "over_capacity=False<br>asset_id=TB003<br>scenario=Unmanaged Electrification<br>=%{x}<br>peak_consump=%{y}<extra></extra>",
         "legendgroup": "False",
         "marker": {
          "color": "green",
          "pattern": {
           "shape": ""
          }
         },
         "name": "Sufficient Capacity",
         "offsetgroup": "False",
         "orientation": "v",
         "showlegend": false,
         "textposition": "auto",
         "type": "bar",
         "x": [
          2020,
          2021,
          2022,
          2023,
          2024,
          2025,
          2026,
          2027,
          2028,
          2029,
          2030,
          2031,
          2032,
          2033,
          2034,
          2035,
          2036,
          2037,
          2038,
          2039,
          2040,
          2041,
          2042,
          2043,
          2044,
          2045,
          2046,
          2047,
          2048,
          2049,
          2050,
          2051,
          2052,
          2053,
          2054,
          2055,
          2056,
          2057,
          2058,
          2059,
          2060,
          2061,
          2062,
          2063,
          2064,
          2065
         ],
         "xaxis": "x10",
         "y": [
          18.963890238778,
          18.963890238778,
          18.963890238778,
          18.963890238778,
          18.963890238778,
          18.963890238778,
          18.963890238778,
          18.963890238778,
          26.489919916565995,
          26.489919916565995,
          26.489919916565995,
          26.489919916565995,
          26.489919916565995,
          26.489919916565995,
          26.489919916565995,
          37.227225390866,
          37.227225390866,
          37.227225390866,
          37.227225390866,
          37.227225390866,
          37.227225390866,
          46.239413431717,
          46.239413431717,
          63.943552757547,
          63.943552757547,
          63.943552757547,
          63.943552757547,
          63.943552757547,
          63.943552757547,
          63.943552757547,
          63.943552757547,
          63.943552757547,
          63.943552757547,
          63.943552757547,
          63.943552757547,
          63.943552757547,
          63.943552757547,
          63.943552757547,
          63.943552757547,
          63.943552757547,
          63.943552757547,
          63.943552757547,
          63.943552757547,
          63.943552757547,
          63.943552757547,
          63.943552757547
         ],
         "yaxis": "y10"
        },
        {
         "alignmentgroup": "True",
         "hovertemplate": "over_capacity=False<br>asset_id=TB003<br>scenario=Dual Fuel (Tank)<br>=%{x}<br>peak_consump=%{y}<extra></extra>",
         "legendgroup": "False",
         "marker": {
          "color": "green",
          "pattern": {
           "shape": ""
          }
         },
         "name": "Sufficient Capacity",
         "offsetgroup": "False",
         "orientation": "v",
         "showlegend": false,
         "textposition": "auto",
         "type": "bar",
         "x": [
          2020,
          2021,
          2022,
          2023,
          2024,
          2025,
          2026,
          2027,
          2028,
          2029,
          2030,
          2031,
          2032,
          2033,
          2034,
          2035,
          2036,
          2037,
          2038,
          2039,
          2040,
          2041,
          2042,
          2043,
          2044,
          2045,
          2046,
          2047,
          2048,
          2049,
          2050,
          2051,
          2052,
          2053,
          2054,
          2055,
          2056,
          2057,
          2058,
          2059,
          2060,
          2061,
          2062,
          2063,
          2064,
          2065
         ],
         "xaxis": "x11",
         "y": [
          18.963890238778,
          18.963890238778,
          18.963890238778,
          18.963890238778,
          18.963890238778,
          22.073118921876,
          22.073118921876,
          22.073118921876,
          22.073118921876,
          22.073118921876,
          22.073118921876,
          22.073118921876,
          22.073118921876,
          22.073118921876,
          22.073118921876,
          22.073118921876,
          22.073118921876,
          22.073118921876,
          22.073118921876,
          22.073118921876,
          22.073118921876,
          23.429699126629004,
          23.429699126629004,
          23.429699126629004,
          23.429699126629004,
          23.429699126629004,
          23.429699126629004,
          23.429699126629004,
          23.429699126629004,
          23.429699126629004,
          23.429699126629004,
          23.429699126629004,
          23.429699126629004,
          23.429699126629004,
          23.429699126629004,
          23.429699126629004,
          23.429699126629004,
          23.429699126629004,
          23.429699126629004,
          23.429699126629004,
          23.429699126629004,
          23.429699126629004,
          23.429699126629004,
          23.429699126629004,
          23.429699126629004,
          23.429699126629004
         ],
         "yaxis": "y11"
        },
        {
         "alignmentgroup": "True",
         "hovertemplate": "over_capacity=False<br>asset_id=TB003<br>scenario=Accelerated Electrification<br>=%{x}<br>peak_consump=%{y}<extra></extra>",
         "legendgroup": "False",
         "marker": {
          "color": "green",
          "pattern": {
           "shape": ""
          }
         },
         "name": "Sufficient Capacity",
         "offsetgroup": "False",
         "orientation": "v",
         "showlegend": false,
         "textposition": "auto",
         "type": "bar",
         "x": [
          2020,
          2021,
          2022,
          2023,
          2024,
          2025,
          2026,
          2027,
          2028,
          2029,
          2030,
          2031,
          2032,
          2033,
          2034,
          2035,
          2036,
          2037,
          2038,
          2039,
          2040,
          2041,
          2042,
          2043,
          2044,
          2045,
          2046,
          2047,
          2048,
          2049,
          2050,
          2051,
          2052,
          2053,
          2054,
          2055,
          2056,
          2057,
          2058,
          2059,
          2060,
          2061,
          2062,
          2063,
          2064,
          2065
         ],
         "xaxis": "x12",
         "y": [
          18.963890238778,
          18.963890238778,
          18.963890238778,
          18.963890238778,
          18.963890238778,
          52.212877489141,
          52.212877489141,
          52.212877489141,
          52.212877489141,
          52.212877489141,
          52.212877489141,
          52.212877489141,
          52.212877489141,
          52.212877489141,
          52.212877489141,
          52.212877489141,
          52.212877489141,
          52.212877489141,
          52.212877489141,
          52.212877489141,
          52.212877489141,
          63.943552757547,
          63.943552757547,
          63.943552757547,
          63.943552757547,
          63.943552757547,
          63.943552757547,
          63.943552757547,
          63.943552757547,
          63.943552757547,
          63.943552757547,
          63.943552757547,
          63.943552757547,
          63.943552757547,
          63.943552757547,
          63.943552757547,
          63.943552757547,
          63.943552757547,
          63.943552757547,
          63.943552757547,
          63.943552757547,
          63.943552757547,
          63.943552757547,
          63.943552757547,
          63.943552757547,
          63.943552757547
         ],
         "yaxis": "y12"
        },
        {
         "alignmentgroup": "True",
         "hovertemplate": "over_capacity=False<br>asset_id=TB004<br>scenario=Continued Gas<br>=%{x}<br>peak_consump=%{y}<extra></extra>",
         "legendgroup": "False",
         "marker": {
          "color": "green",
          "pattern": {
           "shape": ""
          }
         },
         "name": "Sufficient Capacity",
         "offsetgroup": "False",
         "orientation": "v",
         "showlegend": false,
         "textposition": "auto",
         "type": "bar",
         "x": [
          2020,
          2021,
          2022,
          2023,
          2024,
          2025,
          2026,
          2027,
          2028,
          2029,
          2030,
          2031,
          2032,
          2033,
          2034,
          2035,
          2036,
          2037,
          2038,
          2039,
          2040,
          2041,
          2042,
          2043,
          2044,
          2045,
          2046,
          2047,
          2048,
          2049,
          2050,
          2051,
          2052,
          2053,
          2054,
          2055,
          2056,
          2057,
          2058,
          2059,
          2060,
          2061,
          2062,
          2063,
          2064,
          2065
         ],
         "xaxis": "x",
         "y": [
          21.247716412928,
          21.247716412928,
          21.247716412928,
          21.247716412928,
          21.247716412928,
          21.247716412928,
          21.247716412928,
          21.247716412928,
          21.247716412928,
          21.247716412928,
          21.247716412928,
          21.247716412928,
          21.247716412928,
          21.247716412928,
          21.247716412928,
          21.247716412928,
          21.247716412928,
          21.247716412928,
          21.247716412928,
          21.247716412928,
          21.247716412928,
          21.247716412928,
          21.247716412928,
          21.247716412928,
          21.247716412928,
          21.247716412928,
          21.247716412928,
          21.247716412928,
          21.247716412928,
          21.247716412928,
          21.247716412928,
          21.247716412928,
          21.247716412928,
          21.247716412928,
          21.247716412928,
          21.247716412928,
          21.247716412928,
          21.247716412928,
          21.247716412928,
          21.247716412928,
          21.247716412928,
          21.247716412928,
          21.247716412928,
          21.247716412928,
          21.247716412928,
          21.247716412928
         ],
         "yaxis": "y"
        },
        {
         "alignmentgroup": "True",
         "hovertemplate": "over_capacity=False<br>asset_id=TB004<br>scenario=Dual Fuel - Pipeline (EOL)<br>=%{x}<br>peak_consump=%{y}<extra></extra>",
         "legendgroup": "False",
         "marker": {
          "color": "green",
          "pattern": {
           "shape": ""
          }
         },
         "name": "Sufficient Capacity",
         "offsetgroup": "False",
         "orientation": "v",
         "showlegend": false,
         "textposition": "auto",
         "type": "bar",
         "x": [
          2020,
          2021,
          2022,
          2023,
          2024,
          2025,
          2026,
          2027,
          2028,
          2029,
          2030,
          2031,
          2032,
          2033,
          2034,
          2035,
          2036,
          2037,
          2038,
          2039,
          2040,
          2041,
          2042,
          2043,
          2044,
          2045,
          2046,
          2047,
          2048,
          2049,
          2050,
          2051,
          2052,
          2053,
          2054,
          2055,
          2056,
          2057,
          2058,
          2059,
          2060,
          2061,
          2062,
          2063,
          2064,
          2065
         ],
         "xaxis": "x2",
         "y": [
          21.247716412928,
          21.247716412928,
          21.247716412928,
          21.247716412928,
          21.247716412928,
          21.247716412928,
          21.247716412928,
          21.247716412928,
          21.247716412928,
          21.247716412928,
          21.247716412928,
          21.247716412928,
          21.4970377833105,
          21.4970377833105,
          21.4970377833105,
          21.4970377833105,
          21.4970377833105,
          22.615830270349,
          22.615830270349,
          22.615830270349,
          22.615830270349,
          22.615830270349,
          24.417216819951,
          26.229683954656,
          26.229683954656,
          26.229683954656,
          26.229683954656,
          26.229683954656,
          26.229683954656,
          26.229683954656,
          26.229683954656,
          26.229683954656,
          26.229683954656,
          26.229683954656,
          26.229683954656,
          26.229683954656,
          26.229683954656,
          26.229683954656,
          26.229683954656,
          26.229683954656,
          26.229683954656,
          26.229683954656,
          26.229683954656,
          26.229683954656,
          26.229683954656,
          26.229683954656
         ],
         "yaxis": "y2"
        },
        {
         "alignmentgroup": "True",
         "hovertemplate": "over_capacity=False<br>asset_id=TB004<br>scenario=Dual Fuel - Pipeline (Accelerated)<br>=%{x}<br>peak_consump=%{y}<extra></extra>",
         "legendgroup": "False",
         "marker": {
          "color": "green",
          "pattern": {
           "shape": ""
          }
         },
         "name": "Sufficient Capacity",
         "offsetgroup": "False",
         "orientation": "v",
         "showlegend": false,
         "textposition": "auto",
         "type": "bar",
         "x": [
          2020,
          2021,
          2022,
          2023,
          2024,
          2025,
          2026,
          2027,
          2028,
          2029,
          2030,
          2031,
          2032,
          2033,
          2034,
          2035,
          2036,
          2037,
          2038,
          2039,
          2040,
          2041,
          2042,
          2043,
          2044,
          2045,
          2046,
          2047,
          2048,
          2049,
          2050,
          2051,
          2052,
          2053,
          2054,
          2055,
          2056,
          2057,
          2058,
          2059,
          2060,
          2061,
          2062,
          2063,
          2064,
          2065
         ],
         "xaxis": "x3",
         "y": [
          21.247716412928,
          21.247716412928,
          21.247716412928,
          21.247716412928,
          21.247716412928,
          26.229683954656,
          26.229683954656,
          26.229683954656,
          26.229683954656,
          26.229683954656,
          26.229683954656,
          26.229683954656,
          26.229683954656,
          26.229683954656,
          26.229683954656,
          26.229683954656,
          26.229683954656,
          26.229683954656,
          26.229683954656,
          26.229683954656,
          26.229683954656,
          26.229683954656,
          26.229683954656,
          26.229683954656,
          26.229683954656,
          26.229683954656,
          26.229683954656,
          26.229683954656,
          26.229683954656,
          26.229683954656,
          26.229683954656,
          26.229683954656,
          26.229683954656,
          26.229683954656,
          26.229683954656,
          26.229683954656,
          26.229683954656,
          26.229683954656,
          26.229683954656,
          26.229683954656,
          26.229683954656,
          26.229683954656,
          26.229683954656,
          26.229683954656,
          26.229683954656,
          26.229683954656
         ],
         "yaxis": "y3"
        },
        {
         "alignmentgroup": "True",
         "hovertemplate": "over_capacity=False<br>asset_id=TB004<br>scenario=Unmanaged Electrification<br>=%{x}<br>peak_consump=%{y}<extra></extra>",
         "legendgroup": "False",
         "marker": {
          "color": "green",
          "pattern": {
           "shape": ""
          }
         },
         "name": "Sufficient Capacity",
         "offsetgroup": "False",
         "orientation": "v",
         "showlegend": false,
         "textposition": "auto",
         "type": "bar",
         "x": [
          2020,
          2021,
          2022,
          2023,
          2024,
          2025,
          2026,
          2027,
          2028,
          2029,
          2030,
          2031,
          2032,
          2033,
          2034,
          2035,
          2036,
          2037,
          2038,
          2039,
          2040,
          2041,
          2042,
          2043,
          2044,
          2045,
          2046,
          2047,
          2048,
          2049,
          2050,
          2051,
          2052,
          2053,
          2054,
          2055,
          2056,
          2057,
          2058,
          2059,
          2060,
          2061,
          2062,
          2063,
          2064,
          2065
         ],
         "xaxis": "x4",
         "y": [
          21.247716412928,
          21.247716412928,
          21.247716412928,
          21.247716412928,
          21.247716412928,
          21.247716412928,
          21.247716412928,
          21.247716412928,
          21.247716412928,
          21.247716412928,
          21.247716412928,
          21.247716412928,
          28.474365604454,
          28.474365604454,
          28.474365604454,
          28.474365604454,
          28.474365604454,
          44.464301851054,
          44.464301851054,
          44.464301851054,
          44.464301851054,
          44.464301851054,
          56.46730148735399,
          71.671363239264,
          71.671363239264,
          71.671363239264,
          71.671363239264,
          71.671363239264,
          71.671363239264,
          71.671363239264,
          71.671363239264,
          71.671363239264,
          71.671363239264,
          71.671363239264,
          71.671363239264,
          71.671363239264,
          71.671363239264,
          71.671363239264,
          71.671363239264,
          71.671363239264,
          71.671363239264,
          71.671363239264,
          71.671363239264,
          71.671363239264,
          71.671363239264,
          71.671363239264
         ],
         "yaxis": "y4"
        },
        {
         "alignmentgroup": "True",
         "hovertemplate": "over_capacity=False<br>asset_id=TB004<br>scenario=Dual Fuel (Tank)<br>=%{x}<br>peak_consump=%{y}<extra></extra>",
         "legendgroup": "False",
         "marker": {
          "color": "green",
          "pattern": {
           "shape": ""
          }
         },
         "name": "Sufficient Capacity",
         "offsetgroup": "False",
         "orientation": "v",
         "showlegend": false,
         "textposition": "auto",
         "type": "bar",
         "x": [
          2020,
          2021,
          2022,
          2023,
          2024,
          2025,
          2026,
          2027,
          2028,
          2029,
          2030,
          2031,
          2032,
          2033,
          2034,
          2035,
          2036,
          2037,
          2038,
          2039,
          2040,
          2041,
          2042,
          2043,
          2044,
          2045,
          2046,
          2047,
          2048,
          2049,
          2050,
          2051,
          2052,
          2053,
          2054,
          2055,
          2056,
          2057,
          2058,
          2059,
          2060,
          2061,
          2062,
          2063,
          2064,
          2065
         ],
         "xaxis": "x5",
         "y": [
          21.247716412928,
          21.247716412928,
          21.247716412928,
          21.247716412928,
          21.247716412928,
          26.236225922144,
          26.236225922144,
          26.236225922144,
          26.236225922144,
          26.236225922144,
          26.236225922144,
          26.236225922144,
          26.236225922144,
          26.236225922144,
          26.236225922144,
          26.236225922144,
          26.236225922144,
          26.236225922144,
          26.236225922144,
          26.236225922144,
          26.236225922144,
          26.236225922144,
          26.236225922144,
          26.236225922144,
          26.236225922144,
          26.236225922144,
          26.236225922144,
          26.236225922144,
          26.236225922144,
          26.236225922144,
          26.236225922144,
          26.236225922144,
          26.236225922144,
          26.236225922144,
          26.236225922144,
          26.236225922144,
          26.236225922144,
          26.236225922144,
          26.236225922144,
          26.236225922144,
          26.236225922144,
          26.236225922144,
          26.236225922144,
          26.236225922144,
          26.236225922144,
          26.236225922144
         ],
         "yaxis": "y5"
        },
        {
         "alignmentgroup": "True",
         "hovertemplate": "over_capacity=False<br>asset_id=TB004<br>scenario=Accelerated Electrification<br>=%{x}<br>peak_consump=%{y}<extra></extra>",
         "legendgroup": "False",
         "marker": {
          "color": "green",
          "pattern": {
           "shape": ""
          }
         },
         "name": "Sufficient Capacity",
         "offsetgroup": "False",
         "orientation": "v",
         "showlegend": false,
         "textposition": "auto",
         "type": "bar",
         "x": [
          2020,
          2021,
          2022,
          2023,
          2024,
          2025,
          2026,
          2027,
          2028,
          2029,
          2030,
          2031,
          2032,
          2033,
          2034,
          2035,
          2036,
          2037,
          2038,
          2039,
          2040,
          2041,
          2042,
          2043,
          2044,
          2045,
          2046,
          2047,
          2048,
          2049,
          2050,
          2051,
          2052,
          2053,
          2054,
          2055,
          2056,
          2057,
          2058,
          2059,
          2060,
          2061,
          2062,
          2063,
          2064,
          2065
         ],
         "xaxis": "x6",
         "y": [
          21.247716412928,
          21.247716412928,
          21.247716412928,
          21.247716412928,
          21.247716412928,
          71.671363239264,
          71.671363239264,
          71.671363239264,
          71.671363239264,
          71.671363239264,
          71.671363239264,
          71.671363239264,
          71.671363239264,
          71.671363239264,
          71.671363239264,
          71.671363239264,
          71.671363239264,
          71.671363239264,
          71.671363239264,
          71.671363239264,
          71.671363239264,
          71.671363239264,
          71.671363239264,
          71.671363239264,
          71.671363239264,
          71.671363239264,
          71.671363239264,
          71.671363239264,
          71.671363239264,
          71.671363239264,
          71.671363239264,
          71.671363239264,
          71.671363239264,
          71.671363239264,
          71.671363239264,
          71.671363239264,
          71.671363239264,
          71.671363239264,
          71.671363239264,
          71.671363239264,
          71.671363239264,
          71.671363239264,
          71.671363239264,
          71.671363239264,
          71.671363239264,
          71.671363239264
         ],
         "yaxis": "y6"
        },
        {
         "alignmentgroup": "True",
         "hovertemplate": "over_capacity=True<br>asset_id=TB001<br>scenario=Unmanaged Electrification<br>=%{x}<br>peak_consump=%{y}<extra></extra>",
         "legendgroup": "True",
         "marker": {
          "color": "red",
          "pattern": {
           "shape": ""
          }
         },
         "name": "Overloaded",
         "offsetgroup": "True",
         "orientation": "v",
         "showlegend": true,
         "textposition": "auto",
         "type": "bar",
         "x": [
          2048,
          2049,
          2050,
          2051,
          2052,
          2053,
          2054,
          2055,
          2056,
          2057,
          2058,
          2059,
          2060,
          2061,
          2062,
          2063,
          2064,
          2065
         ],
         "xaxis": "x22",
         "y": [
          79.829320561614,
          79.829320561614,
          79.829320561614,
          79.829320561614,
          79.829320561614,
          79.829320561614,
          79.829320561614,
          79.829320561614,
          79.829320561614,
          79.829320561614,
          79.829320561614,
          79.829320561614,
          79.829320561614,
          79.829320561614,
          79.829320561614,
          79.829320561614,
          79.829320561614,
          79.829320561614
         ],
         "yaxis": "y22"
        },
        {
         "alignmentgroup": "True",
         "hovertemplate": "over_capacity=True<br>asset_id=TB001<br>scenario=Accelerated Electrification<br>=%{x}<br>peak_consump=%{y}<extra></extra>",
         "legendgroup": "True",
         "marker": {
          "color": "red",
          "pattern": {
           "shape": ""
          }
         },
         "name": "Overloaded",
         "offsetgroup": "True",
         "orientation": "v",
         "showlegend": false,
         "textposition": "auto",
         "type": "bar",
         "x": [
          2040,
          2041,
          2042,
          2043,
          2044,
          2045,
          2046,
          2047,
          2048,
          2049,
          2050,
          2051,
          2052,
          2053,
          2054,
          2055,
          2056,
          2057,
          2058,
          2059,
          2060,
          2061,
          2062,
          2063,
          2064,
          2065
         ],
         "xaxis": "x24",
         "y": [
          79.829320561614,
          79.829320561614,
          79.829320561614,
          79.829320561614,
          79.829320561614,
          79.829320561614,
          79.829320561614,
          79.829320561614,
          79.829320561614,
          79.829320561614,
          79.829320561614,
          79.829320561614,
          79.829320561614,
          79.829320561614,
          79.829320561614,
          79.829320561614,
          79.829320561614,
          79.829320561614,
          79.829320561614,
          79.829320561614,
          79.829320561614,
          79.829320561614,
          79.829320561614,
          79.829320561614,
          79.829320561614,
          79.829320561614
         ],
         "yaxis": "y24"
        }
       ],
       "layout": {
        "annotations": [
         {
          "font": {},
          "showarrow": false,
          "text": "Continued Gas",
          "x": 0.07749999999999999,
          "xanchor": "center",
          "xref": "paper",
          "y": 1,
          "yanchor": "bottom",
          "yref": "paper"
         },
         {
          "font": {},
          "showarrow": false,
          "text": "Dual Fuel - Pipeline (EOL)",
          "x": 0.24249999999999997,
          "xanchor": "center",
          "xref": "paper",
          "y": 1,
          "yanchor": "bottom",
          "yref": "paper"
         },
         {
          "font": {},
          "showarrow": false,
          "text": "Dual Fuel - Pipeline (Accelerated)",
          "x": 0.4075,
          "xanchor": "center",
          "xref": "paper",
          "y": 1,
          "yanchor": "bottom",
          "yref": "paper"
         },
         {
          "font": {},
          "showarrow": false,
          "text": "Unmanaged Electrification",
          "x": 0.5724999999999999,
          "xanchor": "center",
          "xref": "paper",
          "y": 1,
          "yanchor": "bottom",
          "yref": "paper"
         },
         {
          "font": {},
          "showarrow": false,
          "text": "Dual Fuel (Tank)",
          "x": 0.7374999999999999,
          "xanchor": "center",
          "xref": "paper",
          "y": 1,
          "yanchor": "bottom",
          "yref": "paper"
         },
         {
          "font": {},
          "showarrow": false,
          "text": "Accelerated Electrification",
          "x": 0.9025,
          "xanchor": "center",
          "xref": "paper",
          "y": 1,
          "yanchor": "bottom",
          "yref": "paper"
         },
         {
          "font": {},
          "showarrow": false,
          "text": "TB004",
          "textangle": 90,
          "x": 0.98,
          "xanchor": "left",
          "xref": "paper",
          "y": 0.11375,
          "yanchor": "middle",
          "yref": "paper"
         },
         {
          "font": {},
          "showarrow": false,
          "text": "TB003",
          "textangle": 90,
          "x": 0.98,
          "xanchor": "left",
          "xref": "paper",
          "y": 0.37124999999999997,
          "yanchor": "middle",
          "yref": "paper"
         },
         {
          "font": {},
          "showarrow": false,
          "text": "TB002",
          "textangle": 90,
          "x": 0.98,
          "xanchor": "left",
          "xref": "paper",
          "y": 0.62875,
          "yanchor": "middle",
          "yref": "paper"
         },
         {
          "font": {},
          "showarrow": false,
          "text": "TB001",
          "textangle": 90,
          "x": 0.98,
          "xanchor": "left",
          "xref": "paper",
          "y": 0.88625,
          "yanchor": "middle",
          "yref": "paper"
         }
        ],
        "bargap": 0,
        "barmode": "stack",
        "legend": {
         "title": {
          "text": ""
         },
         "tracegroupgap": 0,
         "x": 0.01,
         "y": 0.995
        },
        "margin": {
         "t": 60
        },
        "plot_bgcolor": "#f5f5f5",
        "template": {
         "data": {
          "bar": [
           {
            "error_x": {
             "color": "#2a3f5f"
            },
            "error_y": {
             "color": "#2a3f5f"
            },
            "marker": {
             "line": {
              "color": "#E5ECF6",
              "width": 0.5
             },
             "pattern": {
              "fillmode": "overlay",
              "size": 10,
              "solidity": 0.2
             }
            },
            "type": "bar"
           }
          ],
          "barpolar": [
           {
            "marker": {
             "line": {
              "color": "#E5ECF6",
              "width": 0.5
             },
             "pattern": {
              "fillmode": "overlay",
              "size": 10,
              "solidity": 0.2
             }
            },
            "type": "barpolar"
           }
          ],
          "carpet": [
           {
            "aaxis": {
             "endlinecolor": "#2a3f5f",
             "gridcolor": "white",
             "linecolor": "white",
             "minorgridcolor": "white",
             "startlinecolor": "#2a3f5f"
            },
            "baxis": {
             "endlinecolor": "#2a3f5f",
             "gridcolor": "white",
             "linecolor": "white",
             "minorgridcolor": "white",
             "startlinecolor": "#2a3f5f"
            },
            "type": "carpet"
           }
          ],
          "choropleth": [
           {
            "colorbar": {
             "outlinewidth": 0,
             "ticks": ""
            },
            "type": "choropleth"
           }
          ],
          "contour": [
           {
            "colorbar": {
             "outlinewidth": 0,
             "ticks": ""
            },
            "colorscale": [
             [
              0,
              "#0d0887"
             ],
             [
              0.1111111111111111,
              "#46039f"
             ],
             [
              0.2222222222222222,
              "#7201a8"
             ],
             [
              0.3333333333333333,
              "#9c179e"
             ],
             [
              0.4444444444444444,
              "#bd3786"
             ],
             [
              0.5555555555555556,
              "#d8576b"
             ],
             [
              0.6666666666666666,
              "#ed7953"
             ],
             [
              0.7777777777777778,
              "#fb9f3a"
             ],
             [
              0.8888888888888888,
              "#fdca26"
             ],
             [
              1,
              "#f0f921"
             ]
            ],
            "type": "contour"
           }
          ],
          "contourcarpet": [
           {
            "colorbar": {
             "outlinewidth": 0,
             "ticks": ""
            },
            "type": "contourcarpet"
           }
          ],
          "heatmap": [
           {
            "colorbar": {
             "outlinewidth": 0,
             "ticks": ""
            },
            "colorscale": [
             [
              0,
              "#0d0887"
             ],
             [
              0.1111111111111111,
              "#46039f"
             ],
             [
              0.2222222222222222,
              "#7201a8"
             ],
             [
              0.3333333333333333,
              "#9c179e"
             ],
             [
              0.4444444444444444,
              "#bd3786"
             ],
             [
              0.5555555555555556,
              "#d8576b"
             ],
             [
              0.6666666666666666,
              "#ed7953"
             ],
             [
              0.7777777777777778,
              "#fb9f3a"
             ],
             [
              0.8888888888888888,
              "#fdca26"
             ],
             [
              1,
              "#f0f921"
             ]
            ],
            "type": "heatmap"
           }
          ],
          "heatmapgl": [
           {
            "colorbar": {
             "outlinewidth": 0,
             "ticks": ""
            },
            "colorscale": [
             [
              0,
              "#0d0887"
             ],
             [
              0.1111111111111111,
              "#46039f"
             ],
             [
              0.2222222222222222,
              "#7201a8"
             ],
             [
              0.3333333333333333,
              "#9c179e"
             ],
             [
              0.4444444444444444,
              "#bd3786"
             ],
             [
              0.5555555555555556,
              "#d8576b"
             ],
             [
              0.6666666666666666,
              "#ed7953"
             ],
             [
              0.7777777777777778,
              "#fb9f3a"
             ],
             [
              0.8888888888888888,
              "#fdca26"
             ],
             [
              1,
              "#f0f921"
             ]
            ],
            "type": "heatmapgl"
           }
          ],
          "histogram": [
           {
            "marker": {
             "pattern": {
              "fillmode": "overlay",
              "size": 10,
              "solidity": 0.2
             }
            },
            "type": "histogram"
           }
          ],
          "histogram2d": [
           {
            "colorbar": {
             "outlinewidth": 0,
             "ticks": ""
            },
            "colorscale": [
             [
              0,
              "#0d0887"
             ],
             [
              0.1111111111111111,
              "#46039f"
             ],
             [
              0.2222222222222222,
              "#7201a8"
             ],
             [
              0.3333333333333333,
              "#9c179e"
             ],
             [
              0.4444444444444444,
              "#bd3786"
             ],
             [
              0.5555555555555556,
              "#d8576b"
             ],
             [
              0.6666666666666666,
              "#ed7953"
             ],
             [
              0.7777777777777778,
              "#fb9f3a"
             ],
             [
              0.8888888888888888,
              "#fdca26"
             ],
             [
              1,
              "#f0f921"
             ]
            ],
            "type": "histogram2d"
           }
          ],
          "histogram2dcontour": [
           {
            "colorbar": {
             "outlinewidth": 0,
             "ticks": ""
            },
            "colorscale": [
             [
              0,
              "#0d0887"
             ],
             [
              0.1111111111111111,
              "#46039f"
             ],
             [
              0.2222222222222222,
              "#7201a8"
             ],
             [
              0.3333333333333333,
              "#9c179e"
             ],
             [
              0.4444444444444444,
              "#bd3786"
             ],
             [
              0.5555555555555556,
              "#d8576b"
             ],
             [
              0.6666666666666666,
              "#ed7953"
             ],
             [
              0.7777777777777778,
              "#fb9f3a"
             ],
             [
              0.8888888888888888,
              "#fdca26"
             ],
             [
              1,
              "#f0f921"
             ]
            ],
            "type": "histogram2dcontour"
           }
          ],
          "mesh3d": [
           {
            "colorbar": {
             "outlinewidth": 0,
             "ticks": ""
            },
            "type": "mesh3d"
           }
          ],
          "parcoords": [
           {
            "line": {
             "colorbar": {
              "outlinewidth": 0,
              "ticks": ""
             }
            },
            "type": "parcoords"
           }
          ],
          "pie": [
           {
            "automargin": true,
            "type": "pie"
           }
          ],
          "scatter": [
           {
            "fillpattern": {
             "fillmode": "overlay",
             "size": 10,
             "solidity": 0.2
            },
            "type": "scatter"
           }
          ],
          "scatter3d": [
           {
            "line": {
             "colorbar": {
              "outlinewidth": 0,
              "ticks": ""
             }
            },
            "marker": {
             "colorbar": {
              "outlinewidth": 0,
              "ticks": ""
             }
            },
            "type": "scatter3d"
           }
          ],
          "scattercarpet": [
           {
            "marker": {
             "colorbar": {
              "outlinewidth": 0,
              "ticks": ""
             }
            },
            "type": "scattercarpet"
           }
          ],
          "scattergeo": [
           {
            "marker": {
             "colorbar": {
              "outlinewidth": 0,
              "ticks": ""
             }
            },
            "type": "scattergeo"
           }
          ],
          "scattergl": [
           {
            "marker": {
             "colorbar": {
              "outlinewidth": 0,
              "ticks": ""
             }
            },
            "type": "scattergl"
           }
          ],
          "scattermapbox": [
           {
            "marker": {
             "colorbar": {
              "outlinewidth": 0,
              "ticks": ""
             }
            },
            "type": "scattermapbox"
           }
          ],
          "scatterpolar": [
           {
            "marker": {
             "colorbar": {
              "outlinewidth": 0,
              "ticks": ""
             }
            },
            "type": "scatterpolar"
           }
          ],
          "scatterpolargl": [
           {
            "marker": {
             "colorbar": {
              "outlinewidth": 0,
              "ticks": ""
             }
            },
            "type": "scatterpolargl"
           }
          ],
          "scatterternary": [
           {
            "marker": {
             "colorbar": {
              "outlinewidth": 0,
              "ticks": ""
             }
            },
            "type": "scatterternary"
           }
          ],
          "surface": [
           {
            "colorbar": {
             "outlinewidth": 0,
             "ticks": ""
            },
            "colorscale": [
             [
              0,
              "#0d0887"
             ],
             [
              0.1111111111111111,
              "#46039f"
             ],
             [
              0.2222222222222222,
              "#7201a8"
             ],
             [
              0.3333333333333333,
              "#9c179e"
             ],
             [
              0.4444444444444444,
              "#bd3786"
             ],
             [
              0.5555555555555556,
              "#d8576b"
             ],
             [
              0.6666666666666666,
              "#ed7953"
             ],
             [
              0.7777777777777778,
              "#fb9f3a"
             ],
             [
              0.8888888888888888,
              "#fdca26"
             ],
             [
              1,
              "#f0f921"
             ]
            ],
            "type": "surface"
           }
          ],
          "table": [
           {
            "cells": {
             "fill": {
              "color": "#EBF0F8"
             },
             "line": {
              "color": "white"
             }
            },
            "header": {
             "fill": {
              "color": "#C8D4E3"
             },
             "line": {
              "color": "white"
             }
            },
            "type": "table"
           }
          ]
         },
         "layout": {
          "annotationdefaults": {
           "arrowcolor": "#2a3f5f",
           "arrowhead": 0,
           "arrowwidth": 1
          },
          "autotypenumbers": "strict",
          "coloraxis": {
           "colorbar": {
            "outlinewidth": 0,
            "ticks": ""
           }
          },
          "colorscale": {
           "diverging": [
            [
             0,
             "#8e0152"
            ],
            [
             0.1,
             "#c51b7d"
            ],
            [
             0.2,
             "#de77ae"
            ],
            [
             0.3,
             "#f1b6da"
            ],
            [
             0.4,
             "#fde0ef"
            ],
            [
             0.5,
             "#f7f7f7"
            ],
            [
             0.6,
             "#e6f5d0"
            ],
            [
             0.7,
             "#b8e186"
            ],
            [
             0.8,
             "#7fbc41"
            ],
            [
             0.9,
             "#4d9221"
            ],
            [
             1,
             "#276419"
            ]
           ],
           "sequential": [
            [
             0,
             "#0d0887"
            ],
            [
             0.1111111111111111,
             "#46039f"
            ],
            [
             0.2222222222222222,
             "#7201a8"
            ],
            [
             0.3333333333333333,
             "#9c179e"
            ],
            [
             0.4444444444444444,
             "#bd3786"
            ],
            [
             0.5555555555555556,
             "#d8576b"
            ],
            [
             0.6666666666666666,
             "#ed7953"
            ],
            [
             0.7777777777777778,
             "#fb9f3a"
            ],
            [
             0.8888888888888888,
             "#fdca26"
            ],
            [
             1,
             "#f0f921"
            ]
           ],
           "sequentialminus": [
            [
             0,
             "#0d0887"
            ],
            [
             0.1111111111111111,
             "#46039f"
            ],
            [
             0.2222222222222222,
             "#7201a8"
            ],
            [
             0.3333333333333333,
             "#9c179e"
            ],
            [
             0.4444444444444444,
             "#bd3786"
            ],
            [
             0.5555555555555556,
             "#d8576b"
            ],
            [
             0.6666666666666666,
             "#ed7953"
            ],
            [
             0.7777777777777778,
             "#fb9f3a"
            ],
            [
             0.8888888888888888,
             "#fdca26"
            ],
            [
             1,
             "#f0f921"
            ]
           ]
          },
          "colorway": [
           "#636efa",
           "#EF553B",
           "#00cc96",
           "#ab63fa",
           "#FFA15A",
           "#19d3f3",
           "#FF6692",
           "#B6E880",
           "#FF97FF",
           "#FECB52"
          ],
          "font": {
           "color": "#2a3f5f"
          },
          "geo": {
           "bgcolor": "white",
           "lakecolor": "white",
           "landcolor": "#E5ECF6",
           "showlakes": true,
           "showland": true,
           "subunitcolor": "white"
          },
          "hoverlabel": {
           "align": "left"
          },
          "hovermode": "closest",
          "mapbox": {
           "style": "light"
          },
          "paper_bgcolor": "white",
          "plot_bgcolor": "#E5ECF6",
          "polar": {
           "angularaxis": {
            "gridcolor": "white",
            "linecolor": "white",
            "ticks": ""
           },
           "bgcolor": "#E5ECF6",
           "radialaxis": {
            "gridcolor": "white",
            "linecolor": "white",
            "ticks": ""
           }
          },
          "scene": {
           "xaxis": {
            "backgroundcolor": "#E5ECF6",
            "gridcolor": "white",
            "gridwidth": 2,
            "linecolor": "white",
            "showbackground": true,
            "ticks": "",
            "zerolinecolor": "white"
           },
           "yaxis": {
            "backgroundcolor": "#E5ECF6",
            "gridcolor": "white",
            "gridwidth": 2,
            "linecolor": "white",
            "showbackground": true,
            "ticks": "",
            "zerolinecolor": "white"
           },
           "zaxis": {
            "backgroundcolor": "#E5ECF6",
            "gridcolor": "white",
            "gridwidth": 2,
            "linecolor": "white",
            "showbackground": true,
            "ticks": "",
            "zerolinecolor": "white"
           }
          },
          "shapedefaults": {
           "line": {
            "color": "#2a3f5f"
           }
          },
          "ternary": {
           "aaxis": {
            "gridcolor": "white",
            "linecolor": "white",
            "ticks": ""
           },
           "baxis": {
            "gridcolor": "white",
            "linecolor": "white",
            "ticks": ""
           },
           "bgcolor": "#E5ECF6",
           "caxis": {
            "gridcolor": "white",
            "linecolor": "white",
            "ticks": ""
           }
          },
          "title": {
           "x": 0.05
          },
          "xaxis": {
           "automargin": true,
           "gridcolor": "white",
           "linecolor": "white",
           "ticks": "",
           "title": {
            "standoff": 15
           },
           "zerolinecolor": "white",
           "zerolinewidth": 2
          },
          "yaxis": {
           "automargin": true,
           "gridcolor": "white",
           "linecolor": "white",
           "ticks": "",
           "title": {
            "standoff": 15
           },
           "zerolinecolor": "white",
           "zerolinewidth": 2
          }
         }
        },
        "width": 1300,
        "xaxis": {
         "anchor": "y",
         "domain": [
          0,
          0.15499999999999997
         ],
         "tickangle": -90,
         "title": {
          "text": ""
         }
        },
        "xaxis10": {
         "anchor": "y10",
         "domain": [
          0.4949999999999999,
          0.6499999999999999
         ],
         "matches": "x",
         "showticklabels": false,
         "tickangle": -90
        },
        "xaxis11": {
         "anchor": "y11",
         "domain": [
          0.6599999999999999,
          0.815
         ],
         "matches": "x",
         "showticklabels": false,
         "tickangle": -90
        },
        "xaxis12": {
         "anchor": "y12",
         "domain": [
          0.825,
          0.98
         ],
         "matches": "x",
         "showticklabels": false,
         "tickangle": -90
        },
        "xaxis13": {
         "anchor": "y13",
         "domain": [
          0,
          0.15499999999999997
         ],
         "matches": "x",
         "showticklabels": false,
         "tickangle": -90
        },
        "xaxis14": {
         "anchor": "y14",
         "domain": [
          0.16499999999999998,
          0.31999999999999995
         ],
         "matches": "x",
         "showticklabels": false,
         "tickangle": -90
        },
        "xaxis15": {
         "anchor": "y15",
         "domain": [
          0.32999999999999996,
          0.48499999999999993
         ],
         "matches": "x",
         "showticklabels": false,
         "tickangle": -90
        },
        "xaxis16": {
         "anchor": "y16",
         "domain": [
          0.4949999999999999,
          0.6499999999999999
         ],
         "matches": "x",
         "showticklabels": false,
         "tickangle": -90
        },
        "xaxis17": {
         "anchor": "y17",
         "domain": [
          0.6599999999999999,
          0.815
         ],
         "matches": "x",
         "showticklabels": false,
         "tickangle": -90
        },
        "xaxis18": {
         "anchor": "y18",
         "domain": [
          0.825,
          0.98
         ],
         "matches": "x",
         "showticklabels": false,
         "tickangle": -90
        },
        "xaxis19": {
         "anchor": "y19",
         "domain": [
          0,
          0.15499999999999997
         ],
         "matches": "x",
         "showticklabels": false,
         "tickangle": -90
        },
        "xaxis2": {
         "anchor": "y2",
         "domain": [
          0.16499999999999998,
          0.31999999999999995
         ],
         "matches": "x",
         "tickangle": -90,
         "title": {
          "text": ""
         }
        },
        "xaxis20": {
         "anchor": "y20",
         "domain": [
          0.16499999999999998,
          0.31999999999999995
         ],
         "matches": "x",
         "showticklabels": false,
         "tickangle": -90
        },
        "xaxis21": {
         "anchor": "y21",
         "domain": [
          0.32999999999999996,
          0.48499999999999993
         ],
         "matches": "x",
         "showticklabels": false,
         "tickangle": -90
        },
        "xaxis22": {
         "anchor": "y22",
         "domain": [
          0.4949999999999999,
          0.6499999999999999
         ],
         "matches": "x",
         "showticklabels": false,
         "tickangle": -90
        },
        "xaxis23": {
         "anchor": "y23",
         "domain": [
          0.6599999999999999,
          0.815
         ],
         "matches": "x",
         "showticklabels": false,
         "tickangle": -90
        },
        "xaxis24": {
         "anchor": "y24",
         "domain": [
          0.825,
          0.98
         ],
         "matches": "x",
         "showticklabels": false,
         "tickangle": -90
        },
        "xaxis3": {
         "anchor": "y3",
         "domain": [
          0.32999999999999996,
          0.48499999999999993
         ],
         "matches": "x",
         "tickangle": -90,
         "title": {
          "text": ""
         }
        },
        "xaxis4": {
         "anchor": "y4",
         "domain": [
          0.4949999999999999,
          0.6499999999999999
         ],
         "matches": "x",
         "tickangle": -90,
         "title": {
          "text": ""
         }
        },
        "xaxis5": {
         "anchor": "y5",
         "domain": [
          0.6599999999999999,
          0.815
         ],
         "matches": "x",
         "tickangle": -90,
         "title": {
          "text": ""
         }
        },
        "xaxis6": {
         "anchor": "y6",
         "domain": [
          0.825,
          0.98
         ],
         "matches": "x",
         "tickangle": -90,
         "title": {
          "text": ""
         }
        },
        "xaxis7": {
         "anchor": "y7",
         "domain": [
          0,
          0.15499999999999997
         ],
         "matches": "x",
         "showticklabels": false,
         "tickangle": -90
        },
        "xaxis8": {
         "anchor": "y8",
         "domain": [
          0.16499999999999998,
          0.31999999999999995
         ],
         "matches": "x",
         "showticklabels": false,
         "tickangle": -90
        },
        "xaxis9": {
         "anchor": "y9",
         "domain": [
          0.32999999999999996,
          0.48499999999999993
         ],
         "matches": "x",
         "showticklabels": false,
         "tickangle": -90
        },
        "yaxis": {
         "anchor": "x",
         "domain": [
          0,
          0.2275
         ],
         "title": {
          "text": "kW"
         }
        },
        "yaxis10": {
         "anchor": "x10",
         "domain": [
          0.2575,
          0.485
         ],
         "matches": "y",
         "showticklabels": false
        },
        "yaxis11": {
         "anchor": "x11",
         "domain": [
          0.2575,
          0.485
         ],
         "matches": "y",
         "showticklabels": false
        },
        "yaxis12": {
         "anchor": "x12",
         "domain": [
          0.2575,
          0.485
         ],
         "matches": "y",
         "showticklabels": false
        },
        "yaxis13": {
         "anchor": "x13",
         "domain": [
          0.515,
          0.7425
         ],
         "matches": "y",
         "title": {
          "text": "peak_consump"
         }
        },
        "yaxis14": {
         "anchor": "x14",
         "domain": [
          0.515,
          0.7425
         ],
         "matches": "y",
         "showticklabels": false
        },
        "yaxis15": {
         "anchor": "x15",
         "domain": [
          0.515,
          0.7425
         ],
         "matches": "y",
         "showticklabels": false
        },
        "yaxis16": {
         "anchor": "x16",
         "domain": [
          0.515,
          0.7425
         ],
         "matches": "y",
         "showticklabels": false
        },
        "yaxis17": {
         "anchor": "x17",
         "domain": [
          0.515,
          0.7425
         ],
         "matches": "y",
         "showticklabels": false
        },
        "yaxis18": {
         "anchor": "x18",
         "domain": [
          0.515,
          0.7425
         ],
         "matches": "y",
         "showticklabels": false
        },
        "yaxis19": {
         "anchor": "x19",
         "domain": [
          0.7725,
          1
         ],
         "matches": "y",
         "title": {
          "text": "peak_consump"
         }
        },
        "yaxis2": {
         "anchor": "x2",
         "domain": [
          0,
          0.2275
         ],
         "matches": "y",
         "showticklabels": false
        },
        "yaxis20": {
         "anchor": "x20",
         "domain": [
          0.7725,
          1
         ],
         "matches": "y",
         "showticklabels": false
        },
        "yaxis21": {
         "anchor": "x21",
         "domain": [
          0.7725,
          1
         ],
         "matches": "y",
         "showticklabels": false
        },
        "yaxis22": {
         "anchor": "x22",
         "domain": [
          0.7725,
          1
         ],
         "matches": "y",
         "showticklabels": false
        },
        "yaxis23": {
         "anchor": "x23",
         "domain": [
          0.7725,
          1
         ],
         "matches": "y",
         "showticklabels": false
        },
        "yaxis24": {
         "anchor": "x24",
         "domain": [
          0.7725,
          1
         ],
         "matches": "y",
         "showticklabels": false
        },
        "yaxis3": {
         "anchor": "x3",
         "domain": [
          0,
          0.2275
         ],
         "matches": "y",
         "showticklabels": false
        },
        "yaxis4": {
         "anchor": "x4",
         "domain": [
          0,
          0.2275
         ],
         "matches": "y",
         "showticklabels": false
        },
        "yaxis5": {
         "anchor": "x5",
         "domain": [
          0,
          0.2275
         ],
         "matches": "y",
         "showticklabels": false
        },
        "yaxis6": {
         "anchor": "x6",
         "domain": [
          0,
          0.2275
         ],
         "matches": "y",
         "showticklabels": false
        },
        "yaxis7": {
         "anchor": "x7",
         "domain": [
          0.2575,
          0.485
         ],
         "matches": "y",
         "title": {
          "text": "peak_consump"
         }
        },
        "yaxis8": {
         "anchor": "x8",
         "domain": [
          0.2575,
          0.485
         ],
         "matches": "y",
         "showticklabels": false
        },
        "yaxis9": {
         "anchor": "x9",
         "domain": [
          0.2575,
          0.485
         ],
         "matches": "y",
         "showticklabels": false
        }
       }
      }
     },
     "metadata": {},
     "output_type": "display_data"
    }
   ],
   "source": [
    "fig = px.bar(peak_consump, x=\"year\", y=\"peak_consump\", color=\"over_capacity\",\n",
    "             facet_col=\"scenario\", facet_col_spacing=0.01, facet_row='asset_id',\n",
    "             barmode=\"stack\",\n",
    "             width = 1300,\n",
    "             category_orders={\"scenario\": scenarios,\n",
    "                            },\n",
    "              color_discrete_map={True : 'red',\n",
    "                                False : 'green'},\n",
    "              labels={\n",
    "                    'year':'', # remove 'year' from xaxis on each subplot\n",
    "                    } \n",
    "            )\n",
    "\n",
    "# update names for plotting\n",
    "fig.for_each_annotation(lambda a: a.update(text = a.text.split(\"=\")[-1]))\n",
    "trace_dic = {'True' : 'Overloaded',\n",
    "            'False' : 'Sufficient Capacity',}\n",
    "fig.for_each_trace(lambda t: t.update(name = trace_dic[t.name]))\n",
    "\n",
    "# general formatting\n",
    "fig.update_layout(bargap=0,\n",
    "                  legend=dict(title_text='', x=0.01, y=0.995), # set legend location, properties\n",
    "                  yaxis_title='kW',\n",
    "                  plot_bgcolor='#f5f5f5',\n",
    "                  )\n",
    "fig.update_xaxes(tickangle= -90)\n",
    "# TODO: update peak_consump column name to kW\n",
    "# fig.update_yaxes(title_text='kW')\n",
    "\n",
    "fig.show()\n",
    "fig.write_html(figure_outputs+'peak_consump.html')"
   ]
  },
  {
   "cell_type": "markdown",
   "metadata": {},
   "source": [
    "### Retrofit Costs"
   ]
  },
  {
   "cell_type": "code",
   "execution_count": 98,
   "metadata": {},
   "outputs": [
    {
     "data": {
      "text/html": [
       "<div>\n",
       "<style scoped>\n",
       "    .dataframe tbody tr th:only-of-type {\n",
       "        vertical-align: middle;\n",
       "    }\n",
       "\n",
       "    .dataframe tbody tr th {\n",
       "        vertical-align: top;\n",
       "    }\n",
       "\n",
       "    .dataframe thead th {\n",
       "        text-align: right;\n",
       "    }\n",
       "</style>\n",
       "<table border=\"1\" class=\"dataframe\">\n",
       "  <thead>\n",
       "    <tr style=\"text-align: right;\">\n",
       "      <th></th>\n",
       "      <th>scenario</th>\n",
       "      <th>asset_id</th>\n",
       "      <th>asset_domain</th>\n",
       "      <th>year</th>\n",
       "      <th>retrofit_cost</th>\n",
       "    </tr>\n",
       "  </thead>\n",
       "  <tbody>\n",
       "    <tr>\n",
       "      <th>0</th>\n",
       "      <td>Accelerated Electrification</td>\n",
       "      <td>F_714592_2938902</td>\n",
       "      <td>building</td>\n",
       "      <td>93955</td>\n",
       "      <td>36315.598968</td>\n",
       "    </tr>\n",
       "    <tr>\n",
       "      <th>1</th>\n",
       "      <td>Accelerated Electrification</td>\n",
       "      <td>F_714723_2938816</td>\n",
       "      <td>building</td>\n",
       "      <td>93955</td>\n",
       "      <td>41196.334765</td>\n",
       "    </tr>\n",
       "    <tr>\n",
       "      <th>2</th>\n",
       "      <td>Accelerated Electrification</td>\n",
       "      <td>F_714815_2939003</td>\n",
       "      <td>building</td>\n",
       "      <td>93955</td>\n",
       "      <td>29406.073680</td>\n",
       "    </tr>\n",
       "    <tr>\n",
       "      <th>3</th>\n",
       "      <td>Accelerated Electrification</td>\n",
       "      <td>F_714897_2938859</td>\n",
       "      <td>building</td>\n",
       "      <td>93955</td>\n",
       "      <td>36500.249160</td>\n",
       "    </tr>\n",
       "    <tr>\n",
       "      <th>4</th>\n",
       "      <td>Accelerated Electrification</td>\n",
       "      <td>F_714956_2939056</td>\n",
       "      <td>building</td>\n",
       "      <td>93955</td>\n",
       "      <td>32558.922648</td>\n",
       "    </tr>\n",
       "    <tr>\n",
       "      <th>...</th>\n",
       "      <td>...</td>\n",
       "      <td>...</td>\n",
       "      <td>...</td>\n",
       "      <td>...</td>\n",
       "      <td>...</td>\n",
       "    </tr>\n",
       "    <tr>\n",
       "      <th>246</th>\n",
       "      <td>Dual Fuel - Pipeline (EOL)</td>\n",
       "      <td>F_715419_2938797</td>\n",
       "      <td>building</td>\n",
       "      <td>93955</td>\n",
       "      <td>41392.135489</td>\n",
       "    </tr>\n",
       "    <tr>\n",
       "      <th>247</th>\n",
       "      <td>Dual Fuel - Pipeline (EOL)</td>\n",
       "      <td>F_715497_2938593</td>\n",
       "      <td>building</td>\n",
       "      <td>93955</td>\n",
       "      <td>28856.523508</td>\n",
       "    </tr>\n",
       "    <tr>\n",
       "      <th>248</th>\n",
       "      <td>Dual Fuel - Pipeline (EOL)</td>\n",
       "      <td>F_715583_2938646</td>\n",
       "      <td>building</td>\n",
       "      <td>93955</td>\n",
       "      <td>47145.889020</td>\n",
       "    </tr>\n",
       "    <tr>\n",
       "      <th>249</th>\n",
       "      <td>Dual Fuel - Pipeline (EOL)</td>\n",
       "      <td>F_715583_2938872</td>\n",
       "      <td>building</td>\n",
       "      <td>93955</td>\n",
       "      <td>36074.141014</td>\n",
       "    </tr>\n",
       "    <tr>\n",
       "      <th>250</th>\n",
       "      <td>Dual Fuel - Pipeline (EOL)</td>\n",
       "      <td>F_715674_2938757</td>\n",
       "      <td>building</td>\n",
       "      <td>93955</td>\n",
       "      <td>47026.120196</td>\n",
       "    </tr>\n",
       "  </tbody>\n",
       "</table>\n",
       "<p>95 rows × 5 columns</p>\n",
       "</div>"
      ],
      "text/plain": [
       "                        scenario          asset_id asset_domain   year  \\\n",
       "0    Accelerated Electrification  F_714592_2938902     building  93955   \n",
       "1    Accelerated Electrification  F_714723_2938816     building  93955   \n",
       "2    Accelerated Electrification  F_714815_2939003     building  93955   \n",
       "3    Accelerated Electrification  F_714897_2938859     building  93955   \n",
       "4    Accelerated Electrification  F_714956_2939056     building  93955   \n",
       "..                           ...               ...          ...    ...   \n",
       "246   Dual Fuel - Pipeline (EOL)  F_715419_2938797     building  93955   \n",
       "247   Dual Fuel - Pipeline (EOL)  F_715497_2938593     building  93955   \n",
       "248   Dual Fuel - Pipeline (EOL)  F_715583_2938646     building  93955   \n",
       "249   Dual Fuel - Pipeline (EOL)  F_715583_2938872     building  93955   \n",
       "250   Dual Fuel - Pipeline (EOL)  F_715674_2938757     building  93955   \n",
       "\n",
       "     retrofit_cost  \n",
       "0     36315.598968  \n",
       "1     41196.334765  \n",
       "2     29406.073680  \n",
       "3     36500.249160  \n",
       "4     32558.922648  \n",
       "..             ...  \n",
       "246   41392.135489  \n",
       "247   28856.523508  \n",
       "248   47145.889020  \n",
       "249   36074.141014  \n",
       "250   47026.120196  \n",
       "\n",
       "[95 rows x 5 columns]"
      ]
     },
     "execution_count": 98,
     "metadata": {},
     "output_type": "execute_result"
    }
   ],
   "source": [
    "plot_data = 'retrofit_cost'\n",
    "\n",
    "groupby_columns = ['scenario', 'asset_id', 'asset_domain'] # sum rows to get yearly cost by scenario and asset domain\n",
    "rfit_scenarios = ['Continued Gas',\n",
    "                    'Dual Fuel - Pipeline (EOL)', \n",
    "                    'Dual Fuel - Pipeline (Accelerated)',\n",
    "                    'Dual Fuel (Tank)',\n",
    "                    'Accelerated Electrification',]\n",
    "year_range = [2020, 2065]\n",
    "\n",
    "# group, filter data based on what will be shown in report\n",
    "rfit_costs_byBuilding = df_dic[plot_data].groupby(by=groupby_columns).sum().reset_index()\n",
    "rfit_costs_byBuilding = filter_data(rfit_costs_byBuilding, 'scenario', rfit_scenarios)\n",
    "if 'year' in groupby_columns:\n",
    "    rfit_costs_byBuilding = filter_years(rfit_costs_byBuilding, year_range)\n",
    "rfit_costs_byBuilding = filter_data(rfit_costs_byBuilding, 'asset_domain', ['building']) # only looking at building assets\n",
    "\n",
    "rfit_costs_byBuilding"
   ]
  },
  {
   "cell_type": "code",
   "execution_count": 99,
   "metadata": {},
   "outputs": [
    {
     "data": {
      "application/vnd.plotly.v1+json": {
       "config": {
        "plotlyServerURL": "https://plot.ly"
       },
       "data": [
        {
         "alignmentgroup": "True",
         "hovertemplate": "scenario=%{x}<br>retrofit_cost=%{y}<extra></extra>",
         "legendgroup": "",
         "marker": {
          "color": "#636efa"
         },
         "name": "",
         "notched": false,
         "offsetgroup": "",
         "orientation": "v",
         "showlegend": false,
         "type": "box",
         "x": [
          "Accelerated Electrification",
          "Accelerated Electrification",
          "Accelerated Electrification",
          "Accelerated Electrification",
          "Accelerated Electrification",
          "Accelerated Electrification",
          "Accelerated Electrification",
          "Accelerated Electrification",
          "Accelerated Electrification",
          "Accelerated Electrification",
          "Accelerated Electrification",
          "Accelerated Electrification",
          "Accelerated Electrification",
          "Accelerated Electrification",
          "Accelerated Electrification",
          "Accelerated Electrification",
          "Accelerated Electrification",
          "Accelerated Electrification",
          "Accelerated Electrification",
          "Continued Gas",
          "Continued Gas",
          "Continued Gas",
          "Continued Gas",
          "Continued Gas",
          "Continued Gas",
          "Continued Gas",
          "Continued Gas",
          "Continued Gas",
          "Continued Gas",
          "Continued Gas",
          "Continued Gas",
          "Continued Gas",
          "Continued Gas",
          "Continued Gas",
          "Continued Gas",
          "Continued Gas",
          "Continued Gas",
          "Continued Gas",
          "Dual Fuel (Tank)",
          "Dual Fuel (Tank)",
          "Dual Fuel (Tank)",
          "Dual Fuel (Tank)",
          "Dual Fuel (Tank)",
          "Dual Fuel (Tank)",
          "Dual Fuel (Tank)",
          "Dual Fuel (Tank)",
          "Dual Fuel (Tank)",
          "Dual Fuel (Tank)",
          "Dual Fuel (Tank)",
          "Dual Fuel (Tank)",
          "Dual Fuel (Tank)",
          "Dual Fuel (Tank)",
          "Dual Fuel (Tank)",
          "Dual Fuel (Tank)",
          "Dual Fuel (Tank)",
          "Dual Fuel (Tank)",
          "Dual Fuel (Tank)",
          "Dual Fuel - Pipeline (Accelerated)",
          "Dual Fuel - Pipeline (Accelerated)",
          "Dual Fuel - Pipeline (Accelerated)",
          "Dual Fuel - Pipeline (Accelerated)",
          "Dual Fuel - Pipeline (Accelerated)",
          "Dual Fuel - Pipeline (Accelerated)",
          "Dual Fuel - Pipeline (Accelerated)",
          "Dual Fuel - Pipeline (Accelerated)",
          "Dual Fuel - Pipeline (Accelerated)",
          "Dual Fuel - Pipeline (Accelerated)",
          "Dual Fuel - Pipeline (Accelerated)",
          "Dual Fuel - Pipeline (Accelerated)",
          "Dual Fuel - Pipeline (Accelerated)",
          "Dual Fuel - Pipeline (Accelerated)",
          "Dual Fuel - Pipeline (Accelerated)",
          "Dual Fuel - Pipeline (Accelerated)",
          "Dual Fuel - Pipeline (Accelerated)",
          "Dual Fuel - Pipeline (Accelerated)",
          "Dual Fuel - Pipeline (Accelerated)",
          "Dual Fuel - Pipeline (EOL)",
          "Dual Fuel - Pipeline (EOL)",
          "Dual Fuel - Pipeline (EOL)",
          "Dual Fuel - Pipeline (EOL)",
          "Dual Fuel - Pipeline (EOL)",
          "Dual Fuel - Pipeline (EOL)",
          "Dual Fuel - Pipeline (EOL)",
          "Dual Fuel - Pipeline (EOL)",
          "Dual Fuel - Pipeline (EOL)",
          "Dual Fuel - Pipeline (EOL)",
          "Dual Fuel - Pipeline (EOL)",
          "Dual Fuel - Pipeline (EOL)",
          "Dual Fuel - Pipeline (EOL)",
          "Dual Fuel - Pipeline (EOL)",
          "Dual Fuel - Pipeline (EOL)",
          "Dual Fuel - Pipeline (EOL)",
          "Dual Fuel - Pipeline (EOL)",
          "Dual Fuel - Pipeline (EOL)",
          "Dual Fuel - Pipeline (EOL)"
         ],
         "x0": " ",
         "xaxis": "x",
         "y": [
          36315.598968000006,
          41196.334765090025,
          29406.073680000005,
          36500.24916000001,
          32558.922648000007,
          43340.79592800001,
          38327.64933600001,
          41478.37588800001,
          31712.078664000008,
          32274.194716180857,
          32746.75646400001,
          32079.256632000004,
          44506.00231200001,
          34933.906152,
          37184.72832000001,
          32922.916992000006,
          48141.70092000001,
          31799.097720000005,
          47277.877608,
          18475.82038683309,
          21958.42910873666,
          20291.760497511896,
          16347.389248080002,
          23269.9833360482,
          25687.081601053746,
          21094.44101114799,
          29153.42021085636,
          17979.450474688183,
          18541.666175129634,
          15537.61873535328,
          15689.390761332848,
          29573.181532242765,
          22231.377867023846,
          25346.791402273728,
          17110.963723745408,
          28692.082592130333,
          21495.9753896043,
          26318.213099627465,
          25026.4152036,
          32686.75792725574,
          19084.934465280006,
          24583.297191120004,
          21463.557912720004,
          30574.920007440003,
          26235.109891440003,
          29523.899604240007,
          21447.597344400005,
          43803.55858479484,
          21846.96175104,
          21523.303923120005,
          31729.684104720007,
          23883.186437280005,
          25829.664762960005,
          21764.548337760003,
          35259.23007648,
          20835.7048116,
          32573.790172080004,
          22055.531571360003,
          28489.62780935325,
          16653.696325200002,
          21740.066269200004,
          18816.279048000004,
          27389.44950552,
          23154.45490368,
          26144.535788640005,
          18801.76172256,
          21731.41250982616,
          19164.854039760005,
          18870.602285520003,
          28352.400256800003,
          21016.142007840004,
          22949.684208,
          19089.93275496,
          31693.78343808,
          18245.455264800003,
          28293.471376560003,
          31009.96319746957,
          31796.41778144164,
          33708.87096285498,
          27771.473773440004,
          39182.29864108576,
          42385.72766987626,
          36288.95148634902,
          49869.38261823402,
          29599.854155723115,
          25104.338281356315,
          25927.57113386688,
          26133.86024093069,
          49108.54441208932,
          37101.59522648032,
          41392.13548867062,
          28856.52350788389,
          47145.88901964472,
          36074.14101417887,
          47026.120196217256
         ],
         "y0": " ",
         "yaxis": "y"
        }
       ],
       "layout": {
        "bargap": 0,
        "boxmode": "group",
        "height": 800,
        "legend": {
         "tracegroupgap": 0
        },
        "margin": {
         "t": 60
        },
        "plot_bgcolor": "#f5f5f5",
        "template": {
         "data": {
          "bar": [
           {
            "error_x": {
             "color": "#2a3f5f"
            },
            "error_y": {
             "color": "#2a3f5f"
            },
            "marker": {
             "line": {
              "color": "#E5ECF6",
              "width": 0.5
             },
             "pattern": {
              "fillmode": "overlay",
              "size": 10,
              "solidity": 0.2
             }
            },
            "type": "bar"
           }
          ],
          "barpolar": [
           {
            "marker": {
             "line": {
              "color": "#E5ECF6",
              "width": 0.5
             },
             "pattern": {
              "fillmode": "overlay",
              "size": 10,
              "solidity": 0.2
             }
            },
            "type": "barpolar"
           }
          ],
          "carpet": [
           {
            "aaxis": {
             "endlinecolor": "#2a3f5f",
             "gridcolor": "white",
             "linecolor": "white",
             "minorgridcolor": "white",
             "startlinecolor": "#2a3f5f"
            },
            "baxis": {
             "endlinecolor": "#2a3f5f",
             "gridcolor": "white",
             "linecolor": "white",
             "minorgridcolor": "white",
             "startlinecolor": "#2a3f5f"
            },
            "type": "carpet"
           }
          ],
          "choropleth": [
           {
            "colorbar": {
             "outlinewidth": 0,
             "ticks": ""
            },
            "type": "choropleth"
           }
          ],
          "contour": [
           {
            "colorbar": {
             "outlinewidth": 0,
             "ticks": ""
            },
            "colorscale": [
             [
              0,
              "#0d0887"
             ],
             [
              0.1111111111111111,
              "#46039f"
             ],
             [
              0.2222222222222222,
              "#7201a8"
             ],
             [
              0.3333333333333333,
              "#9c179e"
             ],
             [
              0.4444444444444444,
              "#bd3786"
             ],
             [
              0.5555555555555556,
              "#d8576b"
             ],
             [
              0.6666666666666666,
              "#ed7953"
             ],
             [
              0.7777777777777778,
              "#fb9f3a"
             ],
             [
              0.8888888888888888,
              "#fdca26"
             ],
             [
              1,
              "#f0f921"
             ]
            ],
            "type": "contour"
           }
          ],
          "contourcarpet": [
           {
            "colorbar": {
             "outlinewidth": 0,
             "ticks": ""
            },
            "type": "contourcarpet"
           }
          ],
          "heatmap": [
           {
            "colorbar": {
             "outlinewidth": 0,
             "ticks": ""
            },
            "colorscale": [
             [
              0,
              "#0d0887"
             ],
             [
              0.1111111111111111,
              "#46039f"
             ],
             [
              0.2222222222222222,
              "#7201a8"
             ],
             [
              0.3333333333333333,
              "#9c179e"
             ],
             [
              0.4444444444444444,
              "#bd3786"
             ],
             [
              0.5555555555555556,
              "#d8576b"
             ],
             [
              0.6666666666666666,
              "#ed7953"
             ],
             [
              0.7777777777777778,
              "#fb9f3a"
             ],
             [
              0.8888888888888888,
              "#fdca26"
             ],
             [
              1,
              "#f0f921"
             ]
            ],
            "type": "heatmap"
           }
          ],
          "heatmapgl": [
           {
            "colorbar": {
             "outlinewidth": 0,
             "ticks": ""
            },
            "colorscale": [
             [
              0,
              "#0d0887"
             ],
             [
              0.1111111111111111,
              "#46039f"
             ],
             [
              0.2222222222222222,
              "#7201a8"
             ],
             [
              0.3333333333333333,
              "#9c179e"
             ],
             [
              0.4444444444444444,
              "#bd3786"
             ],
             [
              0.5555555555555556,
              "#d8576b"
             ],
             [
              0.6666666666666666,
              "#ed7953"
             ],
             [
              0.7777777777777778,
              "#fb9f3a"
             ],
             [
              0.8888888888888888,
              "#fdca26"
             ],
             [
              1,
              "#f0f921"
             ]
            ],
            "type": "heatmapgl"
           }
          ],
          "histogram": [
           {
            "marker": {
             "pattern": {
              "fillmode": "overlay",
              "size": 10,
              "solidity": 0.2
             }
            },
            "type": "histogram"
           }
          ],
          "histogram2d": [
           {
            "colorbar": {
             "outlinewidth": 0,
             "ticks": ""
            },
            "colorscale": [
             [
              0,
              "#0d0887"
             ],
             [
              0.1111111111111111,
              "#46039f"
             ],
             [
              0.2222222222222222,
              "#7201a8"
             ],
             [
              0.3333333333333333,
              "#9c179e"
             ],
             [
              0.4444444444444444,
              "#bd3786"
             ],
             [
              0.5555555555555556,
              "#d8576b"
             ],
             [
              0.6666666666666666,
              "#ed7953"
             ],
             [
              0.7777777777777778,
              "#fb9f3a"
             ],
             [
              0.8888888888888888,
              "#fdca26"
             ],
             [
              1,
              "#f0f921"
             ]
            ],
            "type": "histogram2d"
           }
          ],
          "histogram2dcontour": [
           {
            "colorbar": {
             "outlinewidth": 0,
             "ticks": ""
            },
            "colorscale": [
             [
              0,
              "#0d0887"
             ],
             [
              0.1111111111111111,
              "#46039f"
             ],
             [
              0.2222222222222222,
              "#7201a8"
             ],
             [
              0.3333333333333333,
              "#9c179e"
             ],
             [
              0.4444444444444444,
              "#bd3786"
             ],
             [
              0.5555555555555556,
              "#d8576b"
             ],
             [
              0.6666666666666666,
              "#ed7953"
             ],
             [
              0.7777777777777778,
              "#fb9f3a"
             ],
             [
              0.8888888888888888,
              "#fdca26"
             ],
             [
              1,
              "#f0f921"
             ]
            ],
            "type": "histogram2dcontour"
           }
          ],
          "mesh3d": [
           {
            "colorbar": {
             "outlinewidth": 0,
             "ticks": ""
            },
            "type": "mesh3d"
           }
          ],
          "parcoords": [
           {
            "line": {
             "colorbar": {
              "outlinewidth": 0,
              "ticks": ""
             }
            },
            "type": "parcoords"
           }
          ],
          "pie": [
           {
            "automargin": true,
            "type": "pie"
           }
          ],
          "scatter": [
           {
            "fillpattern": {
             "fillmode": "overlay",
             "size": 10,
             "solidity": 0.2
            },
            "type": "scatter"
           }
          ],
          "scatter3d": [
           {
            "line": {
             "colorbar": {
              "outlinewidth": 0,
              "ticks": ""
             }
            },
            "marker": {
             "colorbar": {
              "outlinewidth": 0,
              "ticks": ""
             }
            },
            "type": "scatter3d"
           }
          ],
          "scattercarpet": [
           {
            "marker": {
             "colorbar": {
              "outlinewidth": 0,
              "ticks": ""
             }
            },
            "type": "scattercarpet"
           }
          ],
          "scattergeo": [
           {
            "marker": {
             "colorbar": {
              "outlinewidth": 0,
              "ticks": ""
             }
            },
            "type": "scattergeo"
           }
          ],
          "scattergl": [
           {
            "marker": {
             "colorbar": {
              "outlinewidth": 0,
              "ticks": ""
             }
            },
            "type": "scattergl"
           }
          ],
          "scattermapbox": [
           {
            "marker": {
             "colorbar": {
              "outlinewidth": 0,
              "ticks": ""
             }
            },
            "type": "scattermapbox"
           }
          ],
          "scatterpolar": [
           {
            "marker": {
             "colorbar": {
              "outlinewidth": 0,
              "ticks": ""
             }
            },
            "type": "scatterpolar"
           }
          ],
          "scatterpolargl": [
           {
            "marker": {
             "colorbar": {
              "outlinewidth": 0,
              "ticks": ""
             }
            },
            "type": "scatterpolargl"
           }
          ],
          "scatterternary": [
           {
            "marker": {
             "colorbar": {
              "outlinewidth": 0,
              "ticks": ""
             }
            },
            "type": "scatterternary"
           }
          ],
          "surface": [
           {
            "colorbar": {
             "outlinewidth": 0,
             "ticks": ""
            },
            "colorscale": [
             [
              0,
              "#0d0887"
             ],
             [
              0.1111111111111111,
              "#46039f"
             ],
             [
              0.2222222222222222,
              "#7201a8"
             ],
             [
              0.3333333333333333,
              "#9c179e"
             ],
             [
              0.4444444444444444,
              "#bd3786"
             ],
             [
              0.5555555555555556,
              "#d8576b"
             ],
             [
              0.6666666666666666,
              "#ed7953"
             ],
             [
              0.7777777777777778,
              "#fb9f3a"
             ],
             [
              0.8888888888888888,
              "#fdca26"
             ],
             [
              1,
              "#f0f921"
             ]
            ],
            "type": "surface"
           }
          ],
          "table": [
           {
            "cells": {
             "fill": {
              "color": "#EBF0F8"
             },
             "line": {
              "color": "white"
             }
            },
            "header": {
             "fill": {
              "color": "#C8D4E3"
             },
             "line": {
              "color": "white"
             }
            },
            "type": "table"
           }
          ]
         },
         "layout": {
          "annotationdefaults": {
           "arrowcolor": "#2a3f5f",
           "arrowhead": 0,
           "arrowwidth": 1
          },
          "autotypenumbers": "strict",
          "coloraxis": {
           "colorbar": {
            "outlinewidth": 0,
            "ticks": ""
           }
          },
          "colorscale": {
           "diverging": [
            [
             0,
             "#8e0152"
            ],
            [
             0.1,
             "#c51b7d"
            ],
            [
             0.2,
             "#de77ae"
            ],
            [
             0.3,
             "#f1b6da"
            ],
            [
             0.4,
             "#fde0ef"
            ],
            [
             0.5,
             "#f7f7f7"
            ],
            [
             0.6,
             "#e6f5d0"
            ],
            [
             0.7,
             "#b8e186"
            ],
            [
             0.8,
             "#7fbc41"
            ],
            [
             0.9,
             "#4d9221"
            ],
            [
             1,
             "#276419"
            ]
           ],
           "sequential": [
            [
             0,
             "#0d0887"
            ],
            [
             0.1111111111111111,
             "#46039f"
            ],
            [
             0.2222222222222222,
             "#7201a8"
            ],
            [
             0.3333333333333333,
             "#9c179e"
            ],
            [
             0.4444444444444444,
             "#bd3786"
            ],
            [
             0.5555555555555556,
             "#d8576b"
            ],
            [
             0.6666666666666666,
             "#ed7953"
            ],
            [
             0.7777777777777778,
             "#fb9f3a"
            ],
            [
             0.8888888888888888,
             "#fdca26"
            ],
            [
             1,
             "#f0f921"
            ]
           ],
           "sequentialminus": [
            [
             0,
             "#0d0887"
            ],
            [
             0.1111111111111111,
             "#46039f"
            ],
            [
             0.2222222222222222,
             "#7201a8"
            ],
            [
             0.3333333333333333,
             "#9c179e"
            ],
            [
             0.4444444444444444,
             "#bd3786"
            ],
            [
             0.5555555555555556,
             "#d8576b"
            ],
            [
             0.6666666666666666,
             "#ed7953"
            ],
            [
             0.7777777777777778,
             "#fb9f3a"
            ],
            [
             0.8888888888888888,
             "#fdca26"
            ],
            [
             1,
             "#f0f921"
            ]
           ]
          },
          "colorway": [
           "#636efa",
           "#EF553B",
           "#00cc96",
           "#ab63fa",
           "#FFA15A",
           "#19d3f3",
           "#FF6692",
           "#B6E880",
           "#FF97FF",
           "#FECB52"
          ],
          "font": {
           "color": "#2a3f5f"
          },
          "geo": {
           "bgcolor": "white",
           "lakecolor": "white",
           "landcolor": "#E5ECF6",
           "showlakes": true,
           "showland": true,
           "subunitcolor": "white"
          },
          "hoverlabel": {
           "align": "left"
          },
          "hovermode": "closest",
          "mapbox": {
           "style": "light"
          },
          "paper_bgcolor": "white",
          "plot_bgcolor": "#E5ECF6",
          "polar": {
           "angularaxis": {
            "gridcolor": "white",
            "linecolor": "white",
            "ticks": ""
           },
           "bgcolor": "#E5ECF6",
           "radialaxis": {
            "gridcolor": "white",
            "linecolor": "white",
            "ticks": ""
           }
          },
          "scene": {
           "xaxis": {
            "backgroundcolor": "#E5ECF6",
            "gridcolor": "white",
            "gridwidth": 2,
            "linecolor": "white",
            "showbackground": true,
            "ticks": "",
            "zerolinecolor": "white"
           },
           "yaxis": {
            "backgroundcolor": "#E5ECF6",
            "gridcolor": "white",
            "gridwidth": 2,
            "linecolor": "white",
            "showbackground": true,
            "ticks": "",
            "zerolinecolor": "white"
           },
           "zaxis": {
            "backgroundcolor": "#E5ECF6",
            "gridcolor": "white",
            "gridwidth": 2,
            "linecolor": "white",
            "showbackground": true,
            "ticks": "",
            "zerolinecolor": "white"
           }
          },
          "shapedefaults": {
           "line": {
            "color": "#2a3f5f"
           }
          },
          "ternary": {
           "aaxis": {
            "gridcolor": "white",
            "linecolor": "white",
            "ticks": ""
           },
           "baxis": {
            "gridcolor": "white",
            "linecolor": "white",
            "ticks": ""
           },
           "bgcolor": "#E5ECF6",
           "caxis": {
            "gridcolor": "white",
            "linecolor": "white",
            "ticks": ""
           }
          },
          "title": {
           "x": 0.05
          },
          "xaxis": {
           "automargin": true,
           "gridcolor": "white",
           "linecolor": "white",
           "ticks": "",
           "title": {
            "standoff": 15
           },
           "zerolinecolor": "white",
           "zerolinewidth": 2
          },
          "yaxis": {
           "automargin": true,
           "gridcolor": "white",
           "linecolor": "white",
           "ticks": "",
           "title": {
            "standoff": 15
           },
           "zerolinecolor": "white",
           "zerolinewidth": 2
          }
         }
        },
        "width": 800,
        "xaxis": {
         "anchor": "y",
         "categoryarray": [
          "Continued Gas",
          "Dual Fuel - Pipeline (EOL)",
          "Dual Fuel - Pipeline (Accelerated)",
          "Dual Fuel (Tank)",
          "Accelerated Electrification"
         ],
         "categoryorder": "array",
         "domain": [
          0,
          1
         ],
         "tickangle": -90,
         "title": {
          "text": "scenario"
         }
        },
        "yaxis": {
         "anchor": "x",
         "domain": [
          0,
          1
         ],
         "title": {
          "text": "Cost of Building Intervention by Building ($)"
         }
        }
       }
      }
     },
     "metadata": {},
     "output_type": "display_data"
    }
   ],
   "source": [
    "fig = px.box(rfit_costs_byBuilding, x=\"scenario\", y=\"retrofit_cost\",\n",
    "             height=800, width=800, \n",
    "             category_orders={\"scenario\": rfit_scenarios,}\n",
    "            )\n",
    "\n",
    "fig.update_layout(bargap=0,\n",
    "                  yaxis_title='Cost of Building Intervention by Building ($)',\n",
    "                  plot_bgcolor='#f5f5f5',\n",
    "                  )\n",
    "fig.update_xaxes(tickangle= -90)\n",
    "# fig.update_yaxes(showgrid=False)\n",
    "\n",
    "fig.show()\n",
    "fig.write_html(figure_outputs+'cost_by_building.html')"
   ]
  },
  {
   "cell_type": "code",
   "execution_count": 109,
   "metadata": {},
   "outputs": [
    {
     "data": {
      "text/html": [
       "<div>\n",
       "<style scoped>\n",
       "    .dataframe tbody tr th:only-of-type {\n",
       "        vertical-align: middle;\n",
       "    }\n",
       "\n",
       "    .dataframe tbody tr th {\n",
       "        vertical-align: top;\n",
       "    }\n",
       "\n",
       "    .dataframe thead th {\n",
       "        text-align: right;\n",
       "    }\n",
       "</style>\n",
       "<table border=\"1\" class=\"dataframe\">\n",
       "  <thead>\n",
       "    <tr style=\"text-align: right;\">\n",
       "      <th></th>\n",
       "      <th>year</th>\n",
       "      <th>scenario</th>\n",
       "      <th>asset_domain</th>\n",
       "      <th>retrofit_cost</th>\n",
       "      <th>cum_cost</th>\n",
       "    </tr>\n",
       "  </thead>\n",
       "  <tbody>\n",
       "    <tr>\n",
       "      <th>0</th>\n",
       "      <td>2020</td>\n",
       "      <td>Accelerated Electrification</td>\n",
       "      <td>building</td>\n",
       "      <td>0.0</td>\n",
       "      <td>0.00000</td>\n",
       "    </tr>\n",
       "    <tr>\n",
       "      <th>1</th>\n",
       "      <td>2020</td>\n",
       "      <td>Accelerated Electrification</td>\n",
       "      <td>elec_network</td>\n",
       "      <td>0.0</td>\n",
       "      <td>0.00000</td>\n",
       "    </tr>\n",
       "    <tr>\n",
       "      <th>2</th>\n",
       "      <td>2020</td>\n",
       "      <td>Accelerated Electrification</td>\n",
       "      <td>gas_network</td>\n",
       "      <td>0.0</td>\n",
       "      <td>0.00000</td>\n",
       "    </tr>\n",
       "    <tr>\n",
       "      <th>3</th>\n",
       "      <td>2020</td>\n",
       "      <td>Continued Gas</td>\n",
       "      <td>building</td>\n",
       "      <td>0.0</td>\n",
       "      <td>0.00000</td>\n",
       "    </tr>\n",
       "    <tr>\n",
       "      <th>4</th>\n",
       "      <td>2020</td>\n",
       "      <td>Continued Gas</td>\n",
       "      <td>elec_network</td>\n",
       "      <td>0.0</td>\n",
       "      <td>0.00000</td>\n",
       "    </tr>\n",
       "    <tr>\n",
       "      <th>...</th>\n",
       "      <td>...</td>\n",
       "      <td>...</td>\n",
       "      <td>...</td>\n",
       "      <td>...</td>\n",
       "      <td>...</td>\n",
       "    </tr>\n",
       "    <tr>\n",
       "      <th>823</th>\n",
       "      <td>2065</td>\n",
       "      <td>Dual Fuel - Pipeline (EOL)</td>\n",
       "      <td>elec_network</td>\n",
       "      <td>0.0</td>\n",
       "      <td>0.00000</td>\n",
       "    </tr>\n",
       "    <tr>\n",
       "      <th>824</th>\n",
       "      <td>2065</td>\n",
       "      <td>Dual Fuel - Pipeline (EOL)</td>\n",
       "      <td>gas_network</td>\n",
       "      <td>0.0</td>\n",
       "      <td>655687.15000</td>\n",
       "    </tr>\n",
       "    <tr>\n",
       "      <th>825</th>\n",
       "      <td>2065</td>\n",
       "      <td>Unmanaged Electrification</td>\n",
       "      <td>building</td>\n",
       "      <td>0.0</td>\n",
       "      <td>892384.30557</td>\n",
       "    </tr>\n",
       "    <tr>\n",
       "      <th>826</th>\n",
       "      <td>2065</td>\n",
       "      <td>Unmanaged Electrification</td>\n",
       "      <td>elec_network</td>\n",
       "      <td>0.0</td>\n",
       "      <td>80000.00000</td>\n",
       "    </tr>\n",
       "    <tr>\n",
       "      <th>827</th>\n",
       "      <td>2065</td>\n",
       "      <td>Unmanaged Electrification</td>\n",
       "      <td>gas_network</td>\n",
       "      <td>0.0</td>\n",
       "      <td>649687.15000</td>\n",
       "    </tr>\n",
       "  </tbody>\n",
       "</table>\n",
       "<p>828 rows × 5 columns</p>\n",
       "</div>"
      ],
      "text/plain": [
       "     year                     scenario  asset_domain  retrofit_cost  \\\n",
       "0    2020  Accelerated Electrification      building            0.0   \n",
       "1    2020  Accelerated Electrification  elec_network            0.0   \n",
       "2    2020  Accelerated Electrification   gas_network            0.0   \n",
       "3    2020                Continued Gas      building            0.0   \n",
       "4    2020                Continued Gas  elec_network            0.0   \n",
       "..    ...                          ...           ...            ...   \n",
       "823  2065   Dual Fuel - Pipeline (EOL)  elec_network            0.0   \n",
       "824  2065   Dual Fuel - Pipeline (EOL)   gas_network            0.0   \n",
       "825  2065    Unmanaged Electrification      building            0.0   \n",
       "826  2065    Unmanaged Electrification  elec_network            0.0   \n",
       "827  2065    Unmanaged Electrification   gas_network            0.0   \n",
       "\n",
       "         cum_cost  \n",
       "0         0.00000  \n",
       "1         0.00000  \n",
       "2         0.00000  \n",
       "3         0.00000  \n",
       "4         0.00000  \n",
       "..            ...  \n",
       "823       0.00000  \n",
       "824  655687.15000  \n",
       "825  892384.30557  \n",
       "826   80000.00000  \n",
       "827  649687.15000  \n",
       "\n",
       "[828 rows x 5 columns]"
      ]
     },
     "execution_count": 109,
     "metadata": {},
     "output_type": "execute_result"
    }
   ],
   "source": [
    "# running sum of retrofit costs by asset domain\n",
    "plot_data = 'retrofit_cost'\n",
    "\n",
    "groupby_columns = ['year','scenario', 'asset_domain'] # sum rows to get yearly cost by scenario and asset domain\n",
    "scenarios = ['Continued Gas',\n",
    "            'Dual Fuel - Pipeline (EOL)', \n",
    "            'Dual Fuel - Pipeline (Accelerated)',\n",
    "            'Unmanaged Electrification',\n",
    "            'Dual Fuel (Tank)',\n",
    "            'Accelerated Electrification',]\n",
    "year_range = [2020, 2065]\n",
    "\n",
    "# group, filter data based on what will be shown in report\n",
    "rfit_costs_byFuel = df_dic[plot_data].groupby(by=groupby_columns).sum().reset_index()\n",
    "rfit_costs_byFuel['cum_cost'] = rfit_costs_byFuel.groupby(['scenario', 'asset_domain'])['retrofit_cost'].cumsum() # calcuate running sum of stranded value costs by scenario and asset domain\n",
    "rfit_costs_byFuel = filter_data(rfit_costs_byFuel, 'scenario', scenarios)\n",
    "if 'year' in groupby_columns:\n",
    "    rfit_costs_byFuel = filter_years(rfit_costs_byFuel, year_range)\n",
    "\n",
    "\n",
    "rfit_costs_byFuel"
   ]
  },
  {
   "cell_type": "code",
   "execution_count": 110,
   "metadata": {},
   "outputs": [
    {
     "data": {
      "application/vnd.plotly.v1+json": {
       "config": {
        "plotlyServerURL": "https://plot.ly"
       },
       "data": [
        {
         "alignmentgroup": "True",
         "hovertemplate": "asset_domain=gas_network<br>scenario=Continued Gas<br>=%{x}<br>cum_cost=%{y}<extra></extra>",
         "legendgroup": "gas_network",
         "marker": {
          "color": "palevioletred",
          "line": {
           "width": 0
          },
          "pattern": {
           "shape": ""
          }
         },
         "name": "Gas",
         "offsetgroup": "gas_network",
         "orientation": "v",
         "showlegend": true,
         "textposition": "auto",
         "type": "bar",
         "x": [
          2020,
          2021,
          2022,
          2023,
          2024,
          2025,
          2026,
          2027,
          2028,
          2029,
          2030,
          2031,
          2032,
          2033,
          2034,
          2035,
          2036,
          2037,
          2038,
          2039,
          2040,
          2041,
          2042,
          2043,
          2044,
          2045,
          2046,
          2047,
          2048,
          2049,
          2050,
          2051,
          2052,
          2053,
          2054,
          2055,
          2056,
          2057,
          2058,
          2059,
          2060,
          2061,
          2062,
          2063,
          2064,
          2065
         ],
         "xaxis": "x",
         "y": [
          0,
          0,
          0,
          0,
          0,
          614887.15,
          621687.15,
          621687.15,
          621687.15,
          621687.15,
          621687.15,
          621687.15,
          621687.15,
          628487.15,
          628487.15,
          628487.15,
          628487.15,
          628487.15,
          628487.15,
          628487.15,
          635287.15,
          635287.15,
          635287.15,
          635287.15,
          635287.15,
          635287.15,
          635287.15,
          642087.15,
          642087.15,
          642087.15,
          642087.15,
          642087.15,
          642087.15,
          642087.15,
          648887.15,
          648887.15,
          648887.15,
          648887.15,
          648887.15,
          648887.15,
          648887.15,
          655687.15,
          655687.15,
          655687.15,
          655687.15,
          655687.15
         ],
         "yaxis": "y"
        },
        {
         "alignmentgroup": "True",
         "hovertemplate": "asset_domain=gas_network<br>scenario=Dual Fuel - Pipeline (EOL)<br>=%{x}<br>cum_cost=%{y}<extra></extra>",
         "legendgroup": "gas_network",
         "marker": {
          "color": "palevioletred",
          "line": {
           "width": 0
          },
          "pattern": {
           "shape": ""
          }
         },
         "name": "Gas",
         "offsetgroup": "gas_network",
         "orientation": "v",
         "showlegend": false,
         "textposition": "auto",
         "type": "bar",
         "x": [
          2020,
          2021,
          2022,
          2023,
          2024,
          2025,
          2026,
          2027,
          2028,
          2029,
          2030,
          2031,
          2032,
          2033,
          2034,
          2035,
          2036,
          2037,
          2038,
          2039,
          2040,
          2041,
          2042,
          2043,
          2044,
          2045,
          2046,
          2047,
          2048,
          2049,
          2050,
          2051,
          2052,
          2053,
          2054,
          2055,
          2056,
          2057,
          2058,
          2059,
          2060,
          2061,
          2062,
          2063,
          2064,
          2065
         ],
         "xaxis": "x2",
         "y": [
          0,
          0,
          0,
          0,
          0,
          614887.15,
          621687.15,
          621687.15,
          621687.15,
          621687.15,
          621687.15,
          621687.15,
          621687.15,
          628487.15,
          628487.15,
          628487.15,
          628487.15,
          628487.15,
          628487.15,
          628487.15,
          635287.15,
          635287.15,
          635287.15,
          635287.15,
          635287.15,
          635287.15,
          635287.15,
          642087.15,
          642087.15,
          642087.15,
          642087.15,
          642087.15,
          642087.15,
          642087.15,
          648887.15,
          648887.15,
          648887.15,
          648887.15,
          648887.15,
          648887.15,
          648887.15,
          655687.15,
          655687.15,
          655687.15,
          655687.15,
          655687.15
         ],
         "yaxis": "y2"
        },
        {
         "alignmentgroup": "True",
         "hovertemplate": "asset_domain=gas_network<br>scenario=Dual Fuel - Pipeline (Accelerated)<br>=%{x}<br>cum_cost=%{y}<extra></extra>",
         "legendgroup": "gas_network",
         "marker": {
          "color": "palevioletred",
          "line": {
           "width": 0
          },
          "pattern": {
           "shape": ""
          }
         },
         "name": "Gas",
         "offsetgroup": "gas_network",
         "orientation": "v",
         "showlegend": false,
         "textposition": "auto",
         "type": "bar",
         "x": [
          2020,
          2021,
          2022,
          2023,
          2024,
          2025,
          2026,
          2027,
          2028,
          2029,
          2030,
          2031,
          2032,
          2033,
          2034,
          2035,
          2036,
          2037,
          2038,
          2039,
          2040,
          2041,
          2042,
          2043,
          2044,
          2045,
          2046,
          2047,
          2048,
          2049,
          2050,
          2051,
          2052,
          2053,
          2054,
          2055,
          2056,
          2057,
          2058,
          2059,
          2060,
          2061,
          2062,
          2063,
          2064,
          2065
         ],
         "xaxis": "x3",
         "y": [
          0,
          0,
          0,
          0,
          0,
          614887.15,
          621687.15,
          621687.15,
          621687.15,
          621687.15,
          621687.15,
          621687.15,
          621687.15,
          628487.15,
          628487.15,
          628487.15,
          628487.15,
          628487.15,
          628487.15,
          628487.15,
          635287.15,
          635287.15,
          635287.15,
          635287.15,
          635287.15,
          635287.15,
          635287.15,
          642087.15,
          642087.15,
          642087.15,
          642087.15,
          642087.15,
          642087.15,
          642087.15,
          648887.15,
          648887.15,
          648887.15,
          648887.15,
          648887.15,
          648887.15,
          648887.15,
          655687.15,
          655687.15,
          655687.15,
          655687.15,
          655687.15
         ],
         "yaxis": "y3"
        },
        {
         "alignmentgroup": "True",
         "hovertemplate": "asset_domain=gas_network<br>scenario=Unmanaged Electrification<br>=%{x}<br>cum_cost=%{y}<extra></extra>",
         "legendgroup": "gas_network",
         "marker": {
          "color": "palevioletred",
          "line": {
           "width": 0
          },
          "pattern": {
           "shape": ""
          }
         },
         "name": "Gas",
         "offsetgroup": "gas_network",
         "orientation": "v",
         "showlegend": false,
         "textposition": "auto",
         "type": "bar",
         "x": [
          2020,
          2021,
          2022,
          2023,
          2024,
          2025,
          2026,
          2027,
          2028,
          2029,
          2030,
          2031,
          2032,
          2033,
          2034,
          2035,
          2036,
          2037,
          2038,
          2039,
          2040,
          2041,
          2042,
          2043,
          2044,
          2045,
          2046,
          2047,
          2048,
          2049,
          2050,
          2051,
          2052,
          2053,
          2054,
          2055,
          2056,
          2057,
          2058,
          2059,
          2060,
          2061,
          2062,
          2063,
          2064,
          2065
         ],
         "xaxis": "x4",
         "y": [
          0,
          0,
          0,
          0,
          0,
          614887.15,
          621287.15,
          621287.15,
          621287.15,
          621287.15,
          621287.15,
          621287.15,
          621287.15,
          626087.15,
          626087.15,
          626087.15,
          626087.15,
          626087.15,
          626087.15,
          626087.15,
          628887.15,
          628887.15,
          628887.15,
          628887.15,
          628887.15,
          628887.15,
          628887.15,
          629687.15,
          649687.15,
          649687.15,
          649687.15,
          649687.15,
          649687.15,
          649687.15,
          649687.15,
          649687.15,
          649687.15,
          649687.15,
          649687.15,
          649687.15,
          649687.15,
          649687.15,
          649687.15,
          649687.15,
          649687.15,
          649687.15
         ],
         "yaxis": "y4"
        },
        {
         "alignmentgroup": "True",
         "hovertemplate": "asset_domain=gas_network<br>scenario=Dual Fuel (Tank)<br>=%{x}<br>cum_cost=%{y}<extra></extra>",
         "legendgroup": "gas_network",
         "marker": {
          "color": "palevioletred",
          "line": {
           "width": 0
          },
          "pattern": {
           "shape": ""
          }
         },
         "name": "Gas",
         "offsetgroup": "gas_network",
         "orientation": "v",
         "showlegend": false,
         "textposition": "auto",
         "type": "bar",
         "x": [
          2020,
          2021,
          2022,
          2023,
          2024,
          2025,
          2026,
          2027,
          2028,
          2029,
          2030,
          2031,
          2032,
          2033,
          2034,
          2035,
          2036,
          2037,
          2038,
          2039,
          2040,
          2041,
          2042,
          2043,
          2044,
          2045,
          2046,
          2047,
          2048,
          2049,
          2050,
          2051,
          2052,
          2053,
          2054,
          2055,
          2056,
          2057,
          2058,
          2059,
          2060,
          2061,
          2062,
          2063,
          2064,
          2065
         ],
         "xaxis": "x5",
         "y": [
          0,
          0,
          0,
          0,
          0,
          20000,
          20000,
          20000,
          20000,
          20000,
          20000,
          20000,
          20000,
          20000,
          20000,
          20000,
          20000,
          20000,
          20000,
          20000,
          20000,
          20000,
          20000,
          20000,
          20000,
          20000,
          20000,
          20000,
          20000,
          20000,
          20000,
          20000,
          20000,
          20000,
          20000,
          20000,
          20000,
          20000,
          20000,
          20000,
          20000,
          20000,
          20000,
          20000,
          20000,
          20000
         ],
         "yaxis": "y5"
        },
        {
         "alignmentgroup": "True",
         "hovertemplate": "asset_domain=gas_network<br>scenario=Accelerated Electrification<br>=%{x}<br>cum_cost=%{y}<extra></extra>",
         "legendgroup": "gas_network",
         "marker": {
          "color": "palevioletred",
          "line": {
           "width": 0
          },
          "pattern": {
           "shape": ""
          }
         },
         "name": "Gas",
         "offsetgroup": "gas_network",
         "orientation": "v",
         "showlegend": false,
         "textposition": "auto",
         "type": "bar",
         "x": [
          2020,
          2021,
          2022,
          2023,
          2024,
          2025,
          2026,
          2027,
          2028,
          2029,
          2030,
          2031,
          2032,
          2033,
          2034,
          2035,
          2036,
          2037,
          2038,
          2039,
          2040,
          2041,
          2042,
          2043,
          2044,
          2045,
          2046,
          2047,
          2048,
          2049,
          2050,
          2051,
          2052,
          2053,
          2054,
          2055,
          2056,
          2057,
          2058,
          2059,
          2060,
          2061,
          2062,
          2063,
          2064,
          2065
         ],
         "xaxis": "x6",
         "y": [
          0,
          0,
          0,
          0,
          0,
          20000,
          20000,
          20000,
          20000,
          20000,
          20000,
          20000,
          20000,
          20000,
          20000,
          20000,
          20000,
          20000,
          20000,
          20000,
          20000,
          20000,
          20000,
          20000,
          20000,
          20000,
          20000,
          20000,
          20000,
          20000,
          20000,
          20000,
          20000,
          20000,
          20000,
          20000,
          20000,
          20000,
          20000,
          20000,
          20000,
          20000,
          20000,
          20000,
          20000,
          20000
         ],
         "yaxis": "y6"
        },
        {
         "alignmentgroup": "True",
         "hovertemplate": "asset_domain=elec_network<br>scenario=Continued Gas<br>=%{x}<br>cum_cost=%{y}<extra></extra>",
         "legendgroup": "elec_network",
         "marker": {
          "color": "goldenrod",
          "line": {
           "width": 0
          },
          "pattern": {
           "shape": ""
          }
         },
         "name": "Electric",
         "offsetgroup": "elec_network",
         "orientation": "v",
         "showlegend": true,
         "textposition": "auto",
         "type": "bar",
         "x": [
          2020,
          2021,
          2022,
          2023,
          2024,
          2025,
          2026,
          2027,
          2028,
          2029,
          2030,
          2031,
          2032,
          2033,
          2034,
          2035,
          2036,
          2037,
          2038,
          2039,
          2040,
          2041,
          2042,
          2043,
          2044,
          2045,
          2046,
          2047,
          2048,
          2049,
          2050,
          2051,
          2052,
          2053,
          2054,
          2055,
          2056,
          2057,
          2058,
          2059,
          2060,
          2061,
          2062,
          2063,
          2064,
          2065
         ],
         "xaxis": "x",
         "y": [
          0,
          0,
          0,
          0,
          0,
          0,
          0,
          0,
          0,
          0,
          0,
          0,
          0,
          0,
          0,
          0,
          0,
          0,
          0,
          0,
          0,
          0,
          0,
          0,
          0,
          0,
          0,
          0,
          0,
          0,
          0,
          0,
          0,
          0,
          0,
          0,
          0,
          0,
          0,
          0,
          0,
          0,
          0,
          0,
          0,
          0
         ],
         "yaxis": "y"
        },
        {
         "alignmentgroup": "True",
         "hovertemplate": "asset_domain=elec_network<br>scenario=Dual Fuel - Pipeline (EOL)<br>=%{x}<br>cum_cost=%{y}<extra></extra>",
         "legendgroup": "elec_network",
         "marker": {
          "color": "goldenrod",
          "line": {
           "width": 0
          },
          "pattern": {
           "shape": ""
          }
         },
         "name": "Electric",
         "offsetgroup": "elec_network",
         "orientation": "v",
         "showlegend": false,
         "textposition": "auto",
         "type": "bar",
         "x": [
          2020,
          2021,
          2022,
          2023,
          2024,
          2025,
          2026,
          2027,
          2028,
          2029,
          2030,
          2031,
          2032,
          2033,
          2034,
          2035,
          2036,
          2037,
          2038,
          2039,
          2040,
          2041,
          2042,
          2043,
          2044,
          2045,
          2046,
          2047,
          2048,
          2049,
          2050,
          2051,
          2052,
          2053,
          2054,
          2055,
          2056,
          2057,
          2058,
          2059,
          2060,
          2061,
          2062,
          2063,
          2064,
          2065
         ],
         "xaxis": "x2",
         "y": [
          0,
          0,
          0,
          0,
          0,
          0,
          0,
          0,
          0,
          0,
          0,
          0,
          0,
          0,
          0,
          0,
          0,
          0,
          0,
          0,
          0,
          0,
          0,
          0,
          0,
          0,
          0,
          0,
          0,
          0,
          0,
          0,
          0,
          0,
          0,
          0,
          0,
          0,
          0,
          0,
          0,
          0,
          0,
          0,
          0,
          0
         ],
         "yaxis": "y2"
        },
        {
         "alignmentgroup": "True",
         "hovertemplate": "asset_domain=elec_network<br>scenario=Dual Fuel - Pipeline (Accelerated)<br>=%{x}<br>cum_cost=%{y}<extra></extra>",
         "legendgroup": "elec_network",
         "marker": {
          "color": "goldenrod",
          "line": {
           "width": 0
          },
          "pattern": {
           "shape": ""
          }
         },
         "name": "Electric",
         "offsetgroup": "elec_network",
         "orientation": "v",
         "showlegend": false,
         "textposition": "auto",
         "type": "bar",
         "x": [
          2020,
          2021,
          2022,
          2023,
          2024,
          2025,
          2026,
          2027,
          2028,
          2029,
          2030,
          2031,
          2032,
          2033,
          2034,
          2035,
          2036,
          2037,
          2038,
          2039,
          2040,
          2041,
          2042,
          2043,
          2044,
          2045,
          2046,
          2047,
          2048,
          2049,
          2050,
          2051,
          2052,
          2053,
          2054,
          2055,
          2056,
          2057,
          2058,
          2059,
          2060,
          2061,
          2062,
          2063,
          2064,
          2065
         ],
         "xaxis": "x3",
         "y": [
          0,
          0,
          0,
          0,
          0,
          0,
          0,
          0,
          0,
          0,
          0,
          0,
          0,
          0,
          0,
          0,
          0,
          0,
          0,
          0,
          0,
          0,
          0,
          0,
          0,
          0,
          0,
          0,
          0,
          0,
          0,
          0,
          0,
          0,
          0,
          0,
          0,
          0,
          0,
          0,
          0,
          0,
          0,
          0,
          0,
          0
         ],
         "yaxis": "y3"
        },
        {
         "alignmentgroup": "True",
         "hovertemplate": "asset_domain=elec_network<br>scenario=Unmanaged Electrification<br>=%{x}<br>cum_cost=%{y}<extra></extra>",
         "legendgroup": "elec_network",
         "marker": {
          "color": "goldenrod",
          "line": {
           "width": 0
          },
          "pattern": {
           "shape": ""
          }
         },
         "name": "Electric",
         "offsetgroup": "elec_network",
         "orientation": "v",
         "showlegend": false,
         "textposition": "auto",
         "type": "bar",
         "x": [
          2020,
          2021,
          2022,
          2023,
          2024,
          2025,
          2026,
          2027,
          2028,
          2029,
          2030,
          2031,
          2032,
          2033,
          2034,
          2035,
          2036,
          2037,
          2038,
          2039,
          2040,
          2041,
          2042,
          2043,
          2044,
          2045,
          2046,
          2047,
          2048,
          2049,
          2050,
          2051,
          2052,
          2053,
          2054,
          2055,
          2056,
          2057,
          2058,
          2059,
          2060,
          2061,
          2062,
          2063,
          2064,
          2065
         ],
         "xaxis": "x4",
         "y": [
          0,
          0,
          0,
          0,
          0,
          0,
          0,
          0,
          0,
          0,
          0,
          0,
          0,
          0,
          0,
          0,
          0,
          20000,
          20000,
          20000,
          40000,
          40000,
          60000,
          80000,
          80000,
          80000,
          80000,
          80000,
          80000,
          80000,
          80000,
          80000,
          80000,
          80000,
          80000,
          80000,
          80000,
          80000,
          80000,
          80000,
          80000,
          80000,
          80000,
          80000,
          80000,
          80000
         ],
         "yaxis": "y4"
        },
        {
         "alignmentgroup": "True",
         "hovertemplate": "asset_domain=elec_network<br>scenario=Dual Fuel (Tank)<br>=%{x}<br>cum_cost=%{y}<extra></extra>",
         "legendgroup": "elec_network",
         "marker": {
          "color": "goldenrod",
          "line": {
           "width": 0
          },
          "pattern": {
           "shape": ""
          }
         },
         "name": "Electric",
         "offsetgroup": "elec_network",
         "orientation": "v",
         "showlegend": false,
         "textposition": "auto",
         "type": "bar",
         "x": [
          2020,
          2021,
          2022,
          2023,
          2024,
          2025,
          2026,
          2027,
          2028,
          2029,
          2030,
          2031,
          2032,
          2033,
          2034,
          2035,
          2036,
          2037,
          2038,
          2039,
          2040,
          2041,
          2042,
          2043,
          2044,
          2045,
          2046,
          2047,
          2048,
          2049,
          2050,
          2051,
          2052,
          2053,
          2054,
          2055,
          2056,
          2057,
          2058,
          2059,
          2060,
          2061,
          2062,
          2063,
          2064,
          2065
         ],
         "xaxis": "x5",
         "y": [
          0,
          0,
          0,
          0,
          0,
          0,
          0,
          0,
          0,
          0,
          0,
          0,
          0,
          0,
          0,
          0,
          0,
          0,
          0,
          0,
          0,
          0,
          0,
          0,
          0,
          0,
          0,
          0,
          0,
          0,
          0,
          0,
          0,
          0,
          0,
          0,
          0,
          0,
          0,
          0,
          0,
          0,
          0,
          0,
          0,
          0
         ],
         "yaxis": "y5"
        },
        {
         "alignmentgroup": "True",
         "hovertemplate": "asset_domain=elec_network<br>scenario=Accelerated Electrification<br>=%{x}<br>cum_cost=%{y}<extra></extra>",
         "legendgroup": "elec_network",
         "marker": {
          "color": "goldenrod",
          "line": {
           "width": 0
          },
          "pattern": {
           "shape": ""
          }
         },
         "name": "Electric",
         "offsetgroup": "elec_network",
         "orientation": "v",
         "showlegend": false,
         "textposition": "auto",
         "type": "bar",
         "x": [
          2020,
          2021,
          2022,
          2023,
          2024,
          2025,
          2026,
          2027,
          2028,
          2029,
          2030,
          2031,
          2032,
          2033,
          2034,
          2035,
          2036,
          2037,
          2038,
          2039,
          2040,
          2041,
          2042,
          2043,
          2044,
          2045,
          2046,
          2047,
          2048,
          2049,
          2050,
          2051,
          2052,
          2053,
          2054,
          2055,
          2056,
          2057,
          2058,
          2059,
          2060,
          2061,
          2062,
          2063,
          2064,
          2065
         ],
         "xaxis": "x6",
         "y": [
          0,
          0,
          0,
          0,
          0,
          80000,
          80000,
          80000,
          80000,
          80000,
          80000,
          80000,
          80000,
          80000,
          80000,
          80000,
          80000,
          80000,
          80000,
          80000,
          80000,
          80000,
          80000,
          80000,
          80000,
          80000,
          80000,
          80000,
          80000,
          80000,
          80000,
          80000,
          80000,
          80000,
          80000,
          80000,
          80000,
          80000,
          80000,
          80000,
          80000,
          80000,
          80000,
          80000,
          80000,
          80000
         ],
         "yaxis": "y6"
        },
        {
         "alignmentgroup": "True",
         "hovertemplate": "asset_domain=building<br>scenario=Continued Gas<br>=%{x}<br>cum_cost=%{y}<extra></extra>",
         "legendgroup": "building",
         "marker": {
          "color": "cornflowerblue",
          "line": {
           "width": 0
          },
          "pattern": {
           "shape": ""
          }
         },
         "name": "Building",
         "offsetgroup": "building",
         "orientation": "v",
         "showlegend": true,
         "textposition": "auto",
         "type": "bar",
         "x": [
          2020,
          2021,
          2022,
          2023,
          2024,
          2025,
          2026,
          2027,
          2028,
          2029,
          2030,
          2031,
          2032,
          2033,
          2034,
          2035,
          2036,
          2037,
          2038,
          2039,
          2040,
          2041,
          2042,
          2043,
          2044,
          2045,
          2046,
          2047,
          2048,
          2049,
          2050,
          2051,
          2052,
          2053,
          2054,
          2055,
          2056,
          2057,
          2058,
          2059,
          2060,
          2061,
          2062,
          2063,
          2064,
          2065
         ],
         "xaxis": "x",
         "y": [
          0,
          0,
          0,
          0,
          0,
          16347.389248080002,
          16347.389248080002,
          31885.007983433283,
          47574.398744766135,
          47574.398744766135,
          47574.398744766135,
          66050.21913159922,
          83161.18285534462,
          83161.18285534462,
          83161.18285534462,
          101140.63333003281,
          122235.07434118079,
          202932.45163399234,
          202932.45163399234,
          202932.45163399234,
          224890.880742729,
          243432.54691785865,
          265663.92478488246,
          320583.89771939896,
          320583.89771939896,
          362371.6336065152,
          362371.6336065152,
          362371.6336065152,
          414795.03715341975,
          414795.03715341975,
          414795.03715341975,
          414795.03715341975,
          414795.03715341975,
          414795.03715341975,
          414795.03715341975,
          414795.03715341975,
          414795.03715341975,
          414795.03715341975,
          414795.03715341975,
          414795.03715341975,
          414795.03715341975,
          414795.03715341975,
          414795.03715341975,
          414795.03715341975,
          414795.03715341975,
          414795.03715341975
         ],
         "yaxis": "y"
        },
        {
         "alignmentgroup": "True",
         "hovertemplate": "asset_domain=building<br>scenario=Dual Fuel - Pipeline (EOL)<br>=%{x}<br>cum_cost=%{y}<extra></extra>",
         "legendgroup": "building",
         "marker": {
          "color": "cornflowerblue",
          "line": {
           "width": 0
          },
          "pattern": {
           "shape": ""
          }
         },
         "name": "Building",
         "offsetgroup": "building",
         "orientation": "v",
         "showlegend": false,
         "textposition": "auto",
         "type": "bar",
         "x": [
          2020,
          2021,
          2022,
          2023,
          2024,
          2025,
          2026,
          2027,
          2028,
          2029,
          2030,
          2031,
          2032,
          2033,
          2034,
          2035,
          2036,
          2037,
          2038,
          2039,
          2040,
          2041,
          2042,
          2043,
          2044,
          2045,
          2046,
          2047,
          2048,
          2049,
          2050,
          2051,
          2052,
          2053,
          2054,
          2055,
          2056,
          2057,
          2058,
          2059,
          2060,
          2061,
          2062,
          2063,
          2064,
          2065
         ],
         "xaxis": "x2",
         "y": [
          0,
          0,
          0,
          0,
          0,
          27771.473773440004,
          27771.473773440004,
          53699.04490730689,
          79832.90514823758,
          79832.90514823758,
          79832.90514823758,
          110842.86834570715,
          139699.39185359102,
          139699.39185359102,
          139699.39185359102,
          169299.24600931414,
          205588.19749566316,
          342145.9343814014,
          342145.9343814014,
          342145.9343814014,
          373942.35216284305,
          399046.69044419937,
          436148.28567067964,
          526648.9655714396,
          526648.9655714396,
          596431.9775484735,
          596431.9775484735,
          596431.9775484735,
          685483.6588077933,
          685483.6588077933,
          685483.6588077933,
          685483.6588077933,
          685483.6588077933,
          685483.6588077933,
          685483.6588077933,
          685483.6588077933,
          685483.6588077933,
          685483.6588077933,
          685483.6588077933,
          685483.6588077933,
          685483.6588077933,
          685483.6588077933,
          685483.6588077933,
          685483.6588077933,
          685483.6588077933,
          685483.6588077933
         ],
         "yaxis": "y2"
        },
        {
         "alignmentgroup": "True",
         "hovertemplate": "asset_domain=building<br>scenario=Dual Fuel - Pipeline (Accelerated)<br>=%{x}<br>cum_cost=%{y}<extra></extra>",
         "legendgroup": "building",
         "marker": {
          "color": "cornflowerblue",
          "line": {
           "width": 0
          },
          "pattern": {
           "shape": ""
          }
         },
         "name": "Building",
         "offsetgroup": "building",
         "orientation": "v",
         "showlegend": false,
         "textposition": "auto",
         "type": "bar",
         "x": [
          2020,
          2021,
          2022,
          2023,
          2024,
          2025,
          2026,
          2027,
          2028,
          2029,
          2030,
          2031,
          2032,
          2033,
          2034,
          2035,
          2036,
          2037,
          2038,
          2039,
          2040,
          2041,
          2042,
          2043,
          2044,
          2045,
          2046,
          2047,
          2048,
          2049,
          2050,
          2051,
          2052,
          2053,
          2054,
          2055,
          2056,
          2057,
          2058,
          2059,
          2060,
          2061,
          2062,
          2063,
          2064,
          2065
         ],
         "xaxis": "x3",
         "y": [
          0,
          0,
          0,
          0,
          0,
          382432.10076648,
          382432.10076648,
          382432.10076648,
          382432.10076648,
          382432.10076648,
          382432.10076648,
          382432.10076648,
          382432.10076648,
          382432.10076648,
          382432.10076648,
          382432.10076648,
          382432.10076648,
          382432.10076648,
          382432.10076648,
          382432.10076648,
          410921.72857583326,
          432653.14108565944,
          432653.14108565944,
          432653.14108565944,
          432653.14108565944,
          432653.14108565944,
          432653.14108565944,
          432653.14108565944,
          432653.14108565944,
          432653.14108565944,
          432653.14108565944,
          432653.14108565944,
          432653.14108565944,
          432653.14108565944,
          432653.14108565944,
          432653.14108565944,
          432653.14108565944,
          432653.14108565944,
          432653.14108565944,
          432653.14108565944,
          432653.14108565944,
          432653.14108565944,
          432653.14108565944,
          432653.14108565944,
          432653.14108565944,
          432653.14108565944
         ],
         "yaxis": "y3"
        },
        {
         "alignmentgroup": "True",
         "hovertemplate": "asset_domain=building<br>scenario=Unmanaged Electrification<br>=%{x}<br>cum_cost=%{y}<extra></extra>",
         "legendgroup": "building",
         "marker": {
          "color": "cornflowerblue",
          "line": {
           "width": 0
          },
          "pattern": {
           "shape": ""
          }
         },
         "name": "Building",
         "offsetgroup": "building",
         "orientation": "v",
         "showlegend": false,
         "textposition": "auto",
         "type": "bar",
         "x": [
          2020,
          2021,
          2022,
          2023,
          2024,
          2025,
          2026,
          2027,
          2028,
          2029,
          2030,
          2031,
          2032,
          2033,
          2034,
          2035,
          2036,
          2037,
          2038,
          2039,
          2040,
          2041,
          2042,
          2043,
          2044,
          2045,
          2046,
          2047,
          2048,
          2049,
          2050,
          2051,
          2052,
          2053,
          2054,
          2055,
          2056,
          2057,
          2058,
          2059,
          2060,
          2061,
          2062,
          2063,
          2064,
          2065
         ],
         "xaxis": "x4",
         "y": [
          0,
          0,
          0,
          0,
          0,
          36499.99447008,
          36499.99447008,
          70569.69781360953,
          104613.14854461674,
          104613.14854461674,
          104613.14854461674,
          145510.57864840046,
          183328.27145610342,
          183328.27145610342,
          183328.27145610342,
          221986.07566286076,
          269642.4290565098,
          445623.66431683965,
          445623.66431683965,
          445623.66431683965,
          486820.64179274114,
          519095.56491450826,
          568010.7391284957,
          684685.7036286439,
          684685.7036286439,
          775635.2452010071,
          775635.2452010071,
          775635.2452010071,
          892384.3055698838,
          892384.3055698838,
          892384.3055698838,
          892384.3055698838,
          892384.3055698838,
          892384.3055698838,
          892384.3055698838,
          892384.3055698838,
          892384.3055698838,
          892384.3055698838,
          892384.3055698838,
          892384.3055698838,
          892384.3055698838,
          892384.3055698838,
          892384.3055698838,
          892384.3055698838,
          892384.3055698838,
          892384.3055698838
         ],
         "yaxis": "y4"
        },
        {
         "alignmentgroup": "True",
         "hovertemplate": "asset_domain=building<br>scenario=Dual Fuel (Tank)<br>=%{x}<br>cum_cost=%{y}<extra></extra>",
         "legendgroup": "building",
         "marker": {
          "color": "cornflowerblue",
          "line": {
           "width": 0
          },
          "pattern": {
           "shape": ""
          }
         },
         "name": "Building",
         "offsetgroup": "building",
         "orientation": "v",
         "showlegend": false,
         "textposition": "auto",
         "type": "bar",
         "x": [
          2020,
          2021,
          2022,
          2023,
          2024,
          2025,
          2026,
          2027,
          2028,
          2029,
          2030,
          2031,
          2032,
          2033,
          2034,
          2035,
          2036,
          2037,
          2038,
          2039,
          2040,
          2041,
          2042,
          2043,
          2044,
          2045,
          2046,
          2047,
          2048,
          2049,
          2050,
          2051,
          2052,
          2053,
          2054,
          2055,
          2056,
          2057,
          2058,
          2059,
          2060,
          2061,
          2062,
          2063,
          2064,
          2065
         ],
         "xaxis": "x5",
         "y": [
          0,
          0,
          0,
          0,
          0,
          433185.80599728005,
          433185.80599728005,
          433185.80599728005,
          433185.80599728005,
          433185.80599728005,
          433185.80599728005,
          433185.80599728005,
          433185.80599728005,
          433185.80599728005,
          433185.80599728005,
          433185.80599728005,
          433185.80599728005,
          433185.80599728005,
          433185.80599728005,
          433185.80599728005,
          465872.5639245358,
          509676.1225093306,
          509676.1225093306,
          509676.1225093306,
          509676.1225093306,
          509676.1225093306,
          509676.1225093306,
          509676.1225093306,
          509676.1225093306,
          509676.1225093306,
          509676.1225093306,
          509676.1225093306,
          509676.1225093306,
          509676.1225093306,
          509676.1225093306,
          509676.1225093306,
          509676.1225093306,
          509676.1225093306,
          509676.1225093306,
          509676.1225093306,
          509676.1225093306,
          509676.1225093306,
          509676.1225093306,
          509676.1225093306,
          509676.1225093306,
          509676.1225093306
         ],
         "yaxis": "y5"
        },
        {
         "alignmentgroup": "True",
         "hovertemplate": "asset_domain=building<br>scenario=Accelerated Electrification<br>=%{x}<br>cum_cost=%{y}<extra></extra>",
         "legendgroup": "building",
         "marker": {
          "color": "cornflowerblue",
          "line": {
           "width": 0
          },
          "pattern": {
           "shape": ""
          }
         },
         "name": "Building",
         "offsetgroup": "building",
         "orientation": "v",
         "showlegend": false,
         "textposition": "auto",
         "type": "bar",
         "x": [
          2020,
          2021,
          2022,
          2023,
          2024,
          2025,
          2026,
          2027,
          2028,
          2029,
          2030,
          2031,
          2032,
          2033,
          2034,
          2035,
          2036,
          2037,
          2038,
          2039,
          2040,
          2041,
          2042,
          2043,
          2044,
          2045,
          2046,
          2047,
          2048,
          2049,
          2050,
          2051,
          2052,
          2053,
          2054,
          2055,
          2056,
          2057,
          2058,
          2059,
          2060,
          2061,
          2062,
          2063,
          2064,
          2065
         ],
         "xaxis": "x6",
         "y": [
          0,
          0,
          0,
          0,
          0,
          631231.9873920002,
          631231.9873920002,
          631231.9873920002,
          631231.9873920002,
          631231.9873920002,
          631231.9873920002,
          631231.9873920002,
          631231.9873920002,
          631231.9873920002,
          631231.9873920002,
          631231.9873920002,
          631231.9873920002,
          631231.9873920002,
          631231.9873920002,
          631231.9873920002,
          672428.3221570902,
          704702.5168732711,
          704702.5168732711,
          704702.5168732711,
          704702.5168732711,
          704702.5168732711,
          704702.5168732711,
          704702.5168732711,
          704702.5168732711,
          704702.5168732711,
          704702.5168732711,
          704702.5168732711,
          704702.5168732711,
          704702.5168732711,
          704702.5168732711,
          704702.5168732711,
          704702.5168732711,
          704702.5168732711,
          704702.5168732711,
          704702.5168732711,
          704702.5168732711,
          704702.5168732711,
          704702.5168732711,
          704702.5168732711,
          704702.5168732711,
          704702.5168732711
         ],
         "yaxis": "y6"
        }
       ],
       "layout": {
        "annotations": [
         {
          "font": {},
          "showarrow": false,
          "text": "Continued Gas",
          "x": 0.07916666666666666,
          "xanchor": "center",
          "xref": "paper",
          "y": 1,
          "yanchor": "bottom",
          "yref": "paper"
         },
         {
          "font": {},
          "showarrow": false,
          "text": "Dual Fuel - Pipeline (EOL)",
          "x": 0.2475,
          "xanchor": "center",
          "xref": "paper",
          "y": 1,
          "yanchor": "bottom",
          "yref": "paper"
         },
         {
          "font": {},
          "showarrow": false,
          "text": "Dual Fuel - Pipeline (Accelerated)",
          "x": 0.41583333333333333,
          "xanchor": "center",
          "xref": "paper",
          "y": 1,
          "yanchor": "bottom",
          "yref": "paper"
         },
         {
          "font": {},
          "showarrow": false,
          "text": "Unmanaged Electrification",
          "x": 0.5841666666666667,
          "xanchor": "center",
          "xref": "paper",
          "y": 1,
          "yanchor": "bottom",
          "yref": "paper"
         },
         {
          "font": {},
          "showarrow": false,
          "text": "Dual Fuel (Tank)",
          "x": 0.7525,
          "xanchor": "center",
          "xref": "paper",
          "y": 1,
          "yanchor": "bottom",
          "yref": "paper"
         },
         {
          "font": {},
          "showarrow": false,
          "text": "Accelerated Electrification",
          "x": 0.9208333333333334,
          "xanchor": "center",
          "xref": "paper",
          "y": 1,
          "yanchor": "bottom",
          "yref": "paper"
         }
        ],
        "bargap": 0,
        "barmode": "stack",
        "legend": {
         "title": {
          "text": ""
         },
         "tracegroupgap": 0,
         "x": 0.92,
         "y": 0.98
        },
        "margin": {
         "t": 60
        },
        "plot_bgcolor": "#f5f5f5",
        "template": {
         "data": {
          "bar": [
           {
            "error_x": {
             "color": "#2a3f5f"
            },
            "error_y": {
             "color": "#2a3f5f"
            },
            "marker": {
             "line": {
              "color": "#E5ECF6",
              "width": 0.5
             },
             "pattern": {
              "fillmode": "overlay",
              "size": 10,
              "solidity": 0.2
             }
            },
            "type": "bar"
           }
          ],
          "barpolar": [
           {
            "marker": {
             "line": {
              "color": "#E5ECF6",
              "width": 0.5
             },
             "pattern": {
              "fillmode": "overlay",
              "size": 10,
              "solidity": 0.2
             }
            },
            "type": "barpolar"
           }
          ],
          "carpet": [
           {
            "aaxis": {
             "endlinecolor": "#2a3f5f",
             "gridcolor": "white",
             "linecolor": "white",
             "minorgridcolor": "white",
             "startlinecolor": "#2a3f5f"
            },
            "baxis": {
             "endlinecolor": "#2a3f5f",
             "gridcolor": "white",
             "linecolor": "white",
             "minorgridcolor": "white",
             "startlinecolor": "#2a3f5f"
            },
            "type": "carpet"
           }
          ],
          "choropleth": [
           {
            "colorbar": {
             "outlinewidth": 0,
             "ticks": ""
            },
            "type": "choropleth"
           }
          ],
          "contour": [
           {
            "colorbar": {
             "outlinewidth": 0,
             "ticks": ""
            },
            "colorscale": [
             [
              0,
              "#0d0887"
             ],
             [
              0.1111111111111111,
              "#46039f"
             ],
             [
              0.2222222222222222,
              "#7201a8"
             ],
             [
              0.3333333333333333,
              "#9c179e"
             ],
             [
              0.4444444444444444,
              "#bd3786"
             ],
             [
              0.5555555555555556,
              "#d8576b"
             ],
             [
              0.6666666666666666,
              "#ed7953"
             ],
             [
              0.7777777777777778,
              "#fb9f3a"
             ],
             [
              0.8888888888888888,
              "#fdca26"
             ],
             [
              1,
              "#f0f921"
             ]
            ],
            "type": "contour"
           }
          ],
          "contourcarpet": [
           {
            "colorbar": {
             "outlinewidth": 0,
             "ticks": ""
            },
            "type": "contourcarpet"
           }
          ],
          "heatmap": [
           {
            "colorbar": {
             "outlinewidth": 0,
             "ticks": ""
            },
            "colorscale": [
             [
              0,
              "#0d0887"
             ],
             [
              0.1111111111111111,
              "#46039f"
             ],
             [
              0.2222222222222222,
              "#7201a8"
             ],
             [
              0.3333333333333333,
              "#9c179e"
             ],
             [
              0.4444444444444444,
              "#bd3786"
             ],
             [
              0.5555555555555556,
              "#d8576b"
             ],
             [
              0.6666666666666666,
              "#ed7953"
             ],
             [
              0.7777777777777778,
              "#fb9f3a"
             ],
             [
              0.8888888888888888,
              "#fdca26"
             ],
             [
              1,
              "#f0f921"
             ]
            ],
            "type": "heatmap"
           }
          ],
          "heatmapgl": [
           {
            "colorbar": {
             "outlinewidth": 0,
             "ticks": ""
            },
            "colorscale": [
             [
              0,
              "#0d0887"
             ],
             [
              0.1111111111111111,
              "#46039f"
             ],
             [
              0.2222222222222222,
              "#7201a8"
             ],
             [
              0.3333333333333333,
              "#9c179e"
             ],
             [
              0.4444444444444444,
              "#bd3786"
             ],
             [
              0.5555555555555556,
              "#d8576b"
             ],
             [
              0.6666666666666666,
              "#ed7953"
             ],
             [
              0.7777777777777778,
              "#fb9f3a"
             ],
             [
              0.8888888888888888,
              "#fdca26"
             ],
             [
              1,
              "#f0f921"
             ]
            ],
            "type": "heatmapgl"
           }
          ],
          "histogram": [
           {
            "marker": {
             "pattern": {
              "fillmode": "overlay",
              "size": 10,
              "solidity": 0.2
             }
            },
            "type": "histogram"
           }
          ],
          "histogram2d": [
           {
            "colorbar": {
             "outlinewidth": 0,
             "ticks": ""
            },
            "colorscale": [
             [
              0,
              "#0d0887"
             ],
             [
              0.1111111111111111,
              "#46039f"
             ],
             [
              0.2222222222222222,
              "#7201a8"
             ],
             [
              0.3333333333333333,
              "#9c179e"
             ],
             [
              0.4444444444444444,
              "#bd3786"
             ],
             [
              0.5555555555555556,
              "#d8576b"
             ],
             [
              0.6666666666666666,
              "#ed7953"
             ],
             [
              0.7777777777777778,
              "#fb9f3a"
             ],
             [
              0.8888888888888888,
              "#fdca26"
             ],
             [
              1,
              "#f0f921"
             ]
            ],
            "type": "histogram2d"
           }
          ],
          "histogram2dcontour": [
           {
            "colorbar": {
             "outlinewidth": 0,
             "ticks": ""
            },
            "colorscale": [
             [
              0,
              "#0d0887"
             ],
             [
              0.1111111111111111,
              "#46039f"
             ],
             [
              0.2222222222222222,
              "#7201a8"
             ],
             [
              0.3333333333333333,
              "#9c179e"
             ],
             [
              0.4444444444444444,
              "#bd3786"
             ],
             [
              0.5555555555555556,
              "#d8576b"
             ],
             [
              0.6666666666666666,
              "#ed7953"
             ],
             [
              0.7777777777777778,
              "#fb9f3a"
             ],
             [
              0.8888888888888888,
              "#fdca26"
             ],
             [
              1,
              "#f0f921"
             ]
            ],
            "type": "histogram2dcontour"
           }
          ],
          "mesh3d": [
           {
            "colorbar": {
             "outlinewidth": 0,
             "ticks": ""
            },
            "type": "mesh3d"
           }
          ],
          "parcoords": [
           {
            "line": {
             "colorbar": {
              "outlinewidth": 0,
              "ticks": ""
             }
            },
            "type": "parcoords"
           }
          ],
          "pie": [
           {
            "automargin": true,
            "type": "pie"
           }
          ],
          "scatter": [
           {
            "fillpattern": {
             "fillmode": "overlay",
             "size": 10,
             "solidity": 0.2
            },
            "type": "scatter"
           }
          ],
          "scatter3d": [
           {
            "line": {
             "colorbar": {
              "outlinewidth": 0,
              "ticks": ""
             }
            },
            "marker": {
             "colorbar": {
              "outlinewidth": 0,
              "ticks": ""
             }
            },
            "type": "scatter3d"
           }
          ],
          "scattercarpet": [
           {
            "marker": {
             "colorbar": {
              "outlinewidth": 0,
              "ticks": ""
             }
            },
            "type": "scattercarpet"
           }
          ],
          "scattergeo": [
           {
            "marker": {
             "colorbar": {
              "outlinewidth": 0,
              "ticks": ""
             }
            },
            "type": "scattergeo"
           }
          ],
          "scattergl": [
           {
            "marker": {
             "colorbar": {
              "outlinewidth": 0,
              "ticks": ""
             }
            },
            "type": "scattergl"
           }
          ],
          "scattermapbox": [
           {
            "marker": {
             "colorbar": {
              "outlinewidth": 0,
              "ticks": ""
             }
            },
            "type": "scattermapbox"
           }
          ],
          "scatterpolar": [
           {
            "marker": {
             "colorbar": {
              "outlinewidth": 0,
              "ticks": ""
             }
            },
            "type": "scatterpolar"
           }
          ],
          "scatterpolargl": [
           {
            "marker": {
             "colorbar": {
              "outlinewidth": 0,
              "ticks": ""
             }
            },
            "type": "scatterpolargl"
           }
          ],
          "scatterternary": [
           {
            "marker": {
             "colorbar": {
              "outlinewidth": 0,
              "ticks": ""
             }
            },
            "type": "scatterternary"
           }
          ],
          "surface": [
           {
            "colorbar": {
             "outlinewidth": 0,
             "ticks": ""
            },
            "colorscale": [
             [
              0,
              "#0d0887"
             ],
             [
              0.1111111111111111,
              "#46039f"
             ],
             [
              0.2222222222222222,
              "#7201a8"
             ],
             [
              0.3333333333333333,
              "#9c179e"
             ],
             [
              0.4444444444444444,
              "#bd3786"
             ],
             [
              0.5555555555555556,
              "#d8576b"
             ],
             [
              0.6666666666666666,
              "#ed7953"
             ],
             [
              0.7777777777777778,
              "#fb9f3a"
             ],
             [
              0.8888888888888888,
              "#fdca26"
             ],
             [
              1,
              "#f0f921"
             ]
            ],
            "type": "surface"
           }
          ],
          "table": [
           {
            "cells": {
             "fill": {
              "color": "#EBF0F8"
             },
             "line": {
              "color": "white"
             }
            },
            "header": {
             "fill": {
              "color": "#C8D4E3"
             },
             "line": {
              "color": "white"
             }
            },
            "type": "table"
           }
          ]
         },
         "layout": {
          "annotationdefaults": {
           "arrowcolor": "#2a3f5f",
           "arrowhead": 0,
           "arrowwidth": 1
          },
          "autotypenumbers": "strict",
          "coloraxis": {
           "colorbar": {
            "outlinewidth": 0,
            "ticks": ""
           }
          },
          "colorscale": {
           "diverging": [
            [
             0,
             "#8e0152"
            ],
            [
             0.1,
             "#c51b7d"
            ],
            [
             0.2,
             "#de77ae"
            ],
            [
             0.3,
             "#f1b6da"
            ],
            [
             0.4,
             "#fde0ef"
            ],
            [
             0.5,
             "#f7f7f7"
            ],
            [
             0.6,
             "#e6f5d0"
            ],
            [
             0.7,
             "#b8e186"
            ],
            [
             0.8,
             "#7fbc41"
            ],
            [
             0.9,
             "#4d9221"
            ],
            [
             1,
             "#276419"
            ]
           ],
           "sequential": [
            [
             0,
             "#0d0887"
            ],
            [
             0.1111111111111111,
             "#46039f"
            ],
            [
             0.2222222222222222,
             "#7201a8"
            ],
            [
             0.3333333333333333,
             "#9c179e"
            ],
            [
             0.4444444444444444,
             "#bd3786"
            ],
            [
             0.5555555555555556,
             "#d8576b"
            ],
            [
             0.6666666666666666,
             "#ed7953"
            ],
            [
             0.7777777777777778,
             "#fb9f3a"
            ],
            [
             0.8888888888888888,
             "#fdca26"
            ],
            [
             1,
             "#f0f921"
            ]
           ],
           "sequentialminus": [
            [
             0,
             "#0d0887"
            ],
            [
             0.1111111111111111,
             "#46039f"
            ],
            [
             0.2222222222222222,
             "#7201a8"
            ],
            [
             0.3333333333333333,
             "#9c179e"
            ],
            [
             0.4444444444444444,
             "#bd3786"
            ],
            [
             0.5555555555555556,
             "#d8576b"
            ],
            [
             0.6666666666666666,
             "#ed7953"
            ],
            [
             0.7777777777777778,
             "#fb9f3a"
            ],
            [
             0.8888888888888888,
             "#fdca26"
            ],
            [
             1,
             "#f0f921"
            ]
           ]
          },
          "colorway": [
           "#636efa",
           "#EF553B",
           "#00cc96",
           "#ab63fa",
           "#FFA15A",
           "#19d3f3",
           "#FF6692",
           "#B6E880",
           "#FF97FF",
           "#FECB52"
          ],
          "font": {
           "color": "#2a3f5f"
          },
          "geo": {
           "bgcolor": "white",
           "lakecolor": "white",
           "landcolor": "#E5ECF6",
           "showlakes": true,
           "showland": true,
           "subunitcolor": "white"
          },
          "hoverlabel": {
           "align": "left"
          },
          "hovermode": "closest",
          "mapbox": {
           "style": "light"
          },
          "paper_bgcolor": "white",
          "plot_bgcolor": "#E5ECF6",
          "polar": {
           "angularaxis": {
            "gridcolor": "white",
            "linecolor": "white",
            "ticks": ""
           },
           "bgcolor": "#E5ECF6",
           "radialaxis": {
            "gridcolor": "white",
            "linecolor": "white",
            "ticks": ""
           }
          },
          "scene": {
           "xaxis": {
            "backgroundcolor": "#E5ECF6",
            "gridcolor": "white",
            "gridwidth": 2,
            "linecolor": "white",
            "showbackground": true,
            "ticks": "",
            "zerolinecolor": "white"
           },
           "yaxis": {
            "backgroundcolor": "#E5ECF6",
            "gridcolor": "white",
            "gridwidth": 2,
            "linecolor": "white",
            "showbackground": true,
            "ticks": "",
            "zerolinecolor": "white"
           },
           "zaxis": {
            "backgroundcolor": "#E5ECF6",
            "gridcolor": "white",
            "gridwidth": 2,
            "linecolor": "white",
            "showbackground": true,
            "ticks": "",
            "zerolinecolor": "white"
           }
          },
          "shapedefaults": {
           "line": {
            "color": "#2a3f5f"
           }
          },
          "ternary": {
           "aaxis": {
            "gridcolor": "white",
            "linecolor": "white",
            "ticks": ""
           },
           "baxis": {
            "gridcolor": "white",
            "linecolor": "white",
            "ticks": ""
           },
           "bgcolor": "#E5ECF6",
           "caxis": {
            "gridcolor": "white",
            "linecolor": "white",
            "ticks": ""
           }
          },
          "title": {
           "x": 0.05
          },
          "xaxis": {
           "automargin": true,
           "gridcolor": "white",
           "linecolor": "white",
           "ticks": "",
           "title": {
            "standoff": 15
           },
           "zerolinecolor": "white",
           "zerolinewidth": 2
          },
          "yaxis": {
           "automargin": true,
           "gridcolor": "white",
           "linecolor": "white",
           "ticks": "",
           "title": {
            "standoff": 15
           },
           "zerolinecolor": "white",
           "zerolinewidth": 2
          }
         }
        },
        "width": 1300,
        "xaxis": {
         "anchor": "y",
         "domain": [
          0,
          0.15833333333333333
         ],
         "tickangle": -90,
         "title": {
          "text": ""
         }
        },
        "xaxis2": {
         "anchor": "y2",
         "domain": [
          0.16833333333333333,
          0.32666666666666666
         ],
         "matches": "x",
         "tickangle": -90,
         "title": {
          "text": ""
         }
        },
        "xaxis3": {
         "anchor": "y3",
         "domain": [
          0.33666666666666667,
          0.495
         ],
         "matches": "x",
         "tickangle": -90,
         "title": {
          "text": ""
         }
        },
        "xaxis4": {
         "anchor": "y4",
         "domain": [
          0.505,
          0.6633333333333333
         ],
         "matches": "x",
         "tickangle": -90,
         "title": {
          "text": ""
         }
        },
        "xaxis5": {
         "anchor": "y5",
         "domain": [
          0.6733333333333333,
          0.8316666666666667
         ],
         "matches": "x",
         "tickangle": -90,
         "title": {
          "text": ""
         }
        },
        "xaxis6": {
         "anchor": "y6",
         "domain": [
          0.8416666666666667,
          1
         ],
         "matches": "x",
         "tickangle": -90,
         "title": {
          "text": ""
         }
        },
        "yaxis": {
         "anchor": "x",
         "domain": [
          0,
          1
         ],
         "title": {
          "text": "Running Sum of Retrofit Costs ($)"
         }
        },
        "yaxis2": {
         "anchor": "x2",
         "domain": [
          0,
          1
         ],
         "matches": "y",
         "showticklabels": false
        },
        "yaxis3": {
         "anchor": "x3",
         "domain": [
          0,
          1
         ],
         "matches": "y",
         "showticklabels": false
        },
        "yaxis4": {
         "anchor": "x4",
         "domain": [
          0,
          1
         ],
         "matches": "y",
         "showticklabels": false
        },
        "yaxis5": {
         "anchor": "x5",
         "domain": [
          0,
          1
         ],
         "matches": "y",
         "showticklabels": false
        },
        "yaxis6": {
         "anchor": "x6",
         "domain": [
          0,
          1
         ],
         "matches": "y",
         "showticklabels": false
        }
       }
      }
     },
     "metadata": {},
     "output_type": "display_data"
    }
   ],
   "source": [
    "fig = px.bar(rfit_costs_byFuel, x=\"year\", y=\"cum_cost\", color=\"asset_domain\",\n",
    "             facet_col=\"scenario\", facet_col_spacing=0.01, \n",
    "             barmode=\"stack\",\n",
    "             width = 1300,\n",
    "             category_orders={\"scenario\": scenarios,\n",
    "                              'asset_domain': ['gas_network','elec_network','building',]\n",
    "                            },\n",
    "              color_discrete_map={'building' : 'cornflowerblue',\n",
    "                                'elec_network' : 'goldenrod', \n",
    "                                'gas_network' : 'palevioletred'},\n",
    "              labels={'year':'', # remove 'year' from xaxis on each subplot\n",
    "                    } \n",
    "            )\n",
    "\n",
    "# update names for plotting\n",
    "fig.for_each_annotation(lambda a: a.update(text = a.text.split(\"=\")[-1]))\n",
    "trace_dic = {'building' : 'Building',\n",
    "            'elec_network' : 'Electric', \n",
    "            'gas_network' : 'Gas'}\n",
    "fig.for_each_trace(lambda t: t.update(name = trace_dic[t.name]))\n",
    "\n",
    "# general formatting\n",
    "fig.update_layout(bargap=0,\n",
    "                  legend=dict(title_text='', x=0.92, y=0.98), # set legend location, properties\n",
    "                  yaxis_title='Running Sum of Retrofit Costs ($)',\n",
    "                  plot_bgcolor='#f5f5f5',\n",
    "                  )\n",
    "fig.update_traces(marker_line_width=0)\n",
    "fig.update_xaxes(tickangle= -90)\n",
    "# fig.update_yaxes(showgrid=False)\n",
    "\n",
    "fig.show()\n",
    "fig.write_html(figure_outputs+'running_retrofit_cost.html')"
   ]
  },
  {
   "cell_type": "markdown",
   "metadata": {},
   "source": [
    "### Stranded Asset Value"
   ]
  },
  {
   "cell_type": "code",
   "execution_count": 113,
   "metadata": {},
   "outputs": [
    {
     "data": {
      "text/html": [
       "<div>\n",
       "<style scoped>\n",
       "    .dataframe tbody tr th:only-of-type {\n",
       "        vertical-align: middle;\n",
       "    }\n",
       "\n",
       "    .dataframe tbody tr th {\n",
       "        vertical-align: top;\n",
       "    }\n",
       "\n",
       "    .dataframe thead th {\n",
       "        text-align: right;\n",
       "    }\n",
       "</style>\n",
       "<table border=\"1\" class=\"dataframe\">\n",
       "  <thead>\n",
       "    <tr style=\"text-align: right;\">\n",
       "      <th></th>\n",
       "      <th>year</th>\n",
       "      <th>scenario</th>\n",
       "      <th>asset_type</th>\n",
       "      <th>stranded_val</th>\n",
       "      <th>cum_val</th>\n",
       "    </tr>\n",
       "  </thead>\n",
       "  <tbody>\n",
       "    <tr>\n",
       "      <th>90</th>\n",
       "      <td>2025</td>\n",
       "      <td>Accelerated Electrification</td>\n",
       "      <td>building_aggregate</td>\n",
       "      <td>162853.993226</td>\n",
       "      <td>162853.993226</td>\n",
       "    </tr>\n",
       "    <tr>\n",
       "      <th>91</th>\n",
       "      <td>2025</td>\n",
       "      <td>Accelerated Electrification</td>\n",
       "      <td>gas_main</td>\n",
       "      <td>0.000000</td>\n",
       "      <td>0.000000</td>\n",
       "    </tr>\n",
       "    <tr>\n",
       "      <th>92</th>\n",
       "      <td>2025</td>\n",
       "      <td>Accelerated Electrification</td>\n",
       "      <td>gas_service</td>\n",
       "      <td>0.000000</td>\n",
       "      <td>0.000000</td>\n",
       "    </tr>\n",
       "    <tr>\n",
       "      <th>105</th>\n",
       "      <td>2025</td>\n",
       "      <td>Unmanaged Electrification</td>\n",
       "      <td>building_aggregate</td>\n",
       "      <td>2399.640525</td>\n",
       "      <td>2399.640525</td>\n",
       "    </tr>\n",
       "    <tr>\n",
       "      <th>106</th>\n",
       "      <td>2025</td>\n",
       "      <td>Unmanaged Electrification</td>\n",
       "      <td>gas_main</td>\n",
       "      <td>0.000000</td>\n",
       "      <td>0.000000</td>\n",
       "    </tr>\n",
       "    <tr>\n",
       "      <th>...</th>\n",
       "      <td>...</td>\n",
       "      <td>...</td>\n",
       "      <td>...</td>\n",
       "      <td>...</td>\n",
       "      <td>...</td>\n",
       "    </tr>\n",
       "    <tr>\n",
       "      <th>541</th>\n",
       "      <td>2050</td>\n",
       "      <td>Accelerated Electrification</td>\n",
       "      <td>gas_main</td>\n",
       "      <td>0.000000</td>\n",
       "      <td>0.000000</td>\n",
       "    </tr>\n",
       "    <tr>\n",
       "      <th>542</th>\n",
       "      <td>2050</td>\n",
       "      <td>Accelerated Electrification</td>\n",
       "      <td>gas_service</td>\n",
       "      <td>0.000000</td>\n",
       "      <td>0.000000</td>\n",
       "    </tr>\n",
       "    <tr>\n",
       "      <th>555</th>\n",
       "      <td>2050</td>\n",
       "      <td>Unmanaged Electrification</td>\n",
       "      <td>building_aggregate</td>\n",
       "      <td>0.000000</td>\n",
       "      <td>60011.101480</td>\n",
       "    </tr>\n",
       "    <tr>\n",
       "      <th>556</th>\n",
       "      <td>2050</td>\n",
       "      <td>Unmanaged Electrification</td>\n",
       "      <td>gas_main</td>\n",
       "      <td>0.000000</td>\n",
       "      <td>205014.538750</td>\n",
       "    </tr>\n",
       "    <tr>\n",
       "      <th>557</th>\n",
       "      <td>2050</td>\n",
       "      <td>Unmanaged Electrification</td>\n",
       "      <td>gas_service</td>\n",
       "      <td>0.000000</td>\n",
       "      <td>93437.500000</td>\n",
       "    </tr>\n",
       "  </tbody>\n",
       "</table>\n",
       "<p>156 rows × 5 columns</p>\n",
       "</div>"
      ],
      "text/plain": [
       "     year                     scenario          asset_type   stranded_val  \\\n",
       "90   2025  Accelerated Electrification  building_aggregate  162853.993226   \n",
       "91   2025  Accelerated Electrification            gas_main       0.000000   \n",
       "92   2025  Accelerated Electrification         gas_service       0.000000   \n",
       "105  2025    Unmanaged Electrification  building_aggregate    2399.640525   \n",
       "106  2025    Unmanaged Electrification            gas_main       0.000000   \n",
       "..    ...                          ...                 ...            ...   \n",
       "541  2050  Accelerated Electrification            gas_main       0.000000   \n",
       "542  2050  Accelerated Electrification         gas_service       0.000000   \n",
       "555  2050    Unmanaged Electrification  building_aggregate       0.000000   \n",
       "556  2050    Unmanaged Electrification            gas_main       0.000000   \n",
       "557  2050    Unmanaged Electrification         gas_service       0.000000   \n",
       "\n",
       "           cum_val  \n",
       "90   162853.993226  \n",
       "91        0.000000  \n",
       "92        0.000000  \n",
       "105    2399.640525  \n",
       "106       0.000000  \n",
       "..             ...  \n",
       "541       0.000000  \n",
       "542       0.000000  \n",
       "555   60011.101480  \n",
       "556  205014.538750  \n",
       "557   93437.500000  \n",
       "\n",
       "[156 rows x 5 columns]"
      ]
     },
     "execution_count": 113,
     "metadata": {},
     "output_type": "execute_result"
    }
   ],
   "source": [
    "plot_data = 'stranded_val'\n",
    "\n",
    "groupby_columns = ['year','scenario', 'asset_type'] # sum rows to get yearly cost by scenario and asset type\n",
    "sv_scenarios = ['Unmanaged Electrification',\n",
    "                'Accelerated Electrification',]\n",
    "year_range = [2025, 2050]\n",
    "\n",
    "# group, filter data based on what will be shown in report\n",
    "stranded_val = df_dic[plot_data].groupby(by=groupby_columns).sum().reset_index()\n",
    "stranded_val['cum_val'] = stranded_val.groupby(['scenario', 'asset_type'])['stranded_val'].cumsum() # calcuate running sum of stranded value costs\n",
    "stranded_val = filter_data(stranded_val, 'scenario', sv_scenarios)\n",
    "if 'year' in groupby_columns:\n",
    "    stranded_val = filter_years(stranded_val, year_range)\n",
    "\n",
    "stranded_val"
   ]
  },
  {
   "cell_type": "code",
   "execution_count": 114,
   "metadata": {},
   "outputs": [
    {
     "data": {
      "application/vnd.plotly.v1+json": {
       "config": {
        "plotlyServerURL": "https://plot.ly"
       },
       "data": [
        {
         "alignmentgroup": "True",
         "hovertemplate": "asset_type=building_aggregate<br>scenario=Unmanaged Electrification<br>=%{x}<br>cum_val=%{y}<extra></extra>",
         "legendgroup": "building_aggregate",
         "marker": {
          "color": "cornflowerblue",
          "line": {
           "width": 0
          },
          "pattern": {
           "shape": ""
          }
         },
         "name": "Building",
         "offsetgroup": "building_aggregate",
         "orientation": "v",
         "showlegend": true,
         "textposition": "auto",
         "type": "bar",
         "x": [
          2025,
          2026,
          2027,
          2028,
          2029,
          2030,
          2031,
          2032,
          2033,
          2034,
          2035,
          2036,
          2037,
          2038,
          2039,
          2040,
          2041,
          2042,
          2043,
          2044,
          2045,
          2046,
          2047,
          2048,
          2049,
          2050
         ],
         "xaxis": "x",
         "y": [
          2399.640524628915,
          2399.640524628915,
          4682.240190739766,
          6988.0587009685405,
          6988.0587009685405,
          6988.0587009685405,
          9706.650676904554,
          12225.420736520296,
          12225.420736520296,
          12225.420736520296,
          14875.21236144082,
          17985.33191145769,
          29887.94275521978,
          29887.94275521978,
          29887.94275521978,
          32529.725104066187,
          34655.77264444827,
          37941.3973661656,
          46061.3901673656,
          46061.3901673656,
          52244.70950069893,
          52244.70950069893,
          52244.70950069893,
          60011.10148023127,
          60011.10148023127,
          60011.10148023127
         ],
         "yaxis": "y"
        },
        {
         "alignmentgroup": "True",
         "hovertemplate": "asset_type=building_aggregate<br>scenario=Accelerated Electrification<br>=%{x}<br>cum_val=%{y}<extra></extra>",
         "legendgroup": "building_aggregate",
         "marker": {
          "color": "cornflowerblue",
          "line": {
           "width": 0
          },
          "pattern": {
           "shape": ""
          }
         },
         "name": "Building",
         "offsetgroup": "building_aggregate",
         "orientation": "v",
         "showlegend": false,
         "textposition": "auto",
         "type": "bar",
         "x": [
          2025,
          2026,
          2027,
          2028,
          2029,
          2030,
          2031,
          2032,
          2033,
          2034,
          2035,
          2036,
          2037,
          2038,
          2039,
          2040,
          2041,
          2042,
          2043,
          2044,
          2045,
          2046,
          2047,
          2048,
          2049,
          2050
         ],
         "xaxis": "x2",
         "y": [
          162853.99322629927,
          162853.99322629927,
          162853.99322629927,
          162853.99322629927,
          162853.99322629927,
          162853.99322629927,
          162853.99322629927,
          162853.99322629927,
          162853.99322629927,
          162853.99322629927,
          162853.99322629927,
          162853.99322629927,
          162853.99322629927,
          162853.99322629927,
          162853.99322629927,
          165495.77557514567,
          167621.82311552775,
          167621.82311552775,
          167621.82311552775,
          167621.82311552775,
          167621.82311552775,
          167621.82311552775,
          167621.82311552775,
          167621.82311552775,
          167621.82311552775,
          167621.82311552775
         ],
         "yaxis": "y2"
        },
        {
         "alignmentgroup": "True",
         "hovertemplate": "asset_type=gas_service<br>scenario=Unmanaged Electrification<br>=%{x}<br>cum_val=%{y}<extra></extra>",
         "legendgroup": "gas_service",
         "marker": {
          "color": "palevioletred",
          "line": {
           "width": 0
          },
          "pattern": {
           "shape": ""
          }
         },
         "name": "Gas Service",
         "offsetgroup": "gas_service",
         "orientation": "v",
         "showlegend": true,
         "textposition": "auto",
         "type": "bar",
         "x": [
          2025,
          2026,
          2027,
          2028,
          2029,
          2030,
          2031,
          2032,
          2033,
          2034,
          2035,
          2036,
          2037,
          2038,
          2039,
          2040,
          2041,
          2042,
          2043,
          2044,
          2045,
          2046,
          2047,
          2048,
          2049,
          2050
         ],
         "xaxis": "x",
         "y": [
          10000,
          10000,
          19500,
          28750,
          28750,
          28750,
          37250,
          45500,
          45500,
          45500,
          53000,
          60250,
          65500,
          65500,
          65500,
          65500,
          65500,
          71250,
          78125,
          78125,
          88125,
          88125,
          88125,
          93437.5,
          93437.5,
          93437.5
         ],
         "yaxis": "y"
        },
        {
         "alignmentgroup": "True",
         "hovertemplate": "asset_type=gas_service<br>scenario=Accelerated Electrification<br>=%{x}<br>cum_val=%{y}<extra></extra>",
         "legendgroup": "gas_service",
         "marker": {
          "color": "palevioletred",
          "line": {
           "width": 0
          },
          "pattern": {
           "shape": ""
          }
         },
         "name": "Gas Service",
         "offsetgroup": "gas_service",
         "orientation": "v",
         "showlegend": false,
         "textposition": "auto",
         "type": "bar",
         "x": [
          2025,
          2026,
          2027,
          2028,
          2029,
          2030,
          2031,
          2032,
          2033,
          2034,
          2035,
          2036,
          2037,
          2038,
          2039,
          2040,
          2041,
          2042,
          2043,
          2044,
          2045,
          2046,
          2047,
          2048,
          2049,
          2050
         ],
         "xaxis": "x2",
         "y": [
          0,
          0,
          0,
          0,
          0,
          0,
          0,
          0,
          0,
          0,
          0,
          0,
          0,
          0,
          0,
          0,
          0,
          0,
          0,
          0,
          0,
          0,
          0,
          0,
          0,
          0
         ],
         "yaxis": "y2"
        },
        {
         "alignmentgroup": "True",
         "hovertemplate": "asset_type=gas_main<br>scenario=Unmanaged Electrification<br>=%{x}<br>cum_val=%{y}<extra></extra>",
         "legendgroup": "gas_main",
         "marker": {
          "color": "goldenrod",
          "line": {
           "width": 0
          },
          "pattern": {
           "shape": ""
          }
         },
         "name": "Gas Main",
         "offsetgroup": "gas_main",
         "orientation": "v",
         "showlegend": true,
         "textposition": "auto",
         "type": "bar",
         "x": [
          2025,
          2026,
          2027,
          2028,
          2029,
          2030,
          2031,
          2032,
          2033,
          2034,
          2035,
          2036,
          2037,
          2038,
          2039,
          2040,
          2041,
          2042,
          2043,
          2044,
          2045,
          2046,
          2047,
          2048,
          2049,
          2050
         ],
         "xaxis": "x",
         "y": [
          0,
          0,
          0,
          0,
          0,
          0,
          0,
          0,
          0,
          0,
          0,
          0,
          0,
          0,
          0,
          0,
          0,
          0,
          0,
          0,
          0,
          0,
          0,
          205014.53875,
          205014.53875,
          205014.53875
         ],
         "yaxis": "y"
        },
        {
         "alignmentgroup": "True",
         "hovertemplate": "asset_type=gas_main<br>scenario=Accelerated Electrification<br>=%{x}<br>cum_val=%{y}<extra></extra>",
         "legendgroup": "gas_main",
         "marker": {
          "color": "goldenrod",
          "line": {
           "width": 0
          },
          "pattern": {
           "shape": ""
          }
         },
         "name": "Gas Main",
         "offsetgroup": "gas_main",
         "orientation": "v",
         "showlegend": false,
         "textposition": "auto",
         "type": "bar",
         "x": [
          2025,
          2026,
          2027,
          2028,
          2029,
          2030,
          2031,
          2032,
          2033,
          2034,
          2035,
          2036,
          2037,
          2038,
          2039,
          2040,
          2041,
          2042,
          2043,
          2044,
          2045,
          2046,
          2047,
          2048,
          2049,
          2050
         ],
         "xaxis": "x2",
         "y": [
          0,
          0,
          0,
          0,
          0,
          0,
          0,
          0,
          0,
          0,
          0,
          0,
          0,
          0,
          0,
          0,
          0,
          0,
          0,
          0,
          0,
          0,
          0,
          0,
          0,
          0
         ],
         "yaxis": "y2"
        }
       ],
       "layout": {
        "annotations": [
         {
          "font": {},
          "showarrow": false,
          "text": "Unmanaged Electrification",
          "x": 0.2475,
          "xanchor": "center",
          "xref": "paper",
          "y": 1,
          "yanchor": "bottom",
          "yref": "paper"
         },
         {
          "font": {},
          "showarrow": false,
          "text": "Accelerated Electrification",
          "x": 0.7525,
          "xanchor": "center",
          "xref": "paper",
          "y": 1,
          "yanchor": "bottom",
          "yref": "paper"
         }
        ],
        "bargap": 0,
        "barmode": "stack",
        "legend": {
         "title": {
          "text": ""
         },
         "tracegroupgap": 0,
         "x": 0.92,
         "y": 0.98
        },
        "margin": {
         "t": 60
        },
        "plot_bgcolor": "#f5f5f5",
        "template": {
         "data": {
          "bar": [
           {
            "error_x": {
             "color": "#2a3f5f"
            },
            "error_y": {
             "color": "#2a3f5f"
            },
            "marker": {
             "line": {
              "color": "#E5ECF6",
              "width": 0.5
             },
             "pattern": {
              "fillmode": "overlay",
              "size": 10,
              "solidity": 0.2
             }
            },
            "type": "bar"
           }
          ],
          "barpolar": [
           {
            "marker": {
             "line": {
              "color": "#E5ECF6",
              "width": 0.5
             },
             "pattern": {
              "fillmode": "overlay",
              "size": 10,
              "solidity": 0.2
             }
            },
            "type": "barpolar"
           }
          ],
          "carpet": [
           {
            "aaxis": {
             "endlinecolor": "#2a3f5f",
             "gridcolor": "white",
             "linecolor": "white",
             "minorgridcolor": "white",
             "startlinecolor": "#2a3f5f"
            },
            "baxis": {
             "endlinecolor": "#2a3f5f",
             "gridcolor": "white",
             "linecolor": "white",
             "minorgridcolor": "white",
             "startlinecolor": "#2a3f5f"
            },
            "type": "carpet"
           }
          ],
          "choropleth": [
           {
            "colorbar": {
             "outlinewidth": 0,
             "ticks": ""
            },
            "type": "choropleth"
           }
          ],
          "contour": [
           {
            "colorbar": {
             "outlinewidth": 0,
             "ticks": ""
            },
            "colorscale": [
             [
              0,
              "#0d0887"
             ],
             [
              0.1111111111111111,
              "#46039f"
             ],
             [
              0.2222222222222222,
              "#7201a8"
             ],
             [
              0.3333333333333333,
              "#9c179e"
             ],
             [
              0.4444444444444444,
              "#bd3786"
             ],
             [
              0.5555555555555556,
              "#d8576b"
             ],
             [
              0.6666666666666666,
              "#ed7953"
             ],
             [
              0.7777777777777778,
              "#fb9f3a"
             ],
             [
              0.8888888888888888,
              "#fdca26"
             ],
             [
              1,
              "#f0f921"
             ]
            ],
            "type": "contour"
           }
          ],
          "contourcarpet": [
           {
            "colorbar": {
             "outlinewidth": 0,
             "ticks": ""
            },
            "type": "contourcarpet"
           }
          ],
          "heatmap": [
           {
            "colorbar": {
             "outlinewidth": 0,
             "ticks": ""
            },
            "colorscale": [
             [
              0,
              "#0d0887"
             ],
             [
              0.1111111111111111,
              "#46039f"
             ],
             [
              0.2222222222222222,
              "#7201a8"
             ],
             [
              0.3333333333333333,
              "#9c179e"
             ],
             [
              0.4444444444444444,
              "#bd3786"
             ],
             [
              0.5555555555555556,
              "#d8576b"
             ],
             [
              0.6666666666666666,
              "#ed7953"
             ],
             [
              0.7777777777777778,
              "#fb9f3a"
             ],
             [
              0.8888888888888888,
              "#fdca26"
             ],
             [
              1,
              "#f0f921"
             ]
            ],
            "type": "heatmap"
           }
          ],
          "heatmapgl": [
           {
            "colorbar": {
             "outlinewidth": 0,
             "ticks": ""
            },
            "colorscale": [
             [
              0,
              "#0d0887"
             ],
             [
              0.1111111111111111,
              "#46039f"
             ],
             [
              0.2222222222222222,
              "#7201a8"
             ],
             [
              0.3333333333333333,
              "#9c179e"
             ],
             [
              0.4444444444444444,
              "#bd3786"
             ],
             [
              0.5555555555555556,
              "#d8576b"
             ],
             [
              0.6666666666666666,
              "#ed7953"
             ],
             [
              0.7777777777777778,
              "#fb9f3a"
             ],
             [
              0.8888888888888888,
              "#fdca26"
             ],
             [
              1,
              "#f0f921"
             ]
            ],
            "type": "heatmapgl"
           }
          ],
          "histogram": [
           {
            "marker": {
             "pattern": {
              "fillmode": "overlay",
              "size": 10,
              "solidity": 0.2
             }
            },
            "type": "histogram"
           }
          ],
          "histogram2d": [
           {
            "colorbar": {
             "outlinewidth": 0,
             "ticks": ""
            },
            "colorscale": [
             [
              0,
              "#0d0887"
             ],
             [
              0.1111111111111111,
              "#46039f"
             ],
             [
              0.2222222222222222,
              "#7201a8"
             ],
             [
              0.3333333333333333,
              "#9c179e"
             ],
             [
              0.4444444444444444,
              "#bd3786"
             ],
             [
              0.5555555555555556,
              "#d8576b"
             ],
             [
              0.6666666666666666,
              "#ed7953"
             ],
             [
              0.7777777777777778,
              "#fb9f3a"
             ],
             [
              0.8888888888888888,
              "#fdca26"
             ],
             [
              1,
              "#f0f921"
             ]
            ],
            "type": "histogram2d"
           }
          ],
          "histogram2dcontour": [
           {
            "colorbar": {
             "outlinewidth": 0,
             "ticks": ""
            },
            "colorscale": [
             [
              0,
              "#0d0887"
             ],
             [
              0.1111111111111111,
              "#46039f"
             ],
             [
              0.2222222222222222,
              "#7201a8"
             ],
             [
              0.3333333333333333,
              "#9c179e"
             ],
             [
              0.4444444444444444,
              "#bd3786"
             ],
             [
              0.5555555555555556,
              "#d8576b"
             ],
             [
              0.6666666666666666,
              "#ed7953"
             ],
             [
              0.7777777777777778,
              "#fb9f3a"
             ],
             [
              0.8888888888888888,
              "#fdca26"
             ],
             [
              1,
              "#f0f921"
             ]
            ],
            "type": "histogram2dcontour"
           }
          ],
          "mesh3d": [
           {
            "colorbar": {
             "outlinewidth": 0,
             "ticks": ""
            },
            "type": "mesh3d"
           }
          ],
          "parcoords": [
           {
            "line": {
             "colorbar": {
              "outlinewidth": 0,
              "ticks": ""
             }
            },
            "type": "parcoords"
           }
          ],
          "pie": [
           {
            "automargin": true,
            "type": "pie"
           }
          ],
          "scatter": [
           {
            "fillpattern": {
             "fillmode": "overlay",
             "size": 10,
             "solidity": 0.2
            },
            "type": "scatter"
           }
          ],
          "scatter3d": [
           {
            "line": {
             "colorbar": {
              "outlinewidth": 0,
              "ticks": ""
             }
            },
            "marker": {
             "colorbar": {
              "outlinewidth": 0,
              "ticks": ""
             }
            },
            "type": "scatter3d"
           }
          ],
          "scattercarpet": [
           {
            "marker": {
             "colorbar": {
              "outlinewidth": 0,
              "ticks": ""
             }
            },
            "type": "scattercarpet"
           }
          ],
          "scattergeo": [
           {
            "marker": {
             "colorbar": {
              "outlinewidth": 0,
              "ticks": ""
             }
            },
            "type": "scattergeo"
           }
          ],
          "scattergl": [
           {
            "marker": {
             "colorbar": {
              "outlinewidth": 0,
              "ticks": ""
             }
            },
            "type": "scattergl"
           }
          ],
          "scattermapbox": [
           {
            "marker": {
             "colorbar": {
              "outlinewidth": 0,
              "ticks": ""
             }
            },
            "type": "scattermapbox"
           }
          ],
          "scatterpolar": [
           {
            "marker": {
             "colorbar": {
              "outlinewidth": 0,
              "ticks": ""
             }
            },
            "type": "scatterpolar"
           }
          ],
          "scatterpolargl": [
           {
            "marker": {
             "colorbar": {
              "outlinewidth": 0,
              "ticks": ""
             }
            },
            "type": "scatterpolargl"
           }
          ],
          "scatterternary": [
           {
            "marker": {
             "colorbar": {
              "outlinewidth": 0,
              "ticks": ""
             }
            },
            "type": "scatterternary"
           }
          ],
          "surface": [
           {
            "colorbar": {
             "outlinewidth": 0,
             "ticks": ""
            },
            "colorscale": [
             [
              0,
              "#0d0887"
             ],
             [
              0.1111111111111111,
              "#46039f"
             ],
             [
              0.2222222222222222,
              "#7201a8"
             ],
             [
              0.3333333333333333,
              "#9c179e"
             ],
             [
              0.4444444444444444,
              "#bd3786"
             ],
             [
              0.5555555555555556,
              "#d8576b"
             ],
             [
              0.6666666666666666,
              "#ed7953"
             ],
             [
              0.7777777777777778,
              "#fb9f3a"
             ],
             [
              0.8888888888888888,
              "#fdca26"
             ],
             [
              1,
              "#f0f921"
             ]
            ],
            "type": "surface"
           }
          ],
          "table": [
           {
            "cells": {
             "fill": {
              "color": "#EBF0F8"
             },
             "line": {
              "color": "white"
             }
            },
            "header": {
             "fill": {
              "color": "#C8D4E3"
             },
             "line": {
              "color": "white"
             }
            },
            "type": "table"
           }
          ]
         },
         "layout": {
          "annotationdefaults": {
           "arrowcolor": "#2a3f5f",
           "arrowhead": 0,
           "arrowwidth": 1
          },
          "autotypenumbers": "strict",
          "coloraxis": {
           "colorbar": {
            "outlinewidth": 0,
            "ticks": ""
           }
          },
          "colorscale": {
           "diverging": [
            [
             0,
             "#8e0152"
            ],
            [
             0.1,
             "#c51b7d"
            ],
            [
             0.2,
             "#de77ae"
            ],
            [
             0.3,
             "#f1b6da"
            ],
            [
             0.4,
             "#fde0ef"
            ],
            [
             0.5,
             "#f7f7f7"
            ],
            [
             0.6,
             "#e6f5d0"
            ],
            [
             0.7,
             "#b8e186"
            ],
            [
             0.8,
             "#7fbc41"
            ],
            [
             0.9,
             "#4d9221"
            ],
            [
             1,
             "#276419"
            ]
           ],
           "sequential": [
            [
             0,
             "#0d0887"
            ],
            [
             0.1111111111111111,
             "#46039f"
            ],
            [
             0.2222222222222222,
             "#7201a8"
            ],
            [
             0.3333333333333333,
             "#9c179e"
            ],
            [
             0.4444444444444444,
             "#bd3786"
            ],
            [
             0.5555555555555556,
             "#d8576b"
            ],
            [
             0.6666666666666666,
             "#ed7953"
            ],
            [
             0.7777777777777778,
             "#fb9f3a"
            ],
            [
             0.8888888888888888,
             "#fdca26"
            ],
            [
             1,
             "#f0f921"
            ]
           ],
           "sequentialminus": [
            [
             0,
             "#0d0887"
            ],
            [
             0.1111111111111111,
             "#46039f"
            ],
            [
             0.2222222222222222,
             "#7201a8"
            ],
            [
             0.3333333333333333,
             "#9c179e"
            ],
            [
             0.4444444444444444,
             "#bd3786"
            ],
            [
             0.5555555555555556,
             "#d8576b"
            ],
            [
             0.6666666666666666,
             "#ed7953"
            ],
            [
             0.7777777777777778,
             "#fb9f3a"
            ],
            [
             0.8888888888888888,
             "#fdca26"
            ],
            [
             1,
             "#f0f921"
            ]
           ]
          },
          "colorway": [
           "#636efa",
           "#EF553B",
           "#00cc96",
           "#ab63fa",
           "#FFA15A",
           "#19d3f3",
           "#FF6692",
           "#B6E880",
           "#FF97FF",
           "#FECB52"
          ],
          "font": {
           "color": "#2a3f5f"
          },
          "geo": {
           "bgcolor": "white",
           "lakecolor": "white",
           "landcolor": "#E5ECF6",
           "showlakes": true,
           "showland": true,
           "subunitcolor": "white"
          },
          "hoverlabel": {
           "align": "left"
          },
          "hovermode": "closest",
          "mapbox": {
           "style": "light"
          },
          "paper_bgcolor": "white",
          "plot_bgcolor": "#E5ECF6",
          "polar": {
           "angularaxis": {
            "gridcolor": "white",
            "linecolor": "white",
            "ticks": ""
           },
           "bgcolor": "#E5ECF6",
           "radialaxis": {
            "gridcolor": "white",
            "linecolor": "white",
            "ticks": ""
           }
          },
          "scene": {
           "xaxis": {
            "backgroundcolor": "#E5ECF6",
            "gridcolor": "white",
            "gridwidth": 2,
            "linecolor": "white",
            "showbackground": true,
            "ticks": "",
            "zerolinecolor": "white"
           },
           "yaxis": {
            "backgroundcolor": "#E5ECF6",
            "gridcolor": "white",
            "gridwidth": 2,
            "linecolor": "white",
            "showbackground": true,
            "ticks": "",
            "zerolinecolor": "white"
           },
           "zaxis": {
            "backgroundcolor": "#E5ECF6",
            "gridcolor": "white",
            "gridwidth": 2,
            "linecolor": "white",
            "showbackground": true,
            "ticks": "",
            "zerolinecolor": "white"
           }
          },
          "shapedefaults": {
           "line": {
            "color": "#2a3f5f"
           }
          },
          "ternary": {
           "aaxis": {
            "gridcolor": "white",
            "linecolor": "white",
            "ticks": ""
           },
           "baxis": {
            "gridcolor": "white",
            "linecolor": "white",
            "ticks": ""
           },
           "bgcolor": "#E5ECF6",
           "caxis": {
            "gridcolor": "white",
            "linecolor": "white",
            "ticks": ""
           }
          },
          "title": {
           "x": 0.05
          },
          "xaxis": {
           "automargin": true,
           "gridcolor": "white",
           "linecolor": "white",
           "ticks": "",
           "title": {
            "standoff": 15
           },
           "zerolinecolor": "white",
           "zerolinewidth": 2
          },
          "yaxis": {
           "automargin": true,
           "gridcolor": "white",
           "linecolor": "white",
           "ticks": "",
           "title": {
            "standoff": 15
           },
           "zerolinecolor": "white",
           "zerolinewidth": 2
          }
         }
        },
        "width": 700,
        "xaxis": {
         "anchor": "y",
         "domain": [
          0,
          0.495
         ],
         "tickangle": -90,
         "title": {
          "text": ""
         }
        },
        "xaxis2": {
         "anchor": "y2",
         "domain": [
          0.505,
          1
         ],
         "matches": "x",
         "tickangle": -90,
         "title": {
          "text": ""
         }
        },
        "yaxis": {
         "anchor": "x",
         "domain": [
          0,
          1
         ],
         "title": {
          "text": "Cumulative Stranded Value ($)"
         }
        },
        "yaxis2": {
         "anchor": "x2",
         "domain": [
          0,
          1
         ],
         "matches": "y",
         "showticklabels": false
        }
       }
      }
     },
     "metadata": {},
     "output_type": "display_data"
    }
   ],
   "source": [
    "fig = px.bar(stranded_val, x=\"year\", y=\"cum_val\", color=\"asset_type\",\n",
    "             facet_col=\"scenario\", facet_col_spacing=0.01, \n",
    "             barmode=\"stack\",\n",
    "             width = 700,\n",
    "             category_orders={\"scenario\": sv_scenarios,\n",
    "                            'asset_type':['building_aggregate','gas_service','gas_main', ],},\n",
    "              color_discrete_map={'building_aggregate' : 'cornflowerblue',\n",
    "                                'gas_main' : 'goldenrod', \n",
    "                                'gas_service' : 'palevioletred'},\n",
    "              labels={'year':'', # remove 'year' from xaxis on each subplot\n",
    "                    } \n",
    "            )\n",
    "\n",
    "# update names for plotting\n",
    "fig.for_each_annotation(lambda a: a.update(text = a.text.split(\"=\")[-1]))\n",
    "trace_dic = {'building_aggregate' : 'Building',\n",
    "      'gas_main' : 'Gas Main', \n",
    "      'gas_service' : 'Gas Service'}\n",
    "fig.for_each_trace(lambda t: t.update(name = trace_dic[t.name]))\n",
    "\n",
    "# general formatting\n",
    "fig.update_layout(bargap=0,\n",
    "                  legend=dict(title_text='', x=0.92, y=0.98), # set legend location, properties\n",
    "                  yaxis_title='Cumulative Stranded Value ($)',\n",
    "                  plot_bgcolor='#f5f5f5',\n",
    "                  )\n",
    "fig.update_traces(marker_line_width=0)\n",
    "fig.update_xaxes(tickangle= -90)\n",
    "# fig.update_yaxes(showgrid=False)\n",
    "\n",
    "fig.show()\n",
    "fig.write_html(figure_outputs+'stranded_value.html')"
   ]
  }
 ],
 "metadata": {
  "kernelspec": {
   "display_name": "Python 3",
   "language": "python",
   "name": "python3"
  },
  "language_info": {
   "codemirror_mode": {
    "name": "ipython",
    "version": 3
   },
   "file_extension": ".py",
   "mimetype": "text/x-python",
   "name": "python",
   "nbconvert_exporter": "python",
   "pygments_lexer": "ipython3",
   "version": "3.10.2"
  },
  "orig_nbformat": 4
 },
 "nbformat": 4,
 "nbformat_minor": 2
}
