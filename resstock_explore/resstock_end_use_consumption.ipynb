{
 "cells": [
  {
   "cell_type": "markdown",
   "metadata": {},
   "source": [
    "# Read in end use consumption from ResStock building file"
   ]
  },
  {
   "cell_type": "code",
   "execution_count": 33,
   "metadata": {},
   "outputs": [],
   "source": [
    "import pandas as pd"
   ]
  },
  {
   "cell_type": "code",
   "execution_count": 34,
   "metadata": {},
   "outputs": [],
   "source": [
    "TIMESERIES_FILEPATH = \"./239227-0.parquet\"\n",
    "METADATA_FILEPATH = \"./wakefield_metadata.csv\""
   ]
  },
  {
   "cell_type": "code",
   "execution_count": 35,
   "metadata": {},
   "outputs": [],
   "source": [
    "end_use_df = pd.read_parquet(TIMESERIES_FILEPATH)\n",
    "metadata_df = pd.read_csv(METADATA_FILEPATH)"
   ]
  },
  {
   "cell_type": "code",
   "execution_count": 36,
   "metadata": {},
   "outputs": [],
   "source": [
    "bldg_metadata = metadata_df[metadata_df[\"bldg_id\"] == 239227]"
   ]
  },
  {
   "cell_type": "code",
   "execution_count": 37,
   "metadata": {},
   "outputs": [
    {
     "data": {
      "text/plain": [
       "102    Electric, 100% Usage\n",
       "Name: in.cooking_range, dtype: object"
      ]
     },
     "execution_count": 37,
     "metadata": {},
     "output_type": "execute_result"
    }
   ],
   "source": [
    "bldg_metadata[\"in.cooking_range\"]"
   ]
  },
  {
   "cell_type": "code",
   "execution_count": 38,
   "metadata": {},
   "outputs": [],
   "source": [
    "cooking = end_use_df[[\n",
    "    \"timestamp\",\n",
    "    \"out.electricity.cooking_range.energy_consumption\",\n",
    "    \"out.electricity.cooking_range.energy_consumption_intensity\",\n",
    "    \"out.natural_gas.cooking_range.energy_consumption\",\n",
    "    \"out.natural_gas.cooking_range.energy_consumption_intensity\",\n",
    "    \"out.propane.cooking_range.energy_consumption\",\n",
    "    \"out.propane.cooking_range.energy_consumption_intensity\",\n",
    "]]"
   ]
  },
  {
   "cell_type": "code",
   "execution_count": 39,
   "metadata": {},
   "outputs": [
    {
     "data": {
      "image/png": "[encoded data removed]",
      "text/plain": [
       "<Figure size 432x288 with 1 Axes>"
      ]
     },
     "metadata": {
      "needs_background": "light"
     },
     "output_type": "display_data"
    }
   ],
   "source": [
    "import matplotlib.pyplot as plt\n",
    "\n",
    "plt.figure()\n",
    "plt.plot(\n",
    "    cooking[\"timestamp\"].iloc[:30*24*4].values,\n",
    "    cooking[\"out.electricity.cooking_range.energy_consumption\"].iloc[:30*24*4].values\n",
    ")\n",
    "plt.show()"
   ]
  },
  {
   "cell_type": "code",
   "execution_count": 40,
   "metadata": {},
   "outputs": [
    {
     "data": {
      "text/plain": [
       "35040"
      ]
     },
     "execution_count": 40,
     "metadata": {},
     "output_type": "execute_result"
    }
   ],
   "source": [
    "len(cooking[\"timestamp\"])"
   ]
  },
  {
   "cell_type": "code",
   "execution_count": 41,
   "metadata": {},
   "outputs": [
    {
     "data": {
      "text/html": [
       "<div>\n",
       "<style scoped>\n",
       "    .dataframe tbody tr th:only-of-type {\n",
       "        vertical-align: middle;\n",
       "    }\n",
       "\n",
       "    .dataframe tbody tr th {\n",
       "        vertical-align: top;\n",
       "    }\n",
       "\n",
       "    .dataframe thead th {\n",
       "        text-align: right;\n",
       "    }\n",
       "</style>\n",
       "<table border=\"1\" class=\"dataframe\">\n",
       "  <thead>\n",
       "    <tr style=\"text-align: right;\">\n",
       "      <th></th>\n",
       "      <th>timestamp</th>\n",
       "      <th>out.electricity.cooking_range.energy_consumption</th>\n",
       "      <th>out.electricity.cooking_range.energy_consumption_intensity</th>\n",
       "      <th>out.natural_gas.cooking_range.energy_consumption</th>\n",
       "      <th>out.natural_gas.cooking_range.energy_consumption_intensity</th>\n",
       "      <th>out.propane.cooking_range.energy_consumption</th>\n",
       "      <th>out.propane.cooking_range.energy_consumption_intensity</th>\n",
       "    </tr>\n",
       "    <tr>\n",
       "      <th>bldg_id</th>\n",
       "      <th></th>\n",
       "      <th></th>\n",
       "      <th></th>\n",
       "      <th></th>\n",
       "      <th></th>\n",
       "      <th></th>\n",
       "      <th></th>\n",
       "    </tr>\n",
       "  </thead>\n",
       "  <tbody>\n",
       "    <tr>\n",
       "      <th>239227</th>\n",
       "      <td>2018-01-01 00:15:00</td>\n",
       "      <td>0.0</td>\n",
       "      <td>0.0</td>\n",
       "      <td>0.0</td>\n",
       "      <td>0.0</td>\n",
       "      <td>0.0</td>\n",
       "      <td>0.0</td>\n",
       "    </tr>\n",
       "    <tr>\n",
       "      <th>239227</th>\n",
       "      <td>2018-01-01 00:30:00</td>\n",
       "      <td>0.0</td>\n",
       "      <td>0.0</td>\n",
       "      <td>0.0</td>\n",
       "      <td>0.0</td>\n",
       "      <td>0.0</td>\n",
       "      <td>0.0</td>\n",
       "    </tr>\n",
       "    <tr>\n",
       "      <th>239227</th>\n",
       "      <td>2018-01-01 00:45:00</td>\n",
       "      <td>0.0</td>\n",
       "      <td>0.0</td>\n",
       "      <td>0.0</td>\n",
       "      <td>0.0</td>\n",
       "      <td>0.0</td>\n",
       "      <td>0.0</td>\n",
       "    </tr>\n",
       "    <tr>\n",
       "      <th>239227</th>\n",
       "      <td>2018-01-01 01:00:00</td>\n",
       "      <td>0.0</td>\n",
       "      <td>0.0</td>\n",
       "      <td>0.0</td>\n",
       "      <td>0.0</td>\n",
       "      <td>0.0</td>\n",
       "      <td>0.0</td>\n",
       "    </tr>\n",
       "    <tr>\n",
       "      <th>239227</th>\n",
       "      <td>2018-01-01 01:15:00</td>\n",
       "      <td>0.0</td>\n",
       "      <td>0.0</td>\n",
       "      <td>0.0</td>\n",
       "      <td>0.0</td>\n",
       "      <td>0.0</td>\n",
       "      <td>0.0</td>\n",
       "    </tr>\n",
       "    <tr>\n",
       "      <th>...</th>\n",
       "      <td>...</td>\n",
       "      <td>...</td>\n",
       "      <td>...</td>\n",
       "      <td>...</td>\n",
       "      <td>...</td>\n",
       "      <td>...</td>\n",
       "      <td>...</td>\n",
       "    </tr>\n",
       "    <tr>\n",
       "      <th>239227</th>\n",
       "      <td>2018-12-31 23:00:00</td>\n",
       "      <td>0.0</td>\n",
       "      <td>0.0</td>\n",
       "      <td>0.0</td>\n",
       "      <td>0.0</td>\n",
       "      <td>0.0</td>\n",
       "      <td>0.0</td>\n",
       "    </tr>\n",
       "    <tr>\n",
       "      <th>239227</th>\n",
       "      <td>2018-12-31 23:15:00</td>\n",
       "      <td>0.0</td>\n",
       "      <td>0.0</td>\n",
       "      <td>0.0</td>\n",
       "      <td>0.0</td>\n",
       "      <td>0.0</td>\n",
       "      <td>0.0</td>\n",
       "    </tr>\n",
       "    <tr>\n",
       "      <th>239227</th>\n",
       "      <td>2018-12-31 23:30:00</td>\n",
       "      <td>0.0</td>\n",
       "      <td>0.0</td>\n",
       "      <td>0.0</td>\n",
       "      <td>0.0</td>\n",
       "      <td>0.0</td>\n",
       "      <td>0.0</td>\n",
       "    </tr>\n",
       "    <tr>\n",
       "      <th>239227</th>\n",
       "      <td>2018-12-31 23:45:00</td>\n",
       "      <td>0.0</td>\n",
       "      <td>0.0</td>\n",
       "      <td>0.0</td>\n",
       "      <td>0.0</td>\n",
       "      <td>0.0</td>\n",
       "      <td>0.0</td>\n",
       "    </tr>\n",
       "    <tr>\n",
       "      <th>239227</th>\n",
       "      <td>2019-01-01 00:00:00</td>\n",
       "      <td>0.0</td>\n",
       "      <td>0.0</td>\n",
       "      <td>0.0</td>\n",
       "      <td>0.0</td>\n",
       "      <td>0.0</td>\n",
       "      <td>0.0</td>\n",
       "    </tr>\n",
       "  </tbody>\n",
       "</table>\n",
       "<p>35040 rows × 7 columns</p>\n",
       "</div>"
      ],
      "text/plain": [
       "                  timestamp  out.electricity.cooking_range.energy_consumption  \\\n",
       "bldg_id                                                                         \n",
       "239227  2018-01-01 00:15:00                                               0.0   \n",
       "239227  2018-01-01 00:30:00                                               0.0   \n",
       "239227  2018-01-01 00:45:00                                               0.0   \n",
       "239227  2018-01-01 01:00:00                                               0.0   \n",
       "239227  2018-01-01 01:15:00                                               0.0   \n",
       "...                     ...                                               ...   \n",
       "239227  2018-12-31 23:00:00                                               0.0   \n",
       "239227  2018-12-31 23:15:00                                               0.0   \n",
       "239227  2018-12-31 23:30:00                                               0.0   \n",
       "239227  2018-12-31 23:45:00                                               0.0   \n",
       "239227  2019-01-01 00:00:00                                               0.0   \n",
       "\n",
       "         out.electricity.cooking_range.energy_consumption_intensity  \\\n",
       "bldg_id                                                               \n",
       "239227                                                 0.0            \n",
       "239227                                                 0.0            \n",
       "239227                                                 0.0            \n",
       "239227                                                 0.0            \n",
       "239227                                                 0.0            \n",
       "...                                                    ...            \n",
       "239227                                                 0.0            \n",
       "239227                                                 0.0            \n",
       "239227                                                 0.0            \n",
       "239227                                                 0.0            \n",
       "239227                                                 0.0            \n",
       "\n",
       "         out.natural_gas.cooking_range.energy_consumption  \\\n",
       "bldg_id                                                     \n",
       "239227                                                0.0   \n",
       "239227                                                0.0   \n",
       "239227                                                0.0   \n",
       "239227                                                0.0   \n",
       "239227                                                0.0   \n",
       "...                                                   ...   \n",
       "239227                                                0.0   \n",
       "239227                                                0.0   \n",
       "239227                                                0.0   \n",
       "239227                                                0.0   \n",
       "239227                                                0.0   \n",
       "\n",
       "         out.natural_gas.cooking_range.energy_consumption_intensity  \\\n",
       "bldg_id                                                               \n",
       "239227                                                 0.0            \n",
       "239227                                                 0.0            \n",
       "239227                                                 0.0            \n",
       "239227                                                 0.0            \n",
       "239227                                                 0.0            \n",
       "...                                                    ...            \n",
       "239227                                                 0.0            \n",
       "239227                                                 0.0            \n",
       "239227                                                 0.0            \n",
       "239227                                                 0.0            \n",
       "239227                                                 0.0            \n",
       "\n",
       "         out.propane.cooking_range.energy_consumption  \\\n",
       "bldg_id                                                 \n",
       "239227                                            0.0   \n",
       "239227                                            0.0   \n",
       "239227                                            0.0   \n",
       "239227                                            0.0   \n",
       "239227                                            0.0   \n",
       "...                                               ...   \n",
       "239227                                            0.0   \n",
       "239227                                            0.0   \n",
       "239227                                            0.0   \n",
       "239227                                            0.0   \n",
       "239227                                            0.0   \n",
       "\n",
       "         out.propane.cooking_range.energy_consumption_intensity  \n",
       "bldg_id                                                          \n",
       "239227                                                 0.0       \n",
       "239227                                                 0.0       \n",
       "239227                                                 0.0       \n",
       "239227                                                 0.0       \n",
       "239227                                                 0.0       \n",
       "...                                                    ...       \n",
       "239227                                                 0.0       \n",
       "239227                                                 0.0       \n",
       "239227                                                 0.0       \n",
       "239227                                                 0.0       \n",
       "239227                                                 0.0       \n",
       "\n",
       "[35040 rows x 7 columns]"
      ]
     },
     "execution_count": 41,
     "metadata": {},
     "output_type": "execute_result"
    }
   ],
   "source": [
    "cooking"
   ]
  },
  {
   "cell_type": "code",
   "execution_count": 42,
   "metadata": {},
   "outputs": [],
   "source": [
    "TIMESERIES_FILEPATH = \"./433759-0.parquet\""
   ]
  },
  {
   "cell_type": "code",
   "execution_count": 43,
   "metadata": {},
   "outputs": [],
   "source": [
    "end_use_gas_df = pd.read_parquet(TIMESERIES_FILEPATH)"
   ]
  },
  {
   "cell_type": "code",
   "execution_count": 44,
   "metadata": {},
   "outputs": [
    {
     "data": {
      "text/plain": [
       "184    Gas, 100% Usage\n",
       "Name: in.cooking_range, dtype: object"
      ]
     },
     "execution_count": 44,
     "metadata": {},
     "output_type": "execute_result"
    }
   ],
   "source": [
    "metadata_df[metadata_df[\"bldg_id\"] == 433759][\"in.cooking_range\"]"
   ]
  },
  {
   "cell_type": "code",
   "execution_count": 45,
   "metadata": {},
   "outputs": [],
   "source": [
    "cooking_gas = end_use_gas_df[[\n",
    "    \"timestamp\",\n",
    "    \"out.electricity.cooking_range.energy_consumption\",\n",
    "    \"out.electricity.cooking_range.energy_consumption_intensity\",\n",
    "    \"out.natural_gas.cooking_range.energy_consumption\",\n",
    "    \"out.natural_gas.cooking_range.energy_consumption_intensity\",\n",
    "    \"out.propane.cooking_range.energy_consumption\",\n",
    "    \"out.propane.cooking_range.energy_consumption_intensity\",\n",
    "]]"
   ]
  },
  {
   "cell_type": "code",
   "execution_count": 46,
   "metadata": {},
   "outputs": [
    {
     "data": {
      "image/png": "[encoded data removed]",
      "text/plain": [
       "<Figure size 432x288 with 1 Axes>"
      ]
     },
     "metadata": {
      "needs_background": "light"
     },
     "output_type": "display_data"
    }
   ],
   "source": [
    "plt.figure()\n",
    "plt.plot(\n",
    "    cooking_gas[\"timestamp\"].iloc[:30*24*4].values,\n",
    "    cooking_gas[\"out.electricity.cooking_range.energy_consumption\"].iloc[:30*24*4].values\n",
    ")\n",
    "plt.show()"
   ]
  },
  {
   "cell_type": "code",
   "execution_count": 47,
   "metadata": {},
   "outputs": [
    {
     "data": {
      "image/png": "[encoded data removed]",
      "text/plain": [
       "<Figure size 432x288 with 1 Axes>"
      ]
     },
     "metadata": {
      "needs_background": "light"
     },
     "output_type": "display_data"
    }
   ],
   "source": [
    "plt.figure()\n",
    "plt.plot(\n",
    "    cooking_gas[\"timestamp\"].iloc[:30*24*4].values,\n",
    "    cooking_gas[\"out.natural_gas.cooking_range.energy_consumption\"].iloc[:30*24*4].values\n",
    ")\n",
    "plt.show()"
   ]
  },
  {
   "cell_type": "markdown",
   "metadata": {},
   "source": [
    "# Summary\n",
    "Can grab the out energy use of an appliance by pulling the proper building timeseries from ResStock. Need to query based on the building ID. So the process would be...\n",
    "* Match parcel to ResStock building\n",
    "* Pull ResStock building profile\n",
    "* Extract cooking_range energy consumption\n",
    "\n",
    "Doesn't offer lots of granularity on replacement or on different range types at the moment. Could probably get a bit more information based on the metadata into the model for that ResStock building (in.cooking_range... maybe others based on user behavior? It's possible we'd have to dive deeper into the ResStock methodology to know more on what influences cooking range profiles)"
   ]
  },
  {
   "cell_type": "code",
   "execution_count": 48,
   "metadata": {},
   "outputs": [],
   "source": [
    "cooking = cooking.set_index(\"timestamp\")"
   ]
  },
  {
   "cell_type": "code",
   "execution_count": 49,
   "metadata": {},
   "outputs": [],
   "source": [
    "# Make timestamps time-beginning rather than time-ending\n",
    "cooking.index = cooking.index.shift(-15, \"T\")"
   ]
  },
  {
   "cell_type": "code",
   "execution_count": 51,
   "metadata": {},
   "outputs": [],
   "source": [
    "# Resample to hourly\n",
    "cooking = cooking.resample(\"H\").sum()"
   ]
  },
  {
   "cell_type": "code",
   "execution_count": 52,
   "metadata": {},
   "outputs": [
    {
     "data": {
      "image/png": "[encoded data removed]",
      "text/plain": [
       "<Figure size 432x288 with 1 Axes>"
      ]
     },
     "metadata": {
      "needs_background": "light"
     },
     "output_type": "display_data"
    }
   ],
   "source": [
    "plt.figure()\n",
    "plt.plot(\n",
    "    cooking.index[:24],\n",
    "    cooking[\"out.electricity.cooking_range.energy_consumption\"].iloc[:24].values\n",
    ")\n",
    "plt.show()"
   ]
  },
  {
   "cell_type": "code",
   "execution_count": 54,
   "metadata": {},
   "outputs": [
    {
     "name": "stdout",
     "output_type": "stream",
     "text": [
      "550.9341016805938\n"
     ]
    }
   ],
   "source": [
    "annual_consumption = cooking[\"out.electricity.cooking_range.energy_consumption\"].sum()\n",
    "print(annual_consumption)"
   ]
  },
  {
   "cell_type": "code",
   "execution_count": 61,
   "metadata": {},
   "outputs": [],
   "source": [
    "cooking.index = cooking.index.strftime(\"%Y-%m-%dT%H:%M:%S\")"
   ]
  },
  {
   "cell_type": "code",
   "execution_count": 64,
   "metadata": {},
   "outputs": [],
   "source": [
    "cooking[\"out.electricity.cooking_range.energy_consumption\"].to_json(\n",
    "    \"../config_files/stoves/elec_stove_elec_consump.json\",\n",
    "    # date_format=\"iso\",\n",
    "    # date_unit=\"s\"\n",
    ")"
   ]
  },
  {
   "cell_type": "code",
   "execution_count": 65,
   "metadata": {},
   "outputs": [],
   "source": [
    "cooking[\"out.natural_gas.cooking_range.energy_consumption\"].to_json(\n",
    "    \"../config_files/stoves/elec_stove_gas_consump.json\",\n",
    "    # date_format=\"iso\",\n",
    "    # date_unit=\"s\"\n",
    ")"
   ]
  },
  {
   "cell_type": "code",
   "execution_count": 66,
   "metadata": {},
   "outputs": [
    {
     "data": {
      "image/png": "[encoded data removed]",
      "text/plain": [
       "<Figure size 432x288 with 1 Axes>"
      ]
     },
     "metadata": {
      "needs_background": "light"
     },
     "output_type": "display_data"
    }
   ],
   "source": [
    "cooking_gas = cooking_gas.set_index(\"timestamp\")\n",
    "cooking_gas.index = cooking_gas.index.shift(-15, \"T\")\n",
    "cooking_gas = cooking_gas.resample(\"H\").sum()\n",
    "\n",
    "plt.figure()\n",
    "plt.plot(\n",
    "    cooking_gas.index[:24],\n",
    "    cooking_gas[\"out.electricity.cooking_range.energy_consumption\"].iloc[:24].values\n",
    ")\n",
    "plt.show()"
   ]
  },
  {
   "cell_type": "code",
   "execution_count": 67,
   "metadata": {},
   "outputs": [
    {
     "data": {
      "image/png": "[encoded data removed]",
      "text/plain": [
       "<Figure size 432x288 with 1 Axes>"
      ]
     },
     "metadata": {
      "needs_background": "light"
     },
     "output_type": "display_data"
    }
   ],
   "source": [
    "plt.figure()\n",
    "plt.plot(\n",
    "    cooking_gas.index[:24],\n",
    "    cooking_gas[\"out.natural_gas.cooking_range.energy_consumption\"].iloc[:24].values\n",
    ")\n",
    "plt.show()"
   ]
  },
  {
   "cell_type": "code",
   "execution_count": 69,
   "metadata": {},
   "outputs": [
    {
     "name": "stdout",
     "output_type": "stream",
     "text": [
      "42.930034344000006\n",
      "445.5687155416699\n"
     ]
    }
   ],
   "source": [
    "annual_consumption = cooking_gas[\"out.electricity.cooking_range.energy_consumption\"].sum()\n",
    "print(annual_consumption)\n",
    "annual_consumption = cooking_gas[\"out.natural_gas.cooking_range.energy_consumption\"].sum()\n",
    "print(annual_consumption)"
   ]
  },
  {
   "cell_type": "code",
   "execution_count": 70,
   "metadata": {},
   "outputs": [],
   "source": [
    "cooking_gas.index = cooking_gas.index.strftime(\"%Y-%m-%dT%H:%M:%S\")\n",
    "\n",
    "cooking_gas[\"out.electricity.cooking_range.energy_consumption\"].to_json(\n",
    "    \"../config_files/stoves/gas_stove_elec_consump.json\",\n",
    "    # date_format=\"iso\",\n",
    "    # date_unit=\"s\"\n",
    ")\n",
    "\n",
    "cooking_gas[\"out.natural_gas.cooking_range.energy_consumption\"].to_json(\n",
    "    \"../config_files/stoves/gas_stove_gas_consump.json\",\n",
    "    # date_format=\"iso\",\n",
    "    # date_unit=\"s\"\n",
    ")"
   ]
  },
  {
   "cell_type": "code",
   "execution_count": null,
   "metadata": {},
   "outputs": [],
   "source": []
  }
 ],
 "metadata": {
  "kernelspec": {
   "display_name": "Python 3.10.5 ('ttt')",
   "language": "python",
   "name": "python3"
  },
  "language_info": {
   "codemirror_mode": {
    "name": "ipython",
    "version": 3
   },
   "file_extension": ".py",
   "mimetype": "text/x-python",
   "name": "python",
   "nbconvert_exporter": "python",
   "pygments_lexer": "ipython3",
   "version": "3.10.5"
  },
  "orig_nbformat": 4,
  "vscode": {
   "interpreter": {
    "hash": "21d343cc15ebaf00ff8044cf66cb4914ab3d6698464bba90196bd4a819fc4fe9"
   }
  }
 },
 "nbformat": 4,
 "nbformat_minor": 2
}
