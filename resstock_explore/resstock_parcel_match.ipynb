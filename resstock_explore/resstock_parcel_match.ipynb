{
 "cells": [
  {
   "cell_type": "markdown",
   "metadata": {},
   "source": [
    "# ResStock <> Parcel Data Matching\n",
    "Notebook explores parcel and ResStock data for Wakefield and introduces methodology to select a ResStock building based on parcel information."
   ]
  },
  {
   "cell_type": "markdown",
   "metadata": {},
   "source": [
    "## Parcel Data\n",
    "First, read in parcel data. Includes some quick looks at variables of interest:\n",
    "* Floor area\n",
    "* Vintage\n",
    "* Heat fuel\n",
    "* Heat type\n",
    "\n",
    "We are ***only*** going to consider parcels on the example streets of interest. These are:\n",
    "* Wolcott Street\n",
    "* Willow Street\n",
    "* Cutter Street"
   ]
  },
  {
   "cell_type": "code",
   "execution_count": 1,
   "metadata": {},
   "outputs": [],
   "source": [
    "import pandas as pd\n",
    "import matplotlib.pyplot as plt"
   ]
  },
  {
   "cell_type": "code",
   "execution_count": 2,
   "metadata": {},
   "outputs": [],
   "source": [
    "PARCEL_FILEPATH = \"./../parcel_database/database/wakefield_final_parcel_data.csv\"\n"
   ]
  },
  {
   "cell_type": "code",
   "execution_count": 3,
   "metadata": {},
   "outputs": [
    {
     "name": "stderr",
     "output_type": "stream",
     "text": [
      "/var/folders/q4/7911fbv57wv3c68srp1cdlkm0000gn/T/ipykernel_60153/2625864370.py:1: DtypeWarning: Columns (1,6) have mixed types. Specify dtype option on import or set low_memory=False.\n",
      "  parcel_df = pd.read_csv(PARCEL_FILEPATH)\n"
     ]
    }
   ],
   "source": [
    "parcel_df = pd.read_csv(PARCEL_FILEPATH)"
   ]
  },
  {
   "cell_type": "code",
   "execution_count": 4,
   "metadata": {},
   "outputs": [
    {
     "data": {
      "text/html": [
       "<div>\n",
       "<style scoped>\n",
       "    .dataframe tbody tr th:only-of-type {\n",
       "        vertical-align: middle;\n",
       "    }\n",
       "\n",
       "    .dataframe tbody tr th {\n",
       "        vertical-align: top;\n",
       "    }\n",
       "\n",
       "    .dataframe thead th {\n",
       "        text-align: right;\n",
       "    }\n",
       "</style>\n",
       "<table border=\"1\" class=\"dataframe\">\n",
       "  <thead>\n",
       "    <tr style=\"text-align: right;\">\n",
       "      <th></th>\n",
       "      <th>PCL ID</th>\n",
       "      <th>Property Account Number</th>\n",
       "      <th>ST NU</th>\n",
       "      <th>ST ALT</th>\n",
       "      <th>LOCATION</th>\n",
       "      <th>CONDO_UNIT</th>\n",
       "      <th>COMPLEX_NAME</th>\n",
       "      <th>OWNER</th>\n",
       "      <th>OWNER 2</th>\n",
       "      <th>OWNER 3</th>\n",
       "      <th>...</th>\n",
       "      <th>BUILD VAL</th>\n",
       "      <th>TOTAL VAL</th>\n",
       "      <th>ADJ AREA</th>\n",
       "      <th>STATE CODE</th>\n",
       "      <th>Decade Built</th>\n",
       "      <th>Age Category</th>\n",
       "      <th>Heat System</th>\n",
       "      <th>Number of Units</th>\n",
       "      <th>Building Type</th>\n",
       "      <th>Use Class</th>\n",
       "    </tr>\n",
       "  </thead>\n",
       "  <tbody>\n",
       "    <tr>\n",
       "      <th>0</th>\n",
       "      <td>07-069-182C</td>\n",
       "      <td>10006.0</td>\n",
       "      <td>NaN</td>\n",
       "      <td>NaN</td>\n",
       "      <td>WALNUT ST</td>\n",
       "      <td>NaN</td>\n",
       "      <td>NaN</td>\n",
       "      <td>MERULLO, WILLIAM D</td>\n",
       "      <td>WILLIAM J MERULLO</td>\n",
       "      <td>NaN</td>\n",
       "      <td>...</td>\n",
       "      <td>0</td>\n",
       "      <td>56700</td>\n",
       "      <td>NaN</td>\n",
       "      <td>F_769337_3008027</td>\n",
       "      <td>NaN</td>\n",
       "      <td>POST2000</td>\n",
       "      <td>NaN</td>\n",
       "      <td>0</td>\n",
       "      <td>NaN</td>\n",
       "      <td>NaN</td>\n",
       "    </tr>\n",
       "    <tr>\n",
       "      <th>1</th>\n",
       "      <td>07-042-184A</td>\n",
       "      <td>10014.0</td>\n",
       "      <td>63</td>\n",
       "      <td>-63A</td>\n",
       "      <td>CEDAR ST</td>\n",
       "      <td>NaN</td>\n",
       "      <td>NaN</td>\n",
       "      <td>KLINE, ROBERT A</td>\n",
       "      <td>NaN</td>\n",
       "      <td>NaN</td>\n",
       "      <td>...</td>\n",
       "      <td>402100</td>\n",
       "      <td>657600</td>\n",
       "      <td>5461.0</td>\n",
       "      <td>F_769446_3007971</td>\n",
       "      <td>1930.0</td>\n",
       "      <td>PRE1950</td>\n",
       "      <td>STEAM</td>\n",
       "      <td>3</td>\n",
       "      <td>Small Multifamily</td>\n",
       "      <td>Residential</td>\n",
       "    </tr>\n",
       "    <tr>\n",
       "      <th>2</th>\n",
       "      <td>07-036-188A</td>\n",
       "      <td>10022.0</td>\n",
       "      <td>31</td>\n",
       "      <td>NaN</td>\n",
       "      <td>GOULD ST</td>\n",
       "      <td>NaN</td>\n",
       "      <td>NaN</td>\n",
       "      <td>GOLDSTEIN  ALLAN</td>\n",
       "      <td>DADY-GOLDSTEIN  DIANE M</td>\n",
       "      <td>NaN</td>\n",
       "      <td>...</td>\n",
       "      <td>212800</td>\n",
       "      <td>470500</td>\n",
       "      <td>2359.2</td>\n",
       "      <td>F_769416_3007700</td>\n",
       "      <td>1910.0</td>\n",
       "      <td>PRE1950</td>\n",
       "      <td>DUCTED</td>\n",
       "      <td>1</td>\n",
       "      <td>Single Family</td>\n",
       "      <td>Residential</td>\n",
       "    </tr>\n",
       "    <tr>\n",
       "      <th>3</th>\n",
       "      <td>02-006-20C</td>\n",
       "      <td>1003.0</td>\n",
       "      <td>NaN</td>\n",
       "      <td>NaN</td>\n",
       "      <td>PARKER RD</td>\n",
       "      <td>NaN</td>\n",
       "      <td>NaN</td>\n",
       "      <td>TOWN OF WAKEFIELD</td>\n",
       "      <td>BOARD OF SELECTMEN</td>\n",
       "      <td>NaN</td>\n",
       "      <td>...</td>\n",
       "      <td>0</td>\n",
       "      <td>153500</td>\n",
       "      <td>NaN</td>\n",
       "      <td>F_766364_3011614</td>\n",
       "      <td>NaN</td>\n",
       "      <td>POST2000</td>\n",
       "      <td>NaN</td>\n",
       "      <td>0</td>\n",
       "      <td>NaN</td>\n",
       "      <td>NaN</td>\n",
       "    </tr>\n",
       "    <tr>\n",
       "      <th>4</th>\n",
       "      <td>07-038-191A</td>\n",
       "      <td>10031.0</td>\n",
       "      <td>27</td>\n",
       "      <td>NaN</td>\n",
       "      <td>GOULD ST</td>\n",
       "      <td>NaN</td>\n",
       "      <td>NaN</td>\n",
       "      <td>PASSERINI, PATRICK A</td>\n",
       "      <td>JOYCE K PASSERINI</td>\n",
       "      <td>NaN</td>\n",
       "      <td>...</td>\n",
       "      <td>251800</td>\n",
       "      <td>507100</td>\n",
       "      <td>2963.0</td>\n",
       "      <td>F_769530_3007727</td>\n",
       "      <td>1900.0</td>\n",
       "      <td>PRE1950</td>\n",
       "      <td>NON-DUCTED</td>\n",
       "      <td>1</td>\n",
       "      <td>Single Family</td>\n",
       "      <td>Residential</td>\n",
       "    </tr>\n",
       "  </tbody>\n",
       "</table>\n",
       "<p>5 rows × 73 columns</p>\n",
       "</div>"
      ],
      "text/plain": [
       "        PCL ID Property Account Number ST NU ST ALT   LOCATION CONDO_UNIT  \\\n",
       "0  07-069-182C                 10006.0   NaN    NaN  WALNUT ST        NaN   \n",
       "1  07-042-184A                 10014.0    63   -63A   CEDAR ST        NaN   \n",
       "2  07-036-188A                 10022.0    31    NaN   GOULD ST        NaN   \n",
       "3   02-006-20C                  1003.0   NaN    NaN  PARKER RD        NaN   \n",
       "4  07-038-191A                 10031.0    27    NaN   GOULD ST        NaN   \n",
       "\n",
       "  COMPLEX_NAME                 OWNER                  OWNER 2 OWNER 3  ...  \\\n",
       "0          NaN    MERULLO, WILLIAM D        WILLIAM J MERULLO     NaN  ...   \n",
       "1          NaN       KLINE, ROBERT A                      NaN     NaN  ...   \n",
       "2          NaN      GOLDSTEIN  ALLAN  DADY-GOLDSTEIN  DIANE M     NaN  ...   \n",
       "3          NaN     TOWN OF WAKEFIELD       BOARD OF SELECTMEN     NaN  ...   \n",
       "4          NaN  PASSERINI, PATRICK A        JOYCE K PASSERINI     NaN  ...   \n",
       "\n",
       "  BUILD VAL TOTAL VAL ADJ AREA        STATE CODE Decade Built  Age Category  \\\n",
       "0         0     56700      NaN  F_769337_3008027          NaN      POST2000   \n",
       "1    402100    657600   5461.0  F_769446_3007971       1930.0       PRE1950   \n",
       "2    212800    470500   2359.2  F_769416_3007700       1910.0       PRE1950   \n",
       "3         0    153500      NaN  F_766364_3011614          NaN      POST2000   \n",
       "4    251800    507100   2963.0  F_769530_3007727       1900.0       PRE1950   \n",
       "\n",
       "   Heat System  Number of Units      Building Type    Use Class  \n",
       "0          NaN                0                NaN          NaN  \n",
       "1        STEAM                3  Small Multifamily  Residential  \n",
       "2       DUCTED                1      Single Family  Residential  \n",
       "3          NaN                0                NaN          NaN  \n",
       "4   NON-DUCTED                1      Single Family  Residential  \n",
       "\n",
       "[5 rows x 73 columns]"
      ]
     },
     "execution_count": 4,
     "metadata": {},
     "output_type": "execute_result"
    }
   ],
   "source": [
    "parcel_df.head()"
   ]
  },
  {
   "cell_type": "code",
   "execution_count": 5,
   "metadata": {},
   "outputs": [],
   "source": [
    "parcel_df = parcel_df[parcel_df[\"LOCATION\"].isin([\"WOLCOTT ST\", \"WILLOW ST\", \"CUTTER ST\"])]"
   ]
  },
  {
   "cell_type": "code",
   "execution_count": 6,
   "metadata": {},
   "outputs": [
    {
     "data": {
      "text/html": [
       "<div>\n",
       "<style scoped>\n",
       "    .dataframe tbody tr th:only-of-type {\n",
       "        vertical-align: middle;\n",
       "    }\n",
       "\n",
       "    .dataframe tbody tr th {\n",
       "        vertical-align: top;\n",
       "    }\n",
       "\n",
       "    .dataframe thead th {\n",
       "        text-align: right;\n",
       "    }\n",
       "</style>\n",
       "<table border=\"1\" class=\"dataframe\">\n",
       "  <thead>\n",
       "    <tr style=\"text-align: right;\">\n",
       "      <th></th>\n",
       "      <th>PCL ID</th>\n",
       "      <th>Property Account Number</th>\n",
       "      <th>ST NU</th>\n",
       "      <th>ST ALT</th>\n",
       "      <th>LOCATION</th>\n",
       "      <th>CONDO_UNIT</th>\n",
       "      <th>COMPLEX_NAME</th>\n",
       "      <th>OWNER</th>\n",
       "      <th>OWNER 2</th>\n",
       "      <th>OWNER 3</th>\n",
       "      <th>...</th>\n",
       "      <th>BUILD VAL</th>\n",
       "      <th>TOTAL VAL</th>\n",
       "      <th>ADJ AREA</th>\n",
       "      <th>STATE CODE</th>\n",
       "      <th>Decade Built</th>\n",
       "      <th>Age Category</th>\n",
       "      <th>Heat System</th>\n",
       "      <th>Number of Units</th>\n",
       "      <th>Building Type</th>\n",
       "      <th>Use Class</th>\n",
       "    </tr>\n",
       "  </thead>\n",
       "  <tbody>\n",
       "    <tr>\n",
       "      <th>3195</th>\n",
       "      <td>2A-009-0QV</td>\n",
       "      <td>40205.0</td>\n",
       "      <td>9</td>\n",
       "      <td>NaN</td>\n",
       "      <td>WOLCOTT ST</td>\n",
       "      <td>NaN</td>\n",
       "      <td>NaN</td>\n",
       "      <td>VASAPOLI   TYSON J</td>\n",
       "      <td>VASAPOLI   CHRISTINE M</td>\n",
       "      <td>NaN</td>\n",
       "      <td>...</td>\n",
       "      <td>155200</td>\n",
       "      <td>454200</td>\n",
       "      <td>2184.0</td>\n",
       "      <td>F_767778_3011969</td>\n",
       "      <td>1940.0</td>\n",
       "      <td>PRE1950</td>\n",
       "      <td>DUCTED</td>\n",
       "      <td>1</td>\n",
       "      <td>Single Family</td>\n",
       "      <td>Residential</td>\n",
       "    </tr>\n",
       "    <tr>\n",
       "      <th>3196</th>\n",
       "      <td>2A-010-0QW</td>\n",
       "      <td>40213.0</td>\n",
       "      <td>7</td>\n",
       "      <td>NaN</td>\n",
       "      <td>WOLCOTT ST</td>\n",
       "      <td>NaN</td>\n",
       "      <td>NaN</td>\n",
       "      <td>DEBENEDICTIS, VINCENT P</td>\n",
       "      <td>JOAN E DEBENEDICTIS</td>\n",
       "      <td>NaN</td>\n",
       "      <td>...</td>\n",
       "      <td>190300</td>\n",
       "      <td>493800</td>\n",
       "      <td>2470.5</td>\n",
       "      <td>F_767878_3011991</td>\n",
       "      <td>1940.0</td>\n",
       "      <td>PRE1950</td>\n",
       "      <td>STEAM</td>\n",
       "      <td>1</td>\n",
       "      <td>Single Family</td>\n",
       "      <td>Residential</td>\n",
       "    </tr>\n",
       "    <tr>\n",
       "      <th>3197</th>\n",
       "      <td>2A-011-0QX</td>\n",
       "      <td>40221.0</td>\n",
       "      <td>5</td>\n",
       "      <td>NaN</td>\n",
       "      <td>WOLCOTT ST</td>\n",
       "      <td>NaN</td>\n",
       "      <td>NaN</td>\n",
       "      <td>FORD MICHAEL J</td>\n",
       "      <td>FORD DEVON M</td>\n",
       "      <td>NaN</td>\n",
       "      <td>...</td>\n",
       "      <td>188200</td>\n",
       "      <td>474100</td>\n",
       "      <td>2289.0</td>\n",
       "      <td>F_767948_3012028</td>\n",
       "      <td>1940.0</td>\n",
       "      <td>PRE1950</td>\n",
       "      <td>STEAM</td>\n",
       "      <td>1</td>\n",
       "      <td>Single Family</td>\n",
       "      <td>Residential</td>\n",
       "    </tr>\n",
       "    <tr>\n",
       "      <th>3198</th>\n",
       "      <td>2A-012-0QY</td>\n",
       "      <td>40230.0</td>\n",
       "      <td>3</td>\n",
       "      <td>NaN</td>\n",
       "      <td>WOLCOTT ST</td>\n",
       "      <td>NaN</td>\n",
       "      <td>NaN</td>\n",
       "      <td>COLLINS SUSAN M</td>\n",
       "      <td>NaN</td>\n",
       "      <td>NaN</td>\n",
       "      <td>...</td>\n",
       "      <td>256400</td>\n",
       "      <td>536200</td>\n",
       "      <td>2952.0</td>\n",
       "      <td>F_768013_3012072</td>\n",
       "      <td>1940.0</td>\n",
       "      <td>PRE1950</td>\n",
       "      <td>STEAM</td>\n",
       "      <td>1</td>\n",
       "      <td>Single Family</td>\n",
       "      <td>Residential</td>\n",
       "    </tr>\n",
       "    <tr>\n",
       "      <th>3199</th>\n",
       "      <td>2A-013-0QZ</td>\n",
       "      <td>40248.0</td>\n",
       "      <td>1</td>\n",
       "      <td>NaN</td>\n",
       "      <td>WOLCOTT ST</td>\n",
       "      <td>NaN</td>\n",
       "      <td>NaN</td>\n",
       "      <td>OCALLAHAN ANDREA R</td>\n",
       "      <td>OCALLAHAN  DANIEL J</td>\n",
       "      <td>NaN</td>\n",
       "      <td>...</td>\n",
       "      <td>294400</td>\n",
       "      <td>598600</td>\n",
       "      <td>3041.0</td>\n",
       "      <td>F_768082_3012133</td>\n",
       "      <td>1940.0</td>\n",
       "      <td>PRE1950</td>\n",
       "      <td>NON-DUCTED</td>\n",
       "      <td>1</td>\n",
       "      <td>Single Family</td>\n",
       "      <td>Residential</td>\n",
       "    </tr>\n",
       "  </tbody>\n",
       "</table>\n",
       "<p>5 rows × 73 columns</p>\n",
       "</div>"
      ],
      "text/plain": [
       "          PCL ID Property Account Number ST NU ST ALT    LOCATION CONDO_UNIT  \\\n",
       "3195  2A-009-0QV                 40205.0     9    NaN  WOLCOTT ST        NaN   \n",
       "3196  2A-010-0QW                 40213.0     7    NaN  WOLCOTT ST        NaN   \n",
       "3197  2A-011-0QX                 40221.0     5    NaN  WOLCOTT ST        NaN   \n",
       "3198  2A-012-0QY                 40230.0     3    NaN  WOLCOTT ST        NaN   \n",
       "3199  2A-013-0QZ                 40248.0     1    NaN  WOLCOTT ST        NaN   \n",
       "\n",
       "     COMPLEX_NAME                    OWNER                 OWNER 2 OWNER 3  \\\n",
       "3195          NaN       VASAPOLI   TYSON J  VASAPOLI   CHRISTINE M     NaN   \n",
       "3196          NaN  DEBENEDICTIS, VINCENT P     JOAN E DEBENEDICTIS     NaN   \n",
       "3197          NaN           FORD MICHAEL J            FORD DEVON M     NaN   \n",
       "3198          NaN          COLLINS SUSAN M                     NaN     NaN   \n",
       "3199          NaN       OCALLAHAN ANDREA R     OCALLAHAN  DANIEL J     NaN   \n",
       "\n",
       "      ... BUILD VAL TOTAL VAL ADJ AREA        STATE CODE Decade Built  \\\n",
       "3195  ...    155200    454200   2184.0  F_767778_3011969       1940.0   \n",
       "3196  ...    190300    493800   2470.5  F_767878_3011991       1940.0   \n",
       "3197  ...    188200    474100   2289.0  F_767948_3012028       1940.0   \n",
       "3198  ...    256400    536200   2952.0  F_768013_3012072       1940.0   \n",
       "3199  ...    294400    598600   3041.0  F_768082_3012133       1940.0   \n",
       "\n",
       "      Age Category  Heat System  Number of Units  Building Type    Use Class  \n",
       "3195       PRE1950       DUCTED                1  Single Family  Residential  \n",
       "3196       PRE1950        STEAM                1  Single Family  Residential  \n",
       "3197       PRE1950        STEAM                1  Single Family  Residential  \n",
       "3198       PRE1950        STEAM                1  Single Family  Residential  \n",
       "3199       PRE1950   NON-DUCTED                1  Single Family  Residential  \n",
       "\n",
       "[5 rows x 73 columns]"
      ]
     },
     "execution_count": 6,
     "metadata": {},
     "output_type": "execute_result"
    }
   ],
   "source": [
    "parcel_df.head()"
   ]
  },
  {
   "cell_type": "code",
   "execution_count": 7,
   "metadata": {},
   "outputs": [
    {
     "data": {
      "text/plain": [
       "Index(['PCL ID', 'Property Account Number', 'ST NU', 'ST ALT', 'LOCATION',\n",
       "       'CONDO_UNIT', 'COMPLEX_NAME', 'OWNER', 'OWNER 2', 'OWNER 3', 'MAILING',\n",
       "       'CITY', 'ST', 'ZIP', 'ZONING', 'UTILITY', 'TRAFFIC', 'LUC', 'YEAR BLT',\n",
       "       '?PERMIT?', 'ACRES', 'SKETCH AREA', 'DESC', 'FLA',\n",
       "       'Number of Buildings (Property Cards)', 'ST HT', 'FULL BA', 'ROOMS',\n",
       "       'BRS', 'BATHS', 'HALF BATHS', 'COND', 'KITCHENS', 'Building Conditions',\n",
       "       'Fireplaces', 'Solar Hot Water', 'Central Vacuum', 'HEAT TYPE',\n",
       "       'HEAT FUEL', 'PCT_AIR_CONDITIONED', 'BSMT AREA', 'BSMT_ALT_FINISH',\n",
       "       'ROOF', 'ROOF_COVER', 'SIDING', 'WALL', 'EXT', 'FLOORS',\n",
       "       '?CURRENT ASSESSMENT?', 'GRADE', 'COND.1', 'BK / PG', 'DATE',\n",
       "       'SALES PRICE', 'ARMS Sales', 'GRANTOR LAST NAME', 'BK / PG (2)',\n",
       "       'DATE (2)', 'Sales Price (2)', 'ARMS Sales (2)',\n",
       "       'GRANTOR LAST NAME (2)', 'LAND VAL', 'YARD ITEMS', 'BUILD VAL',\n",
       "       'TOTAL VAL', 'ADJ AREA', 'STATE CODE', 'Decade Built', 'Age Category',\n",
       "       'Heat System', 'Number of Units', 'Building Type', 'Use Class'],\n",
       "      dtype='object')"
      ]
     },
     "execution_count": 7,
     "metadata": {},
     "output_type": "execute_result"
    }
   ],
   "source": [
    "parcel_df.columns"
   ]
  },
  {
   "cell_type": "code",
   "execution_count": 8,
   "metadata": {},
   "outputs": [
    {
     "data": {
      "image/png": "[encoded data removed]",
      "text/plain": [
       "<Figure size 432x288 with 2 Axes>"
      ]
     },
     "metadata": {
      "needs_background": "light"
     },
     "output_type": "display_data"
    },
    {
     "data": {
      "image/png": "[encoded data removed]",
      "text/plain": [
       "<Figure size 432x288 with 2 Axes>"
      ]
     },
     "metadata": {
      "needs_background": "light"
     },
     "output_type": "display_data"
    },
    {
     "data": {
      "image/png": "[encoded data removed]",
      "text/plain": [
       "<Figure size 432x288 with 2 Axes>"
      ]
     },
     "metadata": {
      "needs_background": "light"
     },
     "output_type": "display_data"
    }
   ],
   "source": [
    "fig, ax = plt.subplots(1, 2)\n",
    "\n",
    "parcel_df[\"Decade Built\"].hist(ax=ax[0])\n",
    "parcel_df[\"YEAR BLT\"].hist(ax=ax[1])\n",
    "plt.show()\n",
    "\n",
    "fig, ax = plt.subplots(1, 2)\n",
    "parcel_df[\"FLA\"].hist(ax=ax[0])\n",
    "parcel_df[\"ADJ AREA\"].hist(ax=ax[1])\n",
    "plt.show()\n",
    "\n",
    "fig, ax = plt.subplots(1, 2)\n",
    "parcel_df[\"HEAT FUEL\"].hist(ax=ax[0])\n",
    "parcel_df[\"HEAT TYPE\"].hist(ax=ax[1])\n",
    "plt.show()"
   ]
  },
  {
   "cell_type": "code",
   "execution_count": 9,
   "metadata": {},
   "outputs": [
    {
     "data": {
      "text/plain": [
       "count      25.000000\n",
       "mean     1542.102000\n",
       "std       311.768908\n",
       "min      1123.000000\n",
       "25%      1272.000000\n",
       "50%      1532.000000\n",
       "75%      1664.000000\n",
       "max      2634.750000\n",
       "Name: FLA, dtype: float64"
      ]
     },
     "execution_count": 9,
     "metadata": {},
     "output_type": "execute_result"
    }
   ],
   "source": [
    "parcel_df[\"FLA\"].describe()"
   ]
  },
  {
   "cell_type": "code",
   "execution_count": 10,
   "metadata": {},
   "outputs": [
    {
     "data": {
      "text/plain": [
       "count      25.000000\n",
       "mean     1939.960000\n",
       "std        12.781758\n",
       "min      1879.000000\n",
       "25%      1942.000000\n",
       "50%      1942.000000\n",
       "75%      1942.000000\n",
       "max      1947.000000\n",
       "Name: YEAR BLT, dtype: float64"
      ]
     },
     "execution_count": 10,
     "metadata": {},
     "output_type": "execute_result"
    }
   ],
   "source": [
    "parcel_df[\"YEAR BLT\"].describe()"
   ]
  },
  {
   "cell_type": "markdown",
   "metadata": {},
   "source": [
    "## ResStock Data\n",
    "We will start with the ResStock buildings by filtering based on what exists at our location. There are 143 single-family detached ResStock buildings for our PUMA"
   ]
  },
  {
   "cell_type": "code",
   "execution_count": 11,
   "metadata": {},
   "outputs": [],
   "source": [
    "RESSTOCK_METADATA_FILEPATH = \"./wakefield_metadata.csv\"\n",
    "metadata_df = pd.read_csv(RESSTOCK_METADATA_FILEPATH)"
   ]
  },
  {
   "cell_type": "code",
   "execution_count": 12,
   "metadata": {},
   "outputs": [],
   "source": [
    "# First, filter for single-family detached homes\n",
    "metadata_df = metadata_df[metadata_df[\"in.geometry_building_type_acs\"]==\"Single-Family Detached\"]"
   ]
  },
  {
   "cell_type": "code",
   "execution_count": 13,
   "metadata": {},
   "outputs": [],
   "source": [
    "# Dropping some columns that are consistent for our entire region\n",
    "metadata_df = metadata_df.drop(columns=[\n",
    "    \"in.county\", \"in.puma\", \"in.ashrae_iecc_climate_zone_2004\", \"in.building_america_climate_zone\",\n",
    "    \"in.iso_rto_region\", \"applicability\", \"weight\", \"in.ahs_region\", \"in.census_division\",\n",
    "    \"in.census_division_recs\", \"in.census_region\"\n",
    "])"
   ]
  },
  {
   "cell_type": "code",
   "execution_count": 14,
   "metadata": {},
   "outputs": [
    {
     "data": {
      "text/html": [
       "<div>\n",
       "<style scoped>\n",
       "    .dataframe tbody tr th:only-of-type {\n",
       "        vertical-align: middle;\n",
       "    }\n",
       "\n",
       "    .dataframe tbody tr th {\n",
       "        vertical-align: top;\n",
       "    }\n",
       "\n",
       "    .dataframe thead th {\n",
       "        text-align: right;\n",
       "    }\n",
       "</style>\n",
       "<table border=\"1\" class=\"dataframe\">\n",
       "  <thead>\n",
       "    <tr style=\"text-align: right;\">\n",
       "      <th></th>\n",
       "      <th>bldg_id</th>\n",
       "      <th>in.sqft</th>\n",
       "      <th>in.applicable</th>\n",
       "      <th>in.bathroom_spot_vent_hour</th>\n",
       "      <th>in.bedrooms</th>\n",
       "      <th>in.cec_climate_zone</th>\n",
       "      <th>in.ceiling_fan</th>\n",
       "      <th>in.clothes_dryer</th>\n",
       "      <th>in.clothes_washer</th>\n",
       "      <th>in.clothes_washer_presence</th>\n",
       "      <th>...</th>\n",
       "      <th>in.door_area_ft_2</th>\n",
       "      <th>in.duct_unconditioned_surface_area_ft_2</th>\n",
       "      <th>in.floor_area_attic_ft_2</th>\n",
       "      <th>in.floor_area_conditioned_ft_2</th>\n",
       "      <th>in.floor_area_lighting_ft_2</th>\n",
       "      <th>in.roof_area_ft_2</th>\n",
       "      <th>in.wall_area_above_grade_conditioned_ft_2</th>\n",
       "      <th>in.wall_area_above_grade_exterior_ft_2</th>\n",
       "      <th>in.wall_area_below_grade_ft_2</th>\n",
       "      <th>in.window_area_ft_2</th>\n",
       "    </tr>\n",
       "  </thead>\n",
       "  <tbody>\n",
       "    <tr>\n",
       "      <th>1</th>\n",
       "      <td>3917</td>\n",
       "      <td>1690.0</td>\n",
       "      <td>True</td>\n",
       "      <td>Hour1</td>\n",
       "      <td>3</td>\n",
       "      <td>None</td>\n",
       "      <td>None</td>\n",
       "      <td>Electric, 120% Usage</td>\n",
       "      <td>EnergyStar, 120% Usage</td>\n",
       "      <td>Yes</td>\n",
       "      <td>...</td>\n",
       "      <td>20.0</td>\n",
       "      <td>0.00</td>\n",
       "      <td>845.0</td>\n",
       "      <td>1690.0</td>\n",
       "      <td>2266.0</td>\n",
       "      <td>1588.73</td>\n",
       "      <td>1123.98</td>\n",
       "      <td>1545.34</td>\n",
       "      <td>835.98</td>\n",
       "      <td>250.79</td>\n",
       "    </tr>\n",
       "    <tr>\n",
       "      <th>2</th>\n",
       "      <td>8736</td>\n",
       "      <td>1690.0</td>\n",
       "      <td>True</td>\n",
       "      <td>Hour8</td>\n",
       "      <td>3</td>\n",
       "      <td>None</td>\n",
       "      <td>Standard Efficiency</td>\n",
       "      <td>None</td>\n",
       "      <td>EnergyStar, 100% Usage</td>\n",
       "      <td>Yes</td>\n",
       "      <td>...</td>\n",
       "      <td>20.0</td>\n",
       "      <td>468.98</td>\n",
       "      <td>845.0</td>\n",
       "      <td>1690.0</td>\n",
       "      <td>1690.0</td>\n",
       "      <td>944.74</td>\n",
       "      <td>1941.33</td>\n",
       "      <td>2058.69</td>\n",
       "      <td>485.33</td>\n",
       "      <td>174.72</td>\n",
       "    </tr>\n",
       "    <tr>\n",
       "      <th>5</th>\n",
       "      <td>20978</td>\n",
       "      <td>8194.0</td>\n",
       "      <td>True</td>\n",
       "      <td>Hour6</td>\n",
       "      <td>5</td>\n",
       "      <td>None</td>\n",
       "      <td>Standard Efficiency</td>\n",
       "      <td>Gas, 100% Usage</td>\n",
       "      <td>Standard, 100% Usage</td>\n",
       "      <td>Yes</td>\n",
       "      <td>...</td>\n",
       "      <td>20.0</td>\n",
       "      <td>2273.84</td>\n",
       "      <td>4385.0</td>\n",
       "      <td>8194.0</td>\n",
       "      <td>8770.0</td>\n",
       "      <td>4902.58</td>\n",
       "      <td>4466.69</td>\n",
       "      <td>5299.72</td>\n",
       "      <td>924.67</td>\n",
       "      <td>626.80</td>\n",
       "    </tr>\n",
       "    <tr>\n",
       "      <th>6</th>\n",
       "      <td>27520</td>\n",
       "      <td>1220.0</td>\n",
       "      <td>True</td>\n",
       "      <td>Hour21</td>\n",
       "      <td>3</td>\n",
       "      <td>None</td>\n",
       "      <td>Standard Efficiency</td>\n",
       "      <td>Electric, 100% Usage</td>\n",
       "      <td>EnergyStar, 100% Usage</td>\n",
       "      <td>Yes</td>\n",
       "      <td>...</td>\n",
       "      <td>20.0</td>\n",
       "      <td>390.40</td>\n",
       "      <td>1220.0</td>\n",
       "      <td>1220.0</td>\n",
       "      <td>1220.0</td>\n",
       "      <td>1364.00</td>\n",
       "      <td>1166.33</td>\n",
       "      <td>1335.78</td>\n",
       "      <td>1166.33</td>\n",
       "      <td>349.90</td>\n",
       "    </tr>\n",
       "    <tr>\n",
       "      <th>7</th>\n",
       "      <td>28939</td>\n",
       "      <td>2176.0</td>\n",
       "      <td>True</td>\n",
       "      <td>Hour23</td>\n",
       "      <td>5</td>\n",
       "      <td>None</td>\n",
       "      <td>None</td>\n",
       "      <td>Gas, 100% Usage</td>\n",
       "      <td>EnergyStar, 100% Usage</td>\n",
       "      <td>Yes</td>\n",
       "      <td>...</td>\n",
       "      <td>20.0</td>\n",
       "      <td>603.84</td>\n",
       "      <td>1088.0</td>\n",
       "      <td>2176.0</td>\n",
       "      <td>2176.0</td>\n",
       "      <td>1216.42</td>\n",
       "      <td>2202.86</td>\n",
       "      <td>2353.97</td>\n",
       "      <td>0.00</td>\n",
       "      <td>198.26</td>\n",
       "    </tr>\n",
       "  </tbody>\n",
       "</table>\n",
       "<p>5 rows × 263 columns</p>\n",
       "</div>"
      ],
      "text/plain": [
       "   bldg_id  in.sqft  in.applicable in.bathroom_spot_vent_hour  in.bedrooms  \\\n",
       "1     3917   1690.0           True                      Hour1            3   \n",
       "2     8736   1690.0           True                      Hour8            3   \n",
       "5    20978   8194.0           True                      Hour6            5   \n",
       "6    27520   1220.0           True                     Hour21            3   \n",
       "7    28939   2176.0           True                     Hour23            5   \n",
       "\n",
       "  in.cec_climate_zone       in.ceiling_fan      in.clothes_dryer  \\\n",
       "1                None                 None  Electric, 120% Usage   \n",
       "2                None  Standard Efficiency                  None   \n",
       "5                None  Standard Efficiency       Gas, 100% Usage   \n",
       "6                None  Standard Efficiency  Electric, 100% Usage   \n",
       "7                None                 None       Gas, 100% Usage   \n",
       "\n",
       "        in.clothes_washer in.clothes_washer_presence  ... in.door_area_ft_2  \\\n",
       "1  EnergyStar, 120% Usage                        Yes  ...              20.0   \n",
       "2  EnergyStar, 100% Usage                        Yes  ...              20.0   \n",
       "5    Standard, 100% Usage                        Yes  ...              20.0   \n",
       "6  EnergyStar, 100% Usage                        Yes  ...              20.0   \n",
       "7  EnergyStar, 100% Usage                        Yes  ...              20.0   \n",
       "\n",
       "  in.duct_unconditioned_surface_area_ft_2 in.floor_area_attic_ft_2  \\\n",
       "1                                    0.00                    845.0   \n",
       "2                                  468.98                    845.0   \n",
       "5                                 2273.84                   4385.0   \n",
       "6                                  390.40                   1220.0   \n",
       "7                                  603.84                   1088.0   \n",
       "\n",
       "  in.floor_area_conditioned_ft_2 in.floor_area_lighting_ft_2  \\\n",
       "1                         1690.0                      2266.0   \n",
       "2                         1690.0                      1690.0   \n",
       "5                         8194.0                      8770.0   \n",
       "6                         1220.0                      1220.0   \n",
       "7                         2176.0                      2176.0   \n",
       "\n",
       "  in.roof_area_ft_2 in.wall_area_above_grade_conditioned_ft_2  \\\n",
       "1           1588.73                                   1123.98   \n",
       "2            944.74                                   1941.33   \n",
       "5           4902.58                                   4466.69   \n",
       "6           1364.00                                   1166.33   \n",
       "7           1216.42                                   2202.86   \n",
       "\n",
       "  in.wall_area_above_grade_exterior_ft_2 in.wall_area_below_grade_ft_2  \\\n",
       "1                                1545.34                        835.98   \n",
       "2                                2058.69                        485.33   \n",
       "5                                5299.72                        924.67   \n",
       "6                                1335.78                       1166.33   \n",
       "7                                2353.97                          0.00   \n",
       "\n",
       "  in.window_area_ft_2  \n",
       "1              250.79  \n",
       "2              174.72  \n",
       "5              626.80  \n",
       "6              349.90  \n",
       "7              198.26  \n",
       "\n",
       "[5 rows x 263 columns]"
      ]
     },
     "execution_count": 14,
     "metadata": {},
     "output_type": "execute_result"
    }
   ],
   "source": [
    "metadata_df.head()"
   ]
  },
  {
   "cell_type": "code",
   "execution_count": 15,
   "metadata": {},
   "outputs": [
    {
     "name": "stdout",
     "output_type": "stream",
     "text": [
      "143\n"
     ]
    }
   ],
   "source": [
    "print(len(metadata_df))"
   ]
  },
  {
   "cell_type": "markdown",
   "metadata": {},
   "source": [
    "### Floor area\n",
    "Filter out ResStock buildings based on floor area. The parcel data tells us we don't need anything with a floor area over 3,000 sq. ft."
   ]
  },
  {
   "cell_type": "code",
   "execution_count": 16,
   "metadata": {},
   "outputs": [
    {
     "data": {
      "text/plain": [
       "<AxesSubplot:>"
      ]
     },
     "execution_count": 16,
     "metadata": {},
     "output_type": "execute_result"
    },
    {
     "data": {
      "image/png": "[encoded data removed]",
      "text/plain": [
       "<Figure size 432x288 with 1 Axes>"
      ]
     },
     "metadata": {
      "needs_background": "light"
     },
     "output_type": "display_data"
    }
   ],
   "source": [
    "# Match to FLA in parcel database\n",
    "# \"in.sqft\" is \"Finished floor area of the housing unit\"\n",
    "metadata_df[\"in.sqft\"].hist()"
   ]
  },
  {
   "cell_type": "code",
   "execution_count": 17,
   "metadata": {},
   "outputs": [
    {
     "data": {
      "text/plain": [
       "count     143.000000\n",
       "mean     2298.286713\n",
       "std      1763.980313\n",
       "min       328.000000\n",
       "25%      1220.000000\n",
       "50%      1690.000000\n",
       "75%      2176.000000\n",
       "max      8194.000000\n",
       "Name: in.sqft, dtype: float64"
      ]
     },
     "execution_count": 17,
     "metadata": {},
     "output_type": "execute_result"
    }
   ],
   "source": [
    "metadata_df[\"in.sqft\"].describe()"
   ]
  },
  {
   "cell_type": "code",
   "execution_count": 18,
   "metadata": {},
   "outputs": [],
   "source": [
    "metadata_df = metadata_df[metadata_df[\"in.sqft\"] < 3000]"
   ]
  },
  {
   "cell_type": "code",
   "execution_count": 19,
   "metadata": {},
   "outputs": [
    {
     "data": {
      "text/plain": [
       "<AxesSubplot:>"
      ]
     },
     "execution_count": 19,
     "metadata": {},
     "output_type": "execute_result"
    },
    {
     "data": {
      "image/png": "[encoded data removed]",
      "text/plain": [
       "<Figure size 432x288 with 1 Axes>"
      ]
     },
     "metadata": {
      "needs_background": "light"
     },
     "output_type": "display_data"
    }
   ],
   "source": [
    "metadata_df[\"in.sqft\"].hist()"
   ]
  },
  {
   "cell_type": "code",
   "execution_count": 20,
   "metadata": {},
   "outputs": [
    {
     "data": {
      "text/plain": [
       "count     118.000000\n",
       "mean     1671.186441\n",
       "std       529.239479\n",
       "min       328.000000\n",
       "25%      1220.000000\n",
       "50%      1690.000000\n",
       "75%      2176.000000\n",
       "max      2663.000000\n",
       "Name: in.sqft, dtype: float64"
      ]
     },
     "execution_count": 20,
     "metadata": {},
     "output_type": "execute_result"
    }
   ],
   "source": [
    "metadata_df[\"in.sqft\"].describe()"
   ]
  },
  {
   "cell_type": "code",
   "execution_count": 21,
   "metadata": {},
   "outputs": [
    {
     "data": {
      "image/png": "[encoded data removed]",
      "text/plain": [
       "<Figure size 432x288 with 4 Axes>"
      ]
     },
     "metadata": {
      "needs_background": "light"
     },
     "output_type": "display_data"
    }
   ],
   "source": [
    "fig, ax = plt.subplots(2, 2)\n",
    "metadata_df[\"in.sqft\"].hist(ax=ax[0, 0])\n",
    "metadata_df[\"in.geometry_floor_area\"].hist(ax=ax[1, 0])\n",
    "metadata_df[\"in.geometry_floor_area_bin\"].hist(ax=ax[1, 1])\n",
    "\n",
    "plt.show()"
   ]
  },
  {
   "cell_type": "code",
   "execution_count": 22,
   "metadata": {},
   "outputs": [
    {
     "data": {
      "text/html": [
       "<div>\n",
       "<style scoped>\n",
       "    .dataframe tbody tr th:only-of-type {\n",
       "        vertical-align: middle;\n",
       "    }\n",
       "\n",
       "    .dataframe tbody tr th {\n",
       "        vertical-align: top;\n",
       "    }\n",
       "\n",
       "    .dataframe thead th {\n",
       "        text-align: right;\n",
       "    }\n",
       "</style>\n",
       "<table border=\"1\" class=\"dataframe\">\n",
       "  <thead>\n",
       "    <tr style=\"text-align: right;\">\n",
       "      <th></th>\n",
       "      <th>in.sqft</th>\n",
       "      <th>in.geometry_floor_area</th>\n",
       "      <th>in.geometry_floor_area_bin</th>\n",
       "    </tr>\n",
       "  </thead>\n",
       "  <tbody>\n",
       "    <tr>\n",
       "      <th>1</th>\n",
       "      <td>1690.0</td>\n",
       "      <td>1500-1999</td>\n",
       "      <td>1500-2499</td>\n",
       "    </tr>\n",
       "    <tr>\n",
       "      <th>2</th>\n",
       "      <td>1690.0</td>\n",
       "      <td>1500-1999</td>\n",
       "      <td>1500-2499</td>\n",
       "    </tr>\n",
       "    <tr>\n",
       "      <th>6</th>\n",
       "      <td>1220.0</td>\n",
       "      <td>1000-1499</td>\n",
       "      <td>0-1499</td>\n",
       "    </tr>\n",
       "    <tr>\n",
       "      <th>7</th>\n",
       "      <td>2176.0</td>\n",
       "      <td>2000-2499</td>\n",
       "      <td>1500-2499</td>\n",
       "    </tr>\n",
       "    <tr>\n",
       "      <th>10</th>\n",
       "      <td>1220.0</td>\n",
       "      <td>1000-1499</td>\n",
       "      <td>0-1499</td>\n",
       "    </tr>\n",
       "    <tr>\n",
       "      <th>...</th>\n",
       "      <td>...</td>\n",
       "      <td>...</td>\n",
       "      <td>...</td>\n",
       "    </tr>\n",
       "    <tr>\n",
       "      <th>233</th>\n",
       "      <td>633.0</td>\n",
       "      <td>500-749</td>\n",
       "      <td>0-1499</td>\n",
       "    </tr>\n",
       "    <tr>\n",
       "      <th>234</th>\n",
       "      <td>1220.0</td>\n",
       "      <td>1000-1499</td>\n",
       "      <td>0-1499</td>\n",
       "    </tr>\n",
       "    <tr>\n",
       "      <th>235</th>\n",
       "      <td>1220.0</td>\n",
       "      <td>1000-1499</td>\n",
       "      <td>0-1499</td>\n",
       "    </tr>\n",
       "    <tr>\n",
       "      <th>236</th>\n",
       "      <td>1690.0</td>\n",
       "      <td>1500-1999</td>\n",
       "      <td>1500-2499</td>\n",
       "    </tr>\n",
       "    <tr>\n",
       "      <th>238</th>\n",
       "      <td>885.0</td>\n",
       "      <td>750-999</td>\n",
       "      <td>0-1499</td>\n",
       "    </tr>\n",
       "  </tbody>\n",
       "</table>\n",
       "<p>118 rows × 3 columns</p>\n",
       "</div>"
      ],
      "text/plain": [
       "     in.sqft in.geometry_floor_area in.geometry_floor_area_bin\n",
       "1     1690.0              1500-1999                  1500-2499\n",
       "2     1690.0              1500-1999                  1500-2499\n",
       "6     1220.0              1000-1499                     0-1499\n",
       "7     2176.0              2000-2499                  1500-2499\n",
       "10    1220.0              1000-1499                     0-1499\n",
       "..       ...                    ...                        ...\n",
       "233    633.0                500-749                     0-1499\n",
       "234   1220.0              1000-1499                     0-1499\n",
       "235   1220.0              1000-1499                     0-1499\n",
       "236   1690.0              1500-1999                  1500-2499\n",
       "238    885.0                750-999                     0-1499\n",
       "\n",
       "[118 rows x 3 columns]"
      ]
     },
     "execution_count": 22,
     "metadata": {},
     "output_type": "execute_result"
    }
   ],
   "source": [
    "metadata_df[[\"in.sqft\", \"in.geometry_floor_area\", \"in.geometry_floor_area_bin\"]]"
   ]
  },
  {
   "cell_type": "markdown",
   "metadata": {},
   "source": [
    "#### Square footage - notes\n",
    "Based on the data dictionary, we can have either the exact square footage, or one or two bins.\n",
    "* Bin 1: `0-499|1000-1499|1500-1999|2000-2499|2500-2999|3000-3999|4000+|500-749|750-999`\n",
    "* Bin 2: `0-1499|1500-2499|2500-3999|4000+`"
   ]
  },
  {
   "cell_type": "markdown",
   "metadata": {},
   "source": [
    "### Heating fuel\n",
    "For our parcels, the buildings just have Gas and Oil. Mapping to ResStock:\n",
    "* \"GAS\" in the parcel data = \"Natural Gas\" in ResStock\n",
    "* \"OIL\" in the parcel data = \"Fuel Oil\" in ResStock."
   ]
  },
  {
   "cell_type": "code",
   "execution_count": 23,
   "metadata": {},
   "outputs": [
    {
     "data": {
      "text/plain": [
       "<AxesSubplot:>"
      ]
     },
     "execution_count": 23,
     "metadata": {},
     "output_type": "execute_result"
    },
    {
     "data": {
      "image/png": "[encoded data removed]",
      "text/plain": [
       "<Figure size 432x288 with 1 Axes>"
      ]
     },
     "metadata": {
      "needs_background": "light"
     },
     "output_type": "display_data"
    }
   ],
   "source": [
    "metadata_df[\"in.heating_fuel\"].hist()"
   ]
  },
  {
   "cell_type": "code",
   "execution_count": 24,
   "metadata": {},
   "outputs": [
    {
     "data": {
      "text/plain": [
       "<AxesSubplot:>"
      ]
     },
     "execution_count": 24,
     "metadata": {},
     "output_type": "execute_result"
    },
    {
     "data": {
      "image/png": "[encoded data removed]",
      "text/plain": [
       "<Figure size 432x288 with 1 Axes>"
      ]
     },
     "metadata": {
      "needs_background": "light"
     },
     "output_type": "display_data"
    }
   ],
   "source": [
    "# Can filter out electric for this group of homes\n",
    "metadata_df = metadata_df[metadata_df[\"in.heating_fuel\"].isin([\"Natural Gas\", \"Fuel Oil\"])]\n",
    "metadata_df[\"in.heating_fuel\"].hist()"
   ]
  },
  {
   "cell_type": "markdown",
   "metadata": {},
   "source": [
    "### Vintage\n",
    "Our parcels were all built before 1950, so we can filter out ResStock buildings based on vintage"
   ]
  },
  {
   "cell_type": "code",
   "execution_count": 25,
   "metadata": {},
   "outputs": [
    {
     "data": {
      "text/plain": [
       "<AxesSubplot:>"
      ]
     },
     "execution_count": 25,
     "metadata": {},
     "output_type": "execute_result"
    },
    {
     "data": {
      "image/png": "[encoded data removed]",
      "text/plain": [
       "<Figure size 432x288 with 1 Axes>"
      ]
     },
     "metadata": {
      "needs_background": "light"
     },
     "output_type": "display_data"
    }
   ],
   "source": [
    "# Vintage\n",
    "metadata_df[\"in.vintage\"].hist()"
   ]
  },
  {
   "cell_type": "code",
   "execution_count": 26,
   "metadata": {},
   "outputs": [],
   "source": [
    "# Can filter for only buildings before 1950, based on our streets of interest\n",
    "metadata_df = metadata_df[metadata_df[\"in.vintage\"].isin([\"<1940\", \"1940s\"])]"
   ]
  },
  {
   "cell_type": "code",
   "execution_count": 27,
   "metadata": {},
   "outputs": [
    {
     "data": {
      "text/plain": [
       "<AxesSubplot:>"
      ]
     },
     "execution_count": 27,
     "metadata": {},
     "output_type": "execute_result"
    },
    {
     "data": {
      "image/png": "[encoded data removed]",
      "text/plain": [
       "<Figure size 432x288 with 1 Axes>"
      ]
     },
     "metadata": {
      "needs_background": "light"
     },
     "output_type": "display_data"
    }
   ],
   "source": [
    "metadata_df[\"in.vintage\"].hist()"
   ]
  },
  {
   "cell_type": "code",
   "execution_count": 28,
   "metadata": {},
   "outputs": [
    {
     "data": {
      "text/plain": [
       "56"
      ]
     },
     "execution_count": 28,
     "metadata": {},
     "output_type": "execute_result"
    }
   ],
   "source": [
    "len(metadata_df)"
   ]
  },
  {
   "cell_type": "markdown",
   "metadata": {},
   "source": [
    "### ResStock Midpoint Summary\n",
    "We can lower the number of ResStock buildings from 143 to 56 by filtering the *vintage*, *floor area*, and *heating fuel*"
   ]
  },
  {
   "cell_type": "code",
   "execution_count": 29,
   "metadata": {},
   "outputs": [],
   "source": [
    "metadata_df.to_csv(\"./filtered_metadata.csv\")"
   ]
  },
  {
   "cell_type": "markdown",
   "metadata": {},
   "source": [
    "## Compare\n",
    "Let's pause here and see how many ResStock profiles will be applicable per building in the parcel database.\n",
    "\n",
    "We'll add a row to the parcel database that is the list of all ResStock building IDs (`\"bldg_id\"`) applicable to that parcel when we filter by the following:\n",
    "* `\"in.geometry_floor_area_bin\"`, which is the *less* restrictive (i.e. broader) floor area bin\n",
    "* `\"in.heating_fuel\"`, which again maps as parcel[\"OIL\"] == resstock[\"Fuel Oil\"] and parcel[\"GAS\"] == resstock[\"Natural Gas\"]\n",
    "* `\"in.vintage\"`, which is the vintage of the building\n",
    "* `\"in.usage_level\"`, which is \"Usage of major appliances relative to the national average\" and equal to either \"High\", \"Medium\", or \"Low\"\n",
    "\n",
    "We could also filter by `\"in.hvac_heating_type\"`, but the ResStock mapping for this is different from our (custom) parcel mapping for \"Heat System\". ResStock has `\"Ducted Heat Pump|Ducted Heating|Non-Ducted Heating|None\"` while the parcel database has `\"STEAM|DUCTED|NON-DUCTED\"`. The parcel data \"Heat System\" is a derived variable based on the parcel \"Heat Type\". The main disconnect is how we handle steam (is steam a ducted or non-ducted heating system? In the parcel data, we don't say)"
   ]
  },
  {
   "cell_type": "code",
   "execution_count": 30,
   "metadata": {},
   "outputs": [],
   "source": [
    "def get_bldg_ids(_x, metadata: pd.DataFrame):\n",
    "    fla = _x[\"FLA\"]\n",
    "    heating_fuel = _x[\"HEAT FUEL\"]\n",
    "\n",
    "    fla_bins = [\"0-1499\", \"1500-2499\", \"2500-3999\", \"4000+\"]\n",
    "\n",
    "    fla_bin = None\n",
    "    if 0 <= fla < 1500:\n",
    "        fla_bin = fla_bins[0]\n",
    "    elif 1500 <= fla < 2500:\n",
    "        fla_bin = fla_bins[1]\n",
    "    elif 2500 <= fla < 4000:\n",
    "        fla_bin = fla_bins[2]\n",
    "    else:\n",
    "        fla_bin = fla_bins[3]\n",
    "\n",
    "    heating_fuel_cats = \"Electricity|Fuel Oil|Natural Gas|None|Other Fuel|Propane\"\n",
    "\n",
    "    heating_fuel_label = None\n",
    "    if heating_fuel==\"OIL\":\n",
    "        heating_fuel_label = \"Fuel Oil\"\n",
    "    elif heating_fuel==\"GAS\":\n",
    "        heating_fuel_label = \"Natural Gas\"\n",
    "\n",
    "    vintages = [\"<1940\", \"1940s\"]\n",
    "\n",
    "    decade_built = _x[\"Decade Built\"]\n",
    "    if decade_built == 1940:\n",
    "        vintage = \"1940s\"\n",
    "    else:\n",
    "        vintage = \"<1940\"\n",
    "\n",
    "    resstock_bldgs = metadata[\n",
    "        metadata[\"in.heating_fuel\"]==heating_fuel_label\n",
    "    ]\n",
    "    resstock_bldgs = resstock_bldgs[\n",
    "        resstock_bldgs[\"in.geometry_floor_area_bin\"]==fla_bin\n",
    "    ]\n",
    "    resstock_bldgs = resstock_bldgs[\n",
    "        resstock_bldgs[\"in.vintage\"]==vintage\n",
    "    ]\n",
    "    resstock_bldgs = resstock_bldgs[\n",
    "        resstock_bldgs[\"in.usage_level\"]==\"Medium\"\n",
    "    ]\n",
    "\n",
    "    return str(resstock_bldgs[\"bldg_id\"].to_list())"
   ]
  },
  {
   "cell_type": "code",
   "execution_count": 31,
   "metadata": {},
   "outputs": [],
   "source": [
    "parcel_df[\"resstock_bldg_ids\"] = parcel_df.apply(get_bldg_ids, axis=1, args=(metadata_df,))"
   ]
  },
  {
   "cell_type": "code",
   "execution_count": 32,
   "metadata": {},
   "outputs": [
    {
     "name": "stdout",
     "output_type": "stream",
     "text": [
      "          PCL ID resstock_bldg_ids\n",
      "3195  2A-009-0QV  [291837, 467550]\n",
      "3196  2A-010-0QW  [291837, 467550]\n",
      "3197  2A-011-0QX  [291837, 467550]\n",
      "3198  2A-012-0QY  [239227, 383852]\n",
      "3199  2A-013-0QZ  [313688, 433759]\n",
      "3612  05-076-QK1  [239227, 383852]\n",
      "3622  05-077-QL1  [313688, 433759]\n",
      "3641  05-078-QM1          [470317]\n",
      "3650  05-079-QM2  [291837, 467550]\n",
      "3659  05-081-QN1  [239227, 383852]\n",
      "3668  05-080-QN2  [239227, 383852]\n",
      "3679  05-082-QP1  [239227, 383852]\n",
      "3692  05-083-QQ1  [239227, 383852]\n",
      "3701  05-087-QSA  [291837, 467550]\n",
      "3711  05-088-QTA  [239227, 383852]\n",
      "3729  05-089-QUA  [313688, 433759]\n",
      "3737  05-090-QUB  [239227, 383852]\n",
      "3782  05-066-0QB          [470317]\n",
      "3789  05-067-0QC  [239227, 383852]\n",
      "3793  05-068-0QD          [298675]\n",
      "3810  05-069-0QE  [239227, 383852]\n",
      "3819  05-070-0QF  [291837, 467550]\n",
      "3828  05-071-0QG  [291837, 467550]\n",
      "3837  05-072-0QH  [240935, 305489]\n",
      "3867  05-086-0QR  [239227, 383852]\n"
     ]
    }
   ],
   "source": [
    "print(parcel_df[[\"PCL ID\", \"resstock_bldg_ids\"]])"
   ]
  },
  {
   "cell_type": "code",
   "execution_count": 33,
   "metadata": {},
   "outputs": [
    {
     "data": {
      "text/plain": [
       "[239227, 383852]    11\n",
       "[291837, 467550]     7\n",
       "[313688, 433759]     3\n",
       "[470317]             2\n",
       "[298675]             1\n",
       "[240935, 305489]     1\n",
       "Name: resstock_bldg_ids, dtype: int64"
      ]
     },
     "execution_count": 33,
     "metadata": {},
     "output_type": "execute_result"
    }
   ],
   "source": [
    "parcel_df[\"resstock_bldg_ids\"].value_counts()"
   ]
  },
  {
   "cell_type": "markdown",
   "metadata": {},
   "source": [
    "### Comparison Summary\n",
    "We are able to get all parcels to match to either one or two ResStock buildings - pretty good!\n",
    "\n",
    "Also, a number of them are mapping to the same ResStock buildings, which suggests there will be some homogeneity in the final set of ResStock buildings."
   ]
  },
  {
   "cell_type": "markdown",
   "metadata": {},
   "source": [
    "## Narrowing down\n",
    "### Largest count of ResStock buildings\n",
    "Let's start with the most prevalent ResStock building for the parcel data to choose which is appropriate."
   ]
  },
  {
   "cell_type": "code",
   "execution_count": 34,
   "metadata": {},
   "outputs": [
    {
     "data": {
      "text/plain": [
       "Index(['PCL ID', 'Property Account Number', 'ST NU', 'ST ALT', 'LOCATION',\n",
       "       'CONDO_UNIT', 'COMPLEX_NAME', 'OWNER', 'OWNER 2', 'OWNER 3', 'MAILING',\n",
       "       'CITY', 'ST', 'ZIP', 'ZONING', 'UTILITY', 'TRAFFIC', 'LUC', 'YEAR BLT',\n",
       "       '?PERMIT?', 'ACRES', 'SKETCH AREA', 'DESC', 'FLA',\n",
       "       'Number of Buildings (Property Cards)', 'ST HT', 'FULL BA', 'ROOMS',\n",
       "       'BRS', 'BATHS', 'HALF BATHS', 'COND', 'KITCHENS', 'Building Conditions',\n",
       "       'Fireplaces', 'Solar Hot Water', 'Central Vacuum', 'HEAT TYPE',\n",
       "       'HEAT FUEL', 'PCT_AIR_CONDITIONED', 'BSMT AREA', 'BSMT_ALT_FINISH',\n",
       "       'ROOF', 'ROOF_COVER', 'SIDING', 'WALL', 'EXT', 'FLOORS',\n",
       "       '?CURRENT ASSESSMENT?', 'GRADE', 'COND.1', 'BK / PG', 'DATE',\n",
       "       'SALES PRICE', 'ARMS Sales', 'GRANTOR LAST NAME', 'BK / PG (2)',\n",
       "       'DATE (2)', 'Sales Price (2)', 'ARMS Sales (2)',\n",
       "       'GRANTOR LAST NAME (2)', 'LAND VAL', 'YARD ITEMS', 'BUILD VAL',\n",
       "       'TOTAL VAL', 'ADJ AREA', 'STATE CODE', 'Decade Built', 'Age Category',\n",
       "       'Heat System', 'Number of Units', 'Building Type', 'Use Class',\n",
       "       'resstock_bldg_ids'],\n",
       "      dtype='object')"
      ]
     },
     "execution_count": 34,
     "metadata": {},
     "output_type": "execute_result"
    }
   ],
   "source": [
    "# Going to filter out unecessary columns for readability\n",
    "parcel_df.columns"
   ]
  },
  {
   "cell_type": "code",
   "execution_count": 35,
   "metadata": {},
   "outputs": [],
   "source": [
    "def get_parcel_df_subset(_parcel_df, resstock_ids: str):\n",
    "    return _parcel_df[_parcel_df[\"resstock_bldg_ids\"]==resstock_ids][[\n",
    "        \"PCL ID\", \"YEAR BLT\", \"FLA\", \"HEAT TYPE\", \"HEAT FUEL\", \"Heat System\"\n",
    "    ]]"
   ]
  },
  {
   "cell_type": "code",
   "execution_count": 36,
   "metadata": {},
   "outputs": [],
   "source": [
    "test_parcel_df = get_parcel_df_subset(parcel_df, \"[239227, 383852]\")"
   ]
  },
  {
   "cell_type": "code",
   "execution_count": 37,
   "metadata": {},
   "outputs": [
    {
     "data": {
      "text/html": [
       "<div>\n",
       "<style scoped>\n",
       "    .dataframe tbody tr th:only-of-type {\n",
       "        vertical-align: middle;\n",
       "    }\n",
       "\n",
       "    .dataframe tbody tr th {\n",
       "        vertical-align: top;\n",
       "    }\n",
       "\n",
       "    .dataframe thead th {\n",
       "        text-align: right;\n",
       "    }\n",
       "</style>\n",
       "<table border=\"1\" class=\"dataframe\">\n",
       "  <thead>\n",
       "    <tr style=\"text-align: right;\">\n",
       "      <th></th>\n",
       "      <th>PCL ID</th>\n",
       "      <th>YEAR BLT</th>\n",
       "      <th>FLA</th>\n",
       "      <th>HEAT TYPE</th>\n",
       "      <th>HEAT FUEL</th>\n",
       "      <th>Heat System</th>\n",
       "    </tr>\n",
       "  </thead>\n",
       "  <tbody>\n",
       "    <tr>\n",
       "      <th>3198</th>\n",
       "      <td>2A-012-0QY</td>\n",
       "      <td>1945.0</td>\n",
       "      <td>1600.0</td>\n",
       "      <td>STEAM</td>\n",
       "      <td>OIL</td>\n",
       "      <td>STEAM</td>\n",
       "    </tr>\n",
       "    <tr>\n",
       "      <th>3612</th>\n",
       "      <td>05-076-QK1</td>\n",
       "      <td>1942.0</td>\n",
       "      <td>1558.4</td>\n",
       "      <td>STEAM</td>\n",
       "      <td>OIL</td>\n",
       "      <td>STEAM</td>\n",
       "    </tr>\n",
       "    <tr>\n",
       "      <th>3659</th>\n",
       "      <td>05-081-QN1</td>\n",
       "      <td>1942.0</td>\n",
       "      <td>1500.5</td>\n",
       "      <td>FORCED H/W</td>\n",
       "      <td>OIL</td>\n",
       "      <td>NON-DUCTED</td>\n",
       "    </tr>\n",
       "    <tr>\n",
       "      <th>3668</th>\n",
       "      <td>05-080-QN2</td>\n",
       "      <td>1942.0</td>\n",
       "      <td>1560.0</td>\n",
       "      <td>STEAM</td>\n",
       "      <td>OIL</td>\n",
       "      <td>STEAM</td>\n",
       "    </tr>\n",
       "    <tr>\n",
       "      <th>3679</th>\n",
       "      <td>05-082-QP1</td>\n",
       "      <td>1942.0</td>\n",
       "      <td>1664.0</td>\n",
       "      <td>STEAM</td>\n",
       "      <td>OIL</td>\n",
       "      <td>STEAM</td>\n",
       "    </tr>\n",
       "    <tr>\n",
       "      <th>3692</th>\n",
       "      <td>05-083-QQ1</td>\n",
       "      <td>1942.0</td>\n",
       "      <td>1708.0</td>\n",
       "      <td>FORCED H/A</td>\n",
       "      <td>OIL</td>\n",
       "      <td>DUCTED</td>\n",
       "    </tr>\n",
       "    <tr>\n",
       "      <th>3711</th>\n",
       "      <td>05-088-QTA</td>\n",
       "      <td>1942.0</td>\n",
       "      <td>1792.0</td>\n",
       "      <td>FORCED H/W</td>\n",
       "      <td>OIL</td>\n",
       "      <td>NON-DUCTED</td>\n",
       "    </tr>\n",
       "    <tr>\n",
       "      <th>3737</th>\n",
       "      <td>05-090-QUB</td>\n",
       "      <td>1942.0</td>\n",
       "      <td>1638.0</td>\n",
       "      <td>FORCED H/A</td>\n",
       "      <td>OIL</td>\n",
       "      <td>DUCTED</td>\n",
       "    </tr>\n",
       "    <tr>\n",
       "      <th>3789</th>\n",
       "      <td>05-067-0QC</td>\n",
       "      <td>1942.0</td>\n",
       "      <td>1592.0</td>\n",
       "      <td>STEAM</td>\n",
       "      <td>OIL</td>\n",
       "      <td>STEAM</td>\n",
       "    </tr>\n",
       "    <tr>\n",
       "      <th>3810</th>\n",
       "      <td>05-069-0QE</td>\n",
       "      <td>1942.0</td>\n",
       "      <td>1502.4</td>\n",
       "      <td>FORCED H/W</td>\n",
       "      <td>OIL</td>\n",
       "      <td>NON-DUCTED</td>\n",
       "    </tr>\n",
       "    <tr>\n",
       "      <th>3867</th>\n",
       "      <td>05-086-0QR</td>\n",
       "      <td>1942.0</td>\n",
       "      <td>1532.0</td>\n",
       "      <td>STEAM</td>\n",
       "      <td>OIL</td>\n",
       "      <td>STEAM</td>\n",
       "    </tr>\n",
       "  </tbody>\n",
       "</table>\n",
       "</div>"
      ],
      "text/plain": [
       "          PCL ID  YEAR BLT     FLA   HEAT TYPE HEAT FUEL Heat System\n",
       "3198  2A-012-0QY    1945.0  1600.0       STEAM       OIL       STEAM\n",
       "3612  05-076-QK1    1942.0  1558.4       STEAM       OIL       STEAM\n",
       "3659  05-081-QN1    1942.0  1500.5  FORCED H/W       OIL  NON-DUCTED\n",
       "3668  05-080-QN2    1942.0  1560.0       STEAM       OIL       STEAM\n",
       "3679  05-082-QP1    1942.0  1664.0       STEAM       OIL       STEAM\n",
       "3692  05-083-QQ1    1942.0  1708.0  FORCED H/A       OIL      DUCTED\n",
       "3711  05-088-QTA    1942.0  1792.0  FORCED H/W       OIL  NON-DUCTED\n",
       "3737  05-090-QUB    1942.0  1638.0  FORCED H/A       OIL      DUCTED\n",
       "3789  05-067-0QC    1942.0  1592.0       STEAM       OIL       STEAM\n",
       "3810  05-069-0QE    1942.0  1502.4  FORCED H/W       OIL  NON-DUCTED\n",
       "3867  05-086-0QR    1942.0  1532.0       STEAM       OIL       STEAM"
      ]
     },
     "execution_count": 37,
     "metadata": {},
     "output_type": "execute_result"
    }
   ],
   "source": [
    "test_parcel_df"
   ]
  },
  {
   "cell_type": "code",
   "execution_count": 38,
   "metadata": {},
   "outputs": [
    {
     "data": {
      "text/plain": [
       "['2A-012-0QY',\n",
       " '05-076-QK1',\n",
       " '05-081-QN1',\n",
       " '05-080-QN2',\n",
       " '05-082-QP1',\n",
       " '05-083-QQ1',\n",
       " '05-088-QTA',\n",
       " '05-090-QUB',\n",
       " '05-067-0QC',\n",
       " '05-069-0QE',\n",
       " '05-086-0QR']"
      ]
     },
     "execution_count": 38,
     "metadata": {},
     "output_type": "execute_result"
    }
   ],
   "source": [
    "test_parcel_df[\"PCL ID\"].to_list()"
   ]
  },
  {
   "cell_type": "code",
   "execution_count": 39,
   "metadata": {},
   "outputs": [],
   "source": [
    "def get_resstock_subset(full_resstock_df, bldg_ids: list):\n",
    "    return full_resstock_df[full_resstock_df[\"bldg_id\"].isin(bldg_ids)][[\n",
    "        \"bldg_id\", \"in.sqft\", \"in.clothes_dryer\", \"in.clothes_washer\", \"in.cooking_range\",\n",
    "        \"in.dishwasher\", \"in.ducts\", \"in.heating_fuel\", \"in.hot_water_fixtures\", \"in.hvac_has_ducts\",\n",
    "        \"in.hvac_heating_type\", \"in.refrigerator\", \"in.usage_level\", \"in.vintage\",\n",
    "        \"in.water_heater_fuel\"\n",
    "    ]]"
   ]
  },
  {
   "cell_type": "code",
   "execution_count": 40,
   "metadata": {},
   "outputs": [],
   "source": [
    "test_resstock_bldgs = get_resstock_subset(metadata_df, [239227, 383852])"
   ]
  },
  {
   "cell_type": "code",
   "execution_count": 41,
   "metadata": {},
   "outputs": [
    {
     "data": {
      "text/html": [
       "<div>\n",
       "<style scoped>\n",
       "    .dataframe tbody tr th:only-of-type {\n",
       "        vertical-align: middle;\n",
       "    }\n",
       "\n",
       "    .dataframe tbody tr th {\n",
       "        vertical-align: top;\n",
       "    }\n",
       "\n",
       "    .dataframe thead th {\n",
       "        text-align: right;\n",
       "    }\n",
       "</style>\n",
       "<table border=\"1\" class=\"dataframe\">\n",
       "  <thead>\n",
       "    <tr style=\"text-align: right;\">\n",
       "      <th></th>\n",
       "      <th>bldg_id</th>\n",
       "      <th>in.sqft</th>\n",
       "      <th>in.clothes_dryer</th>\n",
       "      <th>in.clothes_washer</th>\n",
       "      <th>in.cooking_range</th>\n",
       "      <th>in.dishwasher</th>\n",
       "      <th>in.ducts</th>\n",
       "      <th>in.heating_fuel</th>\n",
       "      <th>in.hot_water_fixtures</th>\n",
       "      <th>in.hvac_has_ducts</th>\n",
       "      <th>in.hvac_heating_type</th>\n",
       "      <th>in.refrigerator</th>\n",
       "      <th>in.usage_level</th>\n",
       "      <th>in.vintage</th>\n",
       "      <th>in.water_heater_fuel</th>\n",
       "    </tr>\n",
       "  </thead>\n",
       "  <tbody>\n",
       "    <tr>\n",
       "      <th>102</th>\n",
       "      <td>239227</td>\n",
       "      <td>1690.0</td>\n",
       "      <td>Electric, 100% Usage</td>\n",
       "      <td>Standard, 100% Usage</td>\n",
       "      <td>Electric, 100% Usage</td>\n",
       "      <td>None</td>\n",
       "      <td>None</td>\n",
       "      <td>Fuel Oil</td>\n",
       "      <td>100% Usage</td>\n",
       "      <td>No</td>\n",
       "      <td>Non-Ducted Heating</td>\n",
       "      <td>EF 15.9, 100% Usage</td>\n",
       "      <td>Medium</td>\n",
       "      <td>1940s</td>\n",
       "      <td>Fuel Oil</td>\n",
       "    </tr>\n",
       "    <tr>\n",
       "      <th>171</th>\n",
       "      <td>383852</td>\n",
       "      <td>1690.0</td>\n",
       "      <td>Electric, 100% Usage</td>\n",
       "      <td>EnergyStar, 100% Usage</td>\n",
       "      <td>Electric, 100% Usage</td>\n",
       "      <td>318 Rated kWh, 100% Usage</td>\n",
       "      <td>0% Leakage, Uninsulated</td>\n",
       "      <td>Fuel Oil</td>\n",
       "      <td>100% Usage</td>\n",
       "      <td>Yes</td>\n",
       "      <td>Ducted Heating</td>\n",
       "      <td>EF 17.6, 100% Usage</td>\n",
       "      <td>Medium</td>\n",
       "      <td>1940s</td>\n",
       "      <td>Fuel Oil</td>\n",
       "    </tr>\n",
       "  </tbody>\n",
       "</table>\n",
       "</div>"
      ],
      "text/plain": [
       "     bldg_id  in.sqft      in.clothes_dryer       in.clothes_washer  \\\n",
       "102   239227   1690.0  Electric, 100% Usage    Standard, 100% Usage   \n",
       "171   383852   1690.0  Electric, 100% Usage  EnergyStar, 100% Usage   \n",
       "\n",
       "         in.cooking_range              in.dishwasher                 in.ducts  \\\n",
       "102  Electric, 100% Usage                       None                     None   \n",
       "171  Electric, 100% Usage  318 Rated kWh, 100% Usage  0% Leakage, Uninsulated   \n",
       "\n",
       "    in.heating_fuel in.hot_water_fixtures in.hvac_has_ducts  \\\n",
       "102        Fuel Oil            100% Usage                No   \n",
       "171        Fuel Oil            100% Usage               Yes   \n",
       "\n",
       "    in.hvac_heating_type      in.refrigerator in.usage_level in.vintage  \\\n",
       "102   Non-Ducted Heating  EF 15.9, 100% Usage         Medium      1940s   \n",
       "171       Ducted Heating  EF 17.6, 100% Usage         Medium      1940s   \n",
       "\n",
       "    in.water_heater_fuel  \n",
       "102             Fuel Oil  \n",
       "171             Fuel Oil  "
      ]
     },
     "execution_count": 41,
     "metadata": {},
     "output_type": "execute_result"
    }
   ],
   "source": [
    "test_resstock_bldgs"
   ]
  },
  {
   "cell_type": "markdown",
   "metadata": {},
   "source": [
    "#### Summary\n",
    "For these parcels, I would recommend we go with ResStock building based on the prevalance of ducts. This seems to be the biggest difference between the ResStock buildings and between the parcels. We may have to update our mapping to the parcel columns `\"Heat System\"` (this is a custom one we came up with, not one that came with the raw dataset). Namely, does `\"Heat System\"` == `\"STEAM\"` mean it is ducted or not?\n",
    "\n",
    "The other option is to assume all buildings have a dishwasher, since the ResStock building here with non-ducted HVAC does not have a dishwasher."
   ]
  },
  {
   "cell_type": "markdown",
   "metadata": {},
   "source": [
    "### Next largest group\n",
    "Let's move on to `\"[291837, 467550]\"`, the second-most prevalent group of ResStock buildings"
   ]
  },
  {
   "cell_type": "code",
   "execution_count": 42,
   "metadata": {},
   "outputs": [],
   "source": [
    "test_parcel_df = get_parcel_df_subset(parcel_df, \"[291837, 467550]\")"
   ]
  },
  {
   "cell_type": "code",
   "execution_count": 43,
   "metadata": {},
   "outputs": [
    {
     "data": {
      "text/html": [
       "<div>\n",
       "<style scoped>\n",
       "    .dataframe tbody tr th:only-of-type {\n",
       "        vertical-align: middle;\n",
       "    }\n",
       "\n",
       "    .dataframe tbody tr th {\n",
       "        vertical-align: top;\n",
       "    }\n",
       "\n",
       "    .dataframe thead th {\n",
       "        text-align: right;\n",
       "    }\n",
       "</style>\n",
       "<table border=\"1\" class=\"dataframe\">\n",
       "  <thead>\n",
       "    <tr style=\"text-align: right;\">\n",
       "      <th></th>\n",
       "      <th>PCL ID</th>\n",
       "      <th>YEAR BLT</th>\n",
       "      <th>FLA</th>\n",
       "      <th>HEAT TYPE</th>\n",
       "      <th>HEAT FUEL</th>\n",
       "      <th>Heat System</th>\n",
       "    </tr>\n",
       "  </thead>\n",
       "  <tbody>\n",
       "    <tr>\n",
       "      <th>3195</th>\n",
       "      <td>2A-009-0QV</td>\n",
       "      <td>1947.0</td>\n",
       "      <td>1224.0</td>\n",
       "      <td>FORCED H/A</td>\n",
       "      <td>OIL</td>\n",
       "      <td>DUCTED</td>\n",
       "    </tr>\n",
       "    <tr>\n",
       "      <th>3196</th>\n",
       "      <td>2A-010-0QW</td>\n",
       "      <td>1940.0</td>\n",
       "      <td>1237.5</td>\n",
       "      <td>STEAM</td>\n",
       "      <td>OIL</td>\n",
       "      <td>STEAM</td>\n",
       "    </tr>\n",
       "    <tr>\n",
       "      <th>3197</th>\n",
       "      <td>2A-011-0QX</td>\n",
       "      <td>1945.0</td>\n",
       "      <td>1188.0</td>\n",
       "      <td>STEAM</td>\n",
       "      <td>OIL</td>\n",
       "      <td>STEAM</td>\n",
       "    </tr>\n",
       "    <tr>\n",
       "      <th>3650</th>\n",
       "      <td>05-079-QM2</td>\n",
       "      <td>1942.0</td>\n",
       "      <td>1256.0</td>\n",
       "      <td>STEAM</td>\n",
       "      <td>OIL</td>\n",
       "      <td>STEAM</td>\n",
       "    </tr>\n",
       "    <tr>\n",
       "      <th>3701</th>\n",
       "      <td>05-087-QSA</td>\n",
       "      <td>1942.0</td>\n",
       "      <td>1406.0</td>\n",
       "      <td>STEAM</td>\n",
       "      <td>OIL</td>\n",
       "      <td>STEAM</td>\n",
       "    </tr>\n",
       "    <tr>\n",
       "      <th>3819</th>\n",
       "      <td>05-070-0QF</td>\n",
       "      <td>1942.0</td>\n",
       "      <td>1400.0</td>\n",
       "      <td>STEAM</td>\n",
       "      <td>OIL</td>\n",
       "      <td>STEAM</td>\n",
       "    </tr>\n",
       "    <tr>\n",
       "      <th>3828</th>\n",
       "      <td>05-071-0QG</td>\n",
       "      <td>1942.0</td>\n",
       "      <td>1123.0</td>\n",
       "      <td>STEAM</td>\n",
       "      <td>OIL</td>\n",
       "      <td>STEAM</td>\n",
       "    </tr>\n",
       "  </tbody>\n",
       "</table>\n",
       "</div>"
      ],
      "text/plain": [
       "          PCL ID  YEAR BLT     FLA   HEAT TYPE HEAT FUEL Heat System\n",
       "3195  2A-009-0QV    1947.0  1224.0  FORCED H/A       OIL      DUCTED\n",
       "3196  2A-010-0QW    1940.0  1237.5       STEAM       OIL       STEAM\n",
       "3197  2A-011-0QX    1945.0  1188.0       STEAM       OIL       STEAM\n",
       "3650  05-079-QM2    1942.0  1256.0       STEAM       OIL       STEAM\n",
       "3701  05-087-QSA    1942.0  1406.0       STEAM       OIL       STEAM\n",
       "3819  05-070-0QF    1942.0  1400.0       STEAM       OIL       STEAM\n",
       "3828  05-071-0QG    1942.0  1123.0       STEAM       OIL       STEAM"
      ]
     },
     "execution_count": 43,
     "metadata": {},
     "output_type": "execute_result"
    }
   ],
   "source": [
    "test_parcel_df"
   ]
  },
  {
   "cell_type": "code",
   "execution_count": 44,
   "metadata": {},
   "outputs": [],
   "source": [
    "test_resstock_bldgs = get_resstock_subset(metadata_df, [291837, 383852])"
   ]
  },
  {
   "cell_type": "code",
   "execution_count": 45,
   "metadata": {},
   "outputs": [
    {
     "data": {
      "text/html": [
       "<div>\n",
       "<style scoped>\n",
       "    .dataframe tbody tr th:only-of-type {\n",
       "        vertical-align: middle;\n",
       "    }\n",
       "\n",
       "    .dataframe tbody tr th {\n",
       "        vertical-align: top;\n",
       "    }\n",
       "\n",
       "    .dataframe thead th {\n",
       "        text-align: right;\n",
       "    }\n",
       "</style>\n",
       "<table border=\"1\" class=\"dataframe\">\n",
       "  <thead>\n",
       "    <tr style=\"text-align: right;\">\n",
       "      <th></th>\n",
       "      <th>bldg_id</th>\n",
       "      <th>in.sqft</th>\n",
       "      <th>in.clothes_dryer</th>\n",
       "      <th>in.clothes_washer</th>\n",
       "      <th>in.cooking_range</th>\n",
       "      <th>in.dishwasher</th>\n",
       "      <th>in.ducts</th>\n",
       "      <th>in.heating_fuel</th>\n",
       "      <th>in.hot_water_fixtures</th>\n",
       "      <th>in.hvac_has_ducts</th>\n",
       "      <th>in.hvac_heating_type</th>\n",
       "      <th>in.refrigerator</th>\n",
       "      <th>in.usage_level</th>\n",
       "      <th>in.vintage</th>\n",
       "      <th>in.water_heater_fuel</th>\n",
       "    </tr>\n",
       "  </thead>\n",
       "  <tbody>\n",
       "    <tr>\n",
       "      <th>125</th>\n",
       "      <td>291837</td>\n",
       "      <td>633.0</td>\n",
       "      <td>Gas, 100% Usage</td>\n",
       "      <td>EnergyStar, 100% Usage</td>\n",
       "      <td>Electric, 100% Usage</td>\n",
       "      <td>None</td>\n",
       "      <td>20% Leakage, Uninsulated</td>\n",
       "      <td>Fuel Oil</td>\n",
       "      <td>100% Usage</td>\n",
       "      <td>Yes</td>\n",
       "      <td>Ducted Heating</td>\n",
       "      <td>EF 17.6, 100% Usage</td>\n",
       "      <td>Medium</td>\n",
       "      <td>1940s</td>\n",
       "      <td>Natural Gas</td>\n",
       "    </tr>\n",
       "    <tr>\n",
       "      <th>171</th>\n",
       "      <td>383852</td>\n",
       "      <td>1690.0</td>\n",
       "      <td>Electric, 100% Usage</td>\n",
       "      <td>EnergyStar, 100% Usage</td>\n",
       "      <td>Electric, 100% Usage</td>\n",
       "      <td>318 Rated kWh, 100% Usage</td>\n",
       "      <td>0% Leakage, Uninsulated</td>\n",
       "      <td>Fuel Oil</td>\n",
       "      <td>100% Usage</td>\n",
       "      <td>Yes</td>\n",
       "      <td>Ducted Heating</td>\n",
       "      <td>EF 17.6, 100% Usage</td>\n",
       "      <td>Medium</td>\n",
       "      <td>1940s</td>\n",
       "      <td>Fuel Oil</td>\n",
       "    </tr>\n",
       "  </tbody>\n",
       "</table>\n",
       "</div>"
      ],
      "text/plain": [
       "     bldg_id  in.sqft      in.clothes_dryer       in.clothes_washer  \\\n",
       "125   291837    633.0       Gas, 100% Usage  EnergyStar, 100% Usage   \n",
       "171   383852   1690.0  Electric, 100% Usage  EnergyStar, 100% Usage   \n",
       "\n",
       "         in.cooking_range              in.dishwasher  \\\n",
       "125  Electric, 100% Usage                       None   \n",
       "171  Electric, 100% Usage  318 Rated kWh, 100% Usage   \n",
       "\n",
       "                     in.ducts in.heating_fuel in.hot_water_fixtures  \\\n",
       "125  20% Leakage, Uninsulated        Fuel Oil            100% Usage   \n",
       "171   0% Leakage, Uninsulated        Fuel Oil            100% Usage   \n",
       "\n",
       "    in.hvac_has_ducts in.hvac_heating_type      in.refrigerator  \\\n",
       "125               Yes       Ducted Heating  EF 17.6, 100% Usage   \n",
       "171               Yes       Ducted Heating  EF 17.6, 100% Usage   \n",
       "\n",
       "    in.usage_level in.vintage in.water_heater_fuel  \n",
       "125         Medium      1940s          Natural Gas  \n",
       "171         Medium      1940s             Fuel Oil  "
      ]
     },
     "execution_count": 45,
     "metadata": {},
     "output_type": "execute_result"
    }
   ],
   "source": [
    "test_resstock_bldgs"
   ]
  },
  {
   "cell_type": "markdown",
   "metadata": {},
   "source": [
    "#### Summary\n",
    "Here, we should definitely go based on square footage. One ResStock building is half the size of the other, and all the parcel buidlings are much closer to the ResStock building with the larger floor area.\n",
    "\n",
    "One caveat here, is that we have one parcel marked as having a ducted heating system (the heat type is forced hot air), but the ResStock building has non-ducted heating"
   ]
  },
  {
   "cell_type": "markdown",
   "metadata": {},
   "source": [
    "### Next\n",
    "Moving on to the ResStock IDs `[313688, 433759]`, of which we have 3 parcels"
   ]
  },
  {
   "cell_type": "code",
   "execution_count": 46,
   "metadata": {},
   "outputs": [
    {
     "data": {
      "text/html": [
       "<div>\n",
       "<style scoped>\n",
       "    .dataframe tbody tr th:only-of-type {\n",
       "        vertical-align: middle;\n",
       "    }\n",
       "\n",
       "    .dataframe tbody tr th {\n",
       "        vertical-align: top;\n",
       "    }\n",
       "\n",
       "    .dataframe thead th {\n",
       "        text-align: right;\n",
       "    }\n",
       "</style>\n",
       "<table border=\"1\" class=\"dataframe\">\n",
       "  <thead>\n",
       "    <tr style=\"text-align: right;\">\n",
       "      <th></th>\n",
       "      <th>PCL ID</th>\n",
       "      <th>YEAR BLT</th>\n",
       "      <th>FLA</th>\n",
       "      <th>HEAT TYPE</th>\n",
       "      <th>HEAT FUEL</th>\n",
       "      <th>Heat System</th>\n",
       "    </tr>\n",
       "  </thead>\n",
       "  <tbody>\n",
       "    <tr>\n",
       "      <th>3199</th>\n",
       "      <td>2A-013-0QZ</td>\n",
       "      <td>1945.0</td>\n",
       "      <td>1885.0</td>\n",
       "      <td>FORCED H/W</td>\n",
       "      <td>GAS</td>\n",
       "      <td>NON-DUCTED</td>\n",
       "    </tr>\n",
       "    <tr>\n",
       "      <th>3622</th>\n",
       "      <td>05-077-QL1</td>\n",
       "      <td>1942.0</td>\n",
       "      <td>1828.4</td>\n",
       "      <td>FORCED H/W</td>\n",
       "      <td>GAS</td>\n",
       "      <td>NON-DUCTED</td>\n",
       "    </tr>\n",
       "    <tr>\n",
       "      <th>3729</th>\n",
       "      <td>05-089-QUA</td>\n",
       "      <td>1942.0</td>\n",
       "      <td>1718.6</td>\n",
       "      <td>FORCED H/W</td>\n",
       "      <td>GAS</td>\n",
       "      <td>NON-DUCTED</td>\n",
       "    </tr>\n",
       "  </tbody>\n",
       "</table>\n",
       "</div>"
      ],
      "text/plain": [
       "          PCL ID  YEAR BLT     FLA   HEAT TYPE HEAT FUEL Heat System\n",
       "3199  2A-013-0QZ    1945.0  1885.0  FORCED H/W       GAS  NON-DUCTED\n",
       "3622  05-077-QL1    1942.0  1828.4  FORCED H/W       GAS  NON-DUCTED\n",
       "3729  05-089-QUA    1942.0  1718.6  FORCED H/W       GAS  NON-DUCTED"
      ]
     },
     "execution_count": 46,
     "metadata": {},
     "output_type": "execute_result"
    }
   ],
   "source": [
    "test_parcel_df = get_parcel_df_subset(parcel_df, \"[313688, 433759]\")\n",
    "test_parcel_df"
   ]
  },
  {
   "cell_type": "code",
   "execution_count": 47,
   "metadata": {},
   "outputs": [
    {
     "data": {
      "text/html": [
       "<div>\n",
       "<style scoped>\n",
       "    .dataframe tbody tr th:only-of-type {\n",
       "        vertical-align: middle;\n",
       "    }\n",
       "\n",
       "    .dataframe tbody tr th {\n",
       "        vertical-align: top;\n",
       "    }\n",
       "\n",
       "    .dataframe thead th {\n",
       "        text-align: right;\n",
       "    }\n",
       "</style>\n",
       "<table border=\"1\" class=\"dataframe\">\n",
       "  <thead>\n",
       "    <tr style=\"text-align: right;\">\n",
       "      <th></th>\n",
       "      <th>bldg_id</th>\n",
       "      <th>in.sqft</th>\n",
       "      <th>in.clothes_dryer</th>\n",
       "      <th>in.clothes_washer</th>\n",
       "      <th>in.cooking_range</th>\n",
       "      <th>in.dishwasher</th>\n",
       "      <th>in.ducts</th>\n",
       "      <th>in.heating_fuel</th>\n",
       "      <th>in.hot_water_fixtures</th>\n",
       "      <th>in.hvac_has_ducts</th>\n",
       "      <th>in.hvac_heating_type</th>\n",
       "      <th>in.refrigerator</th>\n",
       "      <th>in.usage_level</th>\n",
       "      <th>in.vintage</th>\n",
       "      <th>in.water_heater_fuel</th>\n",
       "    </tr>\n",
       "  </thead>\n",
       "  <tbody>\n",
       "    <tr>\n",
       "      <th>134</th>\n",
       "      <td>313688</td>\n",
       "      <td>1690.0</td>\n",
       "      <td>Electric, 100% Usage</td>\n",
       "      <td>EnergyStar, 100% Usage</td>\n",
       "      <td>Electric, 100% Usage</td>\n",
       "      <td>None</td>\n",
       "      <td>10% Leakage, Uninsulated</td>\n",
       "      <td>Natural Gas</td>\n",
       "      <td>100% Usage</td>\n",
       "      <td>Yes</td>\n",
       "      <td>Ducted Heating</td>\n",
       "      <td>EF 15.9, 100% Usage</td>\n",
       "      <td>Medium</td>\n",
       "      <td>1940s</td>\n",
       "      <td>Natural Gas</td>\n",
       "    </tr>\n",
       "    <tr>\n",
       "      <th>184</th>\n",
       "      <td>433759</td>\n",
       "      <td>1690.0</td>\n",
       "      <td>Electric, 100% Usage</td>\n",
       "      <td>EnergyStar, 100% Usage</td>\n",
       "      <td>Gas, 100% Usage</td>\n",
       "      <td>290 Rated kWh, 100% Usage</td>\n",
       "      <td>0% Leakage, Uninsulated</td>\n",
       "      <td>Natural Gas</td>\n",
       "      <td>100% Usage</td>\n",
       "      <td>Yes</td>\n",
       "      <td>Ducted Heating</td>\n",
       "      <td>EF 17.6, 100% Usage</td>\n",
       "      <td>Medium</td>\n",
       "      <td>1940s</td>\n",
       "      <td>Natural Gas</td>\n",
       "    </tr>\n",
       "  </tbody>\n",
       "</table>\n",
       "</div>"
      ],
      "text/plain": [
       "     bldg_id  in.sqft      in.clothes_dryer       in.clothes_washer  \\\n",
       "134   313688   1690.0  Electric, 100% Usage  EnergyStar, 100% Usage   \n",
       "184   433759   1690.0  Electric, 100% Usage  EnergyStar, 100% Usage   \n",
       "\n",
       "         in.cooking_range              in.dishwasher  \\\n",
       "134  Electric, 100% Usage                       None   \n",
       "184       Gas, 100% Usage  290 Rated kWh, 100% Usage   \n",
       "\n",
       "                     in.ducts in.heating_fuel in.hot_water_fixtures  \\\n",
       "134  10% Leakage, Uninsulated     Natural Gas            100% Usage   \n",
       "184   0% Leakage, Uninsulated     Natural Gas            100% Usage   \n",
       "\n",
       "    in.hvac_has_ducts in.hvac_heating_type      in.refrigerator  \\\n",
       "134               Yes       Ducted Heating  EF 15.9, 100% Usage   \n",
       "184               Yes       Ducted Heating  EF 17.6, 100% Usage   \n",
       "\n",
       "    in.usage_level in.vintage in.water_heater_fuel  \n",
       "134         Medium      1940s          Natural Gas  \n",
       "184         Medium      1940s          Natural Gas  "
      ]
     },
     "execution_count": 47,
     "metadata": {},
     "output_type": "execute_result"
    }
   ],
   "source": [
    "test_resstock_bldgs = get_resstock_subset(metadata_df, [313688, 433759])\n",
    "test_resstock_bldgs"
   ]
  },
  {
   "cell_type": "markdown",
   "metadata": {},
   "source": [
    "#### Summary\n",
    "Biggest difference here - for our purposes - is probably the presence of an electric vs gas cooking range. We are running with the assumption that gas heating fuel means gas cooking, so we will use ResStock bldg ID `433759` for these parcels (they all have gas heating)."
   ]
  },
  {
   "cell_type": "markdown",
   "metadata": {},
   "source": [
    "### Final parcels\n",
    "We are left with 4 parcels. All but 1 of them is mapped to a single ResStock building. Let's view them to confirm the mapping, and also to downselect the single remaining parcel with multiple ResStock buildings.\n",
    "\n",
    "The ResStock buildings are:\n",
    "* [470317]\n",
    "* [298675]\n",
    "* [240935, 305489]"
   ]
  },
  {
   "cell_type": "code",
   "execution_count": 48,
   "metadata": {},
   "outputs": [
    {
     "data": {
      "text/html": [
       "<div>\n",
       "<style scoped>\n",
       "    .dataframe tbody tr th:only-of-type {\n",
       "        vertical-align: middle;\n",
       "    }\n",
       "\n",
       "    .dataframe tbody tr th {\n",
       "        vertical-align: top;\n",
       "    }\n",
       "\n",
       "    .dataframe thead th {\n",
       "        text-align: right;\n",
       "    }\n",
       "</style>\n",
       "<table border=\"1\" class=\"dataframe\">\n",
       "  <thead>\n",
       "    <tr style=\"text-align: right;\">\n",
       "      <th></th>\n",
       "      <th>PCL ID</th>\n",
       "      <th>YEAR BLT</th>\n",
       "      <th>FLA</th>\n",
       "      <th>HEAT TYPE</th>\n",
       "      <th>HEAT FUEL</th>\n",
       "      <th>Heat System</th>\n",
       "    </tr>\n",
       "  </thead>\n",
       "  <tbody>\n",
       "    <tr>\n",
       "      <th>3641</th>\n",
       "      <td>05-078-QM1</td>\n",
       "      <td>1942.0</td>\n",
       "      <td>1236.0</td>\n",
       "      <td>STEAM</td>\n",
       "      <td>GAS</td>\n",
       "      <td>STEAM</td>\n",
       "    </tr>\n",
       "    <tr>\n",
       "      <th>3782</th>\n",
       "      <td>05-066-0QB</td>\n",
       "      <td>1942.0</td>\n",
       "      <td>1272.0</td>\n",
       "      <td>FORCED H/W</td>\n",
       "      <td>GAS</td>\n",
       "      <td>NON-DUCTED</td>\n",
       "    </tr>\n",
       "  </tbody>\n",
       "</table>\n",
       "</div>"
      ],
      "text/plain": [
       "          PCL ID  YEAR BLT     FLA   HEAT TYPE HEAT FUEL Heat System\n",
       "3641  05-078-QM1    1942.0  1236.0       STEAM       GAS       STEAM\n",
       "3782  05-066-0QB    1942.0  1272.0  FORCED H/W       GAS  NON-DUCTED"
      ]
     },
     "execution_count": 48,
     "metadata": {},
     "output_type": "execute_result"
    }
   ],
   "source": [
    "test_parcel_df = get_parcel_df_subset(parcel_df, \"[470317]\")\n",
    "test_parcel_df"
   ]
  },
  {
   "cell_type": "code",
   "execution_count": 49,
   "metadata": {},
   "outputs": [
    {
     "data": {
      "text/html": [
       "<div>\n",
       "<style scoped>\n",
       "    .dataframe tbody tr th:only-of-type {\n",
       "        vertical-align: middle;\n",
       "    }\n",
       "\n",
       "    .dataframe tbody tr th {\n",
       "        vertical-align: top;\n",
       "    }\n",
       "\n",
       "    .dataframe thead th {\n",
       "        text-align: right;\n",
       "    }\n",
       "</style>\n",
       "<table border=\"1\" class=\"dataframe\">\n",
       "  <thead>\n",
       "    <tr style=\"text-align: right;\">\n",
       "      <th></th>\n",
       "      <th>bldg_id</th>\n",
       "      <th>in.sqft</th>\n",
       "      <th>in.clothes_dryer</th>\n",
       "      <th>in.clothes_washer</th>\n",
       "      <th>in.cooking_range</th>\n",
       "      <th>in.dishwasher</th>\n",
       "      <th>in.ducts</th>\n",
       "      <th>in.heating_fuel</th>\n",
       "      <th>in.hot_water_fixtures</th>\n",
       "      <th>in.hvac_has_ducts</th>\n",
       "      <th>in.hvac_heating_type</th>\n",
       "      <th>in.refrigerator</th>\n",
       "      <th>in.usage_level</th>\n",
       "      <th>in.vintage</th>\n",
       "      <th>in.water_heater_fuel</th>\n",
       "    </tr>\n",
       "  </thead>\n",
       "  <tbody>\n",
       "    <tr>\n",
       "      <th>198</th>\n",
       "      <td>470317</td>\n",
       "      <td>1220.0</td>\n",
       "      <td>Electric, 100% Usage</td>\n",
       "      <td>Standard, 100% Usage</td>\n",
       "      <td>Gas, 100% Usage</td>\n",
       "      <td>None</td>\n",
       "      <td>0% Leakage, Uninsulated</td>\n",
       "      <td>Natural Gas</td>\n",
       "      <td>100% Usage</td>\n",
       "      <td>Yes</td>\n",
       "      <td>Ducted Heating</td>\n",
       "      <td>EF 15.9, 100% Usage</td>\n",
       "      <td>Medium</td>\n",
       "      <td>1940s</td>\n",
       "      <td>Natural Gas</td>\n",
       "    </tr>\n",
       "  </tbody>\n",
       "</table>\n",
       "</div>"
      ],
      "text/plain": [
       "     bldg_id  in.sqft      in.clothes_dryer     in.clothes_washer  \\\n",
       "198   470317   1220.0  Electric, 100% Usage  Standard, 100% Usage   \n",
       "\n",
       "    in.cooking_range in.dishwasher                 in.ducts in.heating_fuel  \\\n",
       "198  Gas, 100% Usage          None  0% Leakage, Uninsulated     Natural Gas   \n",
       "\n",
       "    in.hot_water_fixtures in.hvac_has_ducts in.hvac_heating_type  \\\n",
       "198            100% Usage               Yes       Ducted Heating   \n",
       "\n",
       "         in.refrigerator in.usage_level in.vintage in.water_heater_fuel  \n",
       "198  EF 15.9, 100% Usage         Medium      1940s          Natural Gas  "
      ]
     },
     "execution_count": 49,
     "metadata": {},
     "output_type": "execute_result"
    }
   ],
   "source": [
    "test_resstock_bldgs = get_resstock_subset(metadata_df, [470317])\n",
    "test_resstock_bldgs"
   ]
  },
  {
   "cell_type": "code",
   "execution_count": 50,
   "metadata": {},
   "outputs": [
    {
     "data": {
      "text/html": [
       "<div>\n",
       "<style scoped>\n",
       "    .dataframe tbody tr th:only-of-type {\n",
       "        vertical-align: middle;\n",
       "    }\n",
       "\n",
       "    .dataframe tbody tr th {\n",
       "        vertical-align: top;\n",
       "    }\n",
       "\n",
       "    .dataframe thead th {\n",
       "        text-align: right;\n",
       "    }\n",
       "</style>\n",
       "<table border=\"1\" class=\"dataframe\">\n",
       "  <thead>\n",
       "    <tr style=\"text-align: right;\">\n",
       "      <th></th>\n",
       "      <th>PCL ID</th>\n",
       "      <th>YEAR BLT</th>\n",
       "      <th>FLA</th>\n",
       "      <th>HEAT TYPE</th>\n",
       "      <th>HEAT FUEL</th>\n",
       "      <th>Heat System</th>\n",
       "    </tr>\n",
       "  </thead>\n",
       "  <tbody>\n",
       "    <tr>\n",
       "      <th>3793</th>\n",
       "      <td>05-068-0QD</td>\n",
       "      <td>1942.0</td>\n",
       "      <td>2634.75</td>\n",
       "      <td>STEAM</td>\n",
       "      <td>OIL</td>\n",
       "      <td>STEAM</td>\n",
       "    </tr>\n",
       "  </tbody>\n",
       "</table>\n",
       "</div>"
      ],
      "text/plain": [
       "          PCL ID  YEAR BLT      FLA HEAT TYPE HEAT FUEL Heat System\n",
       "3793  05-068-0QD    1942.0  2634.75     STEAM       OIL       STEAM"
      ]
     },
     "execution_count": 50,
     "metadata": {},
     "output_type": "execute_result"
    }
   ],
   "source": [
    "test_parcel_df = get_parcel_df_subset(parcel_df, \"[298675]\")\n",
    "test_parcel_df"
   ]
  },
  {
   "cell_type": "code",
   "execution_count": 51,
   "metadata": {},
   "outputs": [
    {
     "data": {
      "text/html": [
       "<div>\n",
       "<style scoped>\n",
       "    .dataframe tbody tr th:only-of-type {\n",
       "        vertical-align: middle;\n",
       "    }\n",
       "\n",
       "    .dataframe tbody tr th {\n",
       "        vertical-align: top;\n",
       "    }\n",
       "\n",
       "    .dataframe thead th {\n",
       "        text-align: right;\n",
       "    }\n",
       "</style>\n",
       "<table border=\"1\" class=\"dataframe\">\n",
       "  <thead>\n",
       "    <tr style=\"text-align: right;\">\n",
       "      <th></th>\n",
       "      <th>bldg_id</th>\n",
       "      <th>in.sqft</th>\n",
       "      <th>in.clothes_dryer</th>\n",
       "      <th>in.clothes_washer</th>\n",
       "      <th>in.cooking_range</th>\n",
       "      <th>in.dishwasher</th>\n",
       "      <th>in.ducts</th>\n",
       "      <th>in.heating_fuel</th>\n",
       "      <th>in.hot_water_fixtures</th>\n",
       "      <th>in.hvac_has_ducts</th>\n",
       "      <th>in.hvac_heating_type</th>\n",
       "      <th>in.refrigerator</th>\n",
       "      <th>in.usage_level</th>\n",
       "      <th>in.vintage</th>\n",
       "      <th>in.water_heater_fuel</th>\n",
       "    </tr>\n",
       "  </thead>\n",
       "  <tbody>\n",
       "    <tr>\n",
       "      <th>129</th>\n",
       "      <td>298675</td>\n",
       "      <td>2663.0</td>\n",
       "      <td>None</td>\n",
       "      <td>None</td>\n",
       "      <td>Electric, 100% Usage</td>\n",
       "      <td>290 Rated kWh, 100% Usage</td>\n",
       "      <td>0% Leakage, Uninsulated</td>\n",
       "      <td>Fuel Oil</td>\n",
       "      <td>100% Usage</td>\n",
       "      <td>Yes</td>\n",
       "      <td>Ducted Heating</td>\n",
       "      <td>EF 17.6, 100% Usage</td>\n",
       "      <td>Medium</td>\n",
       "      <td>1940s</td>\n",
       "      <td>Fuel Oil</td>\n",
       "    </tr>\n",
       "  </tbody>\n",
       "</table>\n",
       "</div>"
      ],
      "text/plain": [
       "     bldg_id  in.sqft in.clothes_dryer in.clothes_washer  \\\n",
       "129   298675   2663.0             None              None   \n",
       "\n",
       "         in.cooking_range              in.dishwasher                 in.ducts  \\\n",
       "129  Electric, 100% Usage  290 Rated kWh, 100% Usage  0% Leakage, Uninsulated   \n",
       "\n",
       "    in.heating_fuel in.hot_water_fixtures in.hvac_has_ducts  \\\n",
       "129        Fuel Oil            100% Usage               Yes   \n",
       "\n",
       "    in.hvac_heating_type      in.refrigerator in.usage_level in.vintage  \\\n",
       "129       Ducted Heating  EF 17.6, 100% Usage         Medium      1940s   \n",
       "\n",
       "    in.water_heater_fuel  \n",
       "129             Fuel Oil  "
      ]
     },
     "execution_count": 51,
     "metadata": {},
     "output_type": "execute_result"
    }
   ],
   "source": [
    "test_resstock_bldgs = get_resstock_subset(metadata_df, [298675])\n",
    "test_resstock_bldgs"
   ]
  },
  {
   "cell_type": "code",
   "execution_count": 52,
   "metadata": {},
   "outputs": [
    {
     "data": {
      "text/html": [
       "<div>\n",
       "<style scoped>\n",
       "    .dataframe tbody tr th:only-of-type {\n",
       "        vertical-align: middle;\n",
       "    }\n",
       "\n",
       "    .dataframe tbody tr th {\n",
       "        vertical-align: top;\n",
       "    }\n",
       "\n",
       "    .dataframe thead th {\n",
       "        text-align: right;\n",
       "    }\n",
       "</style>\n",
       "<table border=\"1\" class=\"dataframe\">\n",
       "  <thead>\n",
       "    <tr style=\"text-align: right;\">\n",
       "      <th></th>\n",
       "      <th>PCL ID</th>\n",
       "      <th>YEAR BLT</th>\n",
       "      <th>FLA</th>\n",
       "      <th>HEAT TYPE</th>\n",
       "      <th>HEAT FUEL</th>\n",
       "      <th>Heat System</th>\n",
       "    </tr>\n",
       "  </thead>\n",
       "  <tbody>\n",
       "    <tr>\n",
       "      <th>3837</th>\n",
       "      <td>05-072-0QH</td>\n",
       "      <td>1879.0</td>\n",
       "      <td>1496.0</td>\n",
       "      <td>STEAM</td>\n",
       "      <td>OIL</td>\n",
       "      <td>STEAM</td>\n",
       "    </tr>\n",
       "  </tbody>\n",
       "</table>\n",
       "</div>"
      ],
      "text/plain": [
       "          PCL ID  YEAR BLT     FLA HEAT TYPE HEAT FUEL Heat System\n",
       "3837  05-072-0QH    1879.0  1496.0     STEAM       OIL       STEAM"
      ]
     },
     "execution_count": 52,
     "metadata": {},
     "output_type": "execute_result"
    }
   ],
   "source": [
    "test_parcel_df = get_parcel_df_subset(parcel_df, \"[240935, 305489]\")\n",
    "test_parcel_df"
   ]
  },
  {
   "cell_type": "code",
   "execution_count": 53,
   "metadata": {},
   "outputs": [
    {
     "data": {
      "text/html": [
       "<div>\n",
       "<style scoped>\n",
       "    .dataframe tbody tr th:only-of-type {\n",
       "        vertical-align: middle;\n",
       "    }\n",
       "\n",
       "    .dataframe tbody tr th {\n",
       "        vertical-align: top;\n",
       "    }\n",
       "\n",
       "    .dataframe thead th {\n",
       "        text-align: right;\n",
       "    }\n",
       "</style>\n",
       "<table border=\"1\" class=\"dataframe\">\n",
       "  <thead>\n",
       "    <tr style=\"text-align: right;\">\n",
       "      <th></th>\n",
       "      <th>bldg_id</th>\n",
       "      <th>in.sqft</th>\n",
       "      <th>in.clothes_dryer</th>\n",
       "      <th>in.clothes_washer</th>\n",
       "      <th>in.cooking_range</th>\n",
       "      <th>in.dishwasher</th>\n",
       "      <th>in.ducts</th>\n",
       "      <th>in.heating_fuel</th>\n",
       "      <th>in.hot_water_fixtures</th>\n",
       "      <th>in.hvac_has_ducts</th>\n",
       "      <th>in.hvac_heating_type</th>\n",
       "      <th>in.refrigerator</th>\n",
       "      <th>in.usage_level</th>\n",
       "      <th>in.vintage</th>\n",
       "      <th>in.water_heater_fuel</th>\n",
       "    </tr>\n",
       "  </thead>\n",
       "  <tbody>\n",
       "    <tr>\n",
       "      <th>103</th>\n",
       "      <td>240935</td>\n",
       "      <td>1220.0</td>\n",
       "      <td>None</td>\n",
       "      <td>None</td>\n",
       "      <td>Electric, 100% Usage</td>\n",
       "      <td>318 Rated kWh, 100% Usage</td>\n",
       "      <td>30% Leakage, Uninsulated</td>\n",
       "      <td>Fuel Oil</td>\n",
       "      <td>100% Usage</td>\n",
       "      <td>Yes</td>\n",
       "      <td>Ducted Heating</td>\n",
       "      <td>EF 19.9, 100% Usage</td>\n",
       "      <td>Medium</td>\n",
       "      <td>&lt;1940</td>\n",
       "      <td>Electricity</td>\n",
       "    </tr>\n",
       "    <tr>\n",
       "      <th>130</th>\n",
       "      <td>305489</td>\n",
       "      <td>1220.0</td>\n",
       "      <td>Gas, 100% Usage</td>\n",
       "      <td>EnergyStar, 100% Usage</td>\n",
       "      <td>Propane, 100% Usage</td>\n",
       "      <td>290 Rated kWh, 100% Usage</td>\n",
       "      <td>0% Leakage, Uninsulated</td>\n",
       "      <td>Fuel Oil</td>\n",
       "      <td>100% Usage</td>\n",
       "      <td>Yes</td>\n",
       "      <td>Ducted Heating</td>\n",
       "      <td>EF 17.6, 100% Usage</td>\n",
       "      <td>Medium</td>\n",
       "      <td>&lt;1940</td>\n",
       "      <td>Electricity</td>\n",
       "    </tr>\n",
       "  </tbody>\n",
       "</table>\n",
       "</div>"
      ],
      "text/plain": [
       "     bldg_id  in.sqft in.clothes_dryer       in.clothes_washer  \\\n",
       "103   240935   1220.0             None                    None   \n",
       "130   305489   1220.0  Gas, 100% Usage  EnergyStar, 100% Usage   \n",
       "\n",
       "         in.cooking_range              in.dishwasher  \\\n",
       "103  Electric, 100% Usage  318 Rated kWh, 100% Usage   \n",
       "130   Propane, 100% Usage  290 Rated kWh, 100% Usage   \n",
       "\n",
       "                     in.ducts in.heating_fuel in.hot_water_fixtures  \\\n",
       "103  30% Leakage, Uninsulated        Fuel Oil            100% Usage   \n",
       "130   0% Leakage, Uninsulated        Fuel Oil            100% Usage   \n",
       "\n",
       "    in.hvac_has_ducts in.hvac_heating_type      in.refrigerator  \\\n",
       "103               Yes       Ducted Heating  EF 19.9, 100% Usage   \n",
       "130               Yes       Ducted Heating  EF 17.6, 100% Usage   \n",
       "\n",
       "    in.usage_level in.vintage in.water_heater_fuel  \n",
       "103         Medium      <1940          Electricity  \n",
       "130         Medium      <1940          Electricity  "
      ]
     },
     "execution_count": 53,
     "metadata": {},
     "output_type": "execute_result"
    }
   ],
   "source": [
    "test_resstock_bldgs = get_resstock_subset(metadata_df, [240935, 305489])\n",
    "test_resstock_bldgs"
   ]
  },
  {
   "cell_type": "markdown",
   "metadata": {},
   "source": [
    "#### Summary\n",
    "The matchings here seem ok, with some noticeable differences. The differences are mainly in the matching of heat system to presence of ducts. For the remaining building mapping to two ResStock buildings, I would recommend going with the assumption that these single-family detached homes have a washer/dryer, so we can select the ResStock building with these appliances over the building without."
   ]
  },
  {
   "cell_type": "markdown",
   "metadata": {},
   "source": [
    "## Final notes\n",
    "The filtering methodologly presented here produced mixed results. Filtering by some variables is intuitive, while others require further investigation and possible updates.\n",
    "\n",
    "First, the ResStock database was filtered by building type (single family detached homes), maximum square footage (3,000 square feet), vintage (only buildings older than 1950), and heating fuel (only gas and oil). This produced a more-manageable dataset with which to match ResStock and parcel buildings.\n",
    "\n",
    "The remaining ResStock dataset was then filtered, per parcel by:\n",
    "1. Heating fuel -- matched oil- and gas-heated buildings\n",
    "2. Floor area bin -- matched parcel floor area to floor area bins from ResStock (0-1,499; 1,500-2,499; 2,500-3,999; 4,000+)\n",
    "3. Decade built -- matched year built in parcel db to decade built (in.vintage) in ResStock db\n",
    "\n",
    "ResStock data was then filtered by `\"in.usage_level\"`. This removed all ResStock buildings that had an overall appliance usage level above or below the national average. This left most parcels with 2 applicable ResStock buildings. Some parcels only had 1 applicable ResStock building after these filtering steps.\n",
    "\n",
    "Finally, each parcel then needed to be investigated to filter down to a single ResStock building. This became an ad hoc process that involved looking at the remaining ResStock buildings and filtering based on differing variables. The variables investigated were:\n",
    "* Appliances present: assuming all houses had all appliances; some ResStock buildings lacked a washer/dryer, for example\n",
    "* Cooking fuel: using the assumption that gas heating fuel meant gas cooking fuel. We should note that earlier the team discussed we wanted to assume electric cooking *only* if there was electric heating, but the prior filtering steps left us with some parcels with oil heating but where the only ResStock options had electric cooking\n",
    "* Floor area: This was probably the easiest last filtering step, since the original floor area filter was quite large (the floor area bin was hundreds of square feet in range). A more precise filtering by square footage made it easy to filter to the final ResStock building\n",
    "\n",
    "This presents a few questions we may want to ask ourselves to update how we are filtering and potentially improve this methodology:\n",
    "1. *How important is ducted vs. non-ducted heating?* In tandem, does steam heating count as ducted or non-ducted? Should the presence of ducts be a prior filter? Perhaps this should be included in the first pass\n",
    "2. *Should we be assuming average appliance usage levels?* Removing this filter could expand the available ResStock buildings and make it possible to filter by variables deemed more important, such as the presence of ducts\n",
    "3. *Should we only assume an electric stove when the heating fuel is electric?* This assumption did not hold true when oil was the heating fuel, as we were left with ResStock buildings that had oil heating fuel and an electric stove."
   ]
  },
  {
   "cell_type": "markdown",
   "metadata": {},
   "source": [
    "# Dive Deeper\n",
    "There are some open questions with the work to date, so we are going to dive deeper into the determining factors for matching a parcel to a ResStock building.\n",
    "\n",
    "First, let's review the preliminary filtering:\n",
    "* We filtered the ResStock database to align with our parcels by:\n",
    "    * Building type -- single family home\n",
    "    * Vintage -- only buildings prior to 1950\n",
    "    * Heating fuel -- only gas or oil\n",
    "* We then filtered the ResStock data per individual parcel characteristics to get a set of possible ResStock buildings per parcel. The criteria were:\n",
    "    * Floor area bin -- ResStock floor area bins ([\"0-1499\", \"1500-2499\", \"2500-3999\", \"4000+\"]) matched to parcel floor area. Note that these are the \"widest\" bins provided by ResStock\n",
    "    * Heating fuel -- matched ResStock heating fuel with parcel heating fuel\n",
    "    * Vintage -- matched ResStock vintage with parcel vintage\n",
    "    * Usage level -- assumed all parcels would have a usage level of \"Medium\", as defined by ResStock as the average national energy usage\n",
    "\n",
    "Now, let's take a single parcel and start from \"zero\" to understand how each filtering criteria (floor area bin, vintage, heating fuel, usage level) is impacting the number of possible ResStock buildings for the parcel.\n",
    "\n",
    "A reminder on keys:\n",
    "* Floor area\n",
    "    * Parcel data - `\"FLA\"`\n",
    "    * ResStock data - `\"in.sqft\"`, `\"in.geometry_floor_area\"`, `\"in.geometry_floor_area_bin\"`\n",
    "        * The actual square footage, a narrow bin, and a wide bin, respectively\n",
    "* Heating fuel\n",
    "    * Parcel data - `\"HEAT FUEL\"`\n",
    "    * ResStock data - `\"in.heating_fuel\"`\n",
    "* Vintage\n",
    "    * Parcel data - `\"Decade Built\"`\n",
    "    * ResStock data - `\"in.vintage\"`"
   ]
  },
  {
   "cell_type": "code",
   "execution_count": 64,
   "metadata": {},
   "outputs": [
    {
     "data": {
      "text/plain": [
       "56"
      ]
     },
     "execution_count": 64,
     "metadata": {},
     "output_type": "execute_result"
    }
   ],
   "source": [
    "len(metadata_df)"
   ]
  },
  {
   "cell_type": "code",
   "execution_count": 57,
   "metadata": {},
   "outputs": [],
   "source": [
    "test_parcel = parcel_df.iloc[0]"
   ]
  },
  {
   "cell_type": "code",
   "execution_count": 122,
   "metadata": {},
   "outputs": [
    {
     "name": "stdout",
     "output_type": "stream",
     "text": [
      "OIL\n",
      "1224.0\n",
      "1940.0\n",
      "DUCTED\n"
     ]
    }
   ],
   "source": [
    "print(test_parcel[\"HEAT FUEL\"])\n",
    "print(test_parcel[\"FLA\"])\n",
    "print(test_parcel[\"Decade Built\"])\n",
    "print(test_parcel[\"Heat System\"])"
   ]
  },
  {
   "cell_type": "code",
   "execution_count": 80,
   "metadata": {},
   "outputs": [
    {
     "name": "stdout",
     "output_type": "stream",
     "text": [
      "22\n",
      "0.6071428571428572\n"
     ]
    }
   ],
   "source": [
    "test_metadata_df_heatfuel = metadata_df[metadata_df[\"in.heating_fuel\"]==\"Fuel Oil\"]\n",
    "print(len(test_metadata_df_heatfuel))\n",
    "print(1 - len(test_metadata_df_heatfuel) / len(metadata_df))"
   ]
  },
  {
   "cell_type": "code",
   "execution_count": 82,
   "metadata": {},
   "outputs": [
    {
     "name": "stdout",
     "output_type": "stream",
     "text": [
      "11\n",
      "0.8035714285714286\n"
     ]
    }
   ],
   "source": [
    "test_metadata_df_vintage = metadata_df[metadata_df[\"in.vintage\"]==\"1940s\"]\n",
    "print(len(test_metadata_df_vintage))\n",
    "print(1 - len(test_metadata_df_vintage) / len(metadata_df))"
   ]
  },
  {
   "cell_type": "code",
   "execution_count": 83,
   "metadata": {},
   "outputs": [
    {
     "name": "stdout",
     "output_type": "stream",
     "text": [
      "18\n",
      "0.6785714285714286\n"
     ]
    }
   ],
   "source": [
    "\"\"\"\n",
    "0-499|1000-1499|1500-1999|2000-2499|2500-2999|3000-3999|4000+|500-749|750-999\n",
    "0-1499|1500-2499|2500-3999|4000+\n",
    "\"\"\"\n",
    "\n",
    "test_metadata_df_gflabin = metadata_df[metadata_df[\"in.geometry_floor_area_bin\"]==\"0-1499\"]\n",
    "print(len(test_metadata_df_gflabin))\n",
    "print(1 - len(test_metadata_df_gflabin) / len(metadata_df))"
   ]
  },
  {
   "cell_type": "code",
   "execution_count": 84,
   "metadata": {},
   "outputs": [
    {
     "name": "stdout",
     "output_type": "stream",
     "text": [
      "12\n",
      "0.7857142857142857\n"
     ]
    }
   ],
   "source": [
    "test_metadata_df_gfla = metadata_df[metadata_df[\"in.geometry_floor_area\"]==\"1000-1499\"]\n",
    "print(len(test_metadata_df_gfla))\n",
    "print(1 - len(test_metadata_df_gfla) / len(metadata_df))"
   ]
  },
  {
   "cell_type": "code",
   "execution_count": 121,
   "metadata": {},
   "outputs": [
    {
     "name": "stdout",
     "output_type": "stream",
     "text": [
      "42\n",
      "0.25\n"
     ]
    }
   ],
   "source": [
    "test_metadata_df_ducts = metadata_df[metadata_df[\"in.hvac_has_ducts\"]==\"Yes\"]\n",
    "print(len(test_metadata_df_ducts))\n",
    "print(1 - len(test_metadata_df_ducts) / len(metadata_df))"
   ]
  },
  {
   "cell_type": "markdown",
   "metadata": {},
   "source": [
    "## Summary\n",
    "Filtering by:\n",
    "* Heating fuel -- reduced ResStock possibilities from 53 to 22 (60% decrease)\n",
    "* Vintage -- reduced ResStock possibilities from 53 to 11 (80% decrease)\n",
    "* Floor area (wide bin) -- reduced ResStock possibilities from 53 to 18 (68% decrease)\n",
    "* Floor area (narrow bin) -- reduced ResStock possibilities from 53 to 12 (79% decrease)\n",
    "* Ducts -- reduced ResStock possibilities from 53 to 42 (25% decrease)"
   ]
  },
  {
   "cell_type": "code",
   "execution_count": 116,
   "metadata": {},
   "outputs": [],
   "source": [
    "def print_hists_of_subsets(subset_df):\n",
    "    fig, ax = plt.subplots(2, 2)\n",
    "    subset_df[\"in.sqft\"].hist(ax=ax[0, 0])\n",
    "    subset_df[\"in.heating_fuel\"].hist(ax=ax[0, 1])\n",
    "    subset_df[\"in.vintage\"].hist(ax=ax[1, 0])\n",
    "    subset_df[\"in.usage_level\"].hist(ax=ax[1, 1])\n",
    "\n",
    "    plt.show()\n",
    "\n",
    "def print_hvac_chars(subset_df):\n",
    "    fig, ax = plt.subplots(1, 2)\n",
    "    subset_df[\"in.hvac_has_ducts\"].hist(ax=ax[0])\n",
    "    subset_df[\"in.hvac_heating_type\"].hist(ax=ax[1])\n",
    "    plt.show()"
   ]
  },
  {
   "cell_type": "code",
   "execution_count": 117,
   "metadata": {},
   "outputs": [
    {
     "data": {
      "image/png": "[encoded data removed]",
      "text/plain": [
       "<Figure size 432x288 with 4 Axes>"
      ]
     },
     "metadata": {
      "needs_background": "light"
     },
     "output_type": "display_data"
    },
    {
     "data": {
      "image/png": "[encoded data removed]",
      "text/plain": [
       "<Figure size 432x288 with 2 Axes>"
      ]
     },
     "metadata": {
      "needs_background": "light"
     },
     "output_type": "display_data"
    }
   ],
   "source": [
    "print_hists_of_subsets(test_metadata_df_heatfuel)\n",
    "print_hvac_chars(test_metadata_df_heatfuel)\n"
   ]
  },
  {
   "cell_type": "markdown",
   "metadata": {},
   "source": [
    "The majority of fuel oil buildings:\n",
    "* Are between 1000 and 1600 sq. ft.\n",
    "* Are built before 1940\n",
    "* Have medium usage\n",
    "* Have ducted heating "
   ]
  },
  {
   "cell_type": "code",
   "execution_count": 118,
   "metadata": {},
   "outputs": [
    {
     "data": {
      "image/png": "[encoded data removed]",
      "text/plain": [
       "<Figure size 432x288 with 4 Axes>"
      ]
     },
     "metadata": {
      "needs_background": "light"
     },
     "output_type": "display_data"
    },
    {
     "data": {
      "image/png": "[encoded data removed]",
      "text/plain": [
       "<Figure size 432x288 with 2 Axes>"
      ]
     },
     "metadata": {
      "needs_background": "light"
     },
     "output_type": "display_data"
    }
   ],
   "source": [
    "print_hists_of_subsets(test_metadata_df_vintage)\n",
    "print_hvac_chars(test_metadata_df_vintage)"
   ]
  },
  {
   "cell_type": "markdown",
   "metadata": {},
   "source": [
    "The majority of building built in 1940:\n",
    "* Are ~1600 sq. ft.\n",
    "* _Slightly_ are natural gas heated\n",
    "* Have medium usage\n",
    "* Have ducted heating"
   ]
  },
  {
   "cell_type": "code",
   "execution_count": 119,
   "metadata": {},
   "outputs": [
    {
     "data": {
      "image/png": "[encoded data removed]",
      "text/plain": [
       "<Figure size 432x288 with 4 Axes>"
      ]
     },
     "metadata": {
      "needs_background": "light"
     },
     "output_type": "display_data"
    },
    {
     "data": {
      "image/png": "[encoded data removed]",
      "text/plain": [
       "<Figure size 432x288 with 2 Axes>"
      ]
     },
     "metadata": {
      "needs_background": "light"
     },
     "output_type": "display_data"
    }
   ],
   "source": [
    "print_hists_of_subsets(test_metadata_df_gfla)\n",
    "print_hvac_chars(test_metadata_df_gfla)\n",
    "# Showing the sqft as 0, but it's actually a consistent 1220 sq.ft. for all entries if you print it out"
   ]
  },
  {
   "cell_type": "markdown",
   "metadata": {},
   "source": [
    "The majority of buildings between 1000 and 1499 sq. ft.:\n",
    "* Are 1220 sq. ft.\n",
    "* _Slightly_ are natural gas heated\n",
    "* Are built before 1940\n",
    "* Have medium usage\n",
    "* Have ducted heating"
   ]
  },
  {
   "cell_type": "code",
   "execution_count": 120,
   "metadata": {},
   "outputs": [
    {
     "data": {
      "image/png": "[encoded data removed]",
      "text/plain": [
       "<Figure size 432x288 with 4 Axes>"
      ]
     },
     "metadata": {
      "needs_background": "light"
     },
     "output_type": "display_data"
    },
    {
     "data": {
      "image/png": "[encoded data removed]",
      "text/plain": [
       "<Figure size 432x288 with 2 Axes>"
      ]
     },
     "metadata": {
      "needs_background": "light"
     },
     "output_type": "display_data"
    }
   ],
   "source": [
    "print_hists_of_subsets(test_metadata_df_gflabin)\n",
    "print_hvac_chars(test_metadata_df_gflabin)"
   ]
  },
  {
   "cell_type": "markdown",
   "metadata": {},
   "source": [
    "The majority of buildings between 0 and 1499 sq. ft.:\n",
    "* Are 1200 sq. ft.\n",
    "* Are _slightly_ nat. gas heated\n",
    "* Were built before 1940\n",
    "* Have medium usage\n",
    "* Have ducted heating"
   ]
  },
  {
   "cell_type": "code",
   "execution_count": 123,
   "metadata": {},
   "outputs": [
    {
     "data": {
      "image/png": "[encoded data removed]",
      "text/plain": [
       "<Figure size 432x288 with 4 Axes>"
      ]
     },
     "metadata": {
      "needs_background": "light"
     },
     "output_type": "display_data"
    },
    {
     "data": {
      "image/png": "[encoded data removed]",
      "text/plain": [
       "<Figure size 432x288 with 2 Axes>"
      ]
     },
     "metadata": {
      "needs_background": "light"
     },
     "output_type": "display_data"
    }
   ],
   "source": [
    "print_hists_of_subsets(test_metadata_df_ducts)\n",
    "print_hvac_chars(test_metadata_df_ducts)"
   ]
  },
  {
   "cell_type": "markdown",
   "metadata": {},
   "source": [
    "The majority of buildings with ducts:\n",
    "* Are between 1000 and 1600 sq. ft.\n",
    "* Are _slightly_ nat. gas heated\n",
    "* Were built before 1940\n",
    "* Have medium usage\n",
    "* Have ducted heating"
   ]
  },
  {
   "cell_type": "markdown",
   "metadata": {},
   "source": [
    "### Tangent\n",
    "What does it mean to have ducts but have non-ducted heating??"
   ]
  },
  {
   "cell_type": "code",
   "execution_count": 126,
   "metadata": {},
   "outputs": [
    {
     "data": {
      "text/html": [
       "<div>\n",
       "<style scoped>\n",
       "    .dataframe tbody tr th:only-of-type {\n",
       "        vertical-align: middle;\n",
       "    }\n",
       "\n",
       "    .dataframe tbody tr th {\n",
       "        vertical-align: top;\n",
       "    }\n",
       "\n",
       "    .dataframe thead th {\n",
       "        text-align: right;\n",
       "    }\n",
       "</style>\n",
       "<table border=\"1\" class=\"dataframe\">\n",
       "  <thead>\n",
       "    <tr style=\"text-align: right;\">\n",
       "      <th></th>\n",
       "      <th>bldg_id</th>\n",
       "      <th>in.sqft</th>\n",
       "      <th>in.clothes_dryer</th>\n",
       "      <th>in.clothes_washer</th>\n",
       "      <th>in.cooking_range</th>\n",
       "      <th>in.dishwasher</th>\n",
       "      <th>in.ducts</th>\n",
       "      <th>in.heating_fuel</th>\n",
       "      <th>in.hot_water_fixtures</th>\n",
       "      <th>in.hvac_has_ducts</th>\n",
       "      <th>in.hvac_heating_type</th>\n",
       "      <th>in.refrigerator</th>\n",
       "      <th>in.usage_level</th>\n",
       "      <th>in.vintage</th>\n",
       "      <th>in.water_heater_fuel</th>\n",
       "    </tr>\n",
       "  </thead>\n",
       "  <tbody>\n",
       "    <tr>\n",
       "      <th>7</th>\n",
       "      <td>28939</td>\n",
       "      <td>2176.0</td>\n",
       "      <td>Gas, 100% Usage</td>\n",
       "      <td>EnergyStar, 100% Usage</td>\n",
       "      <td>Gas, 100% Usage</td>\n",
       "      <td>None</td>\n",
       "      <td>30% Leakage, R-4</td>\n",
       "      <td>Natural Gas</td>\n",
       "      <td>100% Usage</td>\n",
       "      <td>Yes</td>\n",
       "      <td>Non-Ducted Heating</td>\n",
       "      <td>EF 6.7, 100% Usage</td>\n",
       "      <td>Medium</td>\n",
       "      <td>&lt;1940</td>\n",
       "      <td>Natural Gas</td>\n",
       "    </tr>\n",
       "    <tr>\n",
       "      <th>189</th>\n",
       "      <td>457157</td>\n",
       "      <td>1220.0</td>\n",
       "      <td>Electric, 100% Usage</td>\n",
       "      <td>Standard, 100% Usage</td>\n",
       "      <td>Electric, 100% Usage</td>\n",
       "      <td>None</td>\n",
       "      <td>20% Leakage, Uninsulated</td>\n",
       "      <td>Natural Gas</td>\n",
       "      <td>100% Usage</td>\n",
       "      <td>Yes</td>\n",
       "      <td>Non-Ducted Heating</td>\n",
       "      <td>EF 19.9, 100% Usage</td>\n",
       "      <td>Medium</td>\n",
       "      <td>&lt;1940</td>\n",
       "      <td>Natural Gas</td>\n",
       "    </tr>\n",
       "    <tr>\n",
       "      <th>221</th>\n",
       "      <td>516321</td>\n",
       "      <td>1690.0</td>\n",
       "      <td>Electric, 80% Usage</td>\n",
       "      <td>Standard, 80% Usage</td>\n",
       "      <td>Propane, 80% Usage</td>\n",
       "      <td>290 Rated kWh, 80% Usage</td>\n",
       "      <td>10% Leakage, Uninsulated</td>\n",
       "      <td>Natural Gas</td>\n",
       "      <td>50% Usage</td>\n",
       "      <td>Yes</td>\n",
       "      <td>Non-Ducted Heating</td>\n",
       "      <td>EF 15.9, 100% Usage</td>\n",
       "      <td>Low</td>\n",
       "      <td>&lt;1940</td>\n",
       "      <td>Natural Gas</td>\n",
       "    </tr>\n",
       "  </tbody>\n",
       "</table>\n",
       "</div>"
      ],
      "text/plain": [
       "     bldg_id  in.sqft      in.clothes_dryer       in.clothes_washer  \\\n",
       "7      28939   2176.0       Gas, 100% Usage  EnergyStar, 100% Usage   \n",
       "189   457157   1220.0  Electric, 100% Usage    Standard, 100% Usage   \n",
       "221   516321   1690.0   Electric, 80% Usage     Standard, 80% Usage   \n",
       "\n",
       "         in.cooking_range             in.dishwasher                  in.ducts  \\\n",
       "7         Gas, 100% Usage                      None          30% Leakage, R-4   \n",
       "189  Electric, 100% Usage                      None  20% Leakage, Uninsulated   \n",
       "221    Propane, 80% Usage  290 Rated kWh, 80% Usage  10% Leakage, Uninsulated   \n",
       "\n",
       "    in.heating_fuel in.hot_water_fixtures in.hvac_has_ducts  \\\n",
       "7       Natural Gas            100% Usage               Yes   \n",
       "189     Natural Gas            100% Usage               Yes   \n",
       "221     Natural Gas             50% Usage               Yes   \n",
       "\n",
       "    in.hvac_heating_type      in.refrigerator in.usage_level in.vintage  \\\n",
       "7     Non-Ducted Heating   EF 6.7, 100% Usage         Medium      <1940   \n",
       "189   Non-Ducted Heating  EF 19.9, 100% Usage         Medium      <1940   \n",
       "221   Non-Ducted Heating  EF 15.9, 100% Usage            Low      <1940   \n",
       "\n",
       "    in.water_heater_fuel  \n",
       "7            Natural Gas  \n",
       "189          Natural Gas  \n",
       "221          Natural Gas  "
      ]
     },
     "execution_count": 126,
     "metadata": {},
     "output_type": "execute_result"
    }
   ],
   "source": [
    "test_metadata_df_ducts[test_metadata_df_ducts[\"in.hvac_heating_type\"]==\"Non-Ducted Heating\"][[\n",
    "    \"bldg_id\", \"in.sqft\", \"in.clothes_dryer\", \"in.clothes_washer\", \"in.cooking_range\",\n",
    "    \"in.dishwasher\", \"in.ducts\", \"in.heating_fuel\", \"in.hot_water_fixtures\", \"in.hvac_has_ducts\",\n",
    "    \"in.hvac_heating_type\", \"in.refrigerator\", \"in.usage_level\", \"in.vintage\",\n",
    "    \"in.water_heater_fuel\"\n",
    "]]"
   ]
  },
  {
   "cell_type": "markdown",
   "metadata": {},
   "source": [
    "# TODO\n",
    "Wrap up some findings here. Then continue by looking at the process for pulling load shapes for individual appliances from ResStock and/or https://loadshape.epri.com/ so that we can have that process in place.\n",
    "\n",
    "We want to pull a single load shape for a gas stove and then one for a replacement stove (gas replace or electric replace) that we can feed through the entire model.\n",
    "\n",
    "Note that this will require some modeling changes to add the proper attributes to the Stove/Asset model"
   ]
  },
  {
   "cell_type": "markdown",
   "metadata": {},
   "source": []
  }
 ],
 "metadata": {
  "kernelspec": {
   "display_name": "Python 3.10.5 ('ttt')",
   "language": "python",
   "name": "python3"
  },
  "language_info": {
   "codemirror_mode": {
    "name": "ipython",
    "version": 3
   },
   "file_extension": ".py",
   "mimetype": "text/x-python",
   "name": "python",
   "nbconvert_exporter": "python",
   "pygments_lexer": "ipython3",
   "version": "3.10.5"
  },
  "orig_nbformat": 4,
  "vscode": {
   "interpreter": {
    "hash": "21d343cc15ebaf00ff8044cf66cb4914ab3d6698464bba90196bd4a819fc4fe9"
   }
  }
 },
 "nbformat": 4,
 "nbformat_minor": 2
}
