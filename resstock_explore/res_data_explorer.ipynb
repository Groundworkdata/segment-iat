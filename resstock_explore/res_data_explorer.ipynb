{
 "cells": [
  {
   "cell_type": "markdown",
   "id": "b85b761d-a534-4f5c-aadc-6cf69918bb5b",
   "metadata": {},
   "source": [
    "# Building energy data explorer"
   ]
  },
  {
   "cell_type": "markdown",
   "id": "51924316-83a9-414b-9428-33f42baf7ab7",
   "metadata": {},
   "source": [
    "## Read in data"
   ]
  },
  {
   "cell_type": "code",
   "execution_count": 1,
   "id": "da68f1ed-9a57-4daa-9495-aad61a638c99",
   "metadata": {},
   "outputs": [],
   "source": [
    "import pandas as pd\n",
    "import datetime"
   ]
  },
  {
   "cell_type": "code",
   "execution_count": 2,
   "id": "29d174f2-a46c-4c95-ae43-422889d28f89",
   "metadata": {},
   "outputs": [],
   "source": [
    "FILEPATH = \"./res_data.csv\"\n",
    "NROWS = None # For testing purposes"
   ]
  },
  {
   "cell_type": "code",
   "execution_count": 3,
   "id": "73cc5b28-5ef8-4336-bcaf-1a945286f7f5",
   "metadata": {},
   "outputs": [],
   "source": [
    "\n",
    "df = pd.read_csv(FILEPATH, nrows=NROWS)"
   ]
  },
  {
   "cell_type": "code",
   "execution_count": 4,
   "id": "8cc46b29-3117-4538-9d4e-c7002a0612ea",
   "metadata": {},
   "outputs": [
    {
     "data": {
      "text/html": [
       "<div>\n",
       "<style scoped>\n",
       "    .dataframe tbody tr th:only-of-type {\n",
       "        vertical-align: middle;\n",
       "    }\n",
       "\n",
       "    .dataframe tbody tr th {\n",
       "        vertical-align: top;\n",
       "    }\n",
       "\n",
       "    .dataframe thead th {\n",
       "        text-align: right;\n",
       "    }\n",
       "</style>\n",
       "<table border=\"1\" class=\"dataframe\">\n",
       "  <thead>\n",
       "    <tr style=\"text-align: right;\">\n",
       "      <th></th>\n",
       "      <th>time-tick</th>\n",
       "      <th>out.electricity.bath_fan.energy_consumption</th>\n",
       "      <th>out.electricity.ceiling_fan.energy_consumption</th>\n",
       "      <th>out.electricity.clothes_dryer.energy_consumption</th>\n",
       "      <th>out.electricity.clothes_washer.energy_consumption</th>\n",
       "      <th>out.electricity.cooking_range.energy_consumption</th>\n",
       "      <th>out.electricity.cooling.energy_consumption</th>\n",
       "      <th>out.electricity.dishwasher.energy_consumption</th>\n",
       "      <th>out.electricity.ext_holiday_light.energy_consumption</th>\n",
       "      <th>out.electricity.exterior_lighting.energy_consumption</th>\n",
       "      <th>...</th>\n",
       "      <th>out.site_energy.total.energy_consumption</th>\n",
       "      <th>out.fuel_oil.total.energy_consumption</th>\n",
       "      <th>out.natural_gas.total.energy_consumption</th>\n",
       "      <th>out.propane.total.energy_consumption</th>\n",
       "      <th>out.wood.total.energy_consumption</th>\n",
       "      <th>out.wood.heating.energy_consumption</th>\n",
       "      <th>month</th>\n",
       "      <th>day</th>\n",
       "      <th>hour</th>\n",
       "      <th>minute</th>\n",
       "    </tr>\n",
       "  </thead>\n",
       "  <tbody>\n",
       "    <tr>\n",
       "      <th>0</th>\n",
       "      <td>0</td>\n",
       "      <td>0.000315</td>\n",
       "      <td>0.000989</td>\n",
       "      <td>0.007962</td>\n",
       "      <td>0.000606</td>\n",
       "      <td>0.001308</td>\n",
       "      <td>0.000303</td>\n",
       "      <td>0.00028</td>\n",
       "      <td>0</td>\n",
       "      <td>0.003789</td>\n",
       "      <td>...</td>\n",
       "      <td>1.535725</td>\n",
       "      <td>0.640887</td>\n",
       "      <td>0.680850</td>\n",
       "      <td>0.006909</td>\n",
       "      <td>0</td>\n",
       "      <td>0</td>\n",
       "      <td>1</td>\n",
       "      <td>1</td>\n",
       "      <td>0</td>\n",
       "      <td>0</td>\n",
       "    </tr>\n",
       "    <tr>\n",
       "      <th>1</th>\n",
       "      <td>1</td>\n",
       "      <td>0.000315</td>\n",
       "      <td>0.000893</td>\n",
       "      <td>0.001786</td>\n",
       "      <td>0.000165</td>\n",
       "      <td>0.001330</td>\n",
       "      <td>0.001290</td>\n",
       "      <td>0.00030</td>\n",
       "      <td>0</td>\n",
       "      <td>0.003031</td>\n",
       "      <td>...</td>\n",
       "      <td>4.015947</td>\n",
       "      <td>1.720737</td>\n",
       "      <td>1.904889</td>\n",
       "      <td>0.015146</td>\n",
       "      <td>0</td>\n",
       "      <td>0</td>\n",
       "      <td>1</td>\n",
       "      <td>1</td>\n",
       "      <td>0</td>\n",
       "      <td>15</td>\n",
       "    </tr>\n",
       "    <tr>\n",
       "      <th>2</th>\n",
       "      <td>2</td>\n",
       "      <td>0.000472</td>\n",
       "      <td>0.000874</td>\n",
       "      <td>0.000364</td>\n",
       "      <td>0.000000</td>\n",
       "      <td>0.001830</td>\n",
       "      <td>0.001299</td>\n",
       "      <td>0.00008</td>\n",
       "      <td>0</td>\n",
       "      <td>0.003031</td>\n",
       "      <td>...</td>\n",
       "      <td>4.082018</td>\n",
       "      <td>1.745233</td>\n",
       "      <td>1.925827</td>\n",
       "      <td>0.031091</td>\n",
       "      <td>0</td>\n",
       "      <td>0</td>\n",
       "      <td>1</td>\n",
       "      <td>1</td>\n",
       "      <td>0</td>\n",
       "      <td>30</td>\n",
       "    </tr>\n",
       "    <tr>\n",
       "      <th>3</th>\n",
       "      <td>3</td>\n",
       "      <td>0.000472</td>\n",
       "      <td>0.000866</td>\n",
       "      <td>0.000364</td>\n",
       "      <td>0.000000</td>\n",
       "      <td>0.006428</td>\n",
       "      <td>0.001297</td>\n",
       "      <td>0.00000</td>\n",
       "      <td>0</td>\n",
       "      <td>0.003031</td>\n",
       "      <td>...</td>\n",
       "      <td>4.137949</td>\n",
       "      <td>1.774891</td>\n",
       "      <td>1.946823</td>\n",
       "      <td>0.027281</td>\n",
       "      <td>0</td>\n",
       "      <td>0</td>\n",
       "      <td>1</td>\n",
       "      <td>1</td>\n",
       "      <td>0</td>\n",
       "      <td>45</td>\n",
       "    </tr>\n",
       "    <tr>\n",
       "      <th>4</th>\n",
       "      <td>4</td>\n",
       "      <td>0.000472</td>\n",
       "      <td>0.000856</td>\n",
       "      <td>0.000364</td>\n",
       "      <td>0.000000</td>\n",
       "      <td>0.005469</td>\n",
       "      <td>0.001311</td>\n",
       "      <td>0.00000</td>\n",
       "      <td>0</td>\n",
       "      <td>0.003031</td>\n",
       "      <td>...</td>\n",
       "      <td>4.242638</td>\n",
       "      <td>1.811697</td>\n",
       "      <td>2.024608</td>\n",
       "      <td>0.012452</td>\n",
       "      <td>0</td>\n",
       "      <td>0</td>\n",
       "      <td>1</td>\n",
       "      <td>1</td>\n",
       "      <td>1</td>\n",
       "      <td>0</td>\n",
       "    </tr>\n",
       "    <tr>\n",
       "      <th>...</th>\n",
       "      <td>...</td>\n",
       "      <td>...</td>\n",
       "      <td>...</td>\n",
       "      <td>...</td>\n",
       "      <td>...</td>\n",
       "      <td>...</td>\n",
       "      <td>...</td>\n",
       "      <td>...</td>\n",
       "      <td>...</td>\n",
       "      <td>...</td>\n",
       "      <td>...</td>\n",
       "      <td>...</td>\n",
       "      <td>...</td>\n",
       "      <td>...</td>\n",
       "      <td>...</td>\n",
       "      <td>...</td>\n",
       "      <td>...</td>\n",
       "      <td>...</td>\n",
       "      <td>...</td>\n",
       "      <td>...</td>\n",
       "      <td>...</td>\n",
       "    </tr>\n",
       "    <tr>\n",
       "      <th>35035</th>\n",
       "      <td>35035</td>\n",
       "      <td>0.000268</td>\n",
       "      <td>0.001423</td>\n",
       "      <td>0.002862</td>\n",
       "      <td>0.000253</td>\n",
       "      <td>0.003887</td>\n",
       "      <td>0.000400</td>\n",
       "      <td>0.00000</td>\n",
       "      <td>0</td>\n",
       "      <td>0.004471</td>\n",
       "      <td>...</td>\n",
       "      <td>1.549162</td>\n",
       "      <td>0.616795</td>\n",
       "      <td>0.679349</td>\n",
       "      <td>0.012241</td>\n",
       "      <td>0</td>\n",
       "      <td>0</td>\n",
       "      <td>12</td>\n",
       "      <td>31</td>\n",
       "      <td>22</td>\n",
       "      <td>45</td>\n",
       "    </tr>\n",
       "    <tr>\n",
       "      <th>35036</th>\n",
       "      <td>35036</td>\n",
       "      <td>0.000268</td>\n",
       "      <td>0.001380</td>\n",
       "      <td>0.005026</td>\n",
       "      <td>0.000000</td>\n",
       "      <td>0.004242</td>\n",
       "      <td>0.000837</td>\n",
       "      <td>0.00000</td>\n",
       "      <td>0</td>\n",
       "      <td>0.004471</td>\n",
       "      <td>...</td>\n",
       "      <td>1.577653</td>\n",
       "      <td>0.635668</td>\n",
       "      <td>0.695253</td>\n",
       "      <td>0.004303</td>\n",
       "      <td>0</td>\n",
       "      <td>0</td>\n",
       "      <td>12</td>\n",
       "      <td>31</td>\n",
       "      <td>23</td>\n",
       "      <td>0</td>\n",
       "    </tr>\n",
       "    <tr>\n",
       "      <th>35037</th>\n",
       "      <td>35037</td>\n",
       "      <td>0.000268</td>\n",
       "      <td>0.001143</td>\n",
       "      <td>0.008221</td>\n",
       "      <td>0.000000</td>\n",
       "      <td>0.004242</td>\n",
       "      <td>0.000508</td>\n",
       "      <td>0.00000</td>\n",
       "      <td>0</td>\n",
       "      <td>0.003789</td>\n",
       "      <td>...</td>\n",
       "      <td>1.533725</td>\n",
       "      <td>0.621347</td>\n",
       "      <td>0.693066</td>\n",
       "      <td>0.004325</td>\n",
       "      <td>0</td>\n",
       "      <td>0</td>\n",
       "      <td>12</td>\n",
       "      <td>31</td>\n",
       "      <td>23</td>\n",
       "      <td>15</td>\n",
       "    </tr>\n",
       "    <tr>\n",
       "      <th>35038</th>\n",
       "      <td>35038</td>\n",
       "      <td>0.000315</td>\n",
       "      <td>0.001105</td>\n",
       "      <td>0.008221</td>\n",
       "      <td>0.000000</td>\n",
       "      <td>0.001330</td>\n",
       "      <td>0.000251</td>\n",
       "      <td>0.00024</td>\n",
       "      <td>0</td>\n",
       "      <td>0.003789</td>\n",
       "      <td>...</td>\n",
       "      <td>1.509858</td>\n",
       "      <td>0.625374</td>\n",
       "      <td>0.671361</td>\n",
       "      <td>0.004393</td>\n",
       "      <td>0</td>\n",
       "      <td>0</td>\n",
       "      <td>12</td>\n",
       "      <td>31</td>\n",
       "      <td>23</td>\n",
       "      <td>30</td>\n",
       "    </tr>\n",
       "    <tr>\n",
       "      <th>35039</th>\n",
       "      <td>35039</td>\n",
       "      <td>0.000315</td>\n",
       "      <td>0.001007</td>\n",
       "      <td>0.008221</td>\n",
       "      <td>0.000000</td>\n",
       "      <td>0.001330</td>\n",
       "      <td>0.000363</td>\n",
       "      <td>0.00030</td>\n",
       "      <td>0</td>\n",
       "      <td>0.003789</td>\n",
       "      <td>...</td>\n",
       "      <td>1.521383</td>\n",
       "      <td>0.628430</td>\n",
       "      <td>0.678745</td>\n",
       "      <td>0.007998</td>\n",
       "      <td>0</td>\n",
       "      <td>0</td>\n",
       "      <td>12</td>\n",
       "      <td>31</td>\n",
       "      <td>23</td>\n",
       "      <td>45</td>\n",
       "    </tr>\n",
       "  </tbody>\n",
       "</table>\n",
       "<p>35040 rows × 60 columns</p>\n",
       "</div>"
      ],
      "text/plain": [
       "       time-tick  out.electricity.bath_fan.energy_consumption  \\\n",
       "0              0                                     0.000315   \n",
       "1              1                                     0.000315   \n",
       "2              2                                     0.000472   \n",
       "3              3                                     0.000472   \n",
       "4              4                                     0.000472   \n",
       "...          ...                                          ...   \n",
       "35035      35035                                     0.000268   \n",
       "35036      35036                                     0.000268   \n",
       "35037      35037                                     0.000268   \n",
       "35038      35038                                     0.000315   \n",
       "35039      35039                                     0.000315   \n",
       "\n",
       "       out.electricity.ceiling_fan.energy_consumption  \\\n",
       "0                                            0.000989   \n",
       "1                                            0.000893   \n",
       "2                                            0.000874   \n",
       "3                                            0.000866   \n",
       "4                                            0.000856   \n",
       "...                                               ...   \n",
       "35035                                        0.001423   \n",
       "35036                                        0.001380   \n",
       "35037                                        0.001143   \n",
       "35038                                        0.001105   \n",
       "35039                                        0.001007   \n",
       "\n",
       "       out.electricity.clothes_dryer.energy_consumption  \\\n",
       "0                                              0.007962   \n",
       "1                                              0.001786   \n",
       "2                                              0.000364   \n",
       "3                                              0.000364   \n",
       "4                                              0.000364   \n",
       "...                                                 ...   \n",
       "35035                                          0.002862   \n",
       "35036                                          0.005026   \n",
       "35037                                          0.008221   \n",
       "35038                                          0.008221   \n",
       "35039                                          0.008221   \n",
       "\n",
       "       out.electricity.clothes_washer.energy_consumption  \\\n",
       "0                                               0.000606   \n",
       "1                                               0.000165   \n",
       "2                                               0.000000   \n",
       "3                                               0.000000   \n",
       "4                                               0.000000   \n",
       "...                                                  ...   \n",
       "35035                                           0.000253   \n",
       "35036                                           0.000000   \n",
       "35037                                           0.000000   \n",
       "35038                                           0.000000   \n",
       "35039                                           0.000000   \n",
       "\n",
       "       out.electricity.cooking_range.energy_consumption  \\\n",
       "0                                              0.001308   \n",
       "1                                              0.001330   \n",
       "2                                              0.001830   \n",
       "3                                              0.006428   \n",
       "4                                              0.005469   \n",
       "...                                                 ...   \n",
       "35035                                          0.003887   \n",
       "35036                                          0.004242   \n",
       "35037                                          0.004242   \n",
       "35038                                          0.001330   \n",
       "35039                                          0.001330   \n",
       "\n",
       "       out.electricity.cooling.energy_consumption  \\\n",
       "0                                        0.000303   \n",
       "1                                        0.001290   \n",
       "2                                        0.001299   \n",
       "3                                        0.001297   \n",
       "4                                        0.001311   \n",
       "...                                           ...   \n",
       "35035                                    0.000400   \n",
       "35036                                    0.000837   \n",
       "35037                                    0.000508   \n",
       "35038                                    0.000251   \n",
       "35039                                    0.000363   \n",
       "\n",
       "       out.electricity.dishwasher.energy_consumption  \\\n",
       "0                                            0.00028   \n",
       "1                                            0.00030   \n",
       "2                                            0.00008   \n",
       "3                                            0.00000   \n",
       "4                                            0.00000   \n",
       "...                                              ...   \n",
       "35035                                        0.00000   \n",
       "35036                                        0.00000   \n",
       "35037                                        0.00000   \n",
       "35038                                        0.00024   \n",
       "35039                                        0.00030   \n",
       "\n",
       "       out.electricity.ext_holiday_light.energy_consumption  \\\n",
       "0                                                      0      \n",
       "1                                                      0      \n",
       "2                                                      0      \n",
       "3                                                      0      \n",
       "4                                                      0      \n",
       "...                                                  ...      \n",
       "35035                                                  0      \n",
       "35036                                                  0      \n",
       "35037                                                  0      \n",
       "35038                                                  0      \n",
       "35039                                                  0      \n",
       "\n",
       "       out.electricity.exterior_lighting.energy_consumption  ...  \\\n",
       "0                                               0.003789     ...   \n",
       "1                                               0.003031     ...   \n",
       "2                                               0.003031     ...   \n",
       "3                                               0.003031     ...   \n",
       "4                                               0.003031     ...   \n",
       "...                                                  ...     ...   \n",
       "35035                                           0.004471     ...   \n",
       "35036                                           0.004471     ...   \n",
       "35037                                           0.003789     ...   \n",
       "35038                                           0.003789     ...   \n",
       "35039                                           0.003789     ...   \n",
       "\n",
       "       out.site_energy.total.energy_consumption  \\\n",
       "0                                      1.535725   \n",
       "1                                      4.015947   \n",
       "2                                      4.082018   \n",
       "3                                      4.137949   \n",
       "4                                      4.242638   \n",
       "...                                         ...   \n",
       "35035                                  1.549162   \n",
       "35036                                  1.577653   \n",
       "35037                                  1.533725   \n",
       "35038                                  1.509858   \n",
       "35039                                  1.521383   \n",
       "\n",
       "       out.fuel_oil.total.energy_consumption  \\\n",
       "0                                   0.640887   \n",
       "1                                   1.720737   \n",
       "2                                   1.745233   \n",
       "3                                   1.774891   \n",
       "4                                   1.811697   \n",
       "...                                      ...   \n",
       "35035                               0.616795   \n",
       "35036                               0.635668   \n",
       "35037                               0.621347   \n",
       "35038                               0.625374   \n",
       "35039                               0.628430   \n",
       "\n",
       "       out.natural_gas.total.energy_consumption  \\\n",
       "0                                      0.680850   \n",
       "1                                      1.904889   \n",
       "2                                      1.925827   \n",
       "3                                      1.946823   \n",
       "4                                      2.024608   \n",
       "...                                         ...   \n",
       "35035                                  0.679349   \n",
       "35036                                  0.695253   \n",
       "35037                                  0.693066   \n",
       "35038                                  0.671361   \n",
       "35039                                  0.678745   \n",
       "\n",
       "       out.propane.total.energy_consumption  \\\n",
       "0                                  0.006909   \n",
       "1                                  0.015146   \n",
       "2                                  0.031091   \n",
       "3                                  0.027281   \n",
       "4                                  0.012452   \n",
       "...                                     ...   \n",
       "35035                              0.012241   \n",
       "35036                              0.004303   \n",
       "35037                              0.004325   \n",
       "35038                              0.004393   \n",
       "35039                              0.007998   \n",
       "\n",
       "       out.wood.total.energy_consumption  out.wood.heating.energy_consumption  \\\n",
       "0                                      0                                    0   \n",
       "1                                      0                                    0   \n",
       "2                                      0                                    0   \n",
       "3                                      0                                    0   \n",
       "4                                      0                                    0   \n",
       "...                                  ...                                  ...   \n",
       "35035                                  0                                    0   \n",
       "35036                                  0                                    0   \n",
       "35037                                  0                                    0   \n",
       "35038                                  0                                    0   \n",
       "35039                                  0                                    0   \n",
       "\n",
       "       month  day  hour  minute  \n",
       "0          1    1     0       0  \n",
       "1          1    1     0      15  \n",
       "2          1    1     0      30  \n",
       "3          1    1     0      45  \n",
       "4          1    1     1       0  \n",
       "...      ...  ...   ...     ...  \n",
       "35035     12   31    22      45  \n",
       "35036     12   31    23       0  \n",
       "35037     12   31    23      15  \n",
       "35038     12   31    23      30  \n",
       "35039     12   31    23      45  \n",
       "\n",
       "[35040 rows x 60 columns]"
      ]
     },
     "execution_count": 4,
     "metadata": {},
     "output_type": "execute_result"
    }
   ],
   "source": [
    "df"
   ]
  },
  {
   "cell_type": "code",
   "execution_count": 5,
   "id": "8283f731-c32c-4bfb-8c81-c905d66b8419",
   "metadata": {},
   "outputs": [],
   "source": [
    "def create_datetimes(_x):\n",
    "    month = int(_x[\"month\"])\n",
    "    day = int(_x[\"day\"])\n",
    "    hr = int(_x[\"hour\"])\n",
    "    minute = int(_x[\"minute\"])\n",
    "\n",
    "    return datetime.datetime(2022, month, day, hr, minute)\n",
    "\n",
    "df[\"datetime\"] = df.apply(create_datetimes, axis=1)"
   ]
  },
  {
   "cell_type": "code",
   "execution_count": 6,
   "id": "8e1d1b96-7d76-4e7a-9ea3-f178eeca8bd5",
   "metadata": {},
   "outputs": [
    {
     "data": {
      "text/html": [
       "<div>\n",
       "<style scoped>\n",
       "    .dataframe tbody tr th:only-of-type {\n",
       "        vertical-align: middle;\n",
       "    }\n",
       "\n",
       "    .dataframe tbody tr th {\n",
       "        vertical-align: top;\n",
       "    }\n",
       "\n",
       "    .dataframe thead th {\n",
       "        text-align: right;\n",
       "    }\n",
       "</style>\n",
       "<table border=\"1\" class=\"dataframe\">\n",
       "  <thead>\n",
       "    <tr style=\"text-align: right;\">\n",
       "      <th></th>\n",
       "      <th>time-tick</th>\n",
       "      <th>out.electricity.bath_fan.energy_consumption</th>\n",
       "      <th>out.electricity.ceiling_fan.energy_consumption</th>\n",
       "      <th>out.electricity.clothes_dryer.energy_consumption</th>\n",
       "      <th>out.electricity.clothes_washer.energy_consumption</th>\n",
       "      <th>out.electricity.cooking_range.energy_consumption</th>\n",
       "      <th>out.electricity.cooling.energy_consumption</th>\n",
       "      <th>out.electricity.dishwasher.energy_consumption</th>\n",
       "      <th>out.electricity.ext_holiday_light.energy_consumption</th>\n",
       "      <th>out.electricity.exterior_lighting.energy_consumption</th>\n",
       "      <th>...</th>\n",
       "      <th>out.fuel_oil.total.energy_consumption</th>\n",
       "      <th>out.natural_gas.total.energy_consumption</th>\n",
       "      <th>out.propane.total.energy_consumption</th>\n",
       "      <th>out.wood.total.energy_consumption</th>\n",
       "      <th>out.wood.heating.energy_consumption</th>\n",
       "      <th>month</th>\n",
       "      <th>day</th>\n",
       "      <th>hour</th>\n",
       "      <th>minute</th>\n",
       "      <th>datetime</th>\n",
       "    </tr>\n",
       "  </thead>\n",
       "  <tbody>\n",
       "    <tr>\n",
       "      <th>0</th>\n",
       "      <td>0</td>\n",
       "      <td>0.000315</td>\n",
       "      <td>0.000989</td>\n",
       "      <td>0.007962</td>\n",
       "      <td>0.000606</td>\n",
       "      <td>0.001308</td>\n",
       "      <td>0.000303</td>\n",
       "      <td>0.00028</td>\n",
       "      <td>0</td>\n",
       "      <td>0.003789</td>\n",
       "      <td>...</td>\n",
       "      <td>0.640887</td>\n",
       "      <td>0.680850</td>\n",
       "      <td>0.006909</td>\n",
       "      <td>0</td>\n",
       "      <td>0</td>\n",
       "      <td>1</td>\n",
       "      <td>1</td>\n",
       "      <td>0</td>\n",
       "      <td>0</td>\n",
       "      <td>2022-01-01 00:00:00</td>\n",
       "    </tr>\n",
       "    <tr>\n",
       "      <th>1</th>\n",
       "      <td>1</td>\n",
       "      <td>0.000315</td>\n",
       "      <td>0.000893</td>\n",
       "      <td>0.001786</td>\n",
       "      <td>0.000165</td>\n",
       "      <td>0.001330</td>\n",
       "      <td>0.001290</td>\n",
       "      <td>0.00030</td>\n",
       "      <td>0</td>\n",
       "      <td>0.003031</td>\n",
       "      <td>...</td>\n",
       "      <td>1.720737</td>\n",
       "      <td>1.904889</td>\n",
       "      <td>0.015146</td>\n",
       "      <td>0</td>\n",
       "      <td>0</td>\n",
       "      <td>1</td>\n",
       "      <td>1</td>\n",
       "      <td>0</td>\n",
       "      <td>15</td>\n",
       "      <td>2022-01-01 00:15:00</td>\n",
       "    </tr>\n",
       "    <tr>\n",
       "      <th>2</th>\n",
       "      <td>2</td>\n",
       "      <td>0.000472</td>\n",
       "      <td>0.000874</td>\n",
       "      <td>0.000364</td>\n",
       "      <td>0.000000</td>\n",
       "      <td>0.001830</td>\n",
       "      <td>0.001299</td>\n",
       "      <td>0.00008</td>\n",
       "      <td>0</td>\n",
       "      <td>0.003031</td>\n",
       "      <td>...</td>\n",
       "      <td>1.745233</td>\n",
       "      <td>1.925827</td>\n",
       "      <td>0.031091</td>\n",
       "      <td>0</td>\n",
       "      <td>0</td>\n",
       "      <td>1</td>\n",
       "      <td>1</td>\n",
       "      <td>0</td>\n",
       "      <td>30</td>\n",
       "      <td>2022-01-01 00:30:00</td>\n",
       "    </tr>\n",
       "    <tr>\n",
       "      <th>3</th>\n",
       "      <td>3</td>\n",
       "      <td>0.000472</td>\n",
       "      <td>0.000866</td>\n",
       "      <td>0.000364</td>\n",
       "      <td>0.000000</td>\n",
       "      <td>0.006428</td>\n",
       "      <td>0.001297</td>\n",
       "      <td>0.00000</td>\n",
       "      <td>0</td>\n",
       "      <td>0.003031</td>\n",
       "      <td>...</td>\n",
       "      <td>1.774891</td>\n",
       "      <td>1.946823</td>\n",
       "      <td>0.027281</td>\n",
       "      <td>0</td>\n",
       "      <td>0</td>\n",
       "      <td>1</td>\n",
       "      <td>1</td>\n",
       "      <td>0</td>\n",
       "      <td>45</td>\n",
       "      <td>2022-01-01 00:45:00</td>\n",
       "    </tr>\n",
       "    <tr>\n",
       "      <th>4</th>\n",
       "      <td>4</td>\n",
       "      <td>0.000472</td>\n",
       "      <td>0.000856</td>\n",
       "      <td>0.000364</td>\n",
       "      <td>0.000000</td>\n",
       "      <td>0.005469</td>\n",
       "      <td>0.001311</td>\n",
       "      <td>0.00000</td>\n",
       "      <td>0</td>\n",
       "      <td>0.003031</td>\n",
       "      <td>...</td>\n",
       "      <td>1.811697</td>\n",
       "      <td>2.024608</td>\n",
       "      <td>0.012452</td>\n",
       "      <td>0</td>\n",
       "      <td>0</td>\n",
       "      <td>1</td>\n",
       "      <td>1</td>\n",
       "      <td>1</td>\n",
       "      <td>0</td>\n",
       "      <td>2022-01-01 01:00:00</td>\n",
       "    </tr>\n",
       "    <tr>\n",
       "      <th>...</th>\n",
       "      <td>...</td>\n",
       "      <td>...</td>\n",
       "      <td>...</td>\n",
       "      <td>...</td>\n",
       "      <td>...</td>\n",
       "      <td>...</td>\n",
       "      <td>...</td>\n",
       "      <td>...</td>\n",
       "      <td>...</td>\n",
       "      <td>...</td>\n",
       "      <td>...</td>\n",
       "      <td>...</td>\n",
       "      <td>...</td>\n",
       "      <td>...</td>\n",
       "      <td>...</td>\n",
       "      <td>...</td>\n",
       "      <td>...</td>\n",
       "      <td>...</td>\n",
       "      <td>...</td>\n",
       "      <td>...</td>\n",
       "      <td>...</td>\n",
       "    </tr>\n",
       "    <tr>\n",
       "      <th>35035</th>\n",
       "      <td>35035</td>\n",
       "      <td>0.000268</td>\n",
       "      <td>0.001423</td>\n",
       "      <td>0.002862</td>\n",
       "      <td>0.000253</td>\n",
       "      <td>0.003887</td>\n",
       "      <td>0.000400</td>\n",
       "      <td>0.00000</td>\n",
       "      <td>0</td>\n",
       "      <td>0.004471</td>\n",
       "      <td>...</td>\n",
       "      <td>0.616795</td>\n",
       "      <td>0.679349</td>\n",
       "      <td>0.012241</td>\n",
       "      <td>0</td>\n",
       "      <td>0</td>\n",
       "      <td>12</td>\n",
       "      <td>31</td>\n",
       "      <td>22</td>\n",
       "      <td>45</td>\n",
       "      <td>2022-12-31 22:45:00</td>\n",
       "    </tr>\n",
       "    <tr>\n",
       "      <th>35036</th>\n",
       "      <td>35036</td>\n",
       "      <td>0.000268</td>\n",
       "      <td>0.001380</td>\n",
       "      <td>0.005026</td>\n",
       "      <td>0.000000</td>\n",
       "      <td>0.004242</td>\n",
       "      <td>0.000837</td>\n",
       "      <td>0.00000</td>\n",
       "      <td>0</td>\n",
       "      <td>0.004471</td>\n",
       "      <td>...</td>\n",
       "      <td>0.635668</td>\n",
       "      <td>0.695253</td>\n",
       "      <td>0.004303</td>\n",
       "      <td>0</td>\n",
       "      <td>0</td>\n",
       "      <td>12</td>\n",
       "      <td>31</td>\n",
       "      <td>23</td>\n",
       "      <td>0</td>\n",
       "      <td>2022-12-31 23:00:00</td>\n",
       "    </tr>\n",
       "    <tr>\n",
       "      <th>35037</th>\n",
       "      <td>35037</td>\n",
       "      <td>0.000268</td>\n",
       "      <td>0.001143</td>\n",
       "      <td>0.008221</td>\n",
       "      <td>0.000000</td>\n",
       "      <td>0.004242</td>\n",
       "      <td>0.000508</td>\n",
       "      <td>0.00000</td>\n",
       "      <td>0</td>\n",
       "      <td>0.003789</td>\n",
       "      <td>...</td>\n",
       "      <td>0.621347</td>\n",
       "      <td>0.693066</td>\n",
       "      <td>0.004325</td>\n",
       "      <td>0</td>\n",
       "      <td>0</td>\n",
       "      <td>12</td>\n",
       "      <td>31</td>\n",
       "      <td>23</td>\n",
       "      <td>15</td>\n",
       "      <td>2022-12-31 23:15:00</td>\n",
       "    </tr>\n",
       "    <tr>\n",
       "      <th>35038</th>\n",
       "      <td>35038</td>\n",
       "      <td>0.000315</td>\n",
       "      <td>0.001105</td>\n",
       "      <td>0.008221</td>\n",
       "      <td>0.000000</td>\n",
       "      <td>0.001330</td>\n",
       "      <td>0.000251</td>\n",
       "      <td>0.00024</td>\n",
       "      <td>0</td>\n",
       "      <td>0.003789</td>\n",
       "      <td>...</td>\n",
       "      <td>0.625374</td>\n",
       "      <td>0.671361</td>\n",
       "      <td>0.004393</td>\n",
       "      <td>0</td>\n",
       "      <td>0</td>\n",
       "      <td>12</td>\n",
       "      <td>31</td>\n",
       "      <td>23</td>\n",
       "      <td>30</td>\n",
       "      <td>2022-12-31 23:30:00</td>\n",
       "    </tr>\n",
       "    <tr>\n",
       "      <th>35039</th>\n",
       "      <td>35039</td>\n",
       "      <td>0.000315</td>\n",
       "      <td>0.001007</td>\n",
       "      <td>0.008221</td>\n",
       "      <td>0.000000</td>\n",
       "      <td>0.001330</td>\n",
       "      <td>0.000363</td>\n",
       "      <td>0.00030</td>\n",
       "      <td>0</td>\n",
       "      <td>0.003789</td>\n",
       "      <td>...</td>\n",
       "      <td>0.628430</td>\n",
       "      <td>0.678745</td>\n",
       "      <td>0.007998</td>\n",
       "      <td>0</td>\n",
       "      <td>0</td>\n",
       "      <td>12</td>\n",
       "      <td>31</td>\n",
       "      <td>23</td>\n",
       "      <td>45</td>\n",
       "      <td>2022-12-31 23:45:00</td>\n",
       "    </tr>\n",
       "  </tbody>\n",
       "</table>\n",
       "<p>35040 rows × 61 columns</p>\n",
       "</div>"
      ],
      "text/plain": [
       "       time-tick  out.electricity.bath_fan.energy_consumption  \\\n",
       "0              0                                     0.000315   \n",
       "1              1                                     0.000315   \n",
       "2              2                                     0.000472   \n",
       "3              3                                     0.000472   \n",
       "4              4                                     0.000472   \n",
       "...          ...                                          ...   \n",
       "35035      35035                                     0.000268   \n",
       "35036      35036                                     0.000268   \n",
       "35037      35037                                     0.000268   \n",
       "35038      35038                                     0.000315   \n",
       "35039      35039                                     0.000315   \n",
       "\n",
       "       out.electricity.ceiling_fan.energy_consumption  \\\n",
       "0                                            0.000989   \n",
       "1                                            0.000893   \n",
       "2                                            0.000874   \n",
       "3                                            0.000866   \n",
       "4                                            0.000856   \n",
       "...                                               ...   \n",
       "35035                                        0.001423   \n",
       "35036                                        0.001380   \n",
       "35037                                        0.001143   \n",
       "35038                                        0.001105   \n",
       "35039                                        0.001007   \n",
       "\n",
       "       out.electricity.clothes_dryer.energy_consumption  \\\n",
       "0                                              0.007962   \n",
       "1                                              0.001786   \n",
       "2                                              0.000364   \n",
       "3                                              0.000364   \n",
       "4                                              0.000364   \n",
       "...                                                 ...   \n",
       "35035                                          0.002862   \n",
       "35036                                          0.005026   \n",
       "35037                                          0.008221   \n",
       "35038                                          0.008221   \n",
       "35039                                          0.008221   \n",
       "\n",
       "       out.electricity.clothes_washer.energy_consumption  \\\n",
       "0                                               0.000606   \n",
       "1                                               0.000165   \n",
       "2                                               0.000000   \n",
       "3                                               0.000000   \n",
       "4                                               0.000000   \n",
       "...                                                  ...   \n",
       "35035                                           0.000253   \n",
       "35036                                           0.000000   \n",
       "35037                                           0.000000   \n",
       "35038                                           0.000000   \n",
       "35039                                           0.000000   \n",
       "\n",
       "       out.electricity.cooking_range.energy_consumption  \\\n",
       "0                                              0.001308   \n",
       "1                                              0.001330   \n",
       "2                                              0.001830   \n",
       "3                                              0.006428   \n",
       "4                                              0.005469   \n",
       "...                                                 ...   \n",
       "35035                                          0.003887   \n",
       "35036                                          0.004242   \n",
       "35037                                          0.004242   \n",
       "35038                                          0.001330   \n",
       "35039                                          0.001330   \n",
       "\n",
       "       out.electricity.cooling.energy_consumption  \\\n",
       "0                                        0.000303   \n",
       "1                                        0.001290   \n",
       "2                                        0.001299   \n",
       "3                                        0.001297   \n",
       "4                                        0.001311   \n",
       "...                                           ...   \n",
       "35035                                    0.000400   \n",
       "35036                                    0.000837   \n",
       "35037                                    0.000508   \n",
       "35038                                    0.000251   \n",
       "35039                                    0.000363   \n",
       "\n",
       "       out.electricity.dishwasher.energy_consumption  \\\n",
       "0                                            0.00028   \n",
       "1                                            0.00030   \n",
       "2                                            0.00008   \n",
       "3                                            0.00000   \n",
       "4                                            0.00000   \n",
       "...                                              ...   \n",
       "35035                                        0.00000   \n",
       "35036                                        0.00000   \n",
       "35037                                        0.00000   \n",
       "35038                                        0.00024   \n",
       "35039                                        0.00030   \n",
       "\n",
       "       out.electricity.ext_holiday_light.energy_consumption  \\\n",
       "0                                                      0      \n",
       "1                                                      0      \n",
       "2                                                      0      \n",
       "3                                                      0      \n",
       "4                                                      0      \n",
       "...                                                  ...      \n",
       "35035                                                  0      \n",
       "35036                                                  0      \n",
       "35037                                                  0      \n",
       "35038                                                  0      \n",
       "35039                                                  0      \n",
       "\n",
       "       out.electricity.exterior_lighting.energy_consumption  ...  \\\n",
       "0                                               0.003789     ...   \n",
       "1                                               0.003031     ...   \n",
       "2                                               0.003031     ...   \n",
       "3                                               0.003031     ...   \n",
       "4                                               0.003031     ...   \n",
       "...                                                  ...     ...   \n",
       "35035                                           0.004471     ...   \n",
       "35036                                           0.004471     ...   \n",
       "35037                                           0.003789     ...   \n",
       "35038                                           0.003789     ...   \n",
       "35039                                           0.003789     ...   \n",
       "\n",
       "       out.fuel_oil.total.energy_consumption  \\\n",
       "0                                   0.640887   \n",
       "1                                   1.720737   \n",
       "2                                   1.745233   \n",
       "3                                   1.774891   \n",
       "4                                   1.811697   \n",
       "...                                      ...   \n",
       "35035                               0.616795   \n",
       "35036                               0.635668   \n",
       "35037                               0.621347   \n",
       "35038                               0.625374   \n",
       "35039                               0.628430   \n",
       "\n",
       "       out.natural_gas.total.energy_consumption  \\\n",
       "0                                      0.680850   \n",
       "1                                      1.904889   \n",
       "2                                      1.925827   \n",
       "3                                      1.946823   \n",
       "4                                      2.024608   \n",
       "...                                         ...   \n",
       "35035                                  0.679349   \n",
       "35036                                  0.695253   \n",
       "35037                                  0.693066   \n",
       "35038                                  0.671361   \n",
       "35039                                  0.678745   \n",
       "\n",
       "       out.propane.total.energy_consumption  \\\n",
       "0                                  0.006909   \n",
       "1                                  0.015146   \n",
       "2                                  0.031091   \n",
       "3                                  0.027281   \n",
       "4                                  0.012452   \n",
       "...                                     ...   \n",
       "35035                              0.012241   \n",
       "35036                              0.004303   \n",
       "35037                              0.004325   \n",
       "35038                              0.004393   \n",
       "35039                              0.007998   \n",
       "\n",
       "       out.wood.total.energy_consumption  out.wood.heating.energy_consumption  \\\n",
       "0                                      0                                    0   \n",
       "1                                      0                                    0   \n",
       "2                                      0                                    0   \n",
       "3                                      0                                    0   \n",
       "4                                      0                                    0   \n",
       "...                                  ...                                  ...   \n",
       "35035                                  0                                    0   \n",
       "35036                                  0                                    0   \n",
       "35037                                  0                                    0   \n",
       "35038                                  0                                    0   \n",
       "35039                                  0                                    0   \n",
       "\n",
       "       month  day  hour  minute            datetime  \n",
       "0          1    1     0       0 2022-01-01 00:00:00  \n",
       "1          1    1     0      15 2022-01-01 00:15:00  \n",
       "2          1    1     0      30 2022-01-01 00:30:00  \n",
       "3          1    1     0      45 2022-01-01 00:45:00  \n",
       "4          1    1     1       0 2022-01-01 01:00:00  \n",
       "...      ...  ...   ...     ...                 ...  \n",
       "35035     12   31    22      45 2022-12-31 22:45:00  \n",
       "35036     12   31    23       0 2022-12-31 23:00:00  \n",
       "35037     12   31    23      15 2022-12-31 23:15:00  \n",
       "35038     12   31    23      30 2022-12-31 23:30:00  \n",
       "35039     12   31    23      45 2022-12-31 23:45:00  \n",
       "\n",
       "[35040 rows x 61 columns]"
      ]
     },
     "execution_count": 6,
     "metadata": {},
     "output_type": "execute_result"
    }
   ],
   "source": [
    "df"
   ]
  },
  {
   "cell_type": "code",
   "execution_count": 7,
   "id": "486f8431-5d9f-4ac4-ba4a-3ac0afe480b2",
   "metadata": {},
   "outputs": [
    {
     "data": {
      "text/plain": [
       "Index(['time-tick', 'out.electricity.bath_fan.energy_consumption',\n",
       "       'out.electricity.ceiling_fan.energy_consumption',\n",
       "       'out.electricity.clothes_dryer.energy_consumption',\n",
       "       'out.electricity.clothes_washer.energy_consumption',\n",
       "       'out.electricity.cooking_range.energy_consumption',\n",
       "       'out.electricity.cooling.energy_consumption',\n",
       "       'out.electricity.dishwasher.energy_consumption',\n",
       "       'out.electricity.ext_holiday_light.energy_consumption',\n",
       "       'out.electricity.exterior_lighting.energy_consumption',\n",
       "       'out.electricity.extra_refrigerator.energy_consumption',\n",
       "       'out.electricity.fans_cooling.energy_consumption',\n",
       "       'out.electricity.fans_heating.energy_consumption',\n",
       "       'out.electricity.freezer.energy_consumption',\n",
       "       'out.electricity.garage_lighting.energy_consumption',\n",
       "       'out.electricity.heating.energy_consumption',\n",
       "       'out.electricity.heating_supplement.energy_consumption',\n",
       "       'out.electricity.hot_tub_heater.energy_consumption',\n",
       "       'out.electricity.hot_tub_pump.energy_consumption',\n",
       "       'out.electricity.house_fan.energy_consumption',\n",
       "       'out.electricity.interior_lighting.energy_consumption',\n",
       "       'out.electricity.plug_loads.energy_consumption',\n",
       "       'out.electricity.pool_heater.energy_consumption',\n",
       "       'out.electricity.pool_pump.energy_consumption',\n",
       "       'out.electricity.pumps_cooling.energy_consumption',\n",
       "       'out.electricity.pumps_heating.energy_consumption',\n",
       "       'out.electricity.pv.energy_consumption',\n",
       "       'out.electricity.range_fan.energy_consumption',\n",
       "       'out.electricity.recirc_pump.energy_consumption',\n",
       "       'out.electricity.refrigerator.energy_consumption',\n",
       "       'out.electricity.vehicle.energy_consumptionA',\n",
       "       'out.electricity.water_systems.energy_consumption',\n",
       "       'out.electricity.well_pump.energy_consumption',\n",
       "       'out.fuel_oil.heating.energy_consumption',\n",
       "       'out.fuel_oil.water_systems.energy_consumption',\n",
       "       'out.natural_gas.clothes_dryer.energy_consumption',\n",
       "       'out.natural_gas.cooking_range.energy_consumption',\n",
       "       'out.natural_gas.fireplace.energy_consumption',\n",
       "       'out.natural_gas.grill.energy_consumption', 'Unnamed: 39',\n",
       "       'out.electricity.heat_pump',\n",
       "       'out.natural_gas.hot_tub_heater.energy_consumption',\n",
       "       'out.natural_gas.lighting.energy_consumption',\n",
       "       'out.natural_gas.pool_heater.energy_consumption',\n",
       "       'out.natural_gas.water_systems.energy_consumption',\n",
       "       'out.propane.clothes_dryer.energy_consumption',\n",
       "       'out.propane.cooking_range.energy_consumption',\n",
       "       'out.propane.heating.energy_consumption',\n",
       "       'out.propane.water_systems.energy_consumption',\n",
       "       'out.electricity.total.energy_consumption',\n",
       "       'out.site_energy.total.energy_consumption',\n",
       "       'out.fuel_oil.total.energy_consumption',\n",
       "       'out.natural_gas.total.energy_consumption',\n",
       "       'out.propane.total.energy_consumption',\n",
       "       'out.wood.total.energy_consumption',\n",
       "       'out.wood.heating.energy_consumption', 'month', 'day', 'hour', 'minute',\n",
       "       'datetime'],\n",
       "      dtype='object')"
      ]
     },
     "execution_count": 7,
     "metadata": {},
     "output_type": "execute_result"
    }
   ],
   "source": [
    "df.columns"
   ]
  },
  {
   "cell_type": "code",
   "execution_count": 8,
   "id": "b83a0d2e-2488-4df2-a83f-36fc373c79e4",
   "metadata": {},
   "outputs": [
    {
     "data": {
      "text/plain": [
       "0        0.607656\n",
       "1        1.883280\n",
       "2        1.892428\n",
       "3        1.920468\n",
       "4        1.973203\n",
       "           ...   \n",
       "35035    0.577301\n",
       "35036    0.581940\n",
       "35037    0.583060\n",
       "35038    0.598269\n",
       "35039    0.602013\n",
       "Name: Unnamed: 39, Length: 35040, dtype: float64"
      ]
     },
     "execution_count": 8,
     "metadata": {},
     "output_type": "execute_result"
    }
   ],
   "source": [
    "df[\"Unnamed: 39\"]"
   ]
  },
  {
   "cell_type": "code",
   "execution_count": 9,
   "id": "43f3fec0-f3ab-4056-bc18-088c8d40c848",
   "metadata": {},
   "outputs": [],
   "source": [
    "consump_cols = [\n",
    "    i for i in df.columns\n",
    "    if i not in [\"time-tick\", \"month\", \"day\", \"hour\", \"minute\", \"datetime\"]\n",
    "]"
   ]
  },
  {
   "cell_type": "code",
   "execution_count": 10,
   "id": "e06665e1-9637-4172-adbf-f964d00863b0",
   "metadata": {},
   "outputs": [],
   "source": [
    "indiv_consump_cols = [\n",
    "    i for i in consump_cols\n",
    "    if i not in [\n",
    "        \"out.site_energy.total.energy_consumption\", \"out.electricity.total.energy_consumption\",\n",
    "        \"out.fuel_oil.total.energy_consumption\", \"out.natural_gas.total.energy_consumption\",\n",
    "        \"out.propane.total.energy_consumption\",\n",
    "        \"out.wood.total.energy_consumption\", \"out.electricity.heat_pump\"\n",
    "    ]\n",
    "]"
   ]
  },
  {
   "cell_type": "code",
   "execution_count": 11,
   "id": "5ba818cb-6adb-427d-ba30-9481b7c70804",
   "metadata": {},
   "outputs": [
    {
     "data": {
      "text/html": [
       "<div>\n",
       "<style scoped>\n",
       "    .dataframe tbody tr th:only-of-type {\n",
       "        vertical-align: middle;\n",
       "    }\n",
       "\n",
       "    .dataframe tbody tr th {\n",
       "        vertical-align: top;\n",
       "    }\n",
       "\n",
       "    .dataframe thead th {\n",
       "        text-align: right;\n",
       "    }\n",
       "</style>\n",
       "<table border=\"1\" class=\"dataframe\">\n",
       "  <thead>\n",
       "    <tr style=\"text-align: right;\">\n",
       "      <th></th>\n",
       "      <th>out.electricity.heat_pump</th>\n",
       "      <th>out.site_energy.total.energy_consumption</th>\n",
       "    </tr>\n",
       "  </thead>\n",
       "  <tbody>\n",
       "    <tr>\n",
       "      <th>0</th>\n",
       "      <td>1.891788</td>\n",
       "      <td>1.535725</td>\n",
       "    </tr>\n",
       "    <tr>\n",
       "      <th>1</th>\n",
       "      <td>1.896364</td>\n",
       "      <td>4.015947</td>\n",
       "    </tr>\n",
       "    <tr>\n",
       "      <th>2</th>\n",
       "      <td>1.900738</td>\n",
       "      <td>4.082018</td>\n",
       "    </tr>\n",
       "    <tr>\n",
       "      <th>3</th>\n",
       "      <td>1.904940</td>\n",
       "      <td>4.137949</td>\n",
       "    </tr>\n",
       "    <tr>\n",
       "      <th>4</th>\n",
       "      <td>1.908671</td>\n",
       "      <td>4.242638</td>\n",
       "    </tr>\n",
       "    <tr>\n",
       "      <th>...</th>\n",
       "      <td>...</td>\n",
       "      <td>...</td>\n",
       "    </tr>\n",
       "    <tr>\n",
       "      <th>35035</th>\n",
       "      <td>0.551581</td>\n",
       "      <td>1.549162</td>\n",
       "    </tr>\n",
       "    <tr>\n",
       "      <th>35036</th>\n",
       "      <td>0.554566</td>\n",
       "      <td>1.577653</td>\n",
       "    </tr>\n",
       "    <tr>\n",
       "      <th>35037</th>\n",
       "      <td>0.558301</td>\n",
       "      <td>1.533725</td>\n",
       "    </tr>\n",
       "    <tr>\n",
       "      <th>35038</th>\n",
       "      <td>0.561807</td>\n",
       "      <td>1.509858</td>\n",
       "    </tr>\n",
       "    <tr>\n",
       "      <th>35039</th>\n",
       "      <td>0.565405</td>\n",
       "      <td>1.521383</td>\n",
       "    </tr>\n",
       "  </tbody>\n",
       "</table>\n",
       "<p>35040 rows × 2 columns</p>\n",
       "</div>"
      ],
      "text/plain": [
       "       out.electricity.heat_pump  out.site_energy.total.energy_consumption\n",
       "0                       1.891788                                  1.535725\n",
       "1                       1.896364                                  4.015947\n",
       "2                       1.900738                                  4.082018\n",
       "3                       1.904940                                  4.137949\n",
       "4                       1.908671                                  4.242638\n",
       "...                          ...                                       ...\n",
       "35035                   0.551581                                  1.549162\n",
       "35036                   0.554566                                  1.577653\n",
       "35037                   0.558301                                  1.533725\n",
       "35038                   0.561807                                  1.509858\n",
       "35039                   0.565405                                  1.521383\n",
       "\n",
       "[35040 rows x 2 columns]"
      ]
     },
     "execution_count": 11,
     "metadata": {},
     "output_type": "execute_result"
    }
   ],
   "source": [
    "\"\"\"\n",
    "NOTE: Not sure what the \"out.electricity.heat_pump\" element is, but it is very large compared to the total energy consumption\n",
    "Removing from the df makes the other energies sum to the total reported consumption properly\n",
    "Additionally, plotting the heat_pump consumption does not seem to follow an expected trajectory (only in use in the winter)\n",
    "\"\"\"\n",
    "\n",
    "df[[\"out.electricity.heat_pump\", \"out.site_energy.total.energy_consumption\"]]"
   ]
  },
  {
   "cell_type": "code",
   "execution_count": 12,
   "id": "63725aeb-14bb-42ec-af49-f3f6230a9484",
   "metadata": {},
   "outputs": [],
   "source": [
    "max_consump_categories = df[indiv_consump_cols].idxmax(axis=1)"
   ]
  },
  {
   "cell_type": "code",
   "execution_count": 13,
   "id": "b561c349-1119-4cf6-a506-ba1da830bca4",
   "metadata": {},
   "outputs": [],
   "source": [
    "max_consump_categories_counts = max_consump_categories.value_counts()"
   ]
  },
  {
   "cell_type": "code",
   "execution_count": 14,
   "id": "1c22ed8b-0359-4d2f-8515-09caf8828173",
   "metadata": {},
   "outputs": [
    {
     "data": {
      "text/plain": [
       "0                                    Unnamed: 39\n",
       "1                                    Unnamed: 39\n",
       "2                                    Unnamed: 39\n",
       "3                                    Unnamed: 39\n",
       "4                                    Unnamed: 39\n",
       "                          ...                   \n",
       "35035    out.fuel_oil.heating.energy_consumption\n",
       "35036                                Unnamed: 39\n",
       "35037                                Unnamed: 39\n",
       "35038                                Unnamed: 39\n",
       "35039                                Unnamed: 39\n",
       "Length: 35040, dtype: object"
      ]
     },
     "execution_count": 14,
     "metadata": {},
     "output_type": "execute_result"
    }
   ],
   "source": [
    "max_consump_categories"
   ]
  },
  {
   "cell_type": "code",
   "execution_count": 15,
   "id": "e7ca8dc2-8efc-4b66-a3e2-30aa886084e7",
   "metadata": {},
   "outputs": [
    {
     "data": {
      "text/plain": [
       "Unnamed: 39                                             13222\n",
       "out.electricity.cooling.energy_consumption               7313\n",
       "out.fuel_oil.heating.energy_consumption                  6866\n",
       "out.electricity.plug_loads.energy_consumption            3716\n",
       "out.natural_gas.water_systems.energy_consumption         3696\n",
       "out.electricity.interior_lighting.energy_consumption      190\n",
       "out.fuel_oil.water_systems.energy_consumption              37\n",
       "dtype: int64"
      ]
     },
     "execution_count": 15,
     "metadata": {},
     "output_type": "execute_result"
    }
   ],
   "source": [
    "max_consump_categories_counts"
   ]
  },
  {
   "cell_type": "code",
   "execution_count": 16,
   "id": "4132114e-76a3-4b2b-89fc-9a29c8a237e7",
   "metadata": {},
   "outputs": [],
   "source": [
    "df[\"max_consump_category\"] = max_consump_categories"
   ]
  },
  {
   "cell_type": "code",
   "execution_count": 17,
   "id": "b6247e78-99e1-4f54-b01f-84a26a20ce90",
   "metadata": {},
   "outputs": [
    {
     "data": {
      "text/plain": [
       "Unnamed: 39                                             0.377340\n",
       "out.electricity.cooling.energy_consumption              0.208704\n",
       "out.fuel_oil.heating.energy_consumption                 0.195947\n",
       "out.electricity.plug_loads.energy_consumption           0.106050\n",
       "out.natural_gas.water_systems.energy_consumption        0.105479\n",
       "out.electricity.interior_lighting.energy_consumption    0.005422\n",
       "out.fuel_oil.water_systems.energy_consumption           0.001056\n",
       "dtype: float64"
      ]
     },
     "execution_count": 17,
     "metadata": {},
     "output_type": "execute_result"
    }
   ],
   "source": [
    "max_consump_categories_counts / len(df)"
   ]
  },
  {
   "cell_type": "markdown",
   "id": "6bda5356-7e8b-4d33-a987-83ec95b34184",
   "metadata": {
    "jp-MarkdownHeadingCollapsed": true,
    "tags": []
   },
   "source": [
    "## Calculate each end-uses percent of total consumption in time"
   ]
  },
  {
   "cell_type": "code",
   "execution_count": 18,
   "id": "e1a99142-eeec-4dc6-b38f-3c91abfece06",
   "metadata": {},
   "outputs": [],
   "source": [
    "test_row = df.loc[3]"
   ]
  },
  {
   "cell_type": "code",
   "execution_count": 19,
   "id": "7f3d8b7b-ca3d-4bce-84a9-98f989d1ea9c",
   "metadata": {},
   "outputs": [
    {
     "data": {
      "text/plain": [
       "out.electricity.bath_fan.energy_consumption              0.000472\n",
       "out.electricity.ceiling_fan.energy_consumption           0.000866\n",
       "out.electricity.clothes_dryer.energy_consumption         0.000364\n",
       "out.electricity.clothes_washer.energy_consumption             0.0\n",
       "out.electricity.cooking_range.energy_consumption         0.006428\n",
       "out.electricity.cooling.energy_consumption               0.001297\n",
       "out.electricity.dishwasher.energy_consumption                 0.0\n",
       "out.electricity.ext_holiday_light.energy_consumption            0\n",
       "out.electricity.exterior_lighting.energy_consumption     0.003031\n",
       "out.electricity.extra_refrigerator.energy_consumption    0.002676\n",
       "out.electricity.fans_cooling.energy_consumption          0.002114\n",
       "out.electricity.fans_heating.energy_consumption          0.063778\n",
       "out.electricity.freezer.energy_consumption               0.001446\n",
       "out.electricity.garage_lighting.energy_consumption       0.000379\n",
       "out.electricity.heating.energy_consumption               0.202413\n",
       "out.electricity.heating_supplement.energy_consumption    0.010778\n",
       "out.electricity.hot_tub_heater.energy_consumption        0.000308\n",
       "out.electricity.hot_tub_pump.energy_consumption          0.000304\n",
       "out.electricity.house_fan.energy_consumption                    0\n",
       "out.electricity.interior_lighting.energy_consumption     0.007961\n",
       "out.electricity.plug_loads.energy_consumption            0.060458\n",
       "out.electricity.pool_heater.energy_consumption           0.000022\n",
       "out.electricity.pool_pump.energy_consumption             0.000335\n",
       "out.electricity.pumps_cooling.energy_consumption              0.0\n",
       "out.electricity.pumps_heating.energy_consumption         0.000626\n",
       "out.electricity.pv.energy_consumption                         0.0\n",
       "out.electricity.range_fan.energy_consumption             0.000063\n",
       "out.electricity.recirc_pump.energy_consumption                  0\n",
       "out.electricity.refrigerator.energy_consumption          0.010816\n",
       "out.electricity.vehicle.energy_consumptionA                   0.0\n",
       "out.electricity.water_systems.energy_consumption         0.010621\n",
       "out.electricity.well_pump.energy_consumption             0.001395\n",
       "out.fuel_oil.heating.energy_consumption                  1.752093\n",
       "out.fuel_oil.water_systems.energy_consumption            0.022798\n",
       "out.natural_gas.clothes_dryer.energy_consumption         0.004836\n",
       "out.natural_gas.cooking_range.energy_consumption              0.0\n",
       "out.natural_gas.fireplace.energy_consumption             0.003602\n",
       "out.natural_gas.grill.energy_consumption                 0.000057\n",
       "Unnamed: 39                                              1.920468\n",
       "out.natural_gas.hot_tub_heater.energy_consumption               0\n",
       "out.natural_gas.lighting.energy_consumption              0.000116\n",
       "out.natural_gas.pool_heater.energy_consumption                  0\n",
       "out.natural_gas.water_systems.energy_consumption         0.017744\n",
       "out.propane.clothes_dryer.energy_consumption                  0.0\n",
       "out.propane.cooking_range.energy_consumption                  0.0\n",
       "out.propane.heating.energy_consumption                   0.012054\n",
       "out.propane.water_systems.energy_consumption             0.015227\n",
       "out.wood.heating.energy_consumption                             0\n",
       "Name: 3, dtype: object"
      ]
     },
     "execution_count": 19,
     "metadata": {},
     "output_type": "execute_result"
    }
   ],
   "source": [
    "test_row[indiv_consump_cols]"
   ]
  },
  {
   "cell_type": "code",
   "execution_count": 20,
   "id": "dcc655c3-57d2-49e0-8b57-935b6319e086",
   "metadata": {},
   "outputs": [
    {
     "data": {
      "text/plain": [
       "out.electricity.total.energy_consumption    0.388952\n",
       "out.fuel_oil.total.energy_consumption       1.774891\n",
       "out.natural_gas.total.energy_consumption    1.946823\n",
       "out.propane.total.energy_consumption        0.027281\n",
       "out.wood.total.energy_consumption                  0\n",
       "Name: 3, dtype: object"
      ]
     },
     "execution_count": 20,
     "metadata": {},
     "output_type": "execute_result"
    }
   ],
   "source": [
    "test_row[[\n",
    "    \"out.electricity.total.energy_consumption\",\n",
    "    \"out.fuel_oil.total.energy_consumption\", \"out.natural_gas.total.energy_consumption\",\n",
    "    \"out.propane.total.energy_consumption\", \"out.wood.total.energy_consumption\"\n",
    "]]"
   ]
  },
  {
   "cell_type": "code",
   "execution_count": 21,
   "id": "2a031377-8f04-428d-a69e-80d865c5e9a1",
   "metadata": {},
   "outputs": [
    {
     "data": {
      "text/plain": [
       "out.electricity.bath_fan.energy_consumption              0.000114\n",
       "out.electricity.ceiling_fan.energy_consumption           0.000209\n",
       "out.electricity.clothes_dryer.energy_consumption         0.000088\n",
       "out.electricity.clothes_washer.energy_consumption             0.0\n",
       "out.electricity.cooking_range.energy_consumption         0.001553\n",
       "out.electricity.cooling.energy_consumption               0.000314\n",
       "out.electricity.dishwasher.energy_consumption                 0.0\n",
       "out.electricity.ext_holiday_light.energy_consumption          0.0\n",
       "out.electricity.exterior_lighting.energy_consumption     0.000733\n",
       "out.electricity.extra_refrigerator.energy_consumption    0.000647\n",
       "out.electricity.fans_cooling.energy_consumption          0.000511\n",
       "out.electricity.fans_heating.energy_consumption          0.015413\n",
       "out.electricity.freezer.energy_consumption               0.000349\n",
       "out.electricity.garage_lighting.energy_consumption       0.000092\n",
       "out.electricity.heating.energy_consumption               0.048916\n",
       "out.electricity.heating_supplement.energy_consumption    0.002605\n",
       "out.electricity.hot_tub_heater.energy_consumption        0.000074\n",
       "out.electricity.hot_tub_pump.energy_consumption          0.000073\n",
       "out.electricity.house_fan.energy_consumption                  0.0\n",
       "out.electricity.interior_lighting.energy_consumption     0.001924\n",
       "out.electricity.plug_loads.energy_consumption            0.014611\n",
       "out.electricity.pool_heater.energy_consumption           0.000005\n",
       "out.electricity.pool_pump.energy_consumption             0.000081\n",
       "out.electricity.pumps_cooling.energy_consumption              0.0\n",
       "out.electricity.pumps_heating.energy_consumption         0.000151\n",
       "out.electricity.pv.energy_consumption                         0.0\n",
       "out.electricity.range_fan.energy_consumption             0.000015\n",
       "out.electricity.recirc_pump.energy_consumption                0.0\n",
       "out.electricity.refrigerator.energy_consumption          0.002614\n",
       "out.electricity.vehicle.energy_consumptionA                   0.0\n",
       "out.electricity.water_systems.energy_consumption         0.002567\n",
       "out.electricity.well_pump.energy_consumption             0.000337\n",
       "out.fuel_oil.heating.energy_consumption                  0.423421\n",
       "out.fuel_oil.water_systems.energy_consumption             0.00551\n",
       "out.natural_gas.clothes_dryer.energy_consumption         0.001169\n",
       "out.natural_gas.cooking_range.energy_consumption              0.0\n",
       "out.natural_gas.fireplace.energy_consumption             0.000871\n",
       "out.natural_gas.grill.energy_consumption                 0.000014\n",
       "Unnamed: 39                                              0.464111\n",
       "out.natural_gas.hot_tub_heater.energy_consumption             0.0\n",
       "out.natural_gas.lighting.energy_consumption              0.000028\n",
       "out.natural_gas.pool_heater.energy_consumption                0.0\n",
       "out.natural_gas.water_systems.energy_consumption         0.004288\n",
       "out.propane.clothes_dryer.energy_consumption                  0.0\n",
       "out.propane.cooking_range.energy_consumption                  0.0\n",
       "out.propane.heating.energy_consumption                   0.002913\n",
       "out.propane.water_systems.energy_consumption              0.00368\n",
       "out.wood.heating.energy_consumption                           0.0\n",
       "Name: 3, dtype: object"
      ]
     },
     "execution_count": 21,
     "metadata": {},
     "output_type": "execute_result"
    }
   ],
   "source": [
    "test_row[indiv_consump_cols] / test_row[\"out.site_energy.total.energy_consumption\"]"
   ]
  },
  {
   "cell_type": "code",
   "execution_count": 22,
   "id": "44cfa74b-b22d-4c49-9dc2-8bbad45dbea0",
   "metadata": {},
   "outputs": [
    {
     "data": {
      "text/plain": [
       "4.137947287599456"
      ]
     },
     "execution_count": 22,
     "metadata": {},
     "output_type": "execute_result"
    }
   ],
   "source": [
    "sum(test_row[indiv_consump_cols])"
   ]
  },
  {
   "cell_type": "code",
   "execution_count": 23,
   "id": "e35e586f-bc8e-40be-9bde-09cbb25e1e17",
   "metadata": {},
   "outputs": [
    {
     "data": {
      "text/plain": [
       "4.137948591"
      ]
     },
     "execution_count": 23,
     "metadata": {},
     "output_type": "execute_result"
    }
   ],
   "source": [
    "test_row[\"out.site_energy.total.energy_consumption\"]"
   ]
  },
  {
   "cell_type": "code",
   "execution_count": 24,
   "id": "9604ab75-df7c-4f35-b0e0-70d95fb98a28",
   "metadata": {},
   "outputs": [
    {
     "data": {
      "text/plain": [
       "4.137947287"
      ]
     },
     "execution_count": 24,
     "metadata": {},
     "output_type": "execute_result"
    }
   ],
   "source": [
    "sum(test_row[[\n",
    "    \"out.electricity.total.energy_consumption\",\n",
    "    \"out.fuel_oil.total.energy_consumption\", \"out.natural_gas.total.energy_consumption\",\n",
    "    \"out.propane.total.energy_consumption\", \"out.wood.total.energy_consumption\"\n",
    "]])"
   ]
  },
  {
   "cell_type": "markdown",
   "id": "6f46470d-114b-4899-bbad-0489be4900e9",
   "metadata": {
    "tags": []
   },
   "source": [
    "## Let's make some plots"
   ]
  },
  {
   "cell_type": "code",
   "execution_count": 25,
   "id": "c925ce49-90a3-460f-a69b-14094c56c19f",
   "metadata": {},
   "outputs": [],
   "source": [
    "import matplotlib.pyplot as plt"
   ]
  },
  {
   "cell_type": "code",
   "execution_count": 26,
   "id": "4b899f80-8b56-457e-815a-19a89e168567",
   "metadata": {},
   "outputs": [],
   "source": [
    "def plot_single_col(col):\n",
    "    plt.figure()\n",
    "    plt.plot(df[\"datetime\"], df[col], \".\")\n",
    "    plt.show()"
   ]
  },
  {
   "cell_type": "code",
   "execution_count": 27,
   "id": "9eb9bf38-340b-4dfe-9b06-ee683624f47c",
   "metadata": {},
   "outputs": [
    {
     "data": {
      "image/png": "[encoded data removed]",
      "text/plain": [
       "<Figure size 432x288 with 1 Axes>"
      ]
     },
     "metadata": {
      "needs_background": "light"
     },
     "output_type": "display_data"
    }
   ],
   "source": [
    "plot_single_col(\"out.electricity.heat_pump\")"
   ]
  },
  {
   "cell_type": "code",
   "execution_count": 28,
   "id": "32185646-9b22-4edb-99f4-7635663da6fe",
   "metadata": {},
   "outputs": [
    {
     "data": {
      "image/png": "[encoded data removed]",
      "text/plain": [
       "<Figure size 432x288 with 1 Axes>"
      ]
     },
     "metadata": {
      "needs_background": "light"
     },
     "output_type": "display_data"
    }
   ],
   "source": [
    "# \"Unnamed: 39\" has to be a heating load. Probably nat-gas heating based on its location in the df and profile\n",
    "plot_single_col(\"Unnamed: 39\")"
   ]
  },
  {
   "cell_type": "code",
   "execution_count": 29,
   "id": "e64f0853-5126-4e89-82c8-de4f539007d2",
   "metadata": {},
   "outputs": [
    {
     "data": {
      "image/png": "[encoded data removed]",
      "text/plain": [
       "<Figure size 432x288 with 1 Axes>"
      ]
     },
     "metadata": {
      "needs_background": "light"
     },
     "output_type": "display_data"
    }
   ],
   "source": [
    "plot_single_col(\"out.electricity.cooling.energy_consumption\")"
   ]
  },
  {
   "cell_type": "markdown",
   "id": "4ac1c416-af47-4003-9a08-67fa98bdf5a5",
   "metadata": {},
   "source": [
    "## Consumption by total of fuel type"
   ]
  },
  {
   "cell_type": "code",
   "execution_count": 30,
   "id": "6d706467-2cc2-4b8d-b2e0-fb3e62d5996d",
   "metadata": {},
   "outputs": [],
   "source": [
    "fuel_type_total_labels = [\n",
    "    \"out.electricity.total.energy_consumption\",\n",
    "    \"out.fuel_oil.total.energy_consumption\",\n",
    "    \"out.natural_gas.total.energy_consumption\",\n",
    "    \"out.propane.total.energy_consumption\",\n",
    "    \"out.wood.total.energy_consumption\"\n",
    "]"
   ]
  },
  {
   "cell_type": "code",
   "execution_count": 31,
   "id": "503f756e-39e5-49fe-aaad-851f0f9dd1ff",
   "metadata": {},
   "outputs": [
    {
     "data": {
      "text/plain": [
       "out.electricity.total.energy_consumption    0.093996\n",
       "out.fuel_oil.total.energy_consumption        0.42893\n",
       "out.natural_gas.total.energy_consumption     0.47048\n",
       "out.propane.total.energy_consumption        0.006593\n",
       "out.wood.total.energy_consumption                0.0\n",
       "Name: 3, dtype: object"
      ]
     },
     "execution_count": 31,
     "metadata": {},
     "output_type": "execute_result"
    }
   ],
   "source": [
    "test_row[fuel_type_total_labels] / test_row[\"out.site_energy.total.energy_consumption\"]"
   ]
  },
  {
   "cell_type": "code",
   "execution_count": 32,
   "id": "7df1ab4b-a73f-481e-8086-51168df33f7f",
   "metadata": {},
   "outputs": [],
   "source": [
    "max_consump_fuel_categories = df[fuel_type_total_labels].idxmax(axis=1)"
   ]
  },
  {
   "cell_type": "code",
   "execution_count": 33,
   "id": "52365edc-b9d8-4482-a555-2bb11896520b",
   "metadata": {},
   "outputs": [],
   "source": [
    "max_consump_fuel_categories_counts = max_consump_fuel_categories.value_counts()"
   ]
  },
  {
   "cell_type": "code",
   "execution_count": 34,
   "id": "39fd888d-d16d-4725-859e-cecec1308548",
   "metadata": {},
   "outputs": [
    {
     "data": {
      "text/plain": [
       "out.natural_gas.total.energy_consumption    18421\n",
       "out.electricity.total.energy_consumption    15880\n",
       "out.fuel_oil.total.energy_consumption         739\n",
       "dtype: int64"
      ]
     },
     "execution_count": 34,
     "metadata": {},
     "output_type": "execute_result"
    }
   ],
   "source": [
    "max_consump_fuel_categories_counts"
   ]
  },
  {
   "cell_type": "code",
   "execution_count": 38,
   "id": "14d73d5d-b6ce-495e-90cc-8016c5758578",
   "metadata": {},
   "outputs": [
    {
     "data": {
      "text/plain": [
       "out.natural_gas.total.energy_consumption    0.525713\n",
       "out.electricity.total.energy_consumption    0.453196\n",
       "out.fuel_oil.total.energy_consumption       0.021090\n",
       "dtype: float64"
      ]
     },
     "execution_count": 38,
     "metadata": {},
     "output_type": "execute_result"
    }
   ],
   "source": [
    "max_consump_fuel_categories_counts / len(df)"
   ]
  },
  {
   "cell_type": "markdown",
   "id": "a37f417f-d0c8-4abc-bc1c-2315d15fc98c",
   "metadata": {},
   "source": [
    "### Plot this"
   ]
  },
  {
   "cell_type": "code",
   "execution_count": 35,
   "id": "f43fa234-9a9b-4ea0-b522-8bc1ba54bc35",
   "metadata": {},
   "outputs": [
    {
     "data": {
      "image/png": "[encoded data removed]",
      "text/plain": [
       "<Figure size 432x288 with 1 Axes>"
      ]
     },
     "metadata": {
      "needs_background": "light"
     },
     "output_type": "display_data"
    }
   ],
   "source": [
    "plot_single_col(\"out.natural_gas.total.energy_consumption\")"
   ]
  },
  {
   "cell_type": "code",
   "execution_count": 36,
   "id": "9262c68d-0c7c-472c-a28e-3078644d6d0f",
   "metadata": {},
   "outputs": [
    {
     "data": {
      "image/png": "[encoded data removed]",
      "text/plain": [
       "<Figure size 432x288 with 1 Axes>"
      ]
     },
     "metadata": {
      "needs_background": "light"
     },
     "output_type": "display_data"
    }
   ],
   "source": [
    "plot_single_col(\"out.electricity.total.energy_consumption\")"
   ]
  },
  {
   "cell_type": "code",
   "execution_count": 37,
   "id": "73066332-6917-40c5-8412-81c2cca12d47",
   "metadata": {},
   "outputs": [
    {
     "data": {
      "image/png": "[encoded data removed]",
      "text/plain": [
       "<Figure size 432x288 with 1 Axes>"
      ]
     },
     "metadata": {
      "needs_background": "light"
     },
     "output_type": "display_data"
    }
   ],
   "source": [
    "plot_single_col(\"out.fuel_oil.total.energy_consumption\")"
   ]
  },
  {
   "cell_type": "markdown",
   "id": "b1b6fc0e-99a6-4de3-9dbe-1f43e137f0be",
   "metadata": {},
   "source": [
    "### Plot percentages"
   ]
  },
  {
   "cell_type": "code",
   "execution_count": 48,
   "id": "b1bec0b0-ca21-4404-b244-f52bc96e315a",
   "metadata": {},
   "outputs": [],
   "source": [
    "def plot_percents(_df, col_name, total_col_name):\n",
    "    plt.figure()\n",
    "    plt.plot(_df[\"datetime\"], _df[col_name] / _df[total_col_name])\n",
    "    plt.ylim([0, 1])\n",
    "    plt.show()"
   ]
  },
  {
   "cell_type": "code",
   "execution_count": 49,
   "id": "077acb68-b742-4b97-bf0b-1cc4607c3294",
   "metadata": {},
   "outputs": [
    {
     "data": {
      "image/png": "[encoded data removed]",
      "text/plain": [
       "<Figure size 432x288 with 1 Axes>"
      ]
     },
     "metadata": {
      "needs_background": "light"
     },
     "output_type": "display_data"
    }
   ],
   "source": [
    "plot_percents(df, \"out.electricity.total.energy_consumption\", \"out.site_energy.total.energy_consumption\")"
   ]
  },
  {
   "cell_type": "code",
   "execution_count": 50,
   "id": "5fab667a-2b52-47eb-8160-c4a407ba134a",
   "metadata": {},
   "outputs": [
    {
     "data": {
      "image/png": "[encoded data removed]",
      "text/plain": [
       "<Figure size 432x288 with 1 Axes>"
      ]
     },
     "metadata": {
      "needs_background": "light"
     },
     "output_type": "display_data"
    }
   ],
   "source": [
    "plot_percents(df, \"out.natural_gas.total.energy_consumption\", \"out.site_energy.total.energy_consumption\")"
   ]
  },
  {
   "cell_type": "code",
   "execution_count": 51,
   "id": "17168eef-662b-4822-a1e2-524d4c1e6a4e",
   "metadata": {},
   "outputs": [
    {
     "data": {
      "image/png": "[encoded data removed]",
      "text/plain": [
       "<Figure size 432x288 with 1 Axes>"
      ]
     },
     "metadata": {
      "needs_background": "light"
     },
     "output_type": "display_data"
    }
   ],
   "source": [
    "plot_percents(df, \"out.fuel_oil.total.energy_consumption\", \"out.site_energy.total.energy_consumption\")"
   ]
  },
  {
   "cell_type": "code",
   "execution_count": null,
   "id": "fee216c5-0280-40fa-b149-bee3e33fc725",
   "metadata": {},
   "outputs": [],
   "source": []
  }
 ],
 "metadata": {
  "kernelspec": {
   "display_name": "Python 3 (ipykernel)",
   "language": "python",
   "name": "python3"
  },
  "language_info": {
   "codemirror_mode": {
    "name": "ipython",
    "version": 3
   },
   "file_extension": ".py",
   "mimetype": "text/x-python",
   "name": "python",
   "nbconvert_exporter": "python",
   "pygments_lexer": "ipython3",
   "version": "3.9.7"
  }
 },
 "nbformat": 4,
 "nbformat_minor": 5
}
